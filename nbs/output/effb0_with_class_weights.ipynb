{
 "cells": [
  {
   "cell_type": "code",
   "execution_count": 1,
   "metadata": {
    "papermill": {
     "duration": 2.839273,
     "end_time": "2020-02-11T09:56:20.659422",
     "exception": false,
     "start_time": "2020-02-11T09:56:17.820149",
     "status": "completed"
    },
    "tags": []
   },
   "outputs": [],
   "source": [
    "%load_ext autoreload\n",
    "%autoreload 2\n",
    "\n",
    "import matplotlib.pyplot as plt\n",
    "%matplotlib inline\n",
    "\n",
    "import os\n",
    "import sys\n",
    "from pathlib import Path\n",
    "import pandas as pd\n",
    "\n",
    "from fastai.vision import *\n",
    "from fastai.callbacks import *\n",
    "from fastai.layers import AdaptiveConcatPool2d\n",
    "import torch\n",
    "from efficientnet_pytorch import EfficientNet\n",
    "import wandb\n",
    "from wandb.fastai import WandbCallback\n",
    "import timm\n",
    "import pretrainedmodels\n",
    "from kornia.losses import FocalLoss\n",
    "from fastai2.layers import MishJit\n",
    "from sklearn.utils.class_weight import compute_class_weight\n",
    "\n",
    "from sklearn.metrics import recall_score\n",
    "\n",
    "\n",
    "def seed_everything(seed):\n",
    "    random.seed(seed)\n",
    "    os.environ['PYTHONHASHSEED'] = str(seed)\n",
    "    np.random.seed(seed)\n",
    "    torch.manual_seed(seed)\n",
    "    torch.cuda.manual_seed_all(seed)\n",
    "    torch.cuda.manual_seed(seed)\n",
    "    torch.backends.cudnn.deterministic = True"
   ]
  },
  {
   "cell_type": "markdown",
   "metadata": {
    "papermill": {
     "duration": 0.017424,
     "end_time": "2020-02-11T09:56:20.694464",
     "exception": false,
     "start_time": "2020-02-11T09:56:20.677040",
     "status": "completed"
    },
    "tags": []
   },
   "source": [
    "## Params"
   ]
  },
  {
   "cell_type": "code",
   "execution_count": 2,
   "metadata": {
    "papermill": {
     "duration": 0.046902,
     "end_time": "2020-02-11T09:56:20.758850",
     "exception": false,
     "start_time": "2020-02-11T09:56:20.711948",
     "status": "completed"
    },
    "tags": [
     "parameters"
    ]
   },
   "outputs": [],
   "source": [
    "NAME = ''\n",
    "WANDB_MODE = 'dryrun'\n",
    "\n",
    "DATA_PATH = Path('/home/lextoumbourou/bengaliai-cv19/data')\n",
    "IMAGE_DATA_PATH = Path(DATA_PATH/'grapheme-imgs-128x128')\n",
    "OUTPUT_PATH = Path(DATA_PATH/'working')\n",
    "LABELS_PATH = Path(DATA_PATH/'iterative-stratification')\n",
    "\n",
    "VALID_PCT = 0.2\n",
    "SEED = 420\n",
    "BATCH_SIZE = 128\n",
    "IMG_SIZE = 128\n",
    "\n",
    "MAX_WARP = 0.2\n",
    "P_AFFINE = 0.75\n",
    "MAX_ROTATE = 40.\n",
    "MAX_ZOOM = 1.1\n",
    "P_LIGHTING = 0.75\n",
    "MAX_LIGHTING = 0.2\n",
    "MAX_COUNT_RANDOM_ERASING = 3\n",
    "LABEL_SMOOTHING_EPS = 0.1\n",
    "\n",
    "MAX_EPOCHS = 150\n",
    "\n",
    "ENCODER_ARCH = 'efficientnet-b0'\n",
    "\n",
    "GRAPHEME_ROOT_WEIGHT = 0.7\n",
    "VOWEL_DIACRITIC_WEIGHT = 0.1\n",
    "CONSONANT_DIACRITIC_WEIGHT = 0.2\n",
    "MODEL_HEAD = 'mish_head'\n",
    "\n",
    "SAMPLE_SIZE = None\n",
    "\n",
    "PROG_SPRINKES = False"
   ]
  },
  {
   "cell_type": "code",
   "execution_count": 3,
   "metadata": {
    "papermill": {
     "duration": 0.041714,
     "end_time": "2020-02-11T09:56:20.818499",
     "exception": false,
     "start_time": "2020-02-11T09:56:20.776785",
     "status": "completed"
    },
    "tags": [
     "injected-parameters"
    ]
   },
   "outputs": [],
   "source": [
    "# Parameters\n",
    "ENCODER_ARCH = \"efficientnet-b0\"\n",
    "BATCH_SIZE = 192\n",
    "WANDB_MODE = \"run\"\n",
    "NAME = \"effb0_with_class_weights\"\n",
    "OUTPUT_VAL_SIZE = None\n"
   ]
  },
  {
   "cell_type": "code",
   "execution_count": 4,
   "metadata": {
    "papermill": {
     "duration": 0.040398,
     "end_time": "2020-02-11T09:56:20.877007",
     "exception": false,
     "start_time": "2020-02-11T09:56:20.836609",
     "status": "completed"
    },
    "tags": []
   },
   "outputs": [],
   "source": [
    "seed_everything(seed=SEED)"
   ]
  },
  {
   "cell_type": "code",
   "execution_count": 5,
   "metadata": {
    "papermill": {
     "duration": 0.712966,
     "end_time": "2020-02-11T09:56:21.609476",
     "exception": false,
     "start_time": "2020-02-11T09:56:20.896510",
     "status": "completed"
    },
    "tags": []
   },
   "outputs": [
    {
     "name": "stdout",
     "output_type": "stream",
     "text": [
      "\u001b[34m\u001b[1mwandb\u001b[0m: Appending key for api.wandb.ai to your netrc file: /home/lextoumbourou/.netrc\r\n",
      "\u001b[32mSuccessfully logged in to Weights & Biases!\u001b[0m\r\n"
     ]
    }
   ],
   "source": [
    "!wandb login 563765550fd7b64fd10129216209724e03f3f20c"
   ]
  },
  {
   "cell_type": "code",
   "execution_count": 6,
   "metadata": {
    "papermill": {
     "duration": 0.045999,
     "end_time": "2020-02-11T09:56:21.672887",
     "exception": false,
     "start_time": "2020-02-11T09:56:21.626888",
     "status": "completed"
    },
    "tags": []
   },
   "outputs": [],
   "source": [
    "# Turn this off before running!!\n",
    "os.environ['WANDB_MODE'] = WANDB_MODE"
   ]
  },
  {
   "cell_type": "code",
   "execution_count": 7,
   "metadata": {
    "papermill": {
     "duration": 32.352609,
     "end_time": "2020-02-11T09:56:54.043183",
     "exception": false,
     "start_time": "2020-02-11T09:56:21.690574",
     "status": "completed"
    },
    "tags": []
   },
   "outputs": [
    {
     "data": {
      "text/html": [
       "\n",
       "                Logging results to <a href=\"https://wandb.com\" target=\"_blank\">Weights & Biases</a> <a href=\"https://docs.wandb.com/integrations/jupyter.html\" target=\"_blank\">(Documentation)</a>.<br/>\n",
       "                Project page: <a href=\"https://app.wandb.ai/lex/bengaliai-cv19\" target=\"_blank\">https://app.wandb.ai/lex/bengaliai-cv19</a><br/>\n",
       "                Run page: <a href=\"https://app.wandb.ai/lex/bengaliai-cv19/runs/gpvklks5\" target=\"_blank\">https://app.wandb.ai/lex/bengaliai-cv19/runs/gpvklks5</a><br/>\n",
       "            "
      ],
      "text/plain": [
       "<IPython.core.display.HTML object>"
      ]
     },
     "metadata": {},
     "output_type": "display_data"
    },
    {
     "name": "stderr",
     "output_type": "stream",
     "text": [
      "Failed to query for notebook name, you can set it manually with the WANDB_NOTEBOOK_NAME environment variable\n"
     ]
    },
    {
     "name": "stderr",
     "output_type": "stream",
     "text": [
      "wandb: Wandb version 0.8.26 is available!  To upgrade, please run:\n",
      "wandb:  $ pip install wandb --upgrade\n"
     ]
    }
   ],
   "source": [
    "wandb.init(project=\"bengaliai-cv19\", name=NAME)\n",
    "\n",
    "wandb.config.img_size = IMG_SIZE\n",
    "wandb.config.batch_size = BATCH_SIZE\n",
    "wandb.config.seed = SEED\n",
    "\n",
    "wandb.config.max_warp = MAX_WARP\n",
    "wandb.config.p_affine = P_AFFINE\n",
    "wandb.config.max_rotate = MAX_ROTATE\n",
    "wandb.config.max_zoom = MAX_ZOOM\n",
    "wandb.config.p_lighting = P_LIGHTING\n",
    "wandb.config.max_lighting = MAX_LIGHTING\n",
    "wandb.config.max_count_random_erasing = MAX_COUNT_RANDOM_ERASING\n",
    "wandb.config.grapheme_root_weight = GRAPHEME_ROOT_WEIGHT\n",
    "wandb.config.vowel_diacritic_weight = VOWEL_DIACRITIC_WEIGHT\n",
    "wandb.config.consonant_diacritic_weight = CONSONANT_DIACRITIC_WEIGHT\n",
    "wandb.config.sample_size = SAMPLE_SIZE\n",
    "wandb.config.encoder_arch = ENCODER_ARCH\n",
    "wandb.config.max_epochs = MAX_EPOCHS\n",
    "wandb.config.prog_sprinkles = PROG_SPRINKES\n",
    "wandb.config.label_smoothing_eps = LABEL_SMOOTHING_EPS\n",
    "wandb.config.encoder_arch = ENCODER_ARCH"
   ]
  },
  {
   "cell_type": "markdown",
   "metadata": {
    "papermill": {
     "duration": 0.018718,
     "end_time": "2020-02-11T09:56:54.082578",
     "exception": false,
     "start_time": "2020-02-11T09:56:54.063860",
     "status": "completed"
    },
    "tags": []
   },
   "source": [
    "## Create datasets and dataloaders"
   ]
  },
  {
   "cell_type": "code",
   "execution_count": 8,
   "metadata": {
    "papermill": {
     "duration": 0.223429,
     "end_time": "2020-02-11T09:56:54.324782",
     "exception": false,
     "start_time": "2020-02-11T09:56:54.101353",
     "status": "completed"
    },
    "tags": []
   },
   "outputs": [],
   "source": [
    "train_df = pd.read_csv(LABELS_PATH/'train_with_fold.csv')\n",
    "if wandb.config.sample_size:\n",
    "    print(\"About to reduce train size.\")\n",
    "    train_df = train_df.sample(n=wandb.config.sample_size, random_state=SEED).reset_index(drop=True)"
   ]
  },
  {
   "cell_type": "code",
   "execution_count": 9,
   "metadata": {
    "papermill": {
     "duration": 0.053828,
     "end_time": "2020-02-11T09:56:54.397170",
     "exception": false,
     "start_time": "2020-02-11T09:56:54.343342",
     "status": "completed"
    },
    "tags": []
   },
   "outputs": [
    {
     "data": {
      "text/html": [
       "<div>\n",
       "<style scoped>\n",
       "    .dataframe tbody tr th:only-of-type {\n",
       "        vertical-align: middle;\n",
       "    }\n",
       "\n",
       "    .dataframe tbody tr th {\n",
       "        vertical-align: top;\n",
       "    }\n",
       "\n",
       "    .dataframe thead th {\n",
       "        text-align: right;\n",
       "    }\n",
       "</style>\n",
       "<table border=\"1\" class=\"dataframe\">\n",
       "  <thead>\n",
       "    <tr style=\"text-align: right;\">\n",
       "      <th></th>\n",
       "      <th>image_id</th>\n",
       "      <th>grapheme_root</th>\n",
       "      <th>vowel_diacritic</th>\n",
       "      <th>consonant_diacritic</th>\n",
       "      <th>grapheme</th>\n",
       "      <th>id</th>\n",
       "      <th>fold</th>\n",
       "    </tr>\n",
       "  </thead>\n",
       "  <tbody>\n",
       "    <tr>\n",
       "      <th>0</th>\n",
       "      <td>Train_0</td>\n",
       "      <td>15</td>\n",
       "      <td>9</td>\n",
       "      <td>5</td>\n",
       "      <td>ক্ট্রো</td>\n",
       "      <td>0</td>\n",
       "      <td>3</td>\n",
       "    </tr>\n",
       "    <tr>\n",
       "      <th>1</th>\n",
       "      <td>Train_1</td>\n",
       "      <td>159</td>\n",
       "      <td>0</td>\n",
       "      <td>0</td>\n",
       "      <td>হ</td>\n",
       "      <td>1</td>\n",
       "      <td>2</td>\n",
       "    </tr>\n",
       "    <tr>\n",
       "      <th>2</th>\n",
       "      <td>Train_2</td>\n",
       "      <td>22</td>\n",
       "      <td>3</td>\n",
       "      <td>5</td>\n",
       "      <td>খ্রী</td>\n",
       "      <td>2</td>\n",
       "      <td>4</td>\n",
       "    </tr>\n",
       "    <tr>\n",
       "      <th>3</th>\n",
       "      <td>Train_3</td>\n",
       "      <td>53</td>\n",
       "      <td>2</td>\n",
       "      <td>2</td>\n",
       "      <td>র্টি</td>\n",
       "      <td>3</td>\n",
       "      <td>2</td>\n",
       "    </tr>\n",
       "    <tr>\n",
       "      <th>4</th>\n",
       "      <td>Train_4</td>\n",
       "      <td>71</td>\n",
       "      <td>9</td>\n",
       "      <td>5</td>\n",
       "      <td>থ্রো</td>\n",
       "      <td>4</td>\n",
       "      <td>1</td>\n",
       "    </tr>\n",
       "  </tbody>\n",
       "</table>\n",
       "</div>"
      ],
      "text/plain": [
       "  image_id  grapheme_root  vowel_diacritic  consonant_diacritic grapheme  id  \\\n",
       "0  Train_0             15                9                    5   ক্ট্রো   0   \n",
       "1  Train_1            159                0                    0        হ   1   \n",
       "2  Train_2             22                3                    5     খ্রী   2   \n",
       "3  Train_3             53                2                    2     র্টি   3   \n",
       "4  Train_4             71                9                    5     থ্রো   4   \n",
       "\n",
       "   fold  \n",
       "0     3  \n",
       "1     2  \n",
       "2     4  \n",
       "3     2  \n",
       "4     1  "
      ]
     },
     "execution_count": 9,
     "metadata": {},
     "output_type": "execute_result"
    }
   ],
   "source": [
    "train_df.head()"
   ]
  },
  {
   "cell_type": "code",
   "execution_count": 10,
   "metadata": {
    "papermill": {
     "duration": 0.572766,
     "end_time": "2020-02-11T09:56:54.989034",
     "exception": false,
     "start_time": "2020-02-11T09:56:54.416268",
     "status": "completed"
    },
    "tags": []
   },
   "outputs": [
    {
     "data": {
      "text/plain": [
       "<matplotlib.axes._subplots.AxesSubplot at 0x7f7d69bf8150>"
      ]
     },
     "execution_count": 10,
     "metadata": {},
     "output_type": "execute_result"
    }
   ],
   "source": [
    "train_df.grapheme_root.value_counts().plot.bar(figsize=(20, 4), title=\"Grapheme root\", rot=90)"
   ]
  },
  {
   "cell_type": "code",
   "execution_count": 11,
   "metadata": {
    "papermill": {
     "duration": 0.133735,
     "end_time": "2020-02-11T09:56:55.142169",
     "exception": false,
     "start_time": "2020-02-11T09:56:55.008434",
     "status": "completed"
    },
    "tags": []
   },
   "outputs": [
    {
     "data": {
      "text/plain": [
       "<matplotlib.axes._subplots.AxesSubplot at 0x7f7d69bf8150>"
      ]
     },
     "execution_count": 11,
     "metadata": {},
     "output_type": "execute_result"
    }
   ],
   "source": [
    "train_df.vowel_diacritic.value_counts().plot.bar(title=\"Vowel diacrititc\")"
   ]
  },
  {
   "cell_type": "code",
   "execution_count": 12,
   "metadata": {
    "papermill": {
     "duration": 0.122649,
     "end_time": "2020-02-11T09:56:55.284950",
     "exception": false,
     "start_time": "2020-02-11T09:56:55.162301",
     "status": "completed"
    },
    "tags": []
   },
   "outputs": [
    {
     "data": {
      "text/plain": [
       "<matplotlib.axes._subplots.AxesSubplot at 0x7f7d69bf8150>"
      ]
     },
     "execution_count": 12,
     "metadata": {},
     "output_type": "execute_result"
    }
   ],
   "source": [
    "train_df.consonant_diacritic.value_counts().plot.bar(title=\"Consonant diacrititc\")"
   ]
  },
  {
   "cell_type": "code",
   "execution_count": 13,
   "metadata": {
    "papermill": {
     "duration": 0.046387,
     "end_time": "2020-02-11T09:56:55.352688",
     "exception": false,
     "start_time": "2020-02-11T09:56:55.306301",
     "status": "completed"
    },
    "tags": []
   },
   "outputs": [
    {
     "data": {
      "text/plain": [
       "([0.485, 0.456, 0.406], [0.229, 0.224, 0.225])"
      ]
     },
     "execution_count": 13,
     "metadata": {},
     "output_type": "execute_result"
    }
   ],
   "source": [
    "imagenet_stats"
   ]
  },
  {
   "cell_type": "code",
   "execution_count": 14,
   "metadata": {
    "papermill": {
     "duration": 0.04828,
     "end_time": "2020-02-11T09:56:55.420797",
     "exception": false,
     "start_time": "2020-02-11T09:56:55.372517",
     "status": "completed"
    },
    "tags": []
   },
   "outputs": [],
   "source": [
    "train_tfms = [\n",
    "    symmetric_warp(\n",
    "        magnitude=(-wandb.config.max_warp, wandb.config.max_warp),\n",
    "        p=wandb.config.p_affine\n",
    "    ),\n",
    "    rotate(\n",
    "        degrees=(-wandb.config.max_rotate, wandb.config.max_rotate),\n",
    "        p=wandb.config.p_affine\n",
    "    ),\n",
    "    rand_zoom(\n",
    "        scale=(1., wandb.config.max_zoom), p=wandb.config.p_affine\n",
    "    ),\n",
    "    brightness(\n",
    "        change=(0.5*(1 - wandb.config.max_lighting), 0.5*(1 + wandb.config.max_lighting)),\n",
    "        p=wandb.config.p_lighting\n",
    "    ),\n",
    "    contrast(\n",
    "        scale=(1-wandb.config.max_lighting, 1/(1-wandb.config.max_lighting)),\n",
    "        p=wandb.config.p_lighting\n",
    "    ),\n",
    "    cutout(n_holes=(1, 6), length=(5, 15), p=.5)\n",
    "]"
   ]
  },
  {
   "cell_type": "code",
   "execution_count": 15,
   "metadata": {
    "papermill": {
     "duration": 0.043771,
     "end_time": "2020-02-11T09:56:55.483796",
     "exception": false,
     "start_time": "2020-02-11T09:56:55.440025",
     "status": "completed"
    },
    "tags": []
   },
   "outputs": [],
   "source": [
    "train_df['is_valid'] = train_df.fold == 0"
   ]
  },
  {
   "cell_type": "code",
   "execution_count": 16,
   "metadata": {
    "papermill": {
     "duration": 0.141251,
     "end_time": "2020-02-11T09:56:55.644341",
     "exception": false,
     "start_time": "2020-02-11T09:56:55.503090",
     "status": "completed"
    },
    "tags": []
   },
   "outputs": [],
   "source": [
    "grapheme_root_class_weight = compute_class_weight('balanced', range(train_df.grapheme_root.max() + 1), y=train_df.grapheme_root)\n",
    "vowel_diacritic_class_weight = compute_class_weight('balanced', range(train_df.vowel_diacritic.max() + 1), y=train_df.vowel_diacritic)\n",
    "consonant_diacritic_class_weight = compute_class_weight('balanced', range(train_df.consonant_diacritic.max() + 1), y=train_df.consonant_diacritic)"
   ]
  },
  {
   "cell_type": "code",
   "execution_count": 17,
   "metadata": {
    "papermill": {
     "duration": 1.273647,
     "end_time": "2020-02-11T09:56:56.938326",
     "exception": false,
     "start_time": "2020-02-11T09:56:55.664679",
     "status": "completed"
    },
    "tags": []
   },
   "outputs": [],
   "source": [
    "stats = ([0.485], [0.229])\n",
    "\n",
    "data = (\n",
    "    ImageList.from_df(\n",
    "        path=DATA_PATH, df=train_df, folder='./grapheme-imgs-128x128/', suffix='.png',\n",
    "        cols='image_id', convert_mode='L'\n",
    "    )\n",
    "    .split_from_df(col='is_valid')\n",
    "    .label_from_df(cols=['grapheme_root', 'vowel_diacritic', 'consonant_diacritic'])\n",
    "    .transform((train_tfms, []), size=wandb.config.img_size, padding_mode='zeros')\n",
    "    .databunch(bs=wandb.config.batch_size)\n",
    ").normalize(stats)"
   ]
  },
  {
   "cell_type": "code",
   "execution_count": 18,
   "metadata": {
    "papermill": {
     "duration": 5.413585,
     "end_time": "2020-02-11T09:57:02.372346",
     "exception": false,
     "start_time": "2020-02-11T09:56:56.958761",
     "status": "completed"
    },
    "tags": []
   },
   "outputs": [],
   "source": [
    "data.show_batch()"
   ]
  },
  {
   "cell_type": "code",
   "execution_count": 19,
   "metadata": {
    "papermill": {
     "duration": 0.163433,
     "end_time": "2020-02-11T09:57:02.556381",
     "exception": false,
     "start_time": "2020-02-11T09:57:02.392948",
     "status": "completed"
    },
    "tags": []
   },
   "outputs": [],
   "source": [
    "class MixUpLoss(Module):\n",
    "    \"Adapt the loss function `crit` to go with mixup.\"\n",
    "    \n",
    "    def __init__(self, crit, reduction='mean'):\n",
    "        super().__init__()\n",
    "        if hasattr(crit, 'reduction'): \n",
    "            self.crit = crit\n",
    "            self.old_red = crit.reduction\n",
    "            setattr(self.crit, 'reduction', 'none')\n",
    "        else: \n",
    "            self.crit = partial(crit, reduction='none')\n",
    "            self.old_crit = crit\n",
    "        self.reduction = reduction\n",
    "        \n",
    "    def forward(self, output, target):\n",
    "        if len(target.shape) == 2 and target.shape[1] == 7:\n",
    "            loss1, loss2 = self.crit(output,target[:,0:3].long()), self.crit(output,target[:,3:6].long())\n",
    "            d = loss1 * target[:,-1] + loss2 * (1-target[:,-1])\n",
    "        else:  d = self.crit(output, target)\n",
    "        if self.reduction == 'mean':    return d.mean()\n",
    "        elif self.reduction == 'sum':   return d.sum()\n",
    "        return d\n",
    "    \n",
    "    def get_old(self):\n",
    "        if hasattr(self, 'old_crit'):  return self.old_crit\n",
    "        elif hasattr(self, 'old_red'): \n",
    "            setattr(self.crit, 'reduction', self.old_red)\n",
    "            return self.crit\n",
    "\n",
    "\n",
    "class MixUpCallback(LearnerCallback):\n",
    "    \"Callback that creates the mixed-up input and target.\"\n",
    "    def __init__(self, learn:Learner, alpha:float=0.4, stack_x:bool=False, stack_y:bool=True):\n",
    "        super().__init__(learn)\n",
    "        self.alpha,self.stack_x,self.stack_y = alpha,stack_x,stack_y\n",
    "    \n",
    "    def on_train_begin(self, **kwargs):\n",
    "        if self.stack_y: self.learn.loss_func = MixUpLoss(self.learn.loss_func)\n",
    "        \n",
    "    def on_batch_begin(self, last_input, last_target, train, **kwargs):\n",
    "        \"Applies mixup to `last_input` and `last_target` if `train`.\"\n",
    "        if not train: return\n",
    "        lambd = np.random.beta(self.alpha, self.alpha, last_target.size(0))\n",
    "        lambd = np.concatenate([lambd[:,None], 1-lambd[:,None]], 1).max(1)\n",
    "        lambd = last_input.new(lambd)\n",
    "        shuffle = torch.randperm(last_target.size(0)).to(last_input.device)\n",
    "        x1, y1 = last_input[shuffle], last_target[shuffle]\n",
    "        if self.stack_x:\n",
    "            new_input = [last_input, last_input[shuffle], lambd]\n",
    "        else: \n",
    "            out_shape = [lambd.size(0)] + [1 for _ in range(len(x1.shape) - 1)]\n",
    "            new_input = (last_input * lambd.view(out_shape) + x1 * (1-lambd).view(out_shape))\n",
    "        if self.stack_y:\n",
    "            new_target = torch.cat([last_target.float(), y1.float(), lambd[:,None].float()], 1)\n",
    "        else:\n",
    "            if len(last_target.shape) == 2:\n",
    "                lambd = lambd.unsqueeze(1).float()\n",
    "            new_target = last_target.float() * lambd + y1.float() * (1-lambd)\n",
    "        return {'last_input': new_input, 'last_target': new_target}  \n",
    "    \n",
    "    def on_train_end(self, **kwargs):\n",
    "        if self.stack_y: self.learn.loss_func = self.learn.loss_func.get_old()"
   ]
  },
  {
   "cell_type": "markdown",
   "metadata": {
    "papermill": {
     "duration": 0.020349,
     "end_time": "2020-02-11T09:57:02.597267",
     "exception": false,
     "start_time": "2020-02-11T09:57:02.576918",
     "status": "completed"
    },
    "tags": []
   },
   "source": [
    "## Loss and metrics"
   ]
  },
  {
   "cell_type": "code",
   "execution_count": null,
   "metadata": {
    "papermill": {
     "duration": 0.019868,
     "end_time": "2020-02-11T09:57:02.636924",
     "exception": false,
     "start_time": "2020-02-11T09:57:02.617056",
     "status": "completed"
    },
    "tags": []
   },
   "outputs": [],
   "source": []
  },
  {
   "cell_type": "code",
   "execution_count": 20,
   "metadata": {
    "papermill": {
     "duration": 0.062381,
     "end_time": "2020-02-11T09:57:02.719481",
     "exception": false,
     "start_time": "2020-02-11T09:57:02.657100",
     "status": "completed"
    },
    "tags": []
   },
   "outputs": [],
   "source": [
    "class MetricBase(Callback):\n",
    "    def __init__(self, average='macro'):\n",
    "        super().__init__()\n",
    "        self.n_classes = 0\n",
    "        self.average = average\n",
    "        self.cm = None\n",
    "        self.eps = 1e-9\n",
    "        \n",
    "    def on_epoch_begin(self, **kwargs):\n",
    "        self.tp = 0\n",
    "        self.fp = 0\n",
    "        self.cm = None\n",
    "    \n",
    "    def on_batch_end(self, last_output:Tensor, last_target:Tensor, **kwargs):\n",
    "        last_output = last_output[self.idx]\n",
    "        last_target = last_target[:,self.idx]\n",
    "        preds = last_output.argmax(-1).view(-1).cpu()\n",
    "        targs = last_target.long().cpu()\n",
    "        \n",
    "        if self.n_classes == 0:\n",
    "            self.n_classes = last_output.shape[-1]\n",
    "            self.x = torch.arange(0, self.n_classes)\n",
    "        cm = ((preds==self.x[:, None]) & (targs==self.x[:, None, None])) \\\n",
    "          .sum(dim=2, dtype=torch.float32)\n",
    "        if self.cm is None: self.cm =  cm\n",
    "        else:               self.cm += cm\n",
    "\n",
    "    def _weights(self, avg:str):\n",
    "        if self.n_classes != 2 and avg == \"binary\":\n",
    "            avg = self.average = \"macro\"\n",
    "            warn(\"average=`binary` was selected for a non binary case. \\\n",
    "                 Value for average has now been set to `macro` instead.\")\n",
    "        if avg == \"binary\":\n",
    "            if self.pos_label not in (0, 1):\n",
    "                self.pos_label = 1\n",
    "                warn(\"Invalid value for pos_label. It has now been set to 1.\")\n",
    "            if self.pos_label == 1: return Tensor([0,1])\n",
    "            else: return Tensor([1,0])\n",
    "        elif avg == \"micro\": return self.cm.sum(dim=0) / self.cm.sum()\n",
    "        elif avg == \"macro\": return torch.ones((self.n_classes,)) / self.n_classes\n",
    "        elif avg == \"weighted\": return self.cm.sum(dim=1) / self.cm.sum()\n",
    "        \n",
    "    def _recall(self):\n",
    "        rec = torch.diag(self.cm) / (self.cm.sum(dim=1) + self.eps)\n",
    "        if self.average is None: return rec\n",
    "        else:\n",
    "            if self.average == \"micro\": weights = self._weights(avg=\"weighted\")\n",
    "            else: weights = self._weights(avg=self.average)\n",
    "            return (rec * weights).sum()\n",
    "    \n",
    "    def on_epoch_end(self, last_metrics, **kwargs):\n",
    "        return add_metrics(last_metrics, self._recall())\n",
    "\n",
    "    \n",
    "class GraphemeRoot(MetricBase):\n",
    "    idx = 0\n",
    "\n",
    "    \n",
    "class VowelDiacritic(MetricBase):\n",
    "    idx = 1\n",
    "\n",
    "\n",
    "class ConsonantDiacritic(MetricBase):\n",
    "    idx = 2\n",
    "\n",
    "\n",
    "class RecallCombine(Callback):\n",
    "    def __init__(self):\n",
    "        super().__init__()\n",
    "        self.grapheme = GraphemeRoot()\n",
    "        self.vowel = VowelDiacritic()\n",
    "        self.consonant = ConsonantDiacritic()\n",
    "        \n",
    "    def on_epoch_begin(self, **kwargs):\n",
    "        self.grapheme.on_epoch_begin(**kwargs)\n",
    "        self.vowel.on_epoch_begin(**kwargs)\n",
    "        self.consonant.on_epoch_begin(**kwargs)\n",
    "    \n",
    "    def on_batch_end(self, last_output:Tensor, last_target:Tensor, **kwargs):\n",
    "        self.grapheme.on_batch_end(last_output, last_target, **kwargs)\n",
    "        self.vowel.on_batch_end(last_output, last_target, **kwargs)\n",
    "        self.consonant.on_batch_end(last_output, last_target, **kwargs)\n",
    "        \n",
    "    def on_epoch_end(self, last_metrics, **kwargs):\n",
    "        return add_metrics(\n",
    "            last_metrics,\n",
    "            0.5 * self.grapheme._recall() +\n",
    "            0.25 * self.vowel._recall() +\n",
    "            0.25 * self.consonant._recall()\n",
    "        )"
   ]
  },
  {
   "cell_type": "markdown",
   "metadata": {
    "papermill": {
     "duration": 0.019938,
     "end_time": "2020-02-11T09:57:02.759778",
     "exception": false,
     "start_time": "2020-02-11T09:57:02.739840",
     "status": "completed"
    },
    "tags": []
   },
   "source": [
    "## Model"
   ]
  },
  {
   "cell_type": "code",
   "execution_count": null,
   "metadata": {
    "papermill": {
     "duration": 0.020138,
     "end_time": "2020-02-11T09:57:02.800096",
     "exception": false,
     "start_time": "2020-02-11T09:57:02.779958",
     "status": "completed"
    },
    "tags": []
   },
   "outputs": [],
   "source": []
  },
  {
   "cell_type": "code",
   "execution_count": 21,
   "metadata": {
    "papermill": {
     "duration": 0.050456,
     "end_time": "2020-02-11T09:57:02.870683",
     "exception": false,
     "start_time": "2020-02-11T09:57:02.820227",
     "status": "completed"
    },
    "tags": []
   },
   "outputs": [],
   "source": [
    "from torch.nn.parameter import Parameter\n",
    "\n",
    "\n",
    "def gem(x, p=3, eps=1e-6):\n",
    "    return F.avg_pool2d(x.clamp(min=eps).pow(p), (x.size(-2), x.size(-1))).pow(1./p)\n",
    "\n",
    "\n",
    "class GeM(nn.Module):\n",
    "    def __init__(self, p=3, eps=1e-6):\n",
    "        super(GeM,self).__init__()\n",
    "        self.p = Parameter(torch.ones(1)*p)\n",
    "        self.eps = eps\n",
    "\n",
    "    def forward(self, x):\n",
    "        return gem(x, p=self.p, eps=self.eps)\n",
    "\n",
    "    def __repr__(self):\n",
    "        return self.__class__.__name__ + '(' + 'p=' + '{:.4f}'.format(self.p.data.tolist()[0]) + ', ' + 'eps=' + str(self.eps) + ')'"
   ]
  },
  {
   "cell_type": "code",
   "execution_count": 22,
   "metadata": {
    "papermill": {
     "duration": 0.046034,
     "end_time": "2020-02-11T09:57:02.936418",
     "exception": false,
     "start_time": "2020-02-11T09:57:02.890384",
     "status": "completed"
    },
    "tags": []
   },
   "outputs": [],
   "source": [
    "class AdaptiveConcatWithGemPool2d(Module):\n",
    "    \"Layer that concats `AdaptiveAvgPool2d` and `AdaptiveMaxPool2d`.\"\n",
    "    def __init__(self, sz:Optional[int]=None):\n",
    "        \"Output will be 2*sz or 2 if sz is None\"\n",
    "        self.output_size = sz or 1\n",
    "        self.ap = GeM()\n",
    "        self.mp = nn.AdaptiveMaxPool2d(self.output_size)\n",
    "\n",
    "    def forward(self, x): return torch.cat([self.mp(x), self.ap(x)], 1)"
   ]
  },
  {
   "cell_type": "code",
   "execution_count": 23,
   "metadata": {
    "papermill": {
     "duration": 0.048219,
     "end_time": "2020-02-11T09:57:03.003969",
     "exception": false,
     "start_time": "2020-02-11T09:57:02.955750",
     "status": "completed"
    },
    "tags": []
   },
   "outputs": [],
   "source": [
    "class MishHead(nn.Module):\n",
    "    def __init__(self, input_size: int, output_size: int, dropout_ps=0.5):\n",
    "        super().__init__()\n",
    "\n",
    "        layers = [\n",
    "            AdaptiveConcatWithGemPool2d(),\n",
    "            Flatten(),\n",
    "            nn.Linear(input_size * 2, 512),\n",
    "            MishJit(),\n",
    "            nn.BatchNorm1d(512),\n",
    "            nn.Dropout(dropout_ps),\n",
    "            nn.Linear(512, output_size)\n",
    "        ]\n",
    "\n",
    "        self.fc = nn.Sequential(*layers)\n",
    "        self._init_weight()\n",
    "\n",
    "    def _init_weight(self):\n",
    "        for m in self.modules():\n",
    "            if isinstance(m, nn.Conv2d):\n",
    "                torch.nn.init.kaiming_normal_(m.weight)\n",
    "            elif isinstance(m, nn.BatchNorm2d):\n",
    "                m.weight.data.fill_(1.0)\n",
    "                m.bias.data.zero_()\n",
    "\n",
    "    def forward(self, x):\n",
    "        return self.fc(x)"
   ]
  },
  {
   "cell_type": "code",
   "execution_count": 24,
   "metadata": {
    "papermill": {
     "duration": 0.046928,
     "end_time": "2020-02-11T09:57:03.071086",
     "exception": false,
     "start_time": "2020-02-11T09:57:03.024158",
     "status": "completed"
    },
    "tags": []
   },
   "outputs": [],
   "source": [
    "class MishHead(nn.Module):\n",
    "    def __init__(self, input_size: int, output_size: int, dropout_ps=0.5):\n",
    "        super().__init__()\n",
    "\n",
    "        layers = [\n",
    "            AdaptiveConcatWithGemPool2d(),\n",
    "            Flatten(),\n",
    "            nn.Linear(input_size * 2, 512),\n",
    "            MishJit(),\n",
    "            nn.BatchNorm1d(512),\n",
    "            nn.Dropout(dropout_ps),\n",
    "            nn.Linear(512, output_size)\n",
    "        ]\n",
    "\n",
    "        self.fc = nn.Sequential(*layers)\n",
    "        self._init_weight()\n",
    "\n",
    "    def _init_weight(self):\n",
    "        for m in self.modules():\n",
    "            if isinstance(m, nn.Conv2d):\n",
    "                torch.nn.init.kaiming_normal_(m.weight)\n",
    "            elif isinstance(m, nn.BatchNorm2d):\n",
    "                m.weight.data.fill_(1.0)\n",
    "                m.bias.data.zero_()\n",
    "\n",
    "    def forward(self, x):\n",
    "        return self.fc(x)"
   ]
  },
  {
   "cell_type": "code",
   "execution_count": 25,
   "metadata": {
    "papermill": {
     "duration": 0.045936,
     "end_time": "2020-02-11T09:57:03.136199",
     "exception": false,
     "start_time": "2020-02-11T09:57:03.090263",
     "status": "completed"
    },
    "tags": []
   },
   "outputs": [],
   "source": [
    "class BengaliModel(nn.Module):\n",
    "    def __init__(self, encoder, encoder_output_features):\n",
    "        super().__init__()\n",
    "        self.input_conv = nn.Conv2d(in_channels=1, out_channels=3, kernel_size=1)\n",
    "        \n",
    "        self.encoder = encoder\n",
    "        \n",
    "        self.fc_grapheme_root = MishHead(encoder_output_features, output_size=168)\n",
    "        self.fc_vowel_diacritic = MishHead(encoder_output_features, output_size=11)\n",
    "        self.fc_consonant_diacritic = MishHead(encoder_output_features, output_size=7)\n",
    "        \n",
    "    def forward(self, inputs):\n",
    "        bs = inputs.size(0)\n",
    "        \n",
    "        # Convolve to 3 channels\n",
    "        x = self.input_conv(inputs)\n",
    "\n",
    "        # Convolution layers\n",
    "        x = self.encoder(x)\n",
    "\n",
    "        return [\n",
    "            self.fc_grapheme_root(x),\n",
    "            self.fc_vowel_diacritic(x),\n",
    "            self.fc_consonant_diacritic(x)\n",
    "        ]"
   ]
  },
  {
   "cell_type": "code",
   "execution_count": 26,
   "metadata": {
    "papermill": {
     "duration": 0.051674,
     "end_time": "2020-02-11T09:57:03.209961",
     "exception": false,
     "start_time": "2020-02-11T09:57:03.158287",
     "status": "completed"
    },
    "tags": []
   },
   "outputs": [],
   "source": [
    "class LossCombine(nn.Module):\n",
    "    def __init__(self):\n",
    "        super().__init__()\n",
    "        \n",
    "        self.grapheme_root_class_weight = tensor(grapheme_root_class_weight).float()\n",
    "        self.vowel_diacritic_class_weight = tensor(vowel_diacritic_class_weight).float()\n",
    "        self.consonant_diacritic_class_weight = tensor(consonant_diacritic_class_weight).float()\n",
    "    \n",
    "        if torch.cuda.is_available():\n",
    "            self.grapheme_root_class_weight = self.grapheme_root_class_weight.cuda()\n",
    "            self.vowel_diacritic_class_weight = self.vowel_diacritic_class_weight.cuda()\n",
    "            self.consonant_diacritic_class_weight = self.consonant_diacritic_class_weight.cuda()\n",
    "        \n",
    "    def forward(self, input, target, reduction='mean'):\n",
    "        x1,x2,x3 = input\n",
    "        x1,x2,x3 = x1.float(), x2.float(), x3.float()\n",
    "        y = target.long()\n",
    "\n",
    "        return (\n",
    "            wandb.config.grapheme_root_weight * F.cross_entropy(\n",
    "                x1, y[:,0], weight=self.grapheme_root_class_weight, reduction=reduction) +\n",
    "            wandb.config.vowel_diacritic_weight * F.cross_entropy(\n",
    "                x2,y[:,1], weight=self.vowel_diacritic_class_weight, reduction=reduction) +\n",
    "            wandb.config.consonant_diacritic_weight * F.cross_entropy(\n",
    "                x3, y[:,2], weight=self.consonant_diacritic_class_weight, reduction=reduction)\n",
    "        )"
   ]
  },
  {
   "cell_type": "code",
   "execution_count": 27,
   "metadata": {
    "papermill": {
     "duration": 0.044513,
     "end_time": "2020-02-11T09:57:03.275575",
     "exception": false,
     "start_time": "2020-02-11T09:57:03.231062",
     "status": "completed"
    },
    "tags": []
   },
   "outputs": [],
   "source": [
    "class EfficientNetModel(nn.Module):\n",
    "    def __init__(self, model_name):\n",
    "        super().__init__()\n",
    "        self.m = EfficientNet.from_pretrained(model_name)\n",
    "        \n",
    "    def forward(self, x):\n",
    "        return self.m.extract_features(x)"
   ]
  },
  {
   "cell_type": "code",
   "execution_count": 28,
   "metadata": {
    "papermill": {
     "duration": 0.050168,
     "end_time": "2020-02-11T09:57:03.345658",
     "exception": false,
     "start_time": "2020-02-11T09:57:03.295490",
     "status": "completed"
    },
    "tags": []
   },
   "outputs": [],
   "source": [
    "class RWightmanModel(nn.Module):\n",
    "    def __init__(self, model_name):\n",
    "        super().__init__()\n",
    "        self.m =  timm.create_model(model_name, pretrained=True)\n",
    "        \n",
    "    def forward(self, x):\n",
    "        return self.m.forward_features(x)"
   ]
  },
  {
   "cell_type": "code",
   "execution_count": 29,
   "metadata": {
    "papermill": {
     "duration": 0.044307,
     "end_time": "2020-02-11T09:57:03.409975",
     "exception": false,
     "start_time": "2020-02-11T09:57:03.365668",
     "status": "completed"
    },
    "tags": []
   },
   "outputs": [],
   "source": [
    "class CadeneModel(nn.Module):\n",
    "    def __init__(self, model_name):\n",
    "        super().__init__()\n",
    "        self.m = pretrainedmodels.__dict__[model_name](num_classes=1000, pretrained='imagenet')\n",
    "        \n",
    "    def forward(self, x):\n",
    "        return self.m.features(x)"
   ]
  },
  {
   "cell_type": "markdown",
   "metadata": {
    "papermill": {
     "duration": 0.019751,
     "end_time": "2020-02-11T09:57:03.448952",
     "exception": false,
     "start_time": "2020-02-11T09:57:03.429201",
     "status": "completed"
    },
    "tags": []
   },
   "source": [
    "## Training"
   ]
  },
  {
   "cell_type": "code",
   "execution_count": 30,
   "metadata": {
    "papermill": {
     "duration": 0.045364,
     "end_time": "2020-02-11T09:57:03.514530",
     "exception": false,
     "start_time": "2020-02-11T09:57:03.469166",
     "status": "completed"
    },
    "tags": []
   },
   "outputs": [],
   "source": [
    "@dataclass\n",
    "class CutoutScheduler(Callback):\n",
    "    learn:Learner\n",
    "    n_holes_max:int=80\n",
    "    max_at_epoch:int=30\n",
    "        \n",
    "    def on_epoch_begin(self, **kwargs):\n",
    "        i = kwargs['iteration']\n",
    "        n_epochs = kwargs['n_epochs']\n",
    "        n_holes_max = int(round(annealing_linear(0, self.n_holes_max, min(i / self.max_at_epoch, 1.))))\n",
    "        n_holes = (max(n_holes_max-10, 0), n_holes_max)\n",
    "        print(n_holes)\n",
    "        self.learn.data.train_ds.tfms[-1].kwargs['n_holes'] = n_holes"
   ]
  },
  {
   "cell_type": "code",
   "execution_count": 31,
   "metadata": {
    "papermill": {
     "duration": 0.133992,
     "end_time": "2020-02-11T09:57:03.668357",
     "exception": false,
     "start_time": "2020-02-11T09:57:03.534365",
     "status": "completed"
    },
    "tags": []
   },
   "outputs": [
    {
     "name": "stdout",
     "output_type": "stream",
     "text": [
      "Loading EfficientNet models: efficientnet-b0\n",
      "Loaded pretrained weights for efficientnet-b0\n"
     ]
    }
   ],
   "source": [
    "if ENCODER_ARCH.startswith('efficientnet-'):\n",
    "    print(f'Loading EfficientNet models: {ENCODER_ARCH}')\n",
    "    encoder = EfficientNetModel(ENCODER_ARCH)\n",
    "    output_feats = encoder.m._fc.in_features\n",
    "elif ENCODER_ARCH in pretrainedmodels.model_names:\n",
    "    print(f\"Loading Cadene model: {ENCODER_ARCH}\")\n",
    "    encoder = CadeneModel(ENCODER_ARCH)\n",
    "    output_feats = encoder.m.last_linear.in_features\n",
    "else:\n",
    "    print(f\"Loading R Wightman model: {ENCODER_ARCH}\")\n",
    "    encoder = RWightmanModel(ENCODER_ARCH)\n",
    "    output_feats = encoder.m.classifier.in_features"
   ]
  },
  {
   "cell_type": "code",
   "execution_count": 32,
   "metadata": {
    "papermill": {
     "duration": 0.109537,
     "end_time": "2020-02-11T09:57:03.799529",
     "exception": false,
     "start_time": "2020-02-11T09:57:03.689992",
     "status": "completed"
    },
    "tags": []
   },
   "outputs": [],
   "source": [
    "model = BengaliModel(encoder=encoder, encoder_output_features=output_feats)\n",
    "\n",
    "learner = Learner(\n",
    "    data, model, loss_func=LossCombine(),\n",
    "    metrics=[GraphemeRoot(), VowelDiacritic(), ConsonantDiacritic(), RecallCombine()],\n",
    "    callback_fns=WandbCallback\n",
    ")\n",
    "learner.clip_grad = 1.0\n",
    "learner.unfreeze()"
   ]
  },
  {
   "cell_type": "code",
   "execution_count": 33,
   "metadata": {
    "papermill": {
     "duration": 0.044536,
     "end_time": "2020-02-11T09:57:03.864488",
     "exception": false,
     "start_time": "2020-02-11T09:57:03.819952",
     "status": "completed"
    },
    "tags": []
   },
   "outputs": [],
   "source": [
    "# learner.lr_find()\n",
    "# learner.recorder.plot()"
   ]
  },
  {
   "cell_type": "code",
   "execution_count": 34,
   "metadata": {
    "papermill": {
     "duration": 27303.609751,
     "end_time": "2020-02-11T17:32:07.493761",
     "exception": false,
     "start_time": "2020-02-11T09:57:03.884010",
     "status": "completed"
    },
    "tags": []
   },
   "outputs": [
    {
     "data": {
      "text/html": [
       "\n",
       "    <div>\n",
       "        <style>\n",
       "            /* Turns off some styling */\n",
       "            progress {\n",
       "                /* gets rid of default border in Firefox and Opera. */\n",
       "                border: none;\n",
       "                /* Needs to be in here for Safari polyfill so background images work as expected. */\n",
       "                background-size: auto;\n",
       "            }\n",
       "            .progress-bar-interrupted, .progress-bar-interrupted::-webkit-progress-bar {\n",
       "                background: #F44336;\n",
       "            }\n",
       "        </style>\n",
       "      <progress value='39' class='' max='150', style='width:300px; height:20px; vertical-align: middle;'></progress>\n",
       "      26.00% [39/150 7:23:30<21:02:18]\n",
       "    </div>\n",
       "    \n",
       "<table border=\"1\" class=\"dataframe\">\n",
       "  <thead>\n",
       "    <tr style=\"text-align: left;\">\n",
       "      <th>epoch</th>\n",
       "      <th>train_loss</th>\n",
       "      <th>valid_loss</th>\n",
       "      <th>grapheme_root</th>\n",
       "      <th>vowel_diacritic</th>\n",
       "      <th>consonant_diacritic</th>\n",
       "      <th>recall_combine</th>\n",
       "      <th>time</th>\n",
       "    </tr>\n",
       "  </thead>\n",
       "  <tbody>\n",
       "    <tr>\n",
       "      <td>0</td>\n",
       "      <td>3.163283</td>\n",
       "      <td>2.555422</td>\n",
       "      <td>0.223216</td>\n",
       "      <td>0.484118</td>\n",
       "      <td>0.634814</td>\n",
       "      <td>0.391341</td>\n",
       "      <td>11:24</td>\n",
       "    </tr>\n",
       "    <tr>\n",
       "      <td>1</td>\n",
       "      <td>2.361298</td>\n",
       "      <td>1.223809</td>\n",
       "      <td>0.596086</td>\n",
       "      <td>0.797881</td>\n",
       "      <td>0.810170</td>\n",
       "      <td>0.700056</td>\n",
       "      <td>11:21</td>\n",
       "    </tr>\n",
       "    <tr>\n",
       "      <td>2</td>\n",
       "      <td>1.865513</td>\n",
       "      <td>0.805896</td>\n",
       "      <td>0.761809</td>\n",
       "      <td>0.879637</td>\n",
       "      <td>0.878693</td>\n",
       "      <td>0.820487</td>\n",
       "      <td>11:21</td>\n",
       "    </tr>\n",
       "    <tr>\n",
       "      <td>3</td>\n",
       "      <td>1.679841</td>\n",
       "      <td>1.056373</td>\n",
       "      <td>0.729215</td>\n",
       "      <td>0.675331</td>\n",
       "      <td>0.875928</td>\n",
       "      <td>0.752422</td>\n",
       "      <td>11:21</td>\n",
       "    </tr>\n",
       "    <tr>\n",
       "      <td>4</td>\n",
       "      <td>1.590842</td>\n",
       "      <td>0.504602</td>\n",
       "      <td>0.835044</td>\n",
       "      <td>0.898620</td>\n",
       "      <td>0.912395</td>\n",
       "      <td>0.870276</td>\n",
       "      <td>11:21</td>\n",
       "    </tr>\n",
       "    <tr>\n",
       "      <td>5</td>\n",
       "      <td>1.535017</td>\n",
       "      <td>0.498489</td>\n",
       "      <td>0.851066</td>\n",
       "      <td>0.923297</td>\n",
       "      <td>0.935425</td>\n",
       "      <td>0.890213</td>\n",
       "      <td>11:21</td>\n",
       "    </tr>\n",
       "    <tr>\n",
       "      <td>6</td>\n",
       "      <td>1.502162</td>\n",
       "      <td>0.700772</td>\n",
       "      <td>0.846955</td>\n",
       "      <td>0.925095</td>\n",
       "      <td>0.886863</td>\n",
       "      <td>0.876467</td>\n",
       "      <td>11:21</td>\n",
       "    </tr>\n",
       "    <tr>\n",
       "      <td>7</td>\n",
       "      <td>1.425802</td>\n",
       "      <td>0.522261</td>\n",
       "      <td>0.867780</td>\n",
       "      <td>0.937138</td>\n",
       "      <td>0.923848</td>\n",
       "      <td>0.899137</td>\n",
       "      <td>11:21</td>\n",
       "    </tr>\n",
       "    <tr>\n",
       "      <td>8</td>\n",
       "      <td>1.407440</td>\n",
       "      <td>0.401077</td>\n",
       "      <td>0.857696</td>\n",
       "      <td>0.938783</td>\n",
       "      <td>0.943020</td>\n",
       "      <td>0.899299</td>\n",
       "      <td>11:21</td>\n",
       "    </tr>\n",
       "    <tr>\n",
       "      <td>9</td>\n",
       "      <td>1.376898</td>\n",
       "      <td>0.446015</td>\n",
       "      <td>0.858173</td>\n",
       "      <td>0.926447</td>\n",
       "      <td>0.932909</td>\n",
       "      <td>0.893926</td>\n",
       "      <td>11:21</td>\n",
       "    </tr>\n",
       "    <tr>\n",
       "      <td>10</td>\n",
       "      <td>1.362020</td>\n",
       "      <td>0.472836</td>\n",
       "      <td>0.882358</td>\n",
       "      <td>0.943165</td>\n",
       "      <td>0.935028</td>\n",
       "      <td>0.910727</td>\n",
       "      <td>11:21</td>\n",
       "    </tr>\n",
       "    <tr>\n",
       "      <td>11</td>\n",
       "      <td>1.334952</td>\n",
       "      <td>0.326623</td>\n",
       "      <td>0.897475</td>\n",
       "      <td>0.942966</td>\n",
       "      <td>0.942995</td>\n",
       "      <td>0.920228</td>\n",
       "      <td>11:21</td>\n",
       "    </tr>\n",
       "    <tr>\n",
       "      <td>12</td>\n",
       "      <td>1.309942</td>\n",
       "      <td>8.085078</td>\n",
       "      <td>0.006087</td>\n",
       "      <td>0.091367</td>\n",
       "      <td>0.142784</td>\n",
       "      <td>0.061581</td>\n",
       "      <td>11:21</td>\n",
       "    </tr>\n",
       "    <tr>\n",
       "      <td>13</td>\n",
       "      <td>1.309979</td>\n",
       "      <td>0.434408</td>\n",
       "      <td>0.885903</td>\n",
       "      <td>0.920833</td>\n",
       "      <td>0.931520</td>\n",
       "      <td>0.906040</td>\n",
       "      <td>11:21</td>\n",
       "    </tr>\n",
       "    <tr>\n",
       "      <td>14</td>\n",
       "      <td>1.306793</td>\n",
       "      <td>0.421374</td>\n",
       "      <td>0.878712</td>\n",
       "      <td>0.944561</td>\n",
       "      <td>0.946982</td>\n",
       "      <td>0.912242</td>\n",
       "      <td>11:21</td>\n",
       "    </tr>\n",
       "    <tr>\n",
       "      <td>15</td>\n",
       "      <td>1.136723</td>\n",
       "      <td>0.283213</td>\n",
       "      <td>0.926561</td>\n",
       "      <td>0.965814</td>\n",
       "      <td>0.961290</td>\n",
       "      <td>0.945057</td>\n",
       "      <td>11:21</td>\n",
       "    </tr>\n",
       "    <tr>\n",
       "      <td>16</td>\n",
       "      <td>1.138690</td>\n",
       "      <td>0.185821</td>\n",
       "      <td>0.937911</td>\n",
       "      <td>0.972018</td>\n",
       "      <td>0.965621</td>\n",
       "      <td>0.953365</td>\n",
       "      <td>11:21</td>\n",
       "    </tr>\n",
       "    <tr>\n",
       "      <td>17</td>\n",
       "      <td>1.108293</td>\n",
       "      <td>0.197655</td>\n",
       "      <td>0.939884</td>\n",
       "      <td>0.971923</td>\n",
       "      <td>0.964754</td>\n",
       "      <td>0.954111</td>\n",
       "      <td>11:21</td>\n",
       "    </tr>\n",
       "    <tr>\n",
       "      <td>18</td>\n",
       "      <td>1.103246</td>\n",
       "      <td>0.248350</td>\n",
       "      <td>0.930670</td>\n",
       "      <td>0.963293</td>\n",
       "      <td>0.963294</td>\n",
       "      <td>0.946982</td>\n",
       "      <td>11:21</td>\n",
       "    </tr>\n",
       "    <tr>\n",
       "      <td>19</td>\n",
       "      <td>1.102445</td>\n",
       "      <td>0.182948</td>\n",
       "      <td>0.939994</td>\n",
       "      <td>0.972065</td>\n",
       "      <td>0.966405</td>\n",
       "      <td>0.954614</td>\n",
       "      <td>11:21</td>\n",
       "    </tr>\n",
       "    <tr>\n",
       "      <td>20</td>\n",
       "      <td>1.084875</td>\n",
       "      <td>0.174431</td>\n",
       "      <td>0.941329</td>\n",
       "      <td>0.973646</td>\n",
       "      <td>0.968908</td>\n",
       "      <td>0.956303</td>\n",
       "      <td>11:21</td>\n",
       "    </tr>\n",
       "    <tr>\n",
       "      <td>21</td>\n",
       "      <td>1.075983</td>\n",
       "      <td>0.180863</td>\n",
       "      <td>0.940801</td>\n",
       "      <td>0.974297</td>\n",
       "      <td>0.967622</td>\n",
       "      <td>0.955880</td>\n",
       "      <td>11:21</td>\n",
       "    </tr>\n",
       "    <tr>\n",
       "      <td>22</td>\n",
       "      <td>1.055958</td>\n",
       "      <td>0.609334</td>\n",
       "      <td>0.935563</td>\n",
       "      <td>0.974614</td>\n",
       "      <td>0.972205</td>\n",
       "      <td>0.954486</td>\n",
       "      <td>11:21</td>\n",
       "    </tr>\n",
       "    <tr>\n",
       "      <td>23</td>\n",
       "      <td>1.066190</td>\n",
       "      <td>0.324846</td>\n",
       "      <td>0.940155</td>\n",
       "      <td>0.974173</td>\n",
       "      <td>0.969391</td>\n",
       "      <td>0.955968</td>\n",
       "      <td>11:21</td>\n",
       "    </tr>\n",
       "    <tr>\n",
       "      <td>24</td>\n",
       "      <td>1.022341</td>\n",
       "      <td>0.199566</td>\n",
       "      <td>0.945871</td>\n",
       "      <td>0.975511</td>\n",
       "      <td>0.970596</td>\n",
       "      <td>0.959462</td>\n",
       "      <td>11:20</td>\n",
       "    </tr>\n",
       "    <tr>\n",
       "      <td>25</td>\n",
       "      <td>1.012008</td>\n",
       "      <td>0.329383</td>\n",
       "      <td>0.945116</td>\n",
       "      <td>0.975882</td>\n",
       "      <td>0.972358</td>\n",
       "      <td>0.959618</td>\n",
       "      <td>11:21</td>\n",
       "    </tr>\n",
       "    <tr>\n",
       "      <td>26</td>\n",
       "      <td>1.023566</td>\n",
       "      <td>0.188556</td>\n",
       "      <td>0.945297</td>\n",
       "      <td>0.976906</td>\n",
       "      <td>0.974783</td>\n",
       "      <td>0.960571</td>\n",
       "      <td>11:21</td>\n",
       "    </tr>\n",
       "    <tr>\n",
       "      <td>27</td>\n",
       "      <td>1.033681</td>\n",
       "      <td>0.248318</td>\n",
       "      <td>0.945511</td>\n",
       "      <td>0.976704</td>\n",
       "      <td>0.972667</td>\n",
       "      <td>0.960098</td>\n",
       "      <td>11:21</td>\n",
       "    </tr>\n",
       "    <tr>\n",
       "      <td>28</td>\n",
       "      <td>0.997556</td>\n",
       "      <td>0.201110</td>\n",
       "      <td>0.944664</td>\n",
       "      <td>0.976125</td>\n",
       "      <td>0.973485</td>\n",
       "      <td>0.959734</td>\n",
       "      <td>11:22</td>\n",
       "    </tr>\n",
       "    <tr>\n",
       "      <td>29</td>\n",
       "      <td>1.005199</td>\n",
       "      <td>0.212354</td>\n",
       "      <td>0.947618</td>\n",
       "      <td>0.976836</td>\n",
       "      <td>0.973192</td>\n",
       "      <td>0.961316</td>\n",
       "      <td>11:22</td>\n",
       "    </tr>\n",
       "    <tr>\n",
       "      <td>30</td>\n",
       "      <td>1.009861</td>\n",
       "      <td>0.187370</td>\n",
       "      <td>0.945507</td>\n",
       "      <td>0.977282</td>\n",
       "      <td>0.972552</td>\n",
       "      <td>0.960212</td>\n",
       "      <td>11:22</td>\n",
       "    </tr>\n",
       "    <tr>\n",
       "      <td>31</td>\n",
       "      <td>1.005895</td>\n",
       "      <td>0.184000</td>\n",
       "      <td>0.947307</td>\n",
       "      <td>0.976883</td>\n",
       "      <td>0.973736</td>\n",
       "      <td>0.961308</td>\n",
       "      <td>11:22</td>\n",
       "    </tr>\n",
       "    <tr>\n",
       "      <td>32</td>\n",
       "      <td>1.000482</td>\n",
       "      <td>0.153312</td>\n",
       "      <td>0.949250</td>\n",
       "      <td>0.977476</td>\n",
       "      <td>0.972016</td>\n",
       "      <td>0.961998</td>\n",
       "      <td>11:22</td>\n",
       "    </tr>\n",
       "    <tr>\n",
       "      <td>33</td>\n",
       "      <td>0.999972</td>\n",
       "      <td>0.177062</td>\n",
       "      <td>0.947513</td>\n",
       "      <td>0.976336</td>\n",
       "      <td>0.972924</td>\n",
       "      <td>0.961071</td>\n",
       "      <td>11:22</td>\n",
       "    </tr>\n",
       "    <tr>\n",
       "      <td>34</td>\n",
       "      <td>1.002614</td>\n",
       "      <td>0.181228</td>\n",
       "      <td>0.945761</td>\n",
       "      <td>0.977582</td>\n",
       "      <td>0.973585</td>\n",
       "      <td>0.960672</td>\n",
       "      <td>11:22</td>\n",
       "    </tr>\n",
       "    <tr>\n",
       "      <td>35</td>\n",
       "      <td>0.989064</td>\n",
       "      <td>0.188257</td>\n",
       "      <td>0.947314</td>\n",
       "      <td>0.977056</td>\n",
       "      <td>0.973697</td>\n",
       "      <td>0.961345</td>\n",
       "      <td>11:22</td>\n",
       "    </tr>\n",
       "    <tr>\n",
       "      <td>36</td>\n",
       "      <td>0.992175</td>\n",
       "      <td>0.210858</td>\n",
       "      <td>0.945620</td>\n",
       "      <td>0.977321</td>\n",
       "      <td>0.973972</td>\n",
       "      <td>0.960633</td>\n",
       "      <td>11:22</td>\n",
       "    </tr>\n",
       "    <tr>\n",
       "      <td>37</td>\n",
       "      <td>0.999930</td>\n",
       "      <td>0.187955</td>\n",
       "      <td>0.946278</td>\n",
       "      <td>0.977308</td>\n",
       "      <td>0.974015</td>\n",
       "      <td>0.960970</td>\n",
       "      <td>11:22</td>\n",
       "    </tr>\n",
       "    <tr>\n",
       "      <td>38</td>\n",
       "      <td>1.011451</td>\n",
       "      <td>0.170908</td>\n",
       "      <td>0.947756</td>\n",
       "      <td>0.977442</td>\n",
       "      <td>0.972112</td>\n",
       "      <td>0.961267</td>\n",
       "      <td>11:22</td>\n",
       "    </tr>\n",
       "  </tbody>\n",
       "</table><p>\n",
       "\n",
       "    <div>\n",
       "        <style>\n",
       "            /* Turns off some styling */\n",
       "            progress {\n",
       "                /* gets rid of default border in Firefox and Opera. */\n",
       "                border: none;\n",
       "                /* Needs to be in here for Safari polyfill so background images work as expected. */\n",
       "                background-size: auto;\n",
       "            }\n",
       "            .progress-bar-interrupted, .progress-bar-interrupted::-webkit-progress-bar {\n",
       "                background: #F44336;\n",
       "            }\n",
       "        </style>\n",
       "      <progress value='124' class='' max='210', style='width:300px; height:20px; vertical-align: middle;'></progress>\n",
       "      59.05% [124/210 00:27<00:19]\n",
       "    </div>\n",
       "    "
      ],
      "text/plain": [
       "<IPython.core.display.HTML object>"
      ]
     },
     "metadata": {},
     "output_type": "display_data"
    },
    {
     "name": "stderr",
     "output_type": "stream",
     "text": [
      "Failed to query for notebook name, you can set it manually with the WANDB_NOTEBOOK_NAME environment variable\n"
     ]
    },
    {
     "name": "stderr",
     "output_type": "stream",
     "text": [
      "wandb: Wandb version 0.8.26 is available!  To upgrade, please run:\n",
      "wandb:  $ pip install wandb --upgrade\n"
     ]
    },
    {
     "name": "stdout",
     "output_type": "stream",
     "text": [
      "Better model found at epoch 0 with valid_loss value: 2.555421829223633.\n",
      "Better model found at epoch 0 with recall_combine value: 0.3913410007953644.\n"
     ]
    },
    {
     "name": "stdout",
     "output_type": "stream",
     "text": [
      "Better model found at epoch 1 with valid_loss value: 1.2238086462020874.\n"
     ]
    },
    {
     "name": "stdout",
     "output_type": "stream",
     "text": [
      "Better model found at epoch 1 with recall_combine value: 0.7000559568405151.\n"
     ]
    },
    {
     "name": "stdout",
     "output_type": "stream",
     "text": [
      "Better model found at epoch 2 with valid_loss value: 0.8058962821960449.\n"
     ]
    },
    {
     "name": "stdout",
     "output_type": "stream",
     "text": [
      "Better model found at epoch 2 with recall_combine value: 0.8204872012138367.\n"
     ]
    },
    {
     "name": "stdout",
     "output_type": "stream",
     "text": [
      "Better model found at epoch 4 with valid_loss value: 0.5046020746231079.\n"
     ]
    },
    {
     "name": "stdout",
     "output_type": "stream",
     "text": [
      "Better model found at epoch 4 with recall_combine value: 0.8702757358551025.\n"
     ]
    },
    {
     "name": "stdout",
     "output_type": "stream",
     "text": [
      "Better model found at epoch 5 with valid_loss value: 0.4984886646270752.\n"
     ]
    },
    {
     "name": "stdout",
     "output_type": "stream",
     "text": [
      "Better model found at epoch 5 with recall_combine value: 0.8902134895324707.\n"
     ]
    },
    {
     "name": "stdout",
     "output_type": "stream",
     "text": [
      "Better model found at epoch 7 with recall_combine value: 0.8991369605064392.\n"
     ]
    },
    {
     "name": "stdout",
     "output_type": "stream",
     "text": [
      "Better model found at epoch 10 with recall_combine value: 0.9107271432876587.\n"
     ]
    },
    {
     "name": "stdout",
     "output_type": "stream",
     "text": [
      "Better model found at epoch 16 with valid_loss value: 0.185821071267128.\n"
     ]
    },
    {
     "name": "stdout",
     "output_type": "stream",
     "text": [
      "Better model found at epoch 16 with recall_combine value: 0.9533652067184448.\n"
     ]
    },
    {
     "name": "stdout",
     "output_type": "stream",
     "text": [
      "Better model found at epoch 19 with valid_loss value: 0.18294832110404968.\n"
     ]
    },
    {
     "name": "stdout",
     "output_type": "stream",
     "text": [
      "Better model found at epoch 19 with recall_combine value: 0.9546142816543579.\n"
     ]
    },
    {
     "name": "stdout",
     "output_type": "stream",
     "text": [
      "Better model found at epoch 24 with recall_combine value: 0.9594618678092957.\n"
     ]
    },
    {
     "name": "stdout",
     "output_type": "stream",
     "text": [
      "Better model found at epoch 29 with recall_combine value: 0.9613159894943237.\n"
     ]
    },
    {
     "name": "stdout",
     "output_type": "stream",
     "text": [
      "Better model found at epoch 32 with valid_loss value: 0.15331198275089264.\n"
     ]
    },
    {
     "name": "stdout",
     "output_type": "stream",
     "text": [
      "Better model found at epoch 32 with recall_combine value: 0.9619977474212646.\n"
     ]
    },
    {
     "name": "stdout",
     "output_type": "stream",
     "text": [
      "Epoch 35: reducing lr to 4e-05\n"
     ]
    },
    {
     "name": "stdout",
     "output_type": "stream",
     "text": [
      "Epoch 38: reducing lr to 8.000000000000001e-06\n"
     ]
    }
   ],
   "source": [
    "callbacks=[\n",
    "    CSVLogger(learner, OUTPUT_PATH/'history.csv'),\n",
    "    SaveModelCallback(\n",
    "        learner, monitor='recall_combine', mode='max', name=NAME\n",
    "    ),\n",
    "    MixUpCallback(learner),\n",
    "    ReduceLROnPlateauCallback(learner, patience=2, monitor='recall_combine', mode='max', min_lr=1e-6),\n",
    "    EarlyStoppingCallback(learner, monitor='recall_combine', mode='max', patience=6)\n",
    "]\n",
    "\n",
    "if wandb.config.prog_sprinkles:\n",
    "    callbacks.append(CutoutScheduler(learner, n_holes_max=80))\n",
    "\n",
    "learner.fit(\n",
    "    wandb.config.max_epochs,\n",
    "    5e-3,\n",
    "    callbacks=callbacks\n",
    ")"
   ]
  },
  {
   "cell_type": "code",
   "execution_count": 35,
   "metadata": {
    "papermill": {
     "duration": 0.233823,
     "end_time": "2020-02-11T17:32:07.754068",
     "exception": false,
     "start_time": "2020-02-11T17:32:07.520245",
     "status": "completed"
    },
    "tags": []
   },
   "outputs": [],
   "source": [
    "learner.recorder.plot_losses()"
   ]
  },
  {
   "cell_type": "code",
   "execution_count": null,
   "metadata": {
    "papermill": {
     "duration": 0.028245,
     "end_time": "2020-02-11T17:32:07.811327",
     "exception": false,
     "start_time": "2020-02-11T17:32:07.783082",
     "status": "completed"
    },
    "tags": []
   },
   "outputs": [],
   "source": []
  }
 ],
 "metadata": {
  "celltoolbar": "Tags",
  "kernelspec": {
   "display_name": "Python 3",
   "language": "python",
   "name": "python3"
  },
  "language_info": {
   "codemirror_mode": {
    "name": "ipython",
    "version": 3
   },
   "file_extension": ".py",
   "mimetype": "text/x-python",
   "name": "python",
   "nbconvert_exporter": "python",
   "pygments_lexer": "ipython3",
   "version": "3.7.4"
  },
  "papermill": {
   "duration": 27356.516775,
   "end_time": "2020-02-11T17:32:13.673979",
   "environment_variables": {},
   "exception": null,
   "input_path": "nbs/templates/fastai.ipynb",
   "output_path": "nbs/output/effb0_with_class_weights.ipynb",
   "parameters": {
    "BATCH_SIZE": 192,
    "ENCODER_ARCH": "efficientnet-b0",
    "NAME": "effb0_with_class_weights",
    "OUTPUT_VAL_SIZE": null,
    "WANDB_MODE": "run"
   },
   "start_time": "2020-02-11T09:56:17.157204",
   "version": "1.2.1"
  },
  "toc": {
   "base_numbering": 1,
   "nav_menu": {},
   "number_sections": true,
   "sideBar": true,
   "skip_h1_title": false,
   "title_cell": "Table of Contents",
   "title_sidebar": "Contents",
   "toc_cell": false,
   "toc_position": {},
   "toc_section_display": true,
   "toc_window_display": false
  }
 },
 "nbformat": 4,
 "nbformat_minor": 4
}