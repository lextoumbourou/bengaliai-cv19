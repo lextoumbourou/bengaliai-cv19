{
 "cells": [
  {
   "cell_type": "code",
   "execution_count": 1,
   "metadata": {
    "papermill": {
     "duration": 1.390027,
     "end_time": "2020-02-01T12:54:04.266533",
     "exception": false,
     "start_time": "2020-02-01T12:54:02.876506",
     "status": "completed"
    },
    "tags": []
   },
   "outputs": [],
   "source": [
    "import os\n",
    "import pandas as pd\n",
    "\n",
    "import torch\n",
    "from efficientnet_pytorch import EfficientNet\n",
    "import wandb\n",
    "\n",
    "from fastai2.basics import *\n",
    "from fastai2.data.all import *\n",
    "from fastai2.callback.all import *\n",
    "from fastai2.callback.wandb import *\n",
    "from fastai2.vision.all import *\n",
    "from sklearn.metrics import recall_score"
   ]
  },
  {
   "cell_type": "markdown",
   "metadata": {
    "papermill": {
     "duration": 0.012294,
     "end_time": "2020-02-01T12:54:04.291971",
     "exception": false,
     "start_time": "2020-02-01T12:54:04.279677",
     "status": "completed"
    },
    "tags": []
   },
   "source": [
    "## Params"
   ]
  },
  {
   "cell_type": "code",
   "execution_count": 2,
   "metadata": {
    "papermill": {
     "duration": 0.02101,
     "end_time": "2020-02-01T12:54:04.325615",
     "exception": false,
     "start_time": "2020-02-01T12:54:04.304605",
     "status": "completed"
    },
    "tags": [
     "parameters"
    ]
   },
   "outputs": [],
   "source": [
    "NAME = ''\n",
    "WANDB_MODE = 'dryrun'\n",
    "\n",
    "DATA_PATH = Path('/home/lextoumbourou/bengaliai-cv19/data')\n",
    "IMAGE_DATA_PATH = Path(DATA_PATH/'grapheme-imgs-128x128')\n",
    "OUTPUT_PATH = Path(DATA_PATH/'working')\n",
    "LABELS_PATH  = Path(DATA_PATH/'iterative-stratification')\n",
    "\n",
    "VALID_PCT = 0.2\n",
    "SEED = 420\n",
    "BATCH_SIZE = 64\n",
    "IMG_SIZE = 64\n",
    "\n",
    "MAX_WARP = 0.2\n",
    "P_AFFINE = 0.75\n",
    "MAX_ROTATE = 10.\n",
    "MAX_ZOOM = 1.1\n",
    "P_LIGHTING = 0.75\n",
    "MAX_LIGHTING = 0.2\n",
    "MAX_COUNT_RANDOM_ERASING = 3\n",
    "\n",
    "ENCODER_ARCH = 'efficientnet-b0'\n",
    "\n",
    "GRAPHEME_ROOT_WEIGHT = 2\n",
    "VOWEL_DIACRITIC_WEIGHT = 1\n",
    "CONSONANT_DIACRITIC_WEIGHT = 1\n",
    "\n",
    "SAMPLE_SIZE = None\n",
    "if not torch.cuda.is_available():\n",
    "    SAMPLE_SIZE = 10_000"
   ]
  },
  {
   "cell_type": "code",
   "execution_count": 3,
   "metadata": {
    "papermill": {
     "duration": 0.017896,
     "end_time": "2020-02-01T12:54:04.355493",
     "exception": false,
     "start_time": "2020-02-01T12:54:04.337597",
     "status": "completed"
    },
    "tags": [
     "injected-parameters"
    ]
   },
   "outputs": [],
   "source": [
    "# Parameters\n",
    "WANDB_MODE = \"run\"\n",
    "NAME = \"fastai2-baseline\"\n",
    "OUTPUT_VAL_SIZE = None\n"
   ]
  },
  {
   "cell_type": "code",
   "execution_count": 4,
   "metadata": {
    "papermill": {
     "duration": 0.687888,
     "end_time": "2020-02-01T12:54:05.055778",
     "exception": false,
     "start_time": "2020-02-01T12:54:04.367890",
     "status": "completed"
    },
    "tags": []
   },
   "outputs": [
    {
     "name": "stdout",
     "output_type": "stream",
     "text": [
      "\u001b[34m\u001b[1mwandb\u001b[0m: Appending key for api.wandb.ai to your netrc file: /home/lextoumbourou/.netrc\r\n",
      "\u001b[32mSuccessfully logged in to Weights & Biases!\u001b[0m\r\n"
     ]
    }
   ],
   "source": [
    "!wandb login 563765550fd7b64fd10129216209724e03f3f20c"
   ]
  },
  {
   "cell_type": "code",
   "execution_count": 5,
   "metadata": {
    "papermill": {
     "duration": 0.018903,
     "end_time": "2020-02-01T12:54:05.087901",
     "exception": false,
     "start_time": "2020-02-01T12:54:05.068998",
     "status": "completed"
    },
    "tags": []
   },
   "outputs": [],
   "source": [
    "# Turn this off before running!!\n",
    "os.environ['WANDB_MODE'] = WANDB_MODE"
   ]
  },
  {
   "cell_type": "code",
   "execution_count": 6,
   "metadata": {
    "papermill": {
     "duration": 32.45258,
     "end_time": "2020-02-01T12:54:37.552551",
     "exception": false,
     "start_time": "2020-02-01T12:54:05.099971",
     "status": "completed"
    },
    "tags": []
   },
   "outputs": [
    {
     "data": {
      "text/html": [
       "\n",
       "                Logging results to <a href=\"https://wandb.com\" target=\"_blank\">Weights & Biases</a> <a href=\"https://docs.wandb.com/integrations/jupyter.html\" target=\"_blank\">(Documentation)</a>.<br/>\n",
       "                Project page: <a href=\"https://app.wandb.ai/lex/bengaliai-cv19\" target=\"_blank\">https://app.wandb.ai/lex/bengaliai-cv19</a><br/>\n",
       "                Run page: <a href=\"https://app.wandb.ai/lex/bengaliai-cv19/runs/36c6d9yu\" target=\"_blank\">https://app.wandb.ai/lex/bengaliai-cv19/runs/36c6d9yu</a><br/>\n",
       "            "
      ],
      "text/plain": [
       "<IPython.core.display.HTML object>"
      ]
     },
     "metadata": {},
     "output_type": "display_data"
    },
    {
     "name": "stderr",
     "output_type": "stream",
     "text": [
      "Failed to query for notebook name, you can set it manually with the WANDB_NOTEBOOK_NAME environment variable\n"
     ]
    }
   ],
   "source": [
    "wandb.init(project=\"bengaliai-cv19\", name=NAME)\n",
    "\n",
    "wandb.config.img_size = IMG_SIZE\n",
    "wandb.config.batch_size = BATCH_SIZE\n",
    "wandb.config.seed = SEED\n",
    "\n",
    "wandb.config.max_warp = MAX_WARP\n",
    "wandb.config.p_affine = P_AFFINE\n",
    "wandb.config.max_rotate = MAX_ROTATE\n",
    "wandb.config.max_zoom = MAX_ZOOM\n",
    "wandb.config.p_lighting = P_LIGHTING\n",
    "wandb.config.max_lighting = MAX_LIGHTING\n",
    "wandb.config.max_count_random_erasing = MAX_COUNT_RANDOM_ERASING\n",
    "wandb.config.grapheme_root_weight = GRAPHEME_ROOT_WEIGHT\n",
    "wandb.config.vowel_diacritic_weight = VOWEL_DIACRITIC_WEIGHT\n",
    "wandb.config.consonant_diacritic_weight = CONSONANT_DIACRITIC_WEIGHT\n",
    "wandb.config.sample_size = SAMPLE_SIZE\n",
    "wandb.config.ENCODER_ARCH = ENCODER_ARCH"
   ]
  },
  {
   "cell_type": "markdown",
   "metadata": {
    "papermill": {
     "duration": 0.014574,
     "end_time": "2020-02-01T12:54:37.587978",
     "exception": false,
     "start_time": "2020-02-01T12:54:37.573404",
     "status": "completed"
    },
    "tags": []
   },
   "source": [
    "## Create datasets and dataloaders"
   ]
  },
  {
   "cell_type": "code",
   "execution_count": 7,
   "metadata": {
    "papermill": {
     "duration": 0.024621,
     "end_time": "2020-02-01T12:54:37.625685",
     "exception": false,
     "start_time": "2020-02-01T12:54:37.601064",
     "status": "completed"
    },
    "tags": []
   },
   "outputs": [],
   "source": [
    "aug_kwargs = dict(size=wandb.config.img_size, mode='bilinear', pad_mode=PadMode.Reflection, batch=False)\n",
    "\n",
    "AUGMENTATIONS = [\n",
    "    Warp(magnitude=wandb.config.max_warp, p=wandb.config.p_affine, **aug_kwargs),\n",
    "    Rotate(max_deg=wandb.config.max_rotate, p=wandb.config.p_affine, **aug_kwargs),\n",
    "    Zoom(max_zoom=wandb.config.max_zoom, p=wandb.config.p_affine, **aug_kwargs),\n",
    "    Brightness(max_lighting=wandb.config.max_lighting, p=wandb.config.p_lighting, batch=False),\n",
    "    Contrast(max_lighting=wandb.config.max_lighting, p=wandb.config.p_lighting, batch=False),\n",
    "    RandomErasing(max_count=wandb.config.max_count_random_erasing)\n",
    "]"
   ]
  },
  {
   "cell_type": "code",
   "execution_count": 8,
   "metadata": {
    "papermill": {
     "duration": 0.186071,
     "end_time": "2020-02-01T12:54:37.824392",
     "exception": false,
     "start_time": "2020-02-01T12:54:37.638321",
     "status": "completed"
    },
    "tags": []
   },
   "outputs": [],
   "source": [
    "train_df = pd.read_csv(LABELS_PATH/'train_with_fold.csv')\n",
    "if wandb.config.sample_size:\n",
    "    print(\"About to reduce train size.\")\n",
    "    train_df = train_df.sample(n=wandb.config.sample_size, random_state=SEED).reset_index(drop=True)"
   ]
  },
  {
   "cell_type": "code",
   "execution_count": 9,
   "metadata": {
    "papermill": {
     "duration": 0.020679,
     "end_time": "2020-02-01T12:54:37.858133",
     "exception": false,
     "start_time": "2020-02-01T12:54:37.837454",
     "status": "completed"
    },
    "tags": []
   },
   "outputs": [
    {
     "data": {
      "text/plain": [
       "([0.485, 0.456, 0.406], [0.229, 0.224, 0.225])"
      ]
     },
     "execution_count": 9,
     "metadata": {},
     "output_type": "execute_result"
    }
   ],
   "source": [
    "imagenet_stats"
   ]
  },
  {
   "cell_type": "code",
   "execution_count": 10,
   "metadata": {
    "papermill": {
     "duration": 0.030604,
     "end_time": "2020-02-01T12:54:37.901863",
     "exception": false,
     "start_time": "2020-02-01T12:54:37.871259",
     "status": "completed"
    },
    "tags": []
   },
   "outputs": [],
   "source": [
    "datablock = DataBlock(\n",
    "    blocks=(ImageBlock(cls=PILImageBW), CategoryBlock, CategoryBlock, CategoryBlock),\n",
    "    getters=[\n",
    "        ColReader('image_id', pref=IMAGE_DATA_PATH, suff='.png'),\n",
    "        ColReader('grapheme_root'),\n",
    "        ColReader('vowel_diacritic'),\n",
    "        ColReader('consonant_diacritic')\n",
    "    ],\n",
    "    splitter=IndexSplitter(train_df.loc[train_df.fold==0].index))"
   ]
  },
  {
   "cell_type": "code",
   "execution_count": 11,
   "metadata": {
    "papermill": {
     "duration": 0.022405,
     "end_time": "2020-02-01T12:54:37.937618",
     "exception": false,
     "start_time": "2020-02-01T12:54:37.915213",
     "status": "completed"
    },
    "tags": []
   },
   "outputs": [],
   "source": [
    "tfms = AUGMENTATIONS + [Normalize(mean=0.485, std=0.229)]"
   ]
  },
  {
   "cell_type": "code",
   "execution_count": 12,
   "metadata": {
    "papermill": {
     "duration": 0.021435,
     "end_time": "2020-02-01T12:54:37.973683",
     "exception": false,
     "start_time": "2020-02-01T12:54:37.952248",
     "status": "completed"
    },
    "tags": []
   },
   "outputs": [
    {
     "data": {
      "text/plain": [
       "[AffineCoordTfm: True (TensorBBox,object) -> encodes\n",
       " (TensorPoint,object) -> encodes\n",
       " (TensorImage,object) -> encodes\n",
       " (TensorMask,object) -> encodes ,\n",
       " AffineCoordTfm: True (TensorBBox,object) -> encodes\n",
       " (TensorPoint,object) -> encodes\n",
       " (TensorImage,object) -> encodes\n",
       " (TensorMask,object) -> encodes ,\n",
       " AffineCoordTfm: True (TensorBBox,object) -> encodes\n",
       " (TensorPoint,object) -> encodes\n",
       " (TensorImage,object) -> encodes\n",
       " (TensorMask,object) -> encodes ,\n",
       " LightingTfm: True (TensorImage,object) -> encodes ,\n",
       " LightingTfm: True (TensorImage,object) -> encodes ,\n",
       " RandomErasing: False (TensorImage,object) -> encodes ,\n",
       " Normalize: True (TensorImage,object) -> encodes (TensorImage,object) -> decodes]"
      ]
     },
     "execution_count": 12,
     "metadata": {},
     "output_type": "execute_result"
    }
   ],
   "source": [
    "tfms"
   ]
  },
  {
   "cell_type": "code",
   "execution_count": 13,
   "metadata": {
    "papermill": {
     "duration": 112.533146,
     "end_time": "2020-02-01T12:56:30.520836",
     "exception": false,
     "start_time": "2020-02-01T12:54:37.987690",
     "status": "completed"
    },
    "tags": []
   },
   "outputs": [],
   "source": [
    "data = datablock.dataloaders(train_df, bs=wandb.config.batch_size, batch_tfms=tfms)\n",
    "data.n_inp = 1 "
   ]
  },
  {
   "cell_type": "code",
   "execution_count": 14,
   "metadata": {
    "papermill": {
     "duration": 0.96182,
     "end_time": "2020-02-01T12:56:31.496863",
     "exception": false,
     "start_time": "2020-02-01T12:56:30.535043",
     "status": "completed"
    },
    "tags": []
   },
   "outputs": [
    {
     "data": {
      "image/png": "[encoded data removed]",
      "text/plain": [
       "<Figure size 288x288 with 1 Axes>"
      ]
     },
     "metadata": {
      "needs_background": "light"
     },
     "output_type": "display_data"
    },
    {
     "data": {
      "image/png": "[encoded data removed]",
      "text/plain": [
       "<Figure size 288x288 with 1 Axes>"
      ]
     },
     "metadata": {
      "needs_background": "light"
     },
     "output_type": "display_data"
    },
    {
     "data": {
      "image/png": "[encoded data removed]",
      "text/plain": [
       "<Figure size 288x288 with 1 Axes>"
      ]
     },
     "metadata": {
      "needs_background": "light"
     },
     "output_type": "display_data"
    },
    {
     "data": {
      "image/png": "[encoded data removed]",
      "text/plain": [
       "<Figure size 288x288 with 1 Axes>"
      ]
     },
     "metadata": {
      "needs_background": "light"
     },
     "output_type": "display_data"
    },
    {
     "data": {
      "image/png": "[encoded data removed]",
      "text/plain": [
       "<Figure size 288x288 with 1 Axes>"
      ]
     },
     "metadata": {
      "needs_background": "light"
     },
     "output_type": "display_data"
    },
    {
     "data": {
      "image/png": "[encoded data removed]",
      "text/plain": [
       "<Figure size 288x288 with 1 Axes>"
      ]
     },
     "metadata": {
      "needs_background": "light"
     },
     "output_type": "display_data"
    },
    {
     "data": {
      "image/png": "[encoded data removed]",
      "text/plain": [
       "<Figure size 288x288 with 1 Axes>"
      ]
     },
     "metadata": {
      "needs_background": "light"
     },
     "output_type": "display_data"
    },
    {
     "data": {
      "image/png": "[encoded data removed]",
      "text/plain": [
       "<Figure size 288x288 with 1 Axes>"
      ]
     },
     "metadata": {
      "needs_background": "light"
     },
     "output_type": "display_data"
    },
    {
     "data": {
      "image/png": "[encoded data removed]",
      "text/plain": [
       "<Figure size 288x288 with 1 Axes>"
      ]
     },
     "metadata": {
      "needs_background": "light"
     },
     "output_type": "display_data"
    }
   ],
   "source": [
    "data.show_batch()"
   ]
  },
  {
   "cell_type": "markdown",
   "metadata": {
    "papermill": {
     "duration": 0.018798,
     "end_time": "2020-02-01T12:56:31.533992",
     "exception": false,
     "start_time": "2020-02-01T12:56:31.515194",
     "status": "completed"
    },
    "tags": []
   },
   "source": [
    "## Loss and metrics"
   ]
  },
  {
   "cell_type": "code",
   "execution_count": 15,
   "metadata": {
    "papermill": {
     "duration": 0.026858,
     "end_time": "2020-02-01T12:56:31.579089",
     "exception": false,
     "start_time": "2020-02-01T12:56:31.552231",
     "status": "completed"
    },
    "tags": []
   },
   "outputs": [],
   "source": [
    "def loss_func(inp, grapheme_root_targ, vowel_diacritic_targ, consonant_diacritic_targ, *args, **kwargs):\n",
    "    grapheme_root_inp, vowel_diacritic_inp, consonant_diacritic_inp = inp\n",
    "\n",
    "    return (\n",
    "        F.cross_entropy(grapheme_root_inp, grapheme_root_targ) * wandb.config.grapheme_root_weight +\n",
    "        F.cross_entropy(vowel_diacritic_inp, vowel_diacritic_targ) * wandb.config.vowel_diacritic_weight +\n",
    "        F.cross_entropy(consonant_diacritic_inp, consonant_diacritic_targ) * wandb.config.consonant_diacritic_weight\n",
    "    )"
   ]
  },
  {
   "cell_type": "code",
   "execution_count": 16,
   "metadata": {
    "papermill": {
     "duration": 0.030484,
     "end_time": "2020-02-01T12:56:31.627790",
     "exception": false,
     "start_time": "2020-02-01T12:56:31.597306",
     "status": "completed"
    },
    "tags": []
   },
   "outputs": [],
   "source": [
    "class RecallPartial(Metric):\n",
    "    \"\"\"Stores predictions and targets on CPU in accumulate to perform final calculations with `func`.\"\"\"\n",
    "    def __init__(self, a=0, **kwargs):\n",
    "        self.func = partial(recall_score, average='macro', zero_division=0)\n",
    "        self.a = a\n",
    "\n",
    "    def reset(self): self.targs,self.preds = [],[]\n",
    "\n",
    "    def accumulate(self, learn):\n",
    "        pred = learn.pred[self.a].argmax(dim=-1)\n",
    "        targ = learn.y[self.a]\n",
    "        pred,targ = to_detach(pred),to_detach(targ)\n",
    "        pred,targ = flatten_check(pred,targ)\n",
    "        self.preds.append(pred)\n",
    "        self.targs.append(targ)\n",
    "\n",
    "    @property\n",
    "    def value(self):\n",
    "        if len(self.preds) == 0: return\n",
    "        preds,targs = torch.cat(self.preds),torch.cat(self.targs)\n",
    "        return self.func(targs, preds)\n",
    "\n",
    "    @property\n",
    "    def name(self): return train_df.columns[self.a+1]\n",
    "    \n",
    "\n",
    "class RecallCombine(Metric):\n",
    "    def __init__(self, *args, **kwargs):\n",
    "        super().__init__(*args, **kwargs)\n",
    "        self.combine = 0\n",
    "\n",
    "    def accumulate(self, learn):\n",
    "        scores = [learn.metrics[i].value for i in range(3)]\n",
    "        self.combine = np.average(scores, weights=[2,1,1])\n",
    "\n",
    "    @property\n",
    "    def value(self):\n",
    "        return self.combine"
   ]
  },
  {
   "cell_type": "markdown",
   "metadata": {
    "papermill": {
     "duration": 0.017773,
     "end_time": "2020-02-01T12:56:31.663334",
     "exception": false,
     "start_time": "2020-02-01T12:56:31.645561",
     "status": "completed"
    },
    "tags": []
   },
   "source": [
    "## Model"
   ]
  },
  {
   "cell_type": "code",
   "execution_count": 17,
   "metadata": {
    "papermill": {
     "duration": 0.027925,
     "end_time": "2020-02-01T12:56:31.709198",
     "exception": false,
     "start_time": "2020-02-01T12:56:31.681273",
     "status": "completed"
    },
    "tags": []
   },
   "outputs": [],
   "source": [
    "class BengaliModel(nn.Module):\n",
    "    def __init__(self, encoder, encoder_output_features):\n",
    "        super().__init__()\n",
    "        self.input_conv = nn.Conv2d(in_channels=1, out_channels=3, kernel_size=1)\n",
    "        \n",
    "        self.pooling = nn.AdaptiveAvgPool2d(1)\n",
    "        \n",
    "        self.encoder = encoder\n",
    "    \n",
    "        self.fc_grapheme_root = nn.Linear(in_features=encoder_output_features, out_features=168)\n",
    "        self.fc_vowel_diacritic = nn.Linear(in_features=encoder_output_features, out_features=11)\n",
    "        self.fc_consonant_diacritic = nn.Linear(in_features=encoder_output_features, out_features=7)\n",
    "        \n",
    "    def forward(self, inputs):\n",
    "        bs = inputs.size(0)\n",
    "        \n",
    "        # Convolve to 3 channels\n",
    "        x = self.input_conv(inputs)\n",
    "\n",
    "        # Convolution layers\n",
    "        x = self.encoder(x)\n",
    "        \n",
    "        # Pooling\n",
    "        x = self.pooling(x)\n",
    "        \n",
    "        # Final layers\n",
    "        x = x.view(bs, -1)\n",
    "\n",
    "        return [\n",
    "            self.fc_grapheme_root(x),\n",
    "            self.fc_vowel_diacritic(x),\n",
    "            self.fc_consonant_diacritic(x)\n",
    "        ]"
   ]
  },
  {
   "cell_type": "code",
   "execution_count": 18,
   "metadata": {
    "papermill": {
     "duration": 0.025162,
     "end_time": "2020-02-01T12:56:31.752675",
     "exception": false,
     "start_time": "2020-02-01T12:56:31.727513",
     "status": "completed"
    },
    "tags": []
   },
   "outputs": [],
   "source": [
    "class EfficientNetEncoder(EfficientNet):\n",
    "    def forward(self, x):\n",
    "        \"\"\"Calls extract_features to extract features, applies final linear layer, and returns logits.\"\"\"\n",
    "        return self.extract_features(x)"
   ]
  },
  {
   "cell_type": "markdown",
   "metadata": {
    "papermill": {
     "duration": 0.020634,
     "end_time": "2020-02-01T12:56:31.793419",
     "exception": false,
     "start_time": "2020-02-01T12:56:31.772785",
     "status": "completed"
    },
    "tags": []
   },
   "source": [
    "## Training"
   ]
  },
  {
   "cell_type": "code",
   "execution_count": null,
   "metadata": {
    "papermill": {
     "duration": 0.018603,
     "end_time": "2020-02-01T12:56:31.830146",
     "exception": false,
     "start_time": "2020-02-01T12:56:31.811543",
     "status": "completed"
    },
    "tags": []
   },
   "outputs": [],
   "source": []
  },
  {
   "cell_type": "code",
   "execution_count": 19,
   "metadata": {
    "papermill": {
     "duration": 0.151972,
     "end_time": "2020-02-01T12:56:32.000339",
     "exception": false,
     "start_time": "2020-02-01T12:56:31.848367",
     "status": "completed"
    },
    "tags": []
   },
   "outputs": [
    {
     "name": "stdout",
     "output_type": "stream",
     "text": [
      "Loaded pretrained weights for efficientnet-b0\n",
      "Cuda is available\n"
     ]
    }
   ],
   "source": [
    "encoder = EfficientNetEncoder.from_pretrained(ENCODER_ARCH)\n",
    "model = BengaliModel(encoder=encoder, encoder_output_features=encoder._fc.in_features)\n",
    "\n",
    "if torch.cuda.is_available():\n",
    "    print(\"Cuda is available\")\n",
    "    model = model.cuda()\n",
    "    data = data.cuda()\n",
    "\n",
    "learner = Learner(\n",
    "    data,\n",
    "    model,\n",
    "    loss_func=loss_func,\n",
    "    cbs=[CSVLogger(OUTPUT_PATH/'history.csv'), WandbCallback(log_preds=False)],\n",
    "    metrics=[RecallPartial(a=i) for i in range(len(data.c))] + [RecallCombine()]\n",
    ")"
   ]
  },
  {
   "cell_type": "markdown",
   "metadata": {
    "papermill": {
     "duration": 0.01837,
     "end_time": "2020-02-01T12:56:32.037672",
     "exception": false,
     "start_time": "2020-02-01T12:56:32.019302",
     "status": "completed"
    },
    "tags": []
   },
   "source": [
    "For the first epoch, I'll train just the fc layers and the first layer, which start out as random weights."
   ]
  },
  {
   "cell_type": "code",
   "execution_count": 20,
   "metadata": {
    "papermill": {
     "duration": 9793.474751,
     "end_time": "2020-02-01T15:39:45.530732",
     "exception": false,
     "start_time": "2020-02-01T12:56:32.055981",
     "status": "completed"
    },
    "tags": []
   },
   "outputs": [
    {
     "data": {
      "text/html": [
       "\n",
       "    <div>\n",
       "        <style>\n",
       "            /* Turns off some styling */\n",
       "            progress {\n",
       "                /* gets rid of default border in Firefox and Opera. */\n",
       "                border: none;\n",
       "                /* Needs to be in here for Safari polyfill so background images work as expected. */\n",
       "                background-size: auto;\n",
       "            }\n",
       "            .progress-bar-interrupted, .progress-bar-interrupted::-webkit-progress-bar {\n",
       "                background: #F44336;\n",
       "            }\n",
       "        </style>\n",
       "      <progress value='11' class='' max='12', style='width:300px; height:20px; vertical-align: middle;'></progress>\n",
       "      91.67% [11/12 2:29:28<13:35]\n",
       "    </div>\n",
       "    \n",
       "<table border=\"1\" class=\"dataframe\">\n",
       "  <thead>\n",
       "    <tr style=\"text-align: left;\">\n",
       "      <th>epoch</th>\n",
       "      <th>train_loss</th>\n",
       "      <th>valid_loss</th>\n",
       "      <th>grapheme_root</th>\n",
       "      <th>vowel_diacritic</th>\n",
       "      <th>consonant_diacritic</th>\n",
       "      <th>recall_combine</th>\n",
       "      <th>time</th>\n",
       "    </tr>\n",
       "  </thead>\n",
       "  <tbody>\n",
       "    <tr>\n",
       "      <td>0</td>\n",
       "      <td>1.643204</td>\n",
       "      <td>1.449290</td>\n",
       "      <td>0.804096</td>\n",
       "      <td>0.919096</td>\n",
       "      <td>0.918077</td>\n",
       "      <td>0.861341</td>\n",
       "      <td>13:32</td>\n",
       "    </tr>\n",
       "    <tr>\n",
       "      <td>1</td>\n",
       "      <td>1.201017</td>\n",
       "      <td>1.269487</td>\n",
       "      <td>0.823008</td>\n",
       "      <td>0.932155</td>\n",
       "      <td>0.926019</td>\n",
       "      <td>0.876047</td>\n",
       "      <td>13:38</td>\n",
       "    </tr>\n",
       "    <tr>\n",
       "      <td>2</td>\n",
       "      <td>0.915151</td>\n",
       "      <td>1.007810</td>\n",
       "      <td>0.875118</td>\n",
       "      <td>0.956536</td>\n",
       "      <td>0.923341</td>\n",
       "      <td>0.907528</td>\n",
       "      <td>13:39</td>\n",
       "    </tr>\n",
       "    <tr>\n",
       "      <td>3</td>\n",
       "      <td>0.763929</td>\n",
       "      <td>0.840561</td>\n",
       "      <td>0.886279</td>\n",
       "      <td>0.964923</td>\n",
       "      <td>0.926233</td>\n",
       "      <td>0.915928</td>\n",
       "      <td>13:33</td>\n",
       "    </tr>\n",
       "    <tr>\n",
       "      <td>4</td>\n",
       "      <td>0.575748</td>\n",
       "      <td>0.758772</td>\n",
       "      <td>0.899877</td>\n",
       "      <td>0.966947</td>\n",
       "      <td>0.949835</td>\n",
       "      <td>0.929134</td>\n",
       "      <td>13:32</td>\n",
       "    </tr>\n",
       "    <tr>\n",
       "      <td>5</td>\n",
       "      <td>0.472322</td>\n",
       "      <td>0.752609</td>\n",
       "      <td>0.903731</td>\n",
       "      <td>0.967839</td>\n",
       "      <td>0.947030</td>\n",
       "      <td>0.930582</td>\n",
       "      <td>13:38</td>\n",
       "    </tr>\n",
       "    <tr>\n",
       "      <td>6</td>\n",
       "      <td>0.317070</td>\n",
       "      <td>0.654137</td>\n",
       "      <td>0.924204</td>\n",
       "      <td>0.970761</td>\n",
       "      <td>0.960873</td>\n",
       "      <td>0.945010</td>\n",
       "      <td>13:32</td>\n",
       "    </tr>\n",
       "    <tr>\n",
       "      <td>7</td>\n",
       "      <td>0.212717</td>\n",
       "      <td>0.606086</td>\n",
       "      <td>0.933856</td>\n",
       "      <td>0.978296</td>\n",
       "      <td>0.962378</td>\n",
       "      <td>0.952096</td>\n",
       "      <td>13:31</td>\n",
       "    </tr>\n",
       "    <tr>\n",
       "      <td>8</td>\n",
       "      <td>0.139540</td>\n",
       "      <td>0.593848</td>\n",
       "      <td>0.938542</td>\n",
       "      <td>0.980807</td>\n",
       "      <td>0.973051</td>\n",
       "      <td>0.957735</td>\n",
       "      <td>13:33</td>\n",
       "    </tr>\n",
       "    <tr>\n",
       "      <td>9</td>\n",
       "      <td>0.058067</td>\n",
       "      <td>0.604155</td>\n",
       "      <td>0.940137</td>\n",
       "      <td>0.980954</td>\n",
       "      <td>0.972645</td>\n",
       "      <td>0.958468</td>\n",
       "      <td>13:41</td>\n",
       "    </tr>\n",
       "    <tr>\n",
       "      <td>10</td>\n",
       "      <td>0.033977</td>\n",
       "      <td>0.624838</td>\n",
       "      <td>0.942944</td>\n",
       "      <td>0.981370</td>\n",
       "      <td>0.972944</td>\n",
       "      <td>0.960050</td>\n",
       "      <td>13:34</td>\n",
       "    </tr>\n",
       "  </tbody>\n",
       "</table><p>\n",
       "\n",
       "    <div>\n",
       "        <style>\n",
       "            /* Turns off some styling */\n",
       "            progress {\n",
       "                /* gets rid of default border in Firefox and Opera. */\n",
       "                border: none;\n",
       "                /* Needs to be in here for Safari polyfill so background images work as expected. */\n",
       "                background-size: auto;\n",
       "            }\n",
       "            .progress-bar-interrupted, .progress-bar-interrupted::-webkit-progress-bar {\n",
       "                background: #F44336;\n",
       "            }\n",
       "        </style>\n",
       "      <progress value='2122' class='' max='2510', style='width:300px; height:20px; vertical-align: middle;'></progress>\n",
       "      84.54% [2122/2510 10:30<01:55 0.0231]\n",
       "    </div>\n",
       "    "
      ],
      "text/plain": [
       "<IPython.core.display.HTML object>"
      ]
     },
     "metadata": {},
     "output_type": "display_data"
    },
    {
     "name": "stderr",
     "output_type": "stream",
     "text": [
      "Failed to query for notebook name, you can set it manually with the WANDB_NOTEBOOK_NAME environment variable\n"
     ]
    }
   ],
   "source": [
    "learner.fit_one_cycle(12, 1e-3)"
   ]
  },
  {
   "cell_type": "code",
   "execution_count": 21,
   "metadata": {
    "papermill": {
     "duration": 0.286661,
     "end_time": "2020-02-01T15:39:45.838168",
     "exception": false,
     "start_time": "2020-02-01T15:39:45.551507",
     "status": "completed"
    },
    "tags": []
   },
   "outputs": [
    {
     "data": {
      "image/png": "[encoded data removed]",
      "text/plain": [
       "<Figure size 432x288 with 1 Axes>"
      ]
     },
     "metadata": {
      "needs_background": "light"
     },
     "output_type": "display_data"
    }
   ],
   "source": [
    "learner.recorder.plot_loss()"
   ]
  },
  {
   "cell_type": "code",
   "execution_count": 22,
   "metadata": {
    "papermill": {
     "duration": 0.113992,
     "end_time": "2020-02-01T15:39:45.971757",
     "exception": false,
     "start_time": "2020-02-01T15:39:45.857765",
     "status": "completed"
    },
    "tags": []
   },
   "outputs": [],
   "source": [
    "learner.save('model')"
   ]
  },
  {
   "cell_type": "code",
   "execution_count": 23,
   "metadata": {
    "papermill": {
     "duration": 0.118536,
     "end_time": "2020-02-01T15:39:46.109974",
     "exception": false,
     "start_time": "2020-02-01T15:39:45.991438",
     "status": "completed"
    },
    "tags": []
   },
   "outputs": [
    {
     "data": {
      "text/plain": [
       "<fastai2.learner.Learner at 0x7f9efb5d3610>"
      ]
     },
     "execution_count": 23,
     "metadata": {},
     "output_type": "execute_result"
    }
   ],
   "source": [
    "learner.load('model')"
   ]
  },
  {
   "cell_type": "markdown",
   "metadata": {
    "papermill": {
     "duration": 0.022481,
     "end_time": "2020-02-01T15:39:46.152592",
     "exception": false,
     "start_time": "2020-02-01T15:39:46.130111",
     "status": "completed"
    },
    "tags": []
   },
   "source": [
    "## Error analysis"
   ]
  },
  {
   "cell_type": "code",
   "execution_count": 24,
   "metadata": {
    "papermill": {
     "duration": 71.15839,
     "end_time": "2020-02-01T15:40:57.333204",
     "exception": false,
     "start_time": "2020-02-01T15:39:46.174814",
     "status": "completed"
    },
    "tags": []
   },
   "outputs": [
    {
     "data": {
      "text/html": [],
      "text/plain": [
       "<IPython.core.display.HTML object>"
      ]
     },
     "metadata": {},
     "output_type": "display_data"
    }
   ],
   "source": [
    "o = learner.get_preds()"
   ]
  },
  {
   "cell_type": "code",
   "execution_count": null,
   "metadata": {
    "papermill": {
     "duration": 0.020982,
     "end_time": "2020-02-01T15:40:57.375620",
     "exception": false,
     "start_time": "2020-02-01T15:40:57.354638",
     "status": "completed"
    },
    "tags": []
   },
   "outputs": [],
   "source": []
  }
 ],
 "metadata": {
  "celltoolbar": "Tags",
  "kernelspec": {
   "display_name": "Python 3",
   "language": "python",
   "name": "python3"
  },
  "language_info": {
   "codemirror_mode": {
    "name": "ipython",
    "version": 3
   },
   "file_extension": ".py",
   "mimetype": "text/x-python",
   "name": "python",
   "nbconvert_exporter": "python",
   "pygments_lexer": "ipython3",
   "version": "3.7.4"
  },
  "papermill": {
   "duration": 10020.3436,
   "end_time": "2020-02-01T15:41:02.562086",
   "environment_variables": {},
   "exception": null,
   "input_path": "nbs/templates/fastai2.ipynb",
   "output_path": "nbs/output/fastai2-baseline.ipynb",
   "parameters": {
    "NAME": "fastai2-baseline",
    "OUTPUT_VAL_SIZE": null,
    "WANDB_MODE": "run"
   },
   "start_time": "2020-02-01T12:54:02.218486",
   "version": "1.2.1"
  },
  "toc": {
   "base_numbering": 1,
   "nav_menu": {},
   "number_sections": true,
   "sideBar": true,
   "skip_h1_title": false,
   "title_cell": "Table of Contents",
   "title_sidebar": "Contents",
   "toc_cell": false,
   "toc_position": {},
   "toc_section_display": true,
   "toc_window_display": false
  }
 },
 "nbformat": 4,
 "nbformat_minor": 4
}