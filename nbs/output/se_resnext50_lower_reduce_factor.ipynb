{
 "cells": [
  {
   "cell_type": "code",
   "execution_count": 1,
   "metadata": {
    "papermill": {
     "duration": 2.686885,
     "end_time": "2020-02-19T06:44:16.869045",
     "exception": false,
     "start_time": "2020-02-19T06:44:14.182160",
     "status": "completed"
    },
    "tags": []
   },
   "outputs": [],
   "source": [
    "%load_ext autoreload\n",
    "%autoreload 2\n",
    "\n",
    "import matplotlib.pyplot as plt\n",
    "%matplotlib inline\n",
    "from copy import deepcopy\n",
    "\n",
    "import os\n",
    "import sys\n",
    "from pathlib import Path\n",
    "import pandas as pd\n",
    "\n",
    "from fastai.vision import *\n",
    "from fastai.callbacks import *\n",
    "from fastai.layers import AdaptiveConcatPool2d\n",
    "import torch\n",
    "from efficientnet_pytorch import EfficientNet\n",
    "import wandb\n",
    "from wandb.fastai import WandbCallback\n",
    "import timm\n",
    "import pretrainedmodels\n",
    "from kornia.losses import FocalLoss\n",
    "from fastai2.layers import MishJit\n",
    "from sklearn.utils.class_weight import compute_class_weight\n",
    "\n",
    "from sklearn.metrics import recall_score\n",
    "\n",
    "\n",
    "def seed_everything(seed):\n",
    "    random.seed(seed)\n",
    "    os.environ['PYTHONHASHSEED'] = str(seed)\n",
    "    np.random.seed(seed)\n",
    "    torch.manual_seed(seed)\n",
    "    torch.cuda.manual_seed_all(seed)\n",
    "    torch.cuda.manual_seed(seed)\n",
    "    torch.backends.cudnn.deterministic = True"
   ]
  },
  {
   "cell_type": "markdown",
   "metadata": {
    "papermill": {
     "duration": 0.015933,
     "end_time": "2020-02-19T06:44:16.901171",
     "exception": false,
     "start_time": "2020-02-19T06:44:16.885238",
     "status": "completed"
    },
    "tags": []
   },
   "source": [
    "## Params"
   ]
  },
  {
   "cell_type": "code",
   "execution_count": 2,
   "metadata": {
    "papermill": {
     "duration": 0.045707,
     "end_time": "2020-02-19T06:44:16.962777",
     "exception": false,
     "start_time": "2020-02-19T06:44:16.917070",
     "status": "completed"
    },
    "tags": [
     "parameters"
    ]
   },
   "outputs": [],
   "source": [
    "NAME = ''\n",
    "WANDB_MODE = 'dryrun'\n",
    "\n",
    "DATA_PATH = Path('/home/lextoumbourou/bengaliai-cv19/data')\n",
    "IMAGE_DATA_PATH = Path(DATA_PATH/'grapheme-imgs-128x128')\n",
    "OUTPUT_PATH = Path(DATA_PATH/'working')\n",
    "LABELS_PATH = Path(DATA_PATH/'iterative-stratification')\n",
    "\n",
    "VALID_PCT = 0.2\n",
    "SEED = 421\n",
    "BATCH_SIZE = 128\n",
    "IMG_SIZE = 128\n",
    "\n",
    "MAX_WARP = 0.2\n",
    "P_AFFINE = 0.75\n",
    "MAX_ROTATE = 40.\n",
    "MAX_ZOOM = 1.1\n",
    "P_LIGHTING = 0.75\n",
    "MAX_LIGHTING = 0.2\n",
    "MAX_COUNT_RANDOM_ERASING = 3\n",
    "LABEL_SMOOTHING_EPS = 0.1\n",
    "\n",
    "MAX_EPOCHS = 150\n",
    "\n",
    "ENCODER_ARCH = 'efficientnet-b0'\n",
    "\n",
    "GRAPHEME_ROOT_WEIGHT = 0.7\n",
    "VOWEL_DIACRITIC_WEIGHT = 0.1\n",
    "CONSONANT_DIACRITIC_WEIGHT = 0.2\n",
    "MODEL_HEAD = 'mish_head'\n",
    "\n",
    "SAMPLE_SIZE = None\n",
    "\n",
    "PROG_SPRINKES = False\n",
    "USE_FP16 = False\n",
    "\n",
    "NORM_MEAN = 0.0692\n",
    "NORM_STD = 0.2051\n",
    "\n",
    "USE_CUTMIX = True\n",
    "\n",
    "REDUCE_LR_PATIENCE = 6\n",
    "REDUCE_LR_FACTOR = 0.2\n",
    "\n",
    "LR = 3e-3\n",
    "\n",
    "LOAD_EXPERIMENT = None\n",
    "\n",
    "EARLY_STOP_PATIENCE = 20"
   ]
  },
  {
   "cell_type": "code",
   "execution_count": 3,
   "metadata": {
    "papermill": {
     "duration": 0.039238,
     "end_time": "2020-02-19T06:44:17.017779",
     "exception": false,
     "start_time": "2020-02-19T06:44:16.978541",
     "status": "completed"
    },
    "tags": [
     "injected-parameters"
    ]
   },
   "outputs": [],
   "source": [
    "# Parameters\n",
    "ENCODER_ARCH = \"se_resnext50_32x4d\"\n",
    "IMG_SIZE = 64\n",
    "BATCH_SIZE = 896\n",
    "USE_FP16 = True\n",
    "USE_CUTMIX = True\n",
    "USE_MIXUP = True\n",
    "REDUCE_LR_PATIENCE = 5\n",
    "REDUCE_LR_FACTOR = 0.5\n",
    "WANDB_MODE = \"run\"\n",
    "NAME = \"se_resnext50_lower_reduce_factor\"\n",
    "OUTPUT_VAL_SIZE = None\n"
   ]
  },
  {
   "cell_type": "code",
   "execution_count": 4,
   "metadata": {
    "papermill": {
     "duration": 0.042819,
     "end_time": "2020-02-19T06:44:17.078232",
     "exception": false,
     "start_time": "2020-02-19T06:44:17.035413",
     "status": "completed"
    },
    "tags": []
   },
   "outputs": [],
   "source": [
    "if isinstance(LR, list): LR = slice(*LR)"
   ]
  },
  {
   "cell_type": "code",
   "execution_count": 5,
   "metadata": {
    "papermill": {
     "duration": 0.043876,
     "end_time": "2020-02-19T06:44:17.142054",
     "exception": false,
     "start_time": "2020-02-19T06:44:17.098178",
     "status": "completed"
    },
    "tags": []
   },
   "outputs": [],
   "source": [
    "seed_everything(seed=SEED)"
   ]
  },
  {
   "cell_type": "code",
   "execution_count": 6,
   "metadata": {
    "papermill": {
     "duration": 0.78136,
     "end_time": "2020-02-19T06:44:17.943741",
     "exception": false,
     "start_time": "2020-02-19T06:44:17.162381",
     "status": "completed"
    },
    "tags": []
   },
   "outputs": [
    {
     "name": "stdout",
     "output_type": "stream",
     "text": [
      "\u001b[34m\u001b[1mwandb\u001b[0m: Appending key for api.wandb.ai to your netrc file: /home/lextoumbourou/.netrc\r\n",
      "\u001b[32mSuccessfully logged in to Weights & Biases!\u001b[0m\r\n"
     ]
    }
   ],
   "source": [
    "!wandb login 563765550fd7b64fd10129216209724e03f3f20c"
   ]
  },
  {
   "cell_type": "code",
   "execution_count": 7,
   "metadata": {
    "papermill": {
     "duration": 0.049648,
     "end_time": "2020-02-19T06:44:18.011396",
     "exception": false,
     "start_time": "2020-02-19T06:44:17.961748",
     "status": "completed"
    },
    "tags": []
   },
   "outputs": [],
   "source": [
    "# Turn this off before running!!\n",
    "os.environ['WANDB_MODE'] = WANDB_MODE"
   ]
  },
  {
   "cell_type": "code",
   "execution_count": 8,
   "metadata": {
    "papermill": {
     "duration": 3.43105,
     "end_time": "2020-02-19T06:44:21.459980",
     "exception": false,
     "start_time": "2020-02-19T06:44:18.028930",
     "status": "completed"
    },
    "tags": []
   },
   "outputs": [
    {
     "data": {
      "text/html": [
       "\n",
       "                Logging results to <a href=\"https://wandb.com\" target=\"_blank\">Weights & Biases</a> <a href=\"https://docs.wandb.com/integrations/jupyter.html\" target=\"_blank\">(Documentation)</a>.<br/>\n",
       "                Project page: <a href=\"https://app.wandb.ai/lex/bengaliai-cv19\" target=\"_blank\">https://app.wandb.ai/lex/bengaliai-cv19</a><br/>\n",
       "                Run page: <a href=\"https://app.wandb.ai/lex/bengaliai-cv19/runs/vl79qlbs\" target=\"_blank\">https://app.wandb.ai/lex/bengaliai-cv19/runs/vl79qlbs</a><br/>\n",
       "            "
      ],
      "text/plain": [
       "<IPython.core.display.HTML object>"
      ]
     },
     "metadata": {},
     "output_type": "display_data"
    },
    {
     "name": "stderr",
     "output_type": "stream",
     "text": [
      "Failed to query for notebook name, you can set it manually with the WANDB_NOTEBOOK_NAME environment variable\n"
     ]
    },
    {
     "name": "stderr",
     "output_type": "stream",
     "text": [
      "wandb: Wandb version 0.8.27 is available!  To upgrade, please run:\n",
      "wandb:  $ pip install wandb --upgrade\n"
     ]
    }
   ],
   "source": [
    "wandb.init(project=\"bengaliai-cv19\", name=NAME)\n",
    "\n",
    "wandb.config.img_size = IMG_SIZE\n",
    "wandb.config.batch_size = BATCH_SIZE\n",
    "wandb.config.seed = SEED\n",
    "\n",
    "wandb.config.max_warp = MAX_WARP\n",
    "wandb.config.p_affine = P_AFFINE\n",
    "wandb.config.max_rotate = MAX_ROTATE\n",
    "wandb.config.max_zoom = MAX_ZOOM\n",
    "wandb.config.p_lighting = P_LIGHTING\n",
    "wandb.config.max_lighting = MAX_LIGHTING\n",
    "wandb.config.max_count_random_erasing = MAX_COUNT_RANDOM_ERASING\n",
    "wandb.config.grapheme_root_weight = GRAPHEME_ROOT_WEIGHT\n",
    "wandb.config.vowel_diacritic_weight = VOWEL_DIACRITIC_WEIGHT\n",
    "wandb.config.consonant_diacritic_weight = CONSONANT_DIACRITIC_WEIGHT\n",
    "wandb.config.sample_size = SAMPLE_SIZE\n",
    "wandb.config.encoder_arch = ENCODER_ARCH\n",
    "wandb.config.max_epochs = MAX_EPOCHS\n",
    "wandb.config.prog_sprinkles = PROG_SPRINKES\n",
    "wandb.config.label_smoothing_eps = LABEL_SMOOTHING_EPS\n",
    "wandb.config.encoder_arch = ENCODER_ARCH\n",
    "wandb.config.norm_mean = NORM_MEAN\n",
    "wandb.config.norm_std = NORM_STD\n",
    "wandb.config.use_fp16 = USE_FP16\n",
    "wandb.config.use_cutmix = USE_CUTMIX\n",
    "wandb.config.reduce_lr_patience = REDUCE_LR_PATIENCE\n",
    "wandb.config.lr = str(LR)\n",
    "wandb.config.reduce_lr_factor = REDUCE_LR_FACTOR\n",
    "wandb.config.load_experiment = LOAD_EXPERIMENT\n",
    "wandb.config.early_stop_patience = EARLY_STOP_PATIENCE"
   ]
  },
  {
   "cell_type": "markdown",
   "metadata": {
    "papermill": {
     "duration": 0.016799,
     "end_time": "2020-02-19T06:44:21.494982",
     "exception": false,
     "start_time": "2020-02-19T06:44:21.478183",
     "status": "completed"
    },
    "tags": []
   },
   "source": [
    "## Create datasets and dataloaders"
   ]
  },
  {
   "cell_type": "code",
   "execution_count": 9,
   "metadata": {
    "papermill": {
     "duration": 0.215756,
     "end_time": "2020-02-19T06:44:21.727854",
     "exception": false,
     "start_time": "2020-02-19T06:44:21.512098",
     "status": "completed"
    },
    "tags": []
   },
   "outputs": [],
   "source": [
    "train_df = pd.read_csv(LABELS_PATH/'train_with_fold.csv')\n",
    "if wandb.config.sample_size:\n",
    "    print(\"About to reduce train size.\")\n",
    "    train_df = train_df.sample(n=wandb.config.sample_size, random_state=SEED).reset_index(drop=True)"
   ]
  },
  {
   "cell_type": "code",
   "execution_count": 10,
   "metadata": {
    "papermill": {
     "duration": 0.048701,
     "end_time": "2020-02-19T06:44:21.794088",
     "exception": false,
     "start_time": "2020-02-19T06:44:21.745387",
     "status": "completed"
    },
    "tags": []
   },
   "outputs": [
    {
     "data": {
      "text/html": [
       "<div>\n",
       "<style scoped>\n",
       "    .dataframe tbody tr th:only-of-type {\n",
       "        vertical-align: middle;\n",
       "    }\n",
       "\n",
       "    .dataframe tbody tr th {\n",
       "        vertical-align: top;\n",
       "    }\n",
       "\n",
       "    .dataframe thead th {\n",
       "        text-align: right;\n",
       "    }\n",
       "</style>\n",
       "<table border=\"1\" class=\"dataframe\">\n",
       "  <thead>\n",
       "    <tr style=\"text-align: right;\">\n",
       "      <th></th>\n",
       "      <th>image_id</th>\n",
       "      <th>grapheme_root</th>\n",
       "      <th>vowel_diacritic</th>\n",
       "      <th>consonant_diacritic</th>\n",
       "      <th>grapheme</th>\n",
       "      <th>id</th>\n",
       "      <th>fold</th>\n",
       "    </tr>\n",
       "  </thead>\n",
       "  <tbody>\n",
       "    <tr>\n",
       "      <th>0</th>\n",
       "      <td>Train_0</td>\n",
       "      <td>15</td>\n",
       "      <td>9</td>\n",
       "      <td>5</td>\n",
       "      <td>ক্ট্রো</td>\n",
       "      <td>0</td>\n",
       "      <td>3</td>\n",
       "    </tr>\n",
       "    <tr>\n",
       "      <th>1</th>\n",
       "      <td>Train_1</td>\n",
       "      <td>159</td>\n",
       "      <td>0</td>\n",
       "      <td>0</td>\n",
       "      <td>হ</td>\n",
       "      <td>1</td>\n",
       "      <td>2</td>\n",
       "    </tr>\n",
       "    <tr>\n",
       "      <th>2</th>\n",
       "      <td>Train_2</td>\n",
       "      <td>22</td>\n",
       "      <td>3</td>\n",
       "      <td>5</td>\n",
       "      <td>খ্রী</td>\n",
       "      <td>2</td>\n",
       "      <td>4</td>\n",
       "    </tr>\n",
       "    <tr>\n",
       "      <th>3</th>\n",
       "      <td>Train_3</td>\n",
       "      <td>53</td>\n",
       "      <td>2</td>\n",
       "      <td>2</td>\n",
       "      <td>র্টি</td>\n",
       "      <td>3</td>\n",
       "      <td>2</td>\n",
       "    </tr>\n",
       "    <tr>\n",
       "      <th>4</th>\n",
       "      <td>Train_4</td>\n",
       "      <td>71</td>\n",
       "      <td>9</td>\n",
       "      <td>5</td>\n",
       "      <td>থ্রো</td>\n",
       "      <td>4</td>\n",
       "      <td>1</td>\n",
       "    </tr>\n",
       "  </tbody>\n",
       "</table>\n",
       "</div>"
      ],
      "text/plain": [
       "  image_id  grapheme_root  vowel_diacritic  consonant_diacritic grapheme  id  \\\n",
       "0  Train_0             15                9                    5   ক্ট্রো   0   \n",
       "1  Train_1            159                0                    0        হ   1   \n",
       "2  Train_2             22                3                    5     খ্রী   2   \n",
       "3  Train_3             53                2                    2     র্টি   3   \n",
       "4  Train_4             71                9                    5     থ্রো   4   \n",
       "\n",
       "   fold  \n",
       "0     3  \n",
       "1     2  \n",
       "2     4  \n",
       "3     2  \n",
       "4     1  "
      ]
     },
     "execution_count": 10,
     "metadata": {},
     "output_type": "execute_result"
    }
   ],
   "source": [
    "train_df.head()"
   ]
  },
  {
   "cell_type": "code",
   "execution_count": 11,
   "metadata": {
    "papermill": {
     "duration": 0.513156,
     "end_time": "2020-02-19T06:44:22.324311",
     "exception": false,
     "start_time": "2020-02-19T06:44:21.811155",
     "status": "completed"
    },
    "tags": []
   },
   "outputs": [
    {
     "data": {
      "text/plain": [
       "<matplotlib.axes._subplots.AxesSubplot at 0x7f10e9c68890>"
      ]
     },
     "execution_count": 11,
     "metadata": {},
     "output_type": "execute_result"
    }
   ],
   "source": [
    "train_df.grapheme_root.value_counts().plot.bar(figsize=(20, 4), title=\"Grapheme root\", rot=90)"
   ]
  },
  {
   "cell_type": "code",
   "execution_count": 12,
   "metadata": {
    "papermill": {
     "duration": 0.120306,
     "end_time": "2020-02-19T06:44:22.462356",
     "exception": false,
     "start_time": "2020-02-19T06:44:22.342050",
     "status": "completed"
    },
    "tags": []
   },
   "outputs": [
    {
     "data": {
      "text/plain": [
       "<matplotlib.axes._subplots.AxesSubplot at 0x7f10e9c68890>"
      ]
     },
     "execution_count": 12,
     "metadata": {},
     "output_type": "execute_result"
    }
   ],
   "source": [
    "train_df.vowel_diacritic.value_counts().plot.bar(title=\"Vowel diacrititc\")"
   ]
  },
  {
   "cell_type": "code",
   "execution_count": 13,
   "metadata": {
    "papermill": {
     "duration": 0.113856,
     "end_time": "2020-02-19T06:44:22.595025",
     "exception": false,
     "start_time": "2020-02-19T06:44:22.481169",
     "status": "completed"
    },
    "tags": []
   },
   "outputs": [
    {
     "data": {
      "text/plain": [
       "<matplotlib.axes._subplots.AxesSubplot at 0x7f10e9c68890>"
      ]
     },
     "execution_count": 13,
     "metadata": {},
     "output_type": "execute_result"
    }
   ],
   "source": [
    "train_df.consonant_diacritic.value_counts().plot.bar(title=\"Consonant diacrititc\")"
   ]
  },
  {
   "cell_type": "code",
   "execution_count": 14,
   "metadata": {
    "papermill": {
     "duration": 0.043337,
     "end_time": "2020-02-19T06:44:22.656394",
     "exception": false,
     "start_time": "2020-02-19T06:44:22.613057",
     "status": "completed"
    },
    "tags": []
   },
   "outputs": [],
   "source": [
    "train_tfms = [\n",
    "    symmetric_warp(\n",
    "        magnitude=(-wandb.config.max_warp, wandb.config.max_warp),\n",
    "        p=wandb.config.p_affine\n",
    "    ),\n",
    "    rotate(\n",
    "        degrees=(-wandb.config.max_rotate, wandb.config.max_rotate),\n",
    "        p=wandb.config.p_affine\n",
    "    ),\n",
    "    rand_zoom(\n",
    "        scale=(1., wandb.config.max_zoom), p=wandb.config.p_affine\n",
    "    ),\n",
    "    brightness(\n",
    "        change=(0.5*(1 - wandb.config.max_lighting), 0.5*(1 + wandb.config.max_lighting)),\n",
    "        p=wandb.config.p_lighting\n",
    "    ),\n",
    "    contrast(\n",
    "        scale=(1-wandb.config.max_lighting, 1/(1-wandb.config.max_lighting)),\n",
    "        p=wandb.config.p_lighting\n",
    "    ),\n",
    "    cutout(n_holes=(1, 6), length=(5, 15), p=.5)\n",
    "]"
   ]
  },
  {
   "cell_type": "code",
   "execution_count": 15,
   "metadata": {
    "papermill": {
     "duration": 0.048589,
     "end_time": "2020-02-19T06:44:22.722660",
     "exception": false,
     "start_time": "2020-02-19T06:44:22.674071",
     "status": "completed"
    },
    "tags": []
   },
   "outputs": [],
   "source": [
    "train_df['is_valid'] = train_df.fold == 0"
   ]
  },
  {
   "cell_type": "code",
   "execution_count": 16,
   "metadata": {
    "papermill": {
     "duration": 0.127742,
     "end_time": "2020-02-19T06:44:22.870218",
     "exception": false,
     "start_time": "2020-02-19T06:44:22.742476",
     "status": "completed"
    },
    "tags": []
   },
   "outputs": [],
   "source": [
    "grapheme_root_class_weight = compute_class_weight('balanced', range(train_df.grapheme_root.max() + 1), y=train_df.grapheme_root)\n",
    "vowel_diacritic_class_weight = compute_class_weight('balanced', range(train_df.vowel_diacritic.max() + 1), y=train_df.vowel_diacritic)\n",
    "consonant_diacritic_class_weight = compute_class_weight('balanced', range(train_df.consonant_diacritic.max() + 1), y=train_df.consonant_diacritic)"
   ]
  },
  {
   "cell_type": "code",
   "execution_count": 17,
   "metadata": {
    "papermill": {
     "duration": 2.385559,
     "end_time": "2020-02-19T06:44:25.277275",
     "exception": false,
     "start_time": "2020-02-19T06:44:22.891716",
     "status": "completed"
    },
    "tags": []
   },
   "outputs": [],
   "source": [
    "stats = ([wandb.config.norm_mean], [wandb.config.norm_std])\n",
    "\n",
    "data = (\n",
    "    ImageList.from_df(\n",
    "        path=DATA_PATH, df=train_df, folder='./grapheme-imgs-128x128/', suffix='.png',\n",
    "        cols='image_id', convert_mode='L'\n",
    "    )\n",
    "    .split_from_df(col='is_valid')\n",
    "    .label_from_df(cols=['grapheme_root', 'vowel_diacritic', 'consonant_diacritic'])\n",
    "    .transform((train_tfms, []), size=wandb.config.img_size, padding_mode='zeros')\n",
    "    .databunch(bs=wandb.config.batch_size)\n",
    ").normalize(stats)"
   ]
  },
  {
   "cell_type": "code",
   "execution_count": 18,
   "metadata": {
    "papermill": {
     "duration": 6.22369,
     "end_time": "2020-02-19T06:44:31.518760",
     "exception": false,
     "start_time": "2020-02-19T06:44:25.295070",
     "status": "completed"
    },
    "tags": []
   },
   "outputs": [],
   "source": [
    "data.show_batch()"
   ]
  },
  {
   "cell_type": "code",
   "execution_count": 19,
   "metadata": {
    "papermill": {
     "duration": 0.070481,
     "end_time": "2020-02-19T06:44:31.607742",
     "exception": false,
     "start_time": "2020-02-19T06:44:31.537261",
     "status": "completed"
    },
    "tags": []
   },
   "outputs": [],
   "source": [
    "class MixUpLoss(Module):\n",
    "    \"Adapt the loss function `crit` to go with mixup.\"\n",
    "    \n",
    "    def __init__(self, crit, reduction='mean'):\n",
    "        super().__init__()\n",
    "        if hasattr(crit, 'reduction'): \n",
    "            self.crit = crit\n",
    "            self.old_red = crit.reduction\n",
    "            setattr(self.crit, 'reduction', 'none')\n",
    "        else: \n",
    "            self.crit = partial(crit, reduction='none')\n",
    "            self.old_crit = crit\n",
    "        self.reduction = reduction\n",
    "        \n",
    "    def forward(self, output, target):\n",
    "        if len(target.shape) == 2 and target.shape[1] == 7:\n",
    "            loss1, loss2 = self.crit(output,target[:,0:3].long()), self.crit(output,target[:,3:6].long())\n",
    "            d = loss1 * target[:,-1] + loss2 * (1-target[:,-1])\n",
    "        else:  d = self.crit(output, target)\n",
    "        if self.reduction == 'mean':    return d.mean()\n",
    "        elif self.reduction == 'sum':   return d.sum()\n",
    "        return d\n",
    "    \n",
    "    def get_old(self):\n",
    "        if hasattr(self, 'old_crit'):  return self.old_crit\n",
    "        elif hasattr(self, 'old_red'): \n",
    "            setattr(self.crit, 'reduction', self.old_red)\n",
    "            return self.crit\n",
    "        \n",
    "def rand_bbox(last_input_size, λ):\n",
    "    '''lambd is always between .5 and 1'''\n",
    "\n",
    "    W = last_input_size[-1]\n",
    "    H = last_input_size[-2]\n",
    "    cut_rat = np.sqrt(1. - λ) # 0. - .707\n",
    "    cut_w = np.int(W * cut_rat)\n",
    "    cut_h = np.int(H * cut_rat)\n",
    "\n",
    "    # uniform\n",
    "    cx = np.random.randint(W)\n",
    "    cy = np.random.randint(H)\n",
    "\n",
    "    bbx1 = np.clip(cx - cut_w // 2, 0, W)\n",
    "    bby1 = np.clip(cy - cut_h // 2, 0, H)\n",
    "    bbx2 = np.clip(cx + cut_w // 2, 0, W)\n",
    "    if len(last_input_size) == 4:\n",
    "        bby2 = np.clip(cy + cut_h // 2, 0, H)\n",
    "    else: bby2 = last_input_size[1]\n",
    "\n",
    "    return bbx1, bby1, bbx2, bby2\n",
    "\n",
    "\n",
    "class CutMixCallback(LearnerCallback):\n",
    "    '''Adapted from :\n",
    "    paper: https://arxiv.org/abs/1905.04899\n",
    "    github: https://github.com/clovaai/CutMix-PyTorch\n",
    "    and mixup in the fastai library.'''\n",
    "\n",
    "    def __init__(self, learn:Learner, alpha:float=1., stack_y:bool=True):\n",
    "        super().__init__(learn)\n",
    "        self.alpha,self.stack_y = alpha,stack_y\n",
    "\n",
    "    def on_train_begin(self, **kwargs):\n",
    "        if self.stack_y:\n",
    "            self.learn.loss_func = MixUpLoss(self.learn.loss_func)\n",
    "\n",
    "    def on_batch_begin(self, last_input, last_target, train, **kwargs):\n",
    "        \"Applies cutmix to `last_input` and `last_target` if `train`.\"\n",
    "        if not train or self.alpha == 0:\n",
    "            return\n",
    "        λ = np.random.beta(self.alpha, self.alpha)\n",
    "        λ = max(λ, 1- λ)\n",
    "        bs = last_target.size(0)\n",
    "        idx = torch.randperm(bs).to(last_input.device)\n",
    "        x1, y1 = last_input[idx], last_target[idx]\n",
    "\n",
    "        #Get new input\n",
    "        last_input_size = last_input.size()\n",
    "        bbx1, bby1, bbx2, bby2 = rand_bbox(last_input_size, λ)\n",
    "        new_input = last_input.clone()\n",
    "        new_input[..., bby1:bby2, bbx1:bbx2] = x1[..., bby1:bby2, bbx1:bbx2]\n",
    "        #λ = last_input.new([λ])\n",
    "        λ = 1 - ((bbx2 - bbx1) * (bby2 - bby1) / (last_input_size[-1] * last_input_size[-2]))\n",
    "        λ = last_input.new([λ])\n",
    "\n",
    "        # modify last target\n",
    "        if self.stack_y:\n",
    "            new_target = torch.cat([last_target.float(), y1.float(),\n",
    "                                    λ.repeat(last_input_size[0]).unsqueeze(1).float()], 1)\n",
    "        else:\n",
    "            if len(last_target.shape) == 2:\n",
    "                λ = λ.unsqueeze(1).float()\n",
    "            new_target = last_target.float() * λ + y1.float() * (1-λ)\n",
    "\n",
    "        return {'last_input': new_input, 'last_target': new_target}\n",
    "\n",
    "    def on_train_end(self, **kwargs):\n",
    "        if self.stack_y: self.learn.loss_func = self.learn.loss_func.get_old()\n",
    "\n",
    "\n",
    "class MixUpCallback(LearnerCallback):\n",
    "    \"Callback that creates the mixed-up input and target.\"\n",
    "    def __init__(self, learn:Learner, alpha:float=0.4, stack_x:bool=False, stack_y:bool=True):\n",
    "        super().__init__(learn)\n",
    "        self.alpha,self.stack_x,self.stack_y = alpha,stack_x,stack_y\n",
    "    \n",
    "    def on_train_begin(self, **kwargs):\n",
    "        if self.stack_y: self.learn.loss_func = MixUpLoss(self.learn.loss_func)\n",
    "        \n",
    "    def on_batch_begin(self, last_input, last_target, train, **kwargs):\n",
    "        \"Applies mixup to `last_input` and `last_target` if `train`.\"\n",
    "        if not train: return\n",
    "        lambd = np.random.beta(self.alpha, self.alpha, last_target.size(0))\n",
    "        lambd = np.concatenate([lambd[:,None], 1-lambd[:,None]], 1).max(1)\n",
    "        lambd = last_input.new(lambd)\n",
    "        shuffle = torch.randperm(last_target.size(0)).to(last_input.device)\n",
    "        x1, y1 = last_input[shuffle], last_target[shuffle]\n",
    "        if self.stack_x:\n",
    "            new_input = [last_input, last_input[shuffle], lambd]\n",
    "        else: \n",
    "            out_shape = [lambd.size(0)] + [1 for _ in range(len(x1.shape) - 1)]\n",
    "            new_input = (last_input * lambd.view(out_shape) + x1 * (1-lambd).view(out_shape))\n",
    "        if self.stack_y:\n",
    "            new_target = torch.cat([last_target.float(), y1.float(), lambd[:,None].float()], 1)\n",
    "        else:\n",
    "            if len(last_target.shape) == 2:\n",
    "                lambd = lambd.unsqueeze(1).float()\n",
    "            new_target = last_target.float() * lambd + y1.float() * (1-lambd)\n",
    "        return {'last_input': new_input, 'last_target': new_target}  \n",
    "    \n",
    "    def on_train_end(self, **kwargs):\n",
    "        if self.stack_y: self.learn.loss_func = self.learn.loss_func.get_old()\n",
    "            \n",
    "\n",
    "class MixUpOrCutMix(LearnerCallback):\n",
    "    def __init__(self, learn, mix_up_kwargs=None, cut_mix_kwargs=None):\n",
    "        super().__init__(learn)\n",
    "        self.mix_up_kwargs = mix_up_kwargs or {}\n",
    "        self.cut_mix_kwargs = cut_mix_kwargs or {}\n",
    "        self.mixup = MixUpCallback(learner, **self.mix_up_kwargs)\n",
    "        self.cutmix = CutMixCallback(learner, **self.cut_mix_kwargs)\n",
    "        \n",
    "    def on_train_begin(self, **kwargs):\n",
    "        self.mixup.on_train_begin(**kwargs)\n",
    "        self.cutmix.on_train_begin(**kwargs)\n",
    "        \n",
    "    def on_batch_begin(self, last_input, last_target, train, **kwargs):\n",
    "        if not train:\n",
    "            return\n",
    "        \n",
    "        if np.random.rand() < 0.5:\n",
    "            return self.mixup.on_batch_begin(last_input, last_target, train, **kwargs)\n",
    "        else:\n",
    "            return self.cutmix.on_batch_begin(last_input, last_target, train, **kwargs)\n",
    "        \n",
    "    def on_train_end(self, **kwargs):\n",
    "        self.mixup.on_train_end(**kwargs)\n",
    "        self.cutmix.on_train_end(**kwargs)"
   ]
  },
  {
   "cell_type": "markdown",
   "metadata": {
    "papermill": {
     "duration": 0.017689,
     "end_time": "2020-02-19T06:44:31.642913",
     "exception": false,
     "start_time": "2020-02-19T06:44:31.625224",
     "status": "completed"
    },
    "tags": []
   },
   "source": [
    "## Loss and metrics"
   ]
  },
  {
   "cell_type": "code",
   "execution_count": 20,
   "metadata": {
    "papermill": {
     "duration": 0.056055,
     "end_time": "2020-02-19T06:44:31.716896",
     "exception": false,
     "start_time": "2020-02-19T06:44:31.660841",
     "status": "completed"
    },
    "tags": []
   },
   "outputs": [],
   "source": [
    "class MetricBase(Callback):\n",
    "    def __init__(self, average='macro'):\n",
    "        super().__init__()\n",
    "        self.n_classes = 0\n",
    "        self.average = average\n",
    "        self.cm = None\n",
    "        self.eps = 1e-9\n",
    "        \n",
    "    def on_epoch_begin(self, **kwargs):\n",
    "        self.tp = 0\n",
    "        self.fp = 0\n",
    "        self.cm = None\n",
    "    \n",
    "    def on_batch_end(self, last_output:Tensor, last_target:Tensor, **kwargs):\n",
    "        last_output = last_output[self.idx]\n",
    "        last_target = last_target[:,self.idx]\n",
    "        preds = last_output.argmax(-1).view(-1).cpu()\n",
    "        targs = last_target.long().cpu()\n",
    "        \n",
    "        if self.n_classes == 0:\n",
    "            self.n_classes = last_output.shape[-1]\n",
    "            self.x = torch.arange(0, self.n_classes)\n",
    "        cm = ((preds==self.x[:, None]) & (targs==self.x[:, None, None])) \\\n",
    "          .sum(dim=2, dtype=torch.float32)\n",
    "        if self.cm is None: self.cm =  cm\n",
    "        else:               self.cm += cm\n",
    "\n",
    "    def _weights(self, avg:str):\n",
    "        if self.n_classes != 2 and avg == \"binary\":\n",
    "            avg = self.average = \"macro\"\n",
    "            warn(\"average=`binary` was selected for a non binary case. \\\n",
    "                 Value for average has now been set to `macro` instead.\")\n",
    "        if avg == \"binary\":\n",
    "            if self.pos_label not in (0, 1):\n",
    "                self.pos_label = 1\n",
    "                warn(\"Invalid value for pos_label. It has now been set to 1.\")\n",
    "            if self.pos_label == 1: return Tensor([0,1])\n",
    "            else: return Tensor([1,0])\n",
    "        elif avg == \"micro\": return self.cm.sum(dim=0) / self.cm.sum()\n",
    "        elif avg == \"macro\": return torch.ones((self.n_classes,)) / self.n_classes\n",
    "        elif avg == \"weighted\": return self.cm.sum(dim=1) / self.cm.sum()\n",
    "        \n",
    "    def _recall(self):\n",
    "        rec = torch.diag(self.cm) / (self.cm.sum(dim=1) + self.eps)\n",
    "        if self.average is None: return rec\n",
    "        else:\n",
    "            if self.average == \"micro\": weights = self._weights(avg=\"weighted\")\n",
    "            else: weights = self._weights(avg=self.average)\n",
    "            return (rec * weights).sum()\n",
    "    \n",
    "    def on_epoch_end(self, last_metrics, **kwargs):\n",
    "        return add_metrics(last_metrics, self._recall())\n",
    "\n",
    "    \n",
    "class GraphemeRoot(MetricBase):\n",
    "    idx = 0\n",
    "\n",
    "    \n",
    "class VowelDiacritic(MetricBase):\n",
    "    idx = 1\n",
    "\n",
    "\n",
    "class ConsonantDiacritic(MetricBase):\n",
    "    idx = 2\n",
    "\n",
    "\n",
    "class RecallCombine(Callback):\n",
    "    def __init__(self):\n",
    "        super().__init__()\n",
    "        self.grapheme = GraphemeRoot()\n",
    "        self.vowel = VowelDiacritic()\n",
    "        self.consonant = ConsonantDiacritic()\n",
    "        \n",
    "    def on_epoch_begin(self, **kwargs):\n",
    "        self.grapheme.on_epoch_begin(**kwargs)\n",
    "        self.vowel.on_epoch_begin(**kwargs)\n",
    "        self.consonant.on_epoch_begin(**kwargs)\n",
    "    \n",
    "    def on_batch_end(self, last_output:Tensor, last_target:Tensor, **kwargs):\n",
    "        self.grapheme.on_batch_end(last_output, last_target, **kwargs)\n",
    "        self.vowel.on_batch_end(last_output, last_target, **kwargs)\n",
    "        self.consonant.on_batch_end(last_output, last_target, **kwargs)\n",
    "        \n",
    "    def on_epoch_end(self, last_metrics, **kwargs):\n",
    "        return add_metrics(\n",
    "            last_metrics,\n",
    "            0.5 * self.grapheme._recall() +\n",
    "            0.25 * self.vowel._recall() +\n",
    "            0.25 * self.consonant._recall()\n",
    "        )"
   ]
  },
  {
   "cell_type": "markdown",
   "metadata": {
    "papermill": {
     "duration": 0.017189,
     "end_time": "2020-02-19T06:44:31.751535",
     "exception": false,
     "start_time": "2020-02-19T06:44:31.734346",
     "status": "completed"
    },
    "tags": []
   },
   "source": [
    "## Model"
   ]
  },
  {
   "cell_type": "code",
   "execution_count": 21,
   "metadata": {
    "papermill": {
     "duration": 0.043715,
     "end_time": "2020-02-19T06:44:31.812747",
     "exception": false,
     "start_time": "2020-02-19T06:44:31.769032",
     "status": "completed"
    },
    "tags": []
   },
   "outputs": [],
   "source": [
    "from torch.nn.parameter import Parameter\n",
    "\n",
    "\n",
    "def gem(x, p=3, eps=1e-6):\n",
    "    if wandb.config.use_fp16:\n",
    "        x = x.double() # x=x.to(torch.float32) # comment this during inference\n",
    "\n",
    "    x = F.avg_pool2d(x.clamp(min=eps).pow(p), (x.size(-2), x.size(-1))).pow(1./p)\n",
    "    \n",
    "    if wandb.config.use_fp16:\n",
    "        x = x.half()\n",
    "\n",
    "    return x # Comment this line in inference code use ## return x\n",
    "\n",
    "\n",
    "class GeM(nn.Module):\n",
    "    def __init__(self, p=3, eps=1e-6):\n",
    "        super(GeM,self).__init__()\n",
    "        self.p = Parameter(torch.ones(1)*p)\n",
    "        self.eps = eps\n",
    "\n",
    "    def forward(self, x):\n",
    "        return gem(x, p=self.p, eps=self.eps)\n",
    "\n",
    "    def __repr__(self):\n",
    "        return self.__class__.__name__ + '(' + 'p=' + '{:.4f}'.format(self.p.data.tolist()[0]) + ', ' + 'eps=' + str(self.eps) + ')'"
   ]
  },
  {
   "cell_type": "code",
   "execution_count": 22,
   "metadata": {
    "papermill": {
     "duration": 0.038834,
     "end_time": "2020-02-19T06:44:31.868787",
     "exception": false,
     "start_time": "2020-02-19T06:44:31.829953",
     "status": "completed"
    },
    "tags": []
   },
   "outputs": [],
   "source": [
    "class AdaptiveConcatWithGemPool2d(Module):\n",
    "    \"Layer that concats `AdaptiveAvgPool2d` and `AdaptiveMaxPool2d`.\"\n",
    "    def __init__(self, sz:Optional[int]=None):\n",
    "        \"Output will be 2*sz or 2 if sz is None\"\n",
    "        self.output_size = sz or 1\n",
    "        self.ap = GeM()\n",
    "        self.mp = nn.AdaptiveMaxPool2d(self.output_size)\n",
    "\n",
    "    def forward(self, x):\n",
    "        return torch.cat([self.mp(x), self.ap(x)], 1)"
   ]
  },
  {
   "cell_type": "code",
   "execution_count": 23,
   "metadata": {
    "papermill": {
     "duration": 0.04067,
     "end_time": "2020-02-19T06:44:31.926816",
     "exception": false,
     "start_time": "2020-02-19T06:44:31.886146",
     "status": "completed"
    },
    "tags": []
   },
   "outputs": [],
   "source": [
    "class MishHead(nn.Module):\n",
    "    def __init__(self, input_size: int, output_size: int, dropout_ps=0.5):\n",
    "        super().__init__()\n",
    "\n",
    "        layers = [\n",
    "            AdaptiveConcatWithGemPool2d(),\n",
    "            # AdaptiveConcatPool2d(),\n",
    "            Flatten(),\n",
    "            nn.Linear(input_size * 2, 512),\n",
    "            MishJit(),\n",
    "            nn.BatchNorm1d(512),\n",
    "            nn.Dropout(dropout_ps),\n",
    "            nn.Linear(512, output_size)\n",
    "        ]\n",
    "\n",
    "        self.fc = nn.Sequential(*layers)\n",
    "        self._init_weight()\n",
    "\n",
    "    def _init_weight(self):\n",
    "        for m in self.modules():\n",
    "            if isinstance(m, nn.Conv2d):\n",
    "                torch.nn.init.kaiming_normal_(m.weight)\n",
    "            elif isinstance(m, nn.BatchNorm2d):\n",
    "                m.weight.data.fill_(1.0)\n",
    "                m.bias.data.zero_()\n",
    "\n",
    "    def forward(self, x):\n",
    "        return self.fc(x)"
   ]
  },
  {
   "cell_type": "code",
   "execution_count": 24,
   "metadata": {
    "papermill": {
     "duration": 0.039657,
     "end_time": "2020-02-19T06:44:31.983797",
     "exception": false,
     "start_time": "2020-02-19T06:44:31.944140",
     "status": "completed"
    },
    "tags": []
   },
   "outputs": [],
   "source": [
    "class BengaliModel(nn.Module):\n",
    "    def __init__(self, encoder, encoder_output_features):\n",
    "        super().__init__()\n",
    "        \n",
    "        self.encoder = encoder\n",
    "        \n",
    "        self.fc_grapheme_root = MishHead(encoder_output_features, output_size=168)\n",
    "        self.fc_vowel_diacritic = MishHead(encoder_output_features, output_size=11)\n",
    "        self.fc_consonant_diacritic = MishHead(encoder_output_features, output_size=7)\n",
    "        \n",
    "    def forward(self, inputs):\n",
    "        # Convolution layers\n",
    "        x = self.encoder(inputs)\n",
    "\n",
    "        return [\n",
    "            self.fc_grapheme_root(x),\n",
    "            self.fc_vowel_diacritic(x),\n",
    "            self.fc_consonant_diacritic(x)\n",
    "        ]"
   ]
  },
  {
   "cell_type": "code",
   "execution_count": 25,
   "metadata": {
    "papermill": {
     "duration": 0.041381,
     "end_time": "2020-02-19T06:44:32.042834",
     "exception": false,
     "start_time": "2020-02-19T06:44:32.001453",
     "status": "completed"
    },
    "tags": []
   },
   "outputs": [],
   "source": [
    "class LossCombine(nn.Module):\n",
    "    def __init__(self):\n",
    "        super().__init__()\n",
    "\n",
    "    def forward(self, input, target, reduction='mean'):\n",
    "        x1,x2,x3 = input\n",
    "        x1,x2,x3 = x1.float(), x2.float(), x3.float()\n",
    "        y = target.long()\n",
    "\n",
    "        return (\n",
    "            wandb.config.grapheme_root_weight * F.cross_entropy(\n",
    "                x1, y[:,0], reduction=reduction) +\n",
    "            wandb.config.vowel_diacritic_weight * F.cross_entropy(\n",
    "                x2,y[:,1], reduction=reduction) +\n",
    "            wandb.config.consonant_diacritic_weight * F.cross_entropy(\n",
    "                x3, y[:,2], reduction=reduction)\n",
    "        )"
   ]
  },
  {
   "cell_type": "code",
   "execution_count": 26,
   "metadata": {
    "papermill": {
     "duration": 0.039425,
     "end_time": "2020-02-19T06:44:32.101305",
     "exception": false,
     "start_time": "2020-02-19T06:44:32.061880",
     "status": "completed"
    },
    "tags": []
   },
   "outputs": [],
   "source": [
    "class EfficientNetModel(nn.Module):\n",
    "    def __init__(self, model_name):\n",
    "        super().__init__()\n",
    "        self.m = EfficientNet.from_pretrained(model_name)\n",
    "        \n",
    "    def forward(self, x):\n",
    "        return self.m.extract_features(x)"
   ]
  },
  {
   "cell_type": "code",
   "execution_count": 27,
   "metadata": {
    "papermill": {
     "duration": 0.038597,
     "end_time": "2020-02-19T06:44:32.157505",
     "exception": false,
     "start_time": "2020-02-19T06:44:32.118908",
     "status": "completed"
    },
    "tags": []
   },
   "outputs": [],
   "source": [
    "class RWightmanModel(nn.Module):\n",
    "    def __init__(self, model_name):\n",
    "        super().__init__()\n",
    "        self.m =  timm.create_model(model_name, pretrained=True)\n",
    "        \n",
    "    def forward(self, x):\n",
    "        return self.m.forward_features(x)"
   ]
  },
  {
   "cell_type": "code",
   "execution_count": 28,
   "metadata": {
    "papermill": {
     "duration": 0.038379,
     "end_time": "2020-02-19T06:44:32.213233",
     "exception": false,
     "start_time": "2020-02-19T06:44:32.174854",
     "status": "completed"
    },
    "tags": []
   },
   "outputs": [],
   "source": [
    "class CadeneModel(nn.Module):\n",
    "    def __init__(self, model_name):\n",
    "        super().__init__()\n",
    "\n",
    "        self.m = pretrainedmodels.__dict__[model_name](num_classes=1000, pretrained='imagenet')\n",
    "        layer0_weight = deepcopy(self.m.layer0.conv1.weight)\n",
    "        \n",
    "        self.m.layer0.conv1 = nn.Conv2d(1, 64, kernel_size=7, stride=2, padding=3, bias=False)\n",
    "        self.m.layer0.conv1.weight = nn.Parameter(torch.mean(layer0_weight, dim=1, keepdim=True))\n",
    "        \n",
    "    def forward(self, x):\n",
    "        return self.m.features(x)"
   ]
  },
  {
   "cell_type": "markdown",
   "metadata": {
    "papermill": {
     "duration": 0.017419,
     "end_time": "2020-02-19T06:44:32.248430",
     "exception": false,
     "start_time": "2020-02-19T06:44:32.231011",
     "status": "completed"
    },
    "tags": []
   },
   "source": [
    "## Training"
   ]
  },
  {
   "cell_type": "code",
   "execution_count": 29,
   "metadata": {
    "papermill": {
     "duration": 0.041217,
     "end_time": "2020-02-19T06:44:32.307287",
     "exception": false,
     "start_time": "2020-02-19T06:44:32.266070",
     "status": "completed"
    },
    "tags": []
   },
   "outputs": [],
   "source": [
    "@dataclass\n",
    "class CutoutScheduler(Callback):\n",
    "    learn:Learner\n",
    "    n_holes_max:int=80\n",
    "    max_at_epoch:int=30\n",
    "        \n",
    "    def on_epoch_begin(self, **kwargs):\n",
    "        i = kwargs['iteration']\n",
    "        n_epochs = kwargs['n_epochs']\n",
    "        n_holes_max = int(round(annealing_linear(0, self.n_holes_max, min(i / self.max_at_epoch, 1.))))\n",
    "        n_holes = (max(n_holes_max-10, 0), n_holes_max)\n",
    "        print(n_holes)\n",
    "        self.learn.data.train_ds.tfms[-1].kwargs['n_holes'] = n_holes"
   ]
  },
  {
   "cell_type": "code",
   "execution_count": 30,
   "metadata": {
    "papermill": {
     "duration": 0.324279,
     "end_time": "2020-02-19T06:44:32.649262",
     "exception": false,
     "start_time": "2020-02-19T06:44:32.324983",
     "status": "completed"
    },
    "tags": []
   },
   "outputs": [
    {
     "name": "stdout",
     "output_type": "stream",
     "text": [
      "Loading Cadene model: se_resnext50_32x4d\n"
     ]
    }
   ],
   "source": [
    "if ENCODER_ARCH.startswith('efficientnet-'):\n",
    "    print(f'Loading EfficientNet models: {ENCODER_ARCH}')\n",
    "    encoder = EfficientNetModel(ENCODER_ARCH)\n",
    "    output_feats = encoder.m._fc.in_features\n",
    "elif ENCODER_ARCH in pretrainedmodels.model_names:\n",
    "    print(f\"Loading Cadene model: {ENCODER_ARCH}\")\n",
    "    encoder = CadeneModel(ENCODER_ARCH)\n",
    "    output_feats = encoder.m.last_linear.in_features\n",
    "else:\n",
    "    print(f\"Loading R Wightman model: {ENCODER_ARCH}\")\n",
    "    encoder = RWightmanModel(ENCODER_ARCH)\n",
    "    output_feats = encoder.m.classifier.in_features"
   ]
  },
  {
   "cell_type": "code",
   "execution_count": 31,
   "metadata": {
    "papermill": {
     "duration": 0.170451,
     "end_time": "2020-02-19T06:44:32.840004",
     "exception": false,
     "start_time": "2020-02-19T06:44:32.669553",
     "status": "completed"
    },
    "tags": []
   },
   "outputs": [
    {
     "name": "stdout",
     "output_type": "stream",
     "text": [
      "Convert to fp16\n"
     ]
    }
   ],
   "source": [
    "model = BengaliModel(encoder=encoder, encoder_output_features=output_feats)\n",
    "\n",
    "learner = Learner(\n",
    "    data, model, loss_func=LossCombine(),\n",
    "    metrics=[GraphemeRoot(), VowelDiacritic(), ConsonantDiacritic(), RecallCombine()],\n",
    "    callback_fns=WandbCallback\n",
    ")\n",
    "learner.clip_grad = 1.0\n",
    "learner.split([model.fc_grapheme_root])\n",
    "\n",
    "learner.unfreeze()\n",
    "\n",
    "if wandb.config.use_fp16:\n",
    "    print(\"Convert to fp16\")\n",
    "    learner = learner.to_fp16()"
   ]
  },
  {
   "cell_type": "code",
   "execution_count": 32,
   "metadata": {
    "papermill": {
     "duration": 0.041454,
     "end_time": "2020-02-19T06:44:32.899539",
     "exception": false,
     "start_time": "2020-02-19T06:44:32.858085",
     "status": "completed"
    },
    "tags": []
   },
   "outputs": [],
   "source": [
    "if wandb.config.load_experiment:\n",
    "    print(f'Restoring experiment: {wandb.config.load_experiment}')\n",
    "    wandb.restore('bestmodel.pth', run_path=wandb.config.load_experiment)\n",
    "    learner.load(Path(wandb.run.dir)/'bestmodel')"
   ]
  },
  {
   "cell_type": "code",
   "execution_count": 33,
   "metadata": {
    "papermill": {
     "duration": 0.07852,
     "end_time": "2020-02-19T06:44:32.996067",
     "exception": false,
     "start_time": "2020-02-19T06:44:32.917547",
     "status": "completed"
    },
    "tags": []
   },
   "outputs": [],
   "source": [
    "# learner.lr_find()\n",
    "# learner.recorder.plot()"
   ]
  },
  {
   "cell_type": "code",
   "execution_count": 34,
   "metadata": {
    "papermill": {
     "duration": 31.234357,
     "end_time": "2020-02-19T06:45:04.248335",
     "exception": false,
     "start_time": "2020-02-19T06:44:33.013978",
     "status": "completed"
    },
    "tags": []
   },
   "outputs": [
    {
     "name": "stdout",
     "output_type": "stream",
     "text": [
      "tensor([64.0000,  7.0000,  4.0000, 81.0000,  2.0000,  0.0000,  0.9844])\n"
     ]
    },
    {
     "data": {
      "image/png": "[encoded data removed]",
      "text/plain": [
       "<Figure size 216x216 with 1 Axes>"
      ]
     },
     "metadata": {
      "needs_background": "light"
     },
     "output_type": "display_data"
    },
    {
     "name": "stdout",
     "output_type": "stream",
     "text": [
      "tensor([149.0000,   3.0000,   0.0000,  84.0000,   2.0000,   0.0000,   1.0000])\n"
     ]
    },
    {
     "data": {
      "image/png": "[encoded data removed]",
      "text/plain": [
       "<Figure size 216x216 with 1 Axes>"
      ]
     },
     "metadata": {
      "needs_background": "light"
     },
     "output_type": "display_data"
    },
    {
     "name": "stdout",
     "output_type": "stream",
     "text": [
      "tensor([147.0000,   5.0000,   0.0000, 136.0000,   0.0000,   2.0000,   0.7693])\n"
     ]
    },
    {
     "data": {
      "image/png": "[encoded data removed]",
      "text/plain": [
       "<Figure size 216x216 with 1 Axes>"
      ]
     },
     "metadata": {
      "needs_background": "light"
     },
     "output_type": "display_data"
    },
    {
     "name": "stdout",
     "output_type": "stream",
     "text": [
      "tensor([ 42.0000,   4.0000,   1.0000, 108.0000,   2.0000,   0.0000,   0.9831])\n"
     ]
    },
    {
     "data": {
      "image/png": "[encoded data removed]",
      "text/plain": [
       "<Figure size 216x216 with 1 Axes>"
      ]
     },
     "metadata": {
      "needs_background": "light"
     },
     "output_type": "display_data"
    },
    {
     "name": "stdout",
     "output_type": "stream",
     "text": [
      "tensor([ 81.0000,   3.0000,   0.0000, 115.0000,   4.0000,   0.0000,   0.8594])\n"
     ]
    },
    {
     "data": {
      "image/png": "[encoded data removed]",
      "text/plain": [
       "<Figure size 216x216 with 1 Axes>"
      ]
     },
     "metadata": {
      "needs_background": "light"
     },
     "output_type": "display_data"
    }
   ],
   "source": [
    "%matplotlib inline\n",
    "\n",
    "def show_mixup_or_cutmix(learner):\n",
    "    for i in range(5):\n",
    "        cb = MixUpOrCutMix(learner)\n",
    "        xb, yb = learner.data.one_batch()\n",
    "        tfms = learner.data.train_ds.tfms\n",
    "        for i in range(len(xb)):\n",
    "            xb[i] = Image(xb[i]).apply_tfms(tfms).data\n",
    "        \n",
    "        batch_output = cb.on_batch_begin(xb, yb, True)\n",
    "        \n",
    "        print(batch_output['last_target'][0])\n",
    "        \n",
    "        Image(batch_output['last_input'][0]).show()\n",
    "        \n",
    "        plt.show()\n",
    "        \n",
    "show_mixup_or_cutmix(learner)"
   ]
  },
  {
   "cell_type": "code",
   "execution_count": 35,
   "metadata": {
    "papermill": {
     "duration": 20444.003044,
     "end_time": "2020-02-19T12:25:48.273568",
     "exception": false,
     "start_time": "2020-02-19T06:45:04.270524",
     "status": "completed"
    },
    "tags": []
   },
   "outputs": [
    {
     "data": {
      "text/html": [
       "\n",
       "    <div>\n",
       "        <style>\n",
       "            /* Turns off some styling */\n",
       "            progress {\n",
       "                /* gets rid of default border in Firefox and Opera. */\n",
       "                border: none;\n",
       "                /* Needs to be in here for Safari polyfill so background images work as expected. */\n",
       "                background-size: auto;\n",
       "            }\n",
       "            .progress-bar-interrupted, .progress-bar-interrupted::-webkit-progress-bar {\n",
       "                background: #F44336;\n",
       "            }\n",
       "        </style>\n",
       "      <progress value='67' class='' max='150', style='width:300px; height:20px; vertical-align: middle;'></progress>\n",
       "      44.67% [67/150 5:35:38<6:55:47]\n",
       "    </div>\n",
       "    \n",
       "<table border=\"1\" class=\"dataframe\">\n",
       "  <thead>\n",
       "    <tr style=\"text-align: left;\">\n",
       "      <th>epoch</th>\n",
       "      <th>train_loss</th>\n",
       "      <th>valid_loss</th>\n",
       "      <th>grapheme_root</th>\n",
       "      <th>vowel_diacritic</th>\n",
       "      <th>consonant_diacritic</th>\n",
       "      <th>recall_combine</th>\n",
       "      <th>time</th>\n",
       "    </tr>\n",
       "  </thead>\n",
       "  <tbody>\n",
       "    <tr>\n",
       "      <td>0</td>\n",
       "      <td>2.437694</td>\n",
       "      <td>1.346221</td>\n",
       "      <td>0.481101</td>\n",
       "      <td>0.750496</td>\n",
       "      <td>0.658787</td>\n",
       "      <td>0.592871</td>\n",
       "      <td>05:48</td>\n",
       "    </tr>\n",
       "    <tr>\n",
       "      <td>1</td>\n",
       "      <td>1.999373</td>\n",
       "      <td>0.847397</td>\n",
       "      <td>0.704322</td>\n",
       "      <td>0.868003</td>\n",
       "      <td>0.744031</td>\n",
       "      <td>0.755170</td>\n",
       "      <td>04:56</td>\n",
       "    </tr>\n",
       "    <tr>\n",
       "      <td>2</td>\n",
       "      <td>1.751604</td>\n",
       "      <td>0.622122</td>\n",
       "      <td>0.753396</td>\n",
       "      <td>0.879564</td>\n",
       "      <td>0.845396</td>\n",
       "      <td>0.807938</td>\n",
       "      <td>04:57</td>\n",
       "    </tr>\n",
       "    <tr>\n",
       "      <td>3</td>\n",
       "      <td>1.605137</td>\n",
       "      <td>0.443837</td>\n",
       "      <td>0.842318</td>\n",
       "      <td>0.941787</td>\n",
       "      <td>0.911875</td>\n",
       "      <td>0.884574</td>\n",
       "      <td>04:57</td>\n",
       "    </tr>\n",
       "    <tr>\n",
       "      <td>4</td>\n",
       "      <td>1.701308</td>\n",
       "      <td>0.540698</td>\n",
       "      <td>0.829947</td>\n",
       "      <td>0.925785</td>\n",
       "      <td>0.901611</td>\n",
       "      <td>0.871823</td>\n",
       "      <td>04:57</td>\n",
       "    </tr>\n",
       "    <tr>\n",
       "      <td>5</td>\n",
       "      <td>1.651296</td>\n",
       "      <td>0.532538</td>\n",
       "      <td>0.808154</td>\n",
       "      <td>0.929108</td>\n",
       "      <td>0.886119</td>\n",
       "      <td>0.857884</td>\n",
       "      <td>04:57</td>\n",
       "    </tr>\n",
       "    <tr>\n",
       "      <td>6</td>\n",
       "      <td>1.718460</td>\n",
       "      <td>0.466252</td>\n",
       "      <td>0.843155</td>\n",
       "      <td>0.934330</td>\n",
       "      <td>0.894202</td>\n",
       "      <td>0.878710</td>\n",
       "      <td>04:57</td>\n",
       "    </tr>\n",
       "    <tr>\n",
       "      <td>7</td>\n",
       "      <td>1.558079</td>\n",
       "      <td>0.482156</td>\n",
       "      <td>0.870252</td>\n",
       "      <td>0.946301</td>\n",
       "      <td>0.928716</td>\n",
       "      <td>0.903880</td>\n",
       "      <td>05:00</td>\n",
       "    </tr>\n",
       "    <tr>\n",
       "      <td>8</td>\n",
       "      <td>1.633234</td>\n",
       "      <td>0.467625</td>\n",
       "      <td>0.863987</td>\n",
       "      <td>0.931242</td>\n",
       "      <td>0.932430</td>\n",
       "      <td>0.897912</td>\n",
       "      <td>05:00</td>\n",
       "    </tr>\n",
       "    <tr>\n",
       "      <td>9</td>\n",
       "      <td>1.554277</td>\n",
       "      <td>0.462316</td>\n",
       "      <td>0.857491</td>\n",
       "      <td>0.949483</td>\n",
       "      <td>0.922066</td>\n",
       "      <td>0.896632</td>\n",
       "      <td>04:59</td>\n",
       "    </tr>\n",
       "    <tr>\n",
       "      <td>10</td>\n",
       "      <td>1.376881</td>\n",
       "      <td>0.363831</td>\n",
       "      <td>0.897986</td>\n",
       "      <td>0.959405</td>\n",
       "      <td>0.950857</td>\n",
       "      <td>0.926559</td>\n",
       "      <td>05:01</td>\n",
       "    </tr>\n",
       "    <tr>\n",
       "      <td>11</td>\n",
       "      <td>1.358360</td>\n",
       "      <td>0.386639</td>\n",
       "      <td>0.888532</td>\n",
       "      <td>0.955331</td>\n",
       "      <td>0.929796</td>\n",
       "      <td>0.915548</td>\n",
       "      <td>05:02</td>\n",
       "    </tr>\n",
       "    <tr>\n",
       "      <td>12</td>\n",
       "      <td>1.512408</td>\n",
       "      <td>0.414133</td>\n",
       "      <td>0.896869</td>\n",
       "      <td>0.963469</td>\n",
       "      <td>0.932117</td>\n",
       "      <td>0.922331</td>\n",
       "      <td>05:00</td>\n",
       "    </tr>\n",
       "    <tr>\n",
       "      <td>13</td>\n",
       "      <td>1.350030</td>\n",
       "      <td>0.299167</td>\n",
       "      <td>0.907773</td>\n",
       "      <td>0.964369</td>\n",
       "      <td>0.962941</td>\n",
       "      <td>0.935714</td>\n",
       "      <td>05:01</td>\n",
       "    </tr>\n",
       "    <tr>\n",
       "      <td>14</td>\n",
       "      <td>1.439373</td>\n",
       "      <td>0.311275</td>\n",
       "      <td>0.899832</td>\n",
       "      <td>0.960071</td>\n",
       "      <td>0.949403</td>\n",
       "      <td>0.927285</td>\n",
       "      <td>05:01</td>\n",
       "    </tr>\n",
       "    <tr>\n",
       "      <td>15</td>\n",
       "      <td>1.304515</td>\n",
       "      <td>0.250386</td>\n",
       "      <td>0.916365</td>\n",
       "      <td>0.969246</td>\n",
       "      <td>0.952010</td>\n",
       "      <td>0.938497</td>\n",
       "      <td>05:01</td>\n",
       "    </tr>\n",
       "    <tr>\n",
       "      <td>16</td>\n",
       "      <td>1.404906</td>\n",
       "      <td>0.350337</td>\n",
       "      <td>0.910907</td>\n",
       "      <td>0.964723</td>\n",
       "      <td>0.953601</td>\n",
       "      <td>0.935035</td>\n",
       "      <td>05:01</td>\n",
       "    </tr>\n",
       "    <tr>\n",
       "      <td>17</td>\n",
       "      <td>1.301031</td>\n",
       "      <td>0.285252</td>\n",
       "      <td>0.898806</td>\n",
       "      <td>0.960360</td>\n",
       "      <td>0.942672</td>\n",
       "      <td>0.925161</td>\n",
       "      <td>05:00</td>\n",
       "    </tr>\n",
       "    <tr>\n",
       "      <td>18</td>\n",
       "      <td>1.401207</td>\n",
       "      <td>0.283804</td>\n",
       "      <td>0.911720</td>\n",
       "      <td>0.963749</td>\n",
       "      <td>0.952800</td>\n",
       "      <td>0.934997</td>\n",
       "      <td>05:01</td>\n",
       "    </tr>\n",
       "    <tr>\n",
       "      <td>19</td>\n",
       "      <td>1.350048</td>\n",
       "      <td>0.330363</td>\n",
       "      <td>0.907263</td>\n",
       "      <td>0.967476</td>\n",
       "      <td>0.952962</td>\n",
       "      <td>0.933741</td>\n",
       "      <td>05:00</td>\n",
       "    </tr>\n",
       "    <tr>\n",
       "      <td>20</td>\n",
       "      <td>1.330587</td>\n",
       "      <td>0.228577</td>\n",
       "      <td>0.912064</td>\n",
       "      <td>0.968435</td>\n",
       "      <td>0.964281</td>\n",
       "      <td>0.939211</td>\n",
       "      <td>05:01</td>\n",
       "    </tr>\n",
       "    <tr>\n",
       "      <td>21</td>\n",
       "      <td>1.317478</td>\n",
       "      <td>0.317337</td>\n",
       "      <td>0.912865</td>\n",
       "      <td>0.966422</td>\n",
       "      <td>0.948607</td>\n",
       "      <td>0.935190</td>\n",
       "      <td>05:01</td>\n",
       "    </tr>\n",
       "    <tr>\n",
       "      <td>22</td>\n",
       "      <td>1.306378</td>\n",
       "      <td>0.261877</td>\n",
       "      <td>0.917036</td>\n",
       "      <td>0.971291</td>\n",
       "      <td>0.959489</td>\n",
       "      <td>0.941213</td>\n",
       "      <td>05:01</td>\n",
       "    </tr>\n",
       "    <tr>\n",
       "      <td>23</td>\n",
       "      <td>1.217893</td>\n",
       "      <td>0.253450</td>\n",
       "      <td>0.916247</td>\n",
       "      <td>0.972191</td>\n",
       "      <td>0.959597</td>\n",
       "      <td>0.941070</td>\n",
       "      <td>05:00</td>\n",
       "    </tr>\n",
       "    <tr>\n",
       "      <td>24</td>\n",
       "      <td>1.282439</td>\n",
       "      <td>0.279821</td>\n",
       "      <td>0.921288</td>\n",
       "      <td>0.968779</td>\n",
       "      <td>0.947550</td>\n",
       "      <td>0.939726</td>\n",
       "      <td>05:01</td>\n",
       "    </tr>\n",
       "    <tr>\n",
       "      <td>25</td>\n",
       "      <td>1.240820</td>\n",
       "      <td>0.237279</td>\n",
       "      <td>0.921603</td>\n",
       "      <td>0.970847</td>\n",
       "      <td>0.959745</td>\n",
       "      <td>0.943449</td>\n",
       "      <td>05:00</td>\n",
       "    </tr>\n",
       "    <tr>\n",
       "      <td>26</td>\n",
       "      <td>1.322274</td>\n",
       "      <td>0.354192</td>\n",
       "      <td>0.923126</td>\n",
       "      <td>0.969642</td>\n",
       "      <td>0.956667</td>\n",
       "      <td>0.943141</td>\n",
       "      <td>05:00</td>\n",
       "    </tr>\n",
       "    <tr>\n",
       "      <td>27</td>\n",
       "      <td>1.254372</td>\n",
       "      <td>0.210920</td>\n",
       "      <td>0.927917</td>\n",
       "      <td>0.970630</td>\n",
       "      <td>0.967270</td>\n",
       "      <td>0.948434</td>\n",
       "      <td>04:58</td>\n",
       "    </tr>\n",
       "    <tr>\n",
       "      <td>28</td>\n",
       "      <td>1.273010</td>\n",
       "      <td>0.285261</td>\n",
       "      <td>0.928362</td>\n",
       "      <td>0.971693</td>\n",
       "      <td>0.962652</td>\n",
       "      <td>0.947767</td>\n",
       "      <td>04:58</td>\n",
       "    </tr>\n",
       "    <tr>\n",
       "      <td>29</td>\n",
       "      <td>1.220039</td>\n",
       "      <td>0.236347</td>\n",
       "      <td>0.929009</td>\n",
       "      <td>0.970876</td>\n",
       "      <td>0.965138</td>\n",
       "      <td>0.948508</td>\n",
       "      <td>04:58</td>\n",
       "    </tr>\n",
       "    <tr>\n",
       "      <td>30</td>\n",
       "      <td>1.347451</td>\n",
       "      <td>0.259324</td>\n",
       "      <td>0.927113</td>\n",
       "      <td>0.970521</td>\n",
       "      <td>0.959023</td>\n",
       "      <td>0.945943</td>\n",
       "      <td>04:58</td>\n",
       "    </tr>\n",
       "    <tr>\n",
       "      <td>31</td>\n",
       "      <td>1.157025</td>\n",
       "      <td>0.209576</td>\n",
       "      <td>0.930359</td>\n",
       "      <td>0.972629</td>\n",
       "      <td>0.961999</td>\n",
       "      <td>0.948836</td>\n",
       "      <td>04:57</td>\n",
       "    </tr>\n",
       "    <tr>\n",
       "      <td>32</td>\n",
       "      <td>1.374581</td>\n",
       "      <td>0.264397</td>\n",
       "      <td>0.926567</td>\n",
       "      <td>0.974878</td>\n",
       "      <td>0.962536</td>\n",
       "      <td>0.947637</td>\n",
       "      <td>04:57</td>\n",
       "    </tr>\n",
       "    <tr>\n",
       "      <td>33</td>\n",
       "      <td>1.196433</td>\n",
       "      <td>0.252540</td>\n",
       "      <td>0.926440</td>\n",
       "      <td>0.970672</td>\n",
       "      <td>0.963931</td>\n",
       "      <td>0.946871</td>\n",
       "      <td>04:57</td>\n",
       "    </tr>\n",
       "    <tr>\n",
       "      <td>34</td>\n",
       "      <td>1.206605</td>\n",
       "      <td>0.237998</td>\n",
       "      <td>0.926800</td>\n",
       "      <td>0.970909</td>\n",
       "      <td>0.967599</td>\n",
       "      <td>0.948027</td>\n",
       "      <td>04:58</td>\n",
       "    </tr>\n",
       "    <tr>\n",
       "      <td>35</td>\n",
       "      <td>1.253032</td>\n",
       "      <td>0.213565</td>\n",
       "      <td>0.934030</td>\n",
       "      <td>0.975023</td>\n",
       "      <td>0.969359</td>\n",
       "      <td>0.953110</td>\n",
       "      <td>04:58</td>\n",
       "    </tr>\n",
       "    <tr>\n",
       "      <td>36</td>\n",
       "      <td>1.298259</td>\n",
       "      <td>0.264406</td>\n",
       "      <td>0.930660</td>\n",
       "      <td>0.972481</td>\n",
       "      <td>0.963391</td>\n",
       "      <td>0.949298</td>\n",
       "      <td>04:58</td>\n",
       "    </tr>\n",
       "    <tr>\n",
       "      <td>37</td>\n",
       "      <td>1.255566</td>\n",
       "      <td>0.247011</td>\n",
       "      <td>0.931756</td>\n",
       "      <td>0.976390</td>\n",
       "      <td>0.965905</td>\n",
       "      <td>0.951452</td>\n",
       "      <td>04:57</td>\n",
       "    </tr>\n",
       "    <tr>\n",
       "      <td>38</td>\n",
       "      <td>1.314198</td>\n",
       "      <td>0.249298</td>\n",
       "      <td>0.930736</td>\n",
       "      <td>0.974345</td>\n",
       "      <td>0.969527</td>\n",
       "      <td>0.951336</td>\n",
       "      <td>04:58</td>\n",
       "    </tr>\n",
       "    <tr>\n",
       "      <td>39</td>\n",
       "      <td>1.178230</td>\n",
       "      <td>0.206039</td>\n",
       "      <td>0.939411</td>\n",
       "      <td>0.975685</td>\n",
       "      <td>0.969337</td>\n",
       "      <td>0.955961</td>\n",
       "      <td>04:58</td>\n",
       "    </tr>\n",
       "    <tr>\n",
       "      <td>40</td>\n",
       "      <td>1.175562</td>\n",
       "      <td>0.192726</td>\n",
       "      <td>0.937509</td>\n",
       "      <td>0.977082</td>\n",
       "      <td>0.966766</td>\n",
       "      <td>0.954717</td>\n",
       "      <td>04:58</td>\n",
       "    </tr>\n",
       "    <tr>\n",
       "      <td>41</td>\n",
       "      <td>1.265572</td>\n",
       "      <td>0.225819</td>\n",
       "      <td>0.935159</td>\n",
       "      <td>0.975952</td>\n",
       "      <td>0.972564</td>\n",
       "      <td>0.954709</td>\n",
       "      <td>04:58</td>\n",
       "    </tr>\n",
       "    <tr>\n",
       "      <td>42</td>\n",
       "      <td>1.145767</td>\n",
       "      <td>0.217726</td>\n",
       "      <td>0.934544</td>\n",
       "      <td>0.976292</td>\n",
       "      <td>0.967211</td>\n",
       "      <td>0.953148</td>\n",
       "      <td>04:58</td>\n",
       "    </tr>\n",
       "    <tr>\n",
       "      <td>43</td>\n",
       "      <td>1.237035</td>\n",
       "      <td>0.253609</td>\n",
       "      <td>0.933497</td>\n",
       "      <td>0.975160</td>\n",
       "      <td>0.966720</td>\n",
       "      <td>0.952218</td>\n",
       "      <td>04:58</td>\n",
       "    </tr>\n",
       "    <tr>\n",
       "      <td>44</td>\n",
       "      <td>1.051709</td>\n",
       "      <td>0.199536</td>\n",
       "      <td>0.936062</td>\n",
       "      <td>0.976604</td>\n",
       "      <td>0.969102</td>\n",
       "      <td>0.954457</td>\n",
       "      <td>04:58</td>\n",
       "    </tr>\n",
       "    <tr>\n",
       "      <td>45</td>\n",
       "      <td>1.081588</td>\n",
       "      <td>0.213066</td>\n",
       "      <td>0.938164</td>\n",
       "      <td>0.977903</td>\n",
       "      <td>0.971309</td>\n",
       "      <td>0.956385</td>\n",
       "      <td>04:58</td>\n",
       "    </tr>\n",
       "    <tr>\n",
       "      <td>46</td>\n",
       "      <td>1.183973</td>\n",
       "      <td>0.179637</td>\n",
       "      <td>0.938586</td>\n",
       "      <td>0.978204</td>\n",
       "      <td>0.970644</td>\n",
       "      <td>0.956505</td>\n",
       "      <td>04:58</td>\n",
       "    </tr>\n",
       "    <tr>\n",
       "      <td>47</td>\n",
       "      <td>1.229982</td>\n",
       "      <td>0.258711</td>\n",
       "      <td>0.933292</td>\n",
       "      <td>0.975806</td>\n",
       "      <td>0.964862</td>\n",
       "      <td>0.951813</td>\n",
       "      <td>04:58</td>\n",
       "    </tr>\n",
       "    <tr>\n",
       "      <td>48</td>\n",
       "      <td>1.164611</td>\n",
       "      <td>0.198806</td>\n",
       "      <td>0.938592</td>\n",
       "      <td>0.978241</td>\n",
       "      <td>0.968091</td>\n",
       "      <td>0.955879</td>\n",
       "      <td>04:58</td>\n",
       "    </tr>\n",
       "    <tr>\n",
       "      <td>49</td>\n",
       "      <td>1.183740</td>\n",
       "      <td>0.227977</td>\n",
       "      <td>0.937739</td>\n",
       "      <td>0.976258</td>\n",
       "      <td>0.968191</td>\n",
       "      <td>0.954982</td>\n",
       "      <td>04:58</td>\n",
       "    </tr>\n",
       "    <tr>\n",
       "      <td>50</td>\n",
       "      <td>1.196346</td>\n",
       "      <td>0.209741</td>\n",
       "      <td>0.935795</td>\n",
       "      <td>0.975816</td>\n",
       "      <td>0.970318</td>\n",
       "      <td>0.954431</td>\n",
       "      <td>04:58</td>\n",
       "    </tr>\n",
       "    <tr>\n",
       "      <td>51</td>\n",
       "      <td>1.076648</td>\n",
       "      <td>0.200503</td>\n",
       "      <td>0.937477</td>\n",
       "      <td>0.976975</td>\n",
       "      <td>0.966787</td>\n",
       "      <td>0.954679</td>\n",
       "      <td>04:58</td>\n",
       "    </tr>\n",
       "    <tr>\n",
       "      <td>52</td>\n",
       "      <td>1.094149</td>\n",
       "      <td>0.221130</td>\n",
       "      <td>0.937783</td>\n",
       "      <td>0.977067</td>\n",
       "      <td>0.971745</td>\n",
       "      <td>0.956095</td>\n",
       "      <td>04:58</td>\n",
       "    </tr>\n",
       "    <tr>\n",
       "      <td>53</td>\n",
       "      <td>1.177904</td>\n",
       "      <td>0.232619</td>\n",
       "      <td>0.935911</td>\n",
       "      <td>0.976204</td>\n",
       "      <td>0.969008</td>\n",
       "      <td>0.954259</td>\n",
       "      <td>04:58</td>\n",
       "    </tr>\n",
       "    <tr>\n",
       "      <td>54</td>\n",
       "      <td>1.167615</td>\n",
       "      <td>0.203192</td>\n",
       "      <td>0.938963</td>\n",
       "      <td>0.977300</td>\n",
       "      <td>0.973539</td>\n",
       "      <td>0.957191</td>\n",
       "      <td>04:58</td>\n",
       "    </tr>\n",
       "    <tr>\n",
       "      <td>55</td>\n",
       "      <td>1.021891</td>\n",
       "      <td>0.192262</td>\n",
       "      <td>0.936791</td>\n",
       "      <td>0.975989</td>\n",
       "      <td>0.973590</td>\n",
       "      <td>0.955790</td>\n",
       "      <td>04:58</td>\n",
       "    </tr>\n",
       "    <tr>\n",
       "      <td>56</td>\n",
       "      <td>1.154205</td>\n",
       "      <td>0.227795</td>\n",
       "      <td>0.934418</td>\n",
       "      <td>0.975200</td>\n",
       "      <td>0.969752</td>\n",
       "      <td>0.953447</td>\n",
       "      <td>04:58</td>\n",
       "    </tr>\n",
       "    <tr>\n",
       "      <td>57</td>\n",
       "      <td>1.124543</td>\n",
       "      <td>0.213696</td>\n",
       "      <td>0.938063</td>\n",
       "      <td>0.975689</td>\n",
       "      <td>0.965714</td>\n",
       "      <td>0.954382</td>\n",
       "      <td>04:58</td>\n",
       "    </tr>\n",
       "    <tr>\n",
       "      <td>58</td>\n",
       "      <td>1.184007</td>\n",
       "      <td>0.185537</td>\n",
       "      <td>0.937963</td>\n",
       "      <td>0.978018</td>\n",
       "      <td>0.969479</td>\n",
       "      <td>0.955856</td>\n",
       "      <td>04:58</td>\n",
       "    </tr>\n",
       "    <tr>\n",
       "      <td>59</td>\n",
       "      <td>1.103427</td>\n",
       "      <td>0.188796</td>\n",
       "      <td>0.938937</td>\n",
       "      <td>0.977269</td>\n",
       "      <td>0.971415</td>\n",
       "      <td>0.956640</td>\n",
       "      <td>04:58</td>\n",
       "    </tr>\n",
       "    <tr>\n",
       "      <td>60</td>\n",
       "      <td>1.163600</td>\n",
       "      <td>0.218402</td>\n",
       "      <td>0.937333</td>\n",
       "      <td>0.976716</td>\n",
       "      <td>0.971286</td>\n",
       "      <td>0.955667</td>\n",
       "      <td>04:58</td>\n",
       "    </tr>\n",
       "    <tr>\n",
       "      <td>61</td>\n",
       "      <td>1.033847</td>\n",
       "      <td>0.212012</td>\n",
       "      <td>0.936392</td>\n",
       "      <td>0.976916</td>\n",
       "      <td>0.973454</td>\n",
       "      <td>0.955789</td>\n",
       "      <td>04:58</td>\n",
       "    </tr>\n",
       "    <tr>\n",
       "      <td>62</td>\n",
       "      <td>1.148828</td>\n",
       "      <td>0.209481</td>\n",
       "      <td>0.938686</td>\n",
       "      <td>0.976247</td>\n",
       "      <td>0.972460</td>\n",
       "      <td>0.956520</td>\n",
       "      <td>04:58</td>\n",
       "    </tr>\n",
       "    <tr>\n",
       "      <td>63</td>\n",
       "      <td>1.150441</td>\n",
       "      <td>0.231221</td>\n",
       "      <td>0.938043</td>\n",
       "      <td>0.976995</td>\n",
       "      <td>0.969769</td>\n",
       "      <td>0.955712</td>\n",
       "      <td>04:58</td>\n",
       "    </tr>\n",
       "    <tr>\n",
       "      <td>64</td>\n",
       "      <td>1.199860</td>\n",
       "      <td>0.223846</td>\n",
       "      <td>0.938439</td>\n",
       "      <td>0.977265</td>\n",
       "      <td>0.970590</td>\n",
       "      <td>0.956183</td>\n",
       "      <td>04:58</td>\n",
       "    </tr>\n",
       "    <tr>\n",
       "      <td>65</td>\n",
       "      <td>1.244654</td>\n",
       "      <td>0.255584</td>\n",
       "      <td>0.937700</td>\n",
       "      <td>0.976028</td>\n",
       "      <td>0.968501</td>\n",
       "      <td>0.954982</td>\n",
       "      <td>04:58</td>\n",
       "    </tr>\n",
       "    <tr>\n",
       "      <td>66</td>\n",
       "      <td>1.192710</td>\n",
       "      <td>0.250169</td>\n",
       "      <td>0.936514</td>\n",
       "      <td>0.976362</td>\n",
       "      <td>0.968016</td>\n",
       "      <td>0.954351</td>\n",
       "      <td>04:59</td>\n",
       "    </tr>\n",
       "  </tbody>\n",
       "</table><p>\n",
       "\n",
       "    <div>\n",
       "        <style>\n",
       "            /* Turns off some styling */\n",
       "            progress {\n",
       "                /* gets rid of default border in Firefox and Opera. */\n",
       "                border: none;\n",
       "                /* Needs to be in here for Safari polyfill so background images work as expected. */\n",
       "                background-size: auto;\n",
       "            }\n",
       "            .progress-bar-interrupted, .progress-bar-interrupted::-webkit-progress-bar {\n",
       "                background: #F44336;\n",
       "            }\n",
       "        </style>\n",
       "      <progress value='45' class='' max='45', style='width:300px; height:20px; vertical-align: middle;'></progress>\n",
       "      100.00% [45/45 00:30<00:00]\n",
       "    </div>\n",
       "    "
      ],
      "text/plain": [
       "<IPython.core.display.HTML object>"
      ]
     },
     "metadata": {},
     "output_type": "display_data"
    },
    {
     "name": "stderr",
     "output_type": "stream",
     "text": [
      "Failed to query for notebook name, you can set it manually with the WANDB_NOTEBOOK_NAME environment variable\n"
     ]
    },
    {
     "name": "stderr",
     "output_type": "stream",
     "text": [
      "wandb: Wandb version 0.8.27 is available!  To upgrade, please run:\n",
      "wandb:  $ pip install wandb --upgrade\n"
     ]
    },
    {
     "name": "stdout",
     "output_type": "stream",
     "text": [
      "Better model found at epoch 0 with valid_loss value: 1.3462210893630981.\n"
     ]
    },
    {
     "name": "stdout",
     "output_type": "stream",
     "text": [
      "Better model found at epoch 0 with recall_combine value: 0.5928710699081421.\n"
     ]
    },
    {
     "name": "stdout",
     "output_type": "stream",
     "text": [
      "Better model found at epoch 1 with valid_loss value: 0.8473972678184509.\n"
     ]
    },
    {
     "name": "stdout",
     "output_type": "stream",
     "text": [
      "Better model found at epoch 1 with recall_combine value: 0.7551697492599487.\n"
     ]
    },
    {
     "name": "stdout",
     "output_type": "stream",
     "text": [
      "Better model found at epoch 2 with valid_loss value: 0.6221215724945068.\n"
     ]
    },
    {
     "name": "stdout",
     "output_type": "stream",
     "text": [
      "Better model found at epoch 2 with recall_combine value: 0.8079379796981812.\n"
     ]
    },
    {
     "name": "stdout",
     "output_type": "stream",
     "text": [
      "Better model found at epoch 3 with valid_loss value: 0.4438371956348419.\n"
     ]
    },
    {
     "name": "stdout",
     "output_type": "stream",
     "text": [
      "Better model found at epoch 3 with recall_combine value: 0.8845744132995605.\n"
     ]
    },
    {
     "name": "stdout",
     "output_type": "stream",
     "text": [
      "Better model found at epoch 7 with recall_combine value: 0.9038804173469543.\n"
     ]
    },
    {
     "name": "stdout",
     "output_type": "stream",
     "text": [
      "Epoch 9: reducing lr to 0.0015\n"
     ]
    },
    {
     "name": "stdout",
     "output_type": "stream",
     "text": [
      "Better model found at epoch 10 with valid_loss value: 0.3638308644294739.\n"
     ]
    },
    {
     "name": "stdout",
     "output_type": "stream",
     "text": [
      "Better model found at epoch 10 with recall_combine value: 0.9265588521957397.\n"
     ]
    },
    {
     "name": "stdout",
     "output_type": "stream",
     "text": [
      "Better model found at epoch 13 with valid_loss value: 0.29916733503341675.\n"
     ]
    },
    {
     "name": "stdout",
     "output_type": "stream",
     "text": [
      "Better model found at epoch 13 with recall_combine value: 0.9357140064239502.\n"
     ]
    },
    {
     "name": "stdout",
     "output_type": "stream",
     "text": [
      "Better model found at epoch 15 with valid_loss value: 0.25038594007492065.\n"
     ]
    },
    {
     "name": "stdout",
     "output_type": "stream",
     "text": [
      "Better model found at epoch 15 with recall_combine value: 0.9384966492652893.\n"
     ]
    },
    {
     "name": "stdout",
     "output_type": "stream",
     "text": [
      "Better model found at epoch 20 with valid_loss value: 0.22857652604579926.\n"
     ]
    },
    {
     "name": "stdout",
     "output_type": "stream",
     "text": [
      "Better model found at epoch 20 with recall_combine value: 0.9392108917236328.\n"
     ]
    },
    {
     "name": "stdout",
     "output_type": "stream",
     "text": [
      "Better model found at epoch 22 with recall_combine value: 0.9412130117416382.\n"
     ]
    },
    {
     "name": "stdout",
     "output_type": "stream",
     "text": [
      "Better model found at epoch 25 with recall_combine value: 0.9434494376182556.\n"
     ]
    },
    {
     "name": "stdout",
     "output_type": "stream",
     "text": [
      "Epoch 26: reducing lr to 0.00075\n"
     ]
    },
    {
     "name": "stdout",
     "output_type": "stream",
     "text": [
      "Better model found at epoch 27 with valid_loss value: 0.21091997623443604.\n"
     ]
    },
    {
     "name": "stdout",
     "output_type": "stream",
     "text": [
      "Better model found at epoch 27 with recall_combine value: 0.9484336376190186.\n"
     ]
    },
    {
     "name": "stdout",
     "output_type": "stream",
     "text": [
      "Better model found at epoch 29 with recall_combine value: 0.9485077857971191.\n"
     ]
    },
    {
     "name": "stdout",
     "output_type": "stream",
     "text": [
      "Better model found at epoch 31 with valid_loss value: 0.2095761001110077.\n"
     ]
    },
    {
     "name": "stdout",
     "output_type": "stream",
     "text": [
      "Better model found at epoch 31 with recall_combine value: 0.9488362669944763.\n"
     ]
    },
    {
     "name": "stdout",
     "output_type": "stream",
     "text": [
      "Better model found at epoch 35 with recall_combine value: 0.95311039686203.\n"
     ]
    },
    {
     "name": "stdout",
     "output_type": "stream",
     "text": [
      "Epoch 37: reducing lr to 0.000375\n"
     ]
    },
    {
     "name": "stdout",
     "output_type": "stream",
     "text": [
      "Better model found at epoch 39 with valid_loss value: 0.20603908598423004.\n"
     ]
    },
    {
     "name": "stdout",
     "output_type": "stream",
     "text": [
      "Better model found at epoch 39 with recall_combine value: 0.9559608697891235.\n"
     ]
    },
    {
     "name": "stdout",
     "output_type": "stream",
     "text": [
      "Better model found at epoch 40 with valid_loss value: 0.19272592663764954.\n"
     ]
    },
    {
     "name": "stdout",
     "output_type": "stream",
     "text": [
      "Better model found at epoch 45 with recall_combine value: 0.9563848376274109.\n"
     ]
    },
    {
     "name": "stdout",
     "output_type": "stream",
     "text": [
      "Better model found at epoch 46 with valid_loss value: 0.17963653802871704.\n"
     ]
    },
    {
     "name": "stdout",
     "output_type": "stream",
     "text": [
      "Better model found at epoch 46 with recall_combine value: 0.9565048217773438.\n"
     ]
    },
    {
     "name": "stdout",
     "output_type": "stream",
     "text": [
      "Epoch 52: reducing lr to 0.0001875\n"
     ]
    },
    {
     "name": "stdout",
     "output_type": "stream",
     "text": [
      "Better model found at epoch 54 with recall_combine value: 0.957190990447998.\n"
     ]
    },
    {
     "name": "stdout",
     "output_type": "stream",
     "text": [
      "Epoch 58: reducing lr to 9.375e-05\n"
     ]
    },
    {
     "name": "stdout",
     "output_type": "stream",
     "text": [
      "Epoch 64: reducing lr to 4.6875e-05\n"
     ]
    },
    {
     "name": "stdout",
     "output_type": "stream",
     "text": [
      "Epoch 67: early stopping\n"
     ]
    },
    {
     "name": "stdout",
     "output_type": "stream",
     "text": [
      "Loaded best saved model from /home/lextoumbourou/bengaliai-cv19/wandb/run-20200219_064418-vl79qlbs/bestmodel.pth\n"
     ]
    }
   ],
   "source": [
    "callbacks=[\n",
    "    CSVLogger(learner, OUTPUT_PATH/'history.csv'),\n",
    "    SaveModelCallback(\n",
    "        learner, monitor='recall_combine', mode='max', name=NAME\n",
    "    ),\n",
    "    # MixUpCallback(learner),\n",
    "    # CutMixCallback(learner),\n",
    "    MixUpOrCutMix(learner),\n",
    "    ReduceLROnPlateauCallback(\n",
    "        learner, patience=wandb.config.reduce_lr_patience,\n",
    "        monitor='valid_loss', mode='min', min_lr=1e-6, factor=wandb.config.reduce_lr_factor\n",
    "    ),\n",
    "    EarlyStoppingCallback(learner, monitor='valid_loss', mode='min', patience=wandb.config.early_stop_patience)\n",
    "]\n",
    "\n",
    "if wandb.config.prog_sprinkles:\n",
    "    callbacks.append(CutoutScheduler(learner, n_holes_max=80))\n",
    "    \n",
    "learner.fit(\n",
    "    wandb.config.max_epochs,\n",
    "    LR,\n",
    "    callbacks=callbacks\n",
    ")"
   ]
  },
  {
   "cell_type": "code",
   "execution_count": 36,
   "metadata": {
    "papermill": {
     "duration": 0.339047,
     "end_time": "2020-02-19T12:25:48.648874",
     "exception": false,
     "start_time": "2020-02-19T12:25:48.309827",
     "status": "completed"
    },
    "tags": []
   },
   "outputs": [
    {
     "data": {
      "image/png": "[encoded data removed]",
      "text/plain": [
       "<Figure size 432x288 with 1 Axes>"
      ]
     },
     "metadata": {
      "needs_background": "light"
     },
     "output_type": "display_data"
    }
   ],
   "source": [
    "learner.recorder.plot_losses()"
   ]
  },
  {
   "cell_type": "code",
   "execution_count": 37,
   "metadata": {
    "papermill": {
     "duration": 0.264197,
     "end_time": "2020-02-19T12:25:48.948939",
     "exception": false,
     "start_time": "2020-02-19T12:25:48.684742",
     "status": "completed"
    },
    "tags": []
   },
   "outputs": [
    {
     "data": {
      "image/png": "[encoded data removed]",
      "text/plain": [
       "<Figure size 432x288 with 1 Axes>"
      ]
     },
     "metadata": {
      "needs_background": "light"
     },
     "output_type": "display_data"
    }
   ],
   "source": [
    "learner.recorder.plot_lr()"
   ]
  },
  {
   "cell_type": "code",
   "execution_count": null,
   "metadata": {
    "papermill": {
     "duration": 0.040116,
     "end_time": "2020-02-19T12:25:49.035230",
     "exception": false,
     "start_time": "2020-02-19T12:25:48.995114",
     "status": "completed"
    },
    "tags": []
   },
   "outputs": [],
   "source": []
  }
 ],
 "metadata": {
  "celltoolbar": "Tags",
  "kernelspec": {
   "display_name": "Python 3",
   "language": "python",
   "name": "python3"
  },
  "language_info": {
   "codemirror_mode": {
    "name": "ipython",
    "version": 3
   },
   "file_extension": ".py",
   "mimetype": "text/x-python",
   "name": "python",
   "nbconvert_exporter": "python",
   "pygments_lexer": "ipython3",
   "version": "3.7.4"
  },
  "papermill": {
   "duration": 20501.339922,
   "end_time": "2020-02-19T12:25:54.927037",
   "environment_variables": {},
   "exception": null,
   "input_path": "nbs/templates/fastai.ipynb",
   "output_path": "nbs/output/se_resnext50_lower_reduce_factor.ipynb",
   "parameters": {
    "BATCH_SIZE": 896,
    "ENCODER_ARCH": "se_resnext50_32x4d",
    "IMG_SIZE": 64,
    "NAME": "se_resnext50_lower_reduce_factor",
    "OUTPUT_VAL_SIZE": null,
    "REDUCE_LR_FACTOR": 0.5,
    "REDUCE_LR_PATIENCE": 5,
    "USE_CUTMIX": true,
    "USE_FP16": true,
    "USE_MIXUP": true,
    "WANDB_MODE": "run"
   },
   "start_time": "2020-02-19T06:44:13.587115",
   "version": "1.2.1"
  },
  "toc": {
   "base_numbering": 1,
   "nav_menu": {},
   "number_sections": true,
   "sideBar": true,
   "skip_h1_title": false,
   "title_cell": "Table of Contents",
   "title_sidebar": "Contents",
   "toc_cell": false,
   "toc_position": {},
   "toc_section_display": true,
   "toc_window_display": false
  }
 },
 "nbformat": 4,
 "nbformat_minor": 4
}