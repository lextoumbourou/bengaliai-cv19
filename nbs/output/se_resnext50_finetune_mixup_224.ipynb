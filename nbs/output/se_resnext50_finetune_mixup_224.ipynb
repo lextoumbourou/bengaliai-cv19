{
 "cells": [
  {
   "cell_type": "code",
   "execution_count": 1,
   "metadata": {
    "papermill": {
     "duration": 2.853461,
     "end_time": "2020-02-15T12:54:45.797947",
     "exception": false,
     "start_time": "2020-02-15T12:54:42.944486",
     "status": "completed"
    },
    "tags": []
   },
   "outputs": [],
   "source": [
    "%load_ext autoreload\n",
    "%autoreload 2\n",
    "\n",
    "import matplotlib.pyplot as plt\n",
    "%matplotlib inline\n",
    "\n",
    "import os\n",
    "import sys\n",
    "from pathlib import Path\n",
    "import pandas as pd\n",
    "\n",
    "from fastai.vision import *\n",
    "from fastai.callbacks import *\n",
    "from fastai.layers import AdaptiveConcatPool2d\n",
    "import torch\n",
    "from efficientnet_pytorch import EfficientNet\n",
    "import wandb\n",
    "from wandb.fastai import WandbCallback\n",
    "import timm\n",
    "import pretrainedmodels\n",
    "from kornia.losses import FocalLoss\n",
    "from fastai2.layers import MishJit\n",
    "from sklearn.utils.class_weight import compute_class_weight\n",
    "\n",
    "from sklearn.metrics import recall_score\n",
    "\n",
    "\n",
    "def seed_everything(seed):\n",
    "    random.seed(seed)\n",
    "    os.environ['PYTHONHASHSEED'] = str(seed)\n",
    "    np.random.seed(seed)\n",
    "    torch.manual_seed(seed)\n",
    "    torch.cuda.manual_seed_all(seed)\n",
    "    torch.cuda.manual_seed(seed)\n",
    "    torch.backends.cudnn.deterministic = True"
   ]
  },
  {
   "cell_type": "markdown",
   "metadata": {
    "papermill": {
     "duration": 0.015804,
     "end_time": "2020-02-15T12:54:45.829075",
     "exception": false,
     "start_time": "2020-02-15T12:54:45.813271",
     "status": "completed"
    },
    "tags": []
   },
   "source": [
    "## Params"
   ]
  },
  {
   "cell_type": "code",
   "execution_count": 2,
   "metadata": {
    "papermill": {
     "duration": 0.042397,
     "end_time": "2020-02-15T12:54:45.886943",
     "exception": false,
     "start_time": "2020-02-15T12:54:45.844546",
     "status": "completed"
    },
    "tags": [
     "parameters"
    ]
   },
   "outputs": [],
   "source": [
    "NAME = ''\n",
    "WANDB_MODE = 'dryrun'\n",
    "\n",
    "DATA_PATH = Path('/home/lextoumbourou/bengaliai-cv19/data')\n",
    "IMAGE_DATA_PATH = Path(DATA_PATH/'224x224')\n",
    "OUTPUT_PATH = Path(DATA_PATH/'working')\n",
    "LABELS_PATH = Path(DATA_PATH/'iterative-stratification')\n",
    "\n",
    "VALID_PCT = 0.2\n",
    "SEED = 420\n",
    "BATCH_SIZE = 128\n",
    "IMG_SIZE = 224\n",
    "\n",
    "MAX_WARP = 0.2\n",
    "P_AFFINE = 0.75\n",
    "MAX_ROTATE = 40.\n",
    "MAX_ZOOM = 1.1\n",
    "P_LIGHTING = 0.75\n",
    "MAX_LIGHTING = 0.2\n",
    "MAX_COUNT_RANDOM_ERASING = 3\n",
    "LABEL_SMOOTHING_EPS = 0.1\n",
    "\n",
    "MAX_EPOCHS = 150\n",
    "\n",
    "ENCODER_ARCH = 'efficientnet-b0'\n",
    "\n",
    "GRAPHEME_ROOT_WEIGHT = 0.7\n",
    "VOWEL_DIACRITIC_WEIGHT = 0.1\n",
    "CONSONANT_DIACRITIC_WEIGHT = 0.2\n",
    "MODEL_HEAD = 'mish_head'\n",
    "\n",
    "SAMPLE_SIZE = None\n",
    "\n",
    "PROG_SPRINKES = False\n",
    "USE_FP16 = True\n",
    "\n",
    "NORM_MEAN = 0.0692\n",
    "NORM_STD = 0.2051\n",
    "\n",
    "LOAD_EXPERIMENT = 'lex/bengaliai-cv19/zgfjwgwj'\n",
    "\n",
    "LR = 5e-03\n",
    "\n",
    "USE_MIXUP = False\n",
    "USE_CUTMIX = False"
   ]
  },
  {
   "cell_type": "code",
   "execution_count": 3,
   "metadata": {
    "papermill": {
     "duration": 0.037734,
     "end_time": "2020-02-15T12:54:45.939774",
     "exception": false,
     "start_time": "2020-02-15T12:54:45.902040",
     "status": "completed"
    },
    "tags": [
     "injected-parameters"
    ]
   },
   "outputs": [],
   "source": [
    "# Parameters\n",
    "ENCODER_ARCH = \"se_resnext50_32x4d\"\n",
    "BATCH_SIZE = 64\n",
    "IMG_SIZE = 224\n",
    "USE_MIXUP = True\n",
    "LOAD_EXPERIMENT = \"lex/bengaliai-cv19/l18p1wge\"\n",
    "USE_FP16 = True\n",
    "USE_CUTMIX = False\n",
    "REDUCE_LR_PATIENCE = 5\n",
    "LR = 0.0001\n",
    "WANDB_MODE = \"run\"\n",
    "NAME = \"se_resnext50_finetune_mixup_224\"\n",
    "OUTPUT_VAL_SIZE = None\n"
   ]
  },
  {
   "cell_type": "code",
   "execution_count": 4,
   "metadata": {
    "papermill": {
     "duration": 0.037783,
     "end_time": "2020-02-15T12:54:45.993118",
     "exception": false,
     "start_time": "2020-02-15T12:54:45.955335",
     "status": "completed"
    },
    "tags": []
   },
   "outputs": [],
   "source": [
    "seed_everything(seed=SEED)"
   ]
  },
  {
   "cell_type": "code",
   "execution_count": 5,
   "metadata": {
    "papermill": {
     "duration": 0.677466,
     "end_time": "2020-02-15T12:54:46.685818",
     "exception": false,
     "start_time": "2020-02-15T12:54:46.008352",
     "status": "completed"
    },
    "tags": []
   },
   "outputs": [
    {
     "name": "stdout",
     "output_type": "stream",
     "text": [
      "\u001b[34m\u001b[1mwandb\u001b[0m: Appending key for api.wandb.ai to your netrc file: /home/lextoumbourou/.netrc\r\n",
      "\u001b[32mSuccessfully logged in to Weights & Biases!\u001b[0m\r\n"
     ]
    }
   ],
   "source": [
    "!wandb login 563765550fd7b64fd10129216209724e03f3f20c"
   ]
  },
  {
   "cell_type": "code",
   "execution_count": 6,
   "metadata": {
    "papermill": {
     "duration": 0.051935,
     "end_time": "2020-02-15T12:54:46.754353",
     "exception": false,
     "start_time": "2020-02-15T12:54:46.702418",
     "status": "completed"
    },
    "tags": []
   },
   "outputs": [],
   "source": [
    "# Turn this off before running!!\n",
    "os.environ['WANDB_MODE'] = WANDB_MODE"
   ]
  },
  {
   "cell_type": "code",
   "execution_count": 7,
   "metadata": {
    "papermill": {
     "duration": 3.396216,
     "end_time": "2020-02-15T12:54:50.170808",
     "exception": false,
     "start_time": "2020-02-15T12:54:46.774592",
     "status": "completed"
    },
    "tags": []
   },
   "outputs": [
    {
     "data": {
      "text/html": [
       "\n",
       "                Logging results to <a href=\"https://wandb.com\" target=\"_blank\">Weights & Biases</a> <a href=\"https://docs.wandb.com/integrations/jupyter.html\" target=\"_blank\">(Documentation)</a>.<br/>\n",
       "                Project page: <a href=\"https://app.wandb.ai/lex/bengaliai-cv19\" target=\"_blank\">https://app.wandb.ai/lex/bengaliai-cv19</a><br/>\n",
       "                Run page: <a href=\"https://app.wandb.ai/lex/bengaliai-cv19/runs/1d5rb6dd\" target=\"_blank\">https://app.wandb.ai/lex/bengaliai-cv19/runs/1d5rb6dd</a><br/>\n",
       "            "
      ],
      "text/plain": [
       "<IPython.core.display.HTML object>"
      ]
     },
     "metadata": {},
     "output_type": "display_data"
    },
    {
     "name": "stderr",
     "output_type": "stream",
     "text": [
      "Failed to query for notebook name, you can set it manually with the WANDB_NOTEBOOK_NAME environment variable\n"
     ]
    },
    {
     "name": "stderr",
     "output_type": "stream",
     "text": [
      "wandb: Wandb version 0.8.27 is available!  To upgrade, please run:\n",
      "wandb:  $ pip install wandb --upgrade\n"
     ]
    }
   ],
   "source": [
    "wandb.init(project=\"bengaliai-cv19\", name=NAME)\n",
    "\n",
    "wandb.config.img_size = IMG_SIZE\n",
    "wandb.config.batch_size = BATCH_SIZE\n",
    "wandb.config.seed = SEED\n",
    "\n",
    "wandb.config.max_warp = MAX_WARP\n",
    "wandb.config.p_affine = P_AFFINE\n",
    "wandb.config.max_rotate = MAX_ROTATE\n",
    "wandb.config.max_zoom = MAX_ZOOM\n",
    "wandb.config.p_lighting = P_LIGHTING\n",
    "wandb.config.max_lighting = MAX_LIGHTING\n",
    "wandb.config.max_count_random_erasing = MAX_COUNT_RANDOM_ERASING\n",
    "wandb.config.grapheme_root_weight = GRAPHEME_ROOT_WEIGHT\n",
    "wandb.config.vowel_diacritic_weight = VOWEL_DIACRITIC_WEIGHT\n",
    "wandb.config.consonant_diacritic_weight = CONSONANT_DIACRITIC_WEIGHT\n",
    "wandb.config.sample_size = SAMPLE_SIZE\n",
    "wandb.config.encoder_arch = ENCODER_ARCH\n",
    "wandb.config.max_epochs = MAX_EPOCHS\n",
    "wandb.config.prog_sprinkles = PROG_SPRINKES\n",
    "wandb.config.label_smoothing_eps = LABEL_SMOOTHING_EPS\n",
    "wandb.config.encoder_arch = ENCODER_ARCH\n",
    "wandb.config.norm_mean = NORM_MEAN\n",
    "wandb.config.norm_std = NORM_STD\n",
    "wandb.config.use_fp16 = USE_FP16\n",
    "wandb.config.load_experiment = LOAD_EXPERIMENT\n",
    "wandb.config.lr = LR\n",
    "wandb.config.use_mixup = USE_MIXUP\n",
    "wandb.config.use_cutmix = USE_CUTMIX"
   ]
  },
  {
   "cell_type": "markdown",
   "metadata": {
    "papermill": {
     "duration": 0.021266,
     "end_time": "2020-02-15T12:54:50.208891",
     "exception": false,
     "start_time": "2020-02-15T12:54:50.187625",
     "status": "completed"
    },
    "tags": []
   },
   "source": [
    "## Create datasets and dataloaders"
   ]
  },
  {
   "cell_type": "code",
   "execution_count": 8,
   "metadata": {
    "papermill": {
     "duration": 0.229667,
     "end_time": "2020-02-15T12:54:50.455666",
     "exception": false,
     "start_time": "2020-02-15T12:54:50.225999",
     "status": "completed"
    },
    "tags": []
   },
   "outputs": [],
   "source": [
    "train_df = pd.read_csv(LABELS_PATH/'train_with_fold.csv')\n",
    "if wandb.config.sample_size:\n",
    "    print(\"About to reduce train size.\")\n",
    "    train_df = train_df.sample(n=wandb.config.sample_size, random_state=SEED).reset_index(drop=True)"
   ]
  },
  {
   "cell_type": "code",
   "execution_count": 9,
   "metadata": {
    "papermill": {
     "duration": 0.050523,
     "end_time": "2020-02-15T12:54:50.525286",
     "exception": false,
     "start_time": "2020-02-15T12:54:50.474763",
     "status": "completed"
    },
    "tags": []
   },
   "outputs": [
    {
     "data": {
      "text/html": [
       "<div>\n",
       "<style scoped>\n",
       "    .dataframe tbody tr th:only-of-type {\n",
       "        vertical-align: middle;\n",
       "    }\n",
       "\n",
       "    .dataframe tbody tr th {\n",
       "        vertical-align: top;\n",
       "    }\n",
       "\n",
       "    .dataframe thead th {\n",
       "        text-align: right;\n",
       "    }\n",
       "</style>\n",
       "<table border=\"1\" class=\"dataframe\">\n",
       "  <thead>\n",
       "    <tr style=\"text-align: right;\">\n",
       "      <th></th>\n",
       "      <th>image_id</th>\n",
       "      <th>grapheme_root</th>\n",
       "      <th>vowel_diacritic</th>\n",
       "      <th>consonant_diacritic</th>\n",
       "      <th>grapheme</th>\n",
       "      <th>id</th>\n",
       "      <th>fold</th>\n",
       "    </tr>\n",
       "  </thead>\n",
       "  <tbody>\n",
       "    <tr>\n",
       "      <th>0</th>\n",
       "      <td>Train_0</td>\n",
       "      <td>15</td>\n",
       "      <td>9</td>\n",
       "      <td>5</td>\n",
       "      <td>ক্ট্রো</td>\n",
       "      <td>0</td>\n",
       "      <td>3</td>\n",
       "    </tr>\n",
       "    <tr>\n",
       "      <th>1</th>\n",
       "      <td>Train_1</td>\n",
       "      <td>159</td>\n",
       "      <td>0</td>\n",
       "      <td>0</td>\n",
       "      <td>হ</td>\n",
       "      <td>1</td>\n",
       "      <td>2</td>\n",
       "    </tr>\n",
       "    <tr>\n",
       "      <th>2</th>\n",
       "      <td>Train_2</td>\n",
       "      <td>22</td>\n",
       "      <td>3</td>\n",
       "      <td>5</td>\n",
       "      <td>খ্রী</td>\n",
       "      <td>2</td>\n",
       "      <td>4</td>\n",
       "    </tr>\n",
       "    <tr>\n",
       "      <th>3</th>\n",
       "      <td>Train_3</td>\n",
       "      <td>53</td>\n",
       "      <td>2</td>\n",
       "      <td>2</td>\n",
       "      <td>র্টি</td>\n",
       "      <td>3</td>\n",
       "      <td>2</td>\n",
       "    </tr>\n",
       "    <tr>\n",
       "      <th>4</th>\n",
       "      <td>Train_4</td>\n",
       "      <td>71</td>\n",
       "      <td>9</td>\n",
       "      <td>5</td>\n",
       "      <td>থ্রো</td>\n",
       "      <td>4</td>\n",
       "      <td>1</td>\n",
       "    </tr>\n",
       "  </tbody>\n",
       "</table>\n",
       "</div>"
      ],
      "text/plain": [
       "  image_id  grapheme_root  vowel_diacritic  consonant_diacritic grapheme  id  \\\n",
       "0  Train_0             15                9                    5   ক্ট্রো   0   \n",
       "1  Train_1            159                0                    0        হ   1   \n",
       "2  Train_2             22                3                    5     খ্রী   2   \n",
       "3  Train_3             53                2                    2     র্টি   3   \n",
       "4  Train_4             71                9                    5     থ্রো   4   \n",
       "\n",
       "   fold  \n",
       "0     3  \n",
       "1     2  \n",
       "2     4  \n",
       "3     2  \n",
       "4     1  "
      ]
     },
     "execution_count": 9,
     "metadata": {},
     "output_type": "execute_result"
    }
   ],
   "source": [
    "train_df.head()"
   ]
  },
  {
   "cell_type": "code",
   "execution_count": 10,
   "metadata": {
    "papermill": {
     "duration": 0.523997,
     "end_time": "2020-02-15T12:54:51.066741",
     "exception": false,
     "start_time": "2020-02-15T12:54:50.542744",
     "status": "completed"
    },
    "tags": []
   },
   "outputs": [
    {
     "data": {
      "text/plain": [
       "<matplotlib.axes._subplots.AxesSubplot at 0x7f4943fd7410>"
      ]
     },
     "execution_count": 10,
     "metadata": {},
     "output_type": "execute_result"
    }
   ],
   "source": [
    "train_df.grapheme_root.value_counts().plot.bar(figsize=(20, 4), title=\"Grapheme root\", rot=90)"
   ]
  },
  {
   "cell_type": "code",
   "execution_count": 11,
   "metadata": {
    "papermill": {
     "duration": 0.122486,
     "end_time": "2020-02-15T12:54:51.207230",
     "exception": false,
     "start_time": "2020-02-15T12:54:51.084744",
     "status": "completed"
    },
    "tags": []
   },
   "outputs": [
    {
     "data": {
      "text/plain": [
       "<matplotlib.axes._subplots.AxesSubplot at 0x7f4943fd7410>"
      ]
     },
     "execution_count": 11,
     "metadata": {},
     "output_type": "execute_result"
    }
   ],
   "source": [
    "train_df.vowel_diacritic.value_counts().plot.bar(title=\"Vowel diacrititc\")"
   ]
  },
  {
   "cell_type": "code",
   "execution_count": 12,
   "metadata": {
    "papermill": {
     "duration": 0.133821,
     "end_time": "2020-02-15T12:54:51.358111",
     "exception": false,
     "start_time": "2020-02-15T12:54:51.224290",
     "status": "completed"
    },
    "tags": []
   },
   "outputs": [
    {
     "data": {
      "text/plain": [
       "<matplotlib.axes._subplots.AxesSubplot at 0x7f4943fd7410>"
      ]
     },
     "execution_count": 12,
     "metadata": {},
     "output_type": "execute_result"
    }
   ],
   "source": [
    "train_df.consonant_diacritic.value_counts().plot.bar(title=\"Consonant diacrititc\")"
   ]
  },
  {
   "cell_type": "code",
   "execution_count": 13,
   "metadata": {
    "papermill": {
     "duration": 0.051393,
     "end_time": "2020-02-15T12:54:51.426413",
     "exception": false,
     "start_time": "2020-02-15T12:54:51.375020",
     "status": "completed"
    },
    "tags": []
   },
   "outputs": [],
   "source": [
    "train_tfms = [\n",
    "    symmetric_warp(\n",
    "        magnitude=(-wandb.config.max_warp, wandb.config.max_warp),\n",
    "        p=wandb.config.p_affine\n",
    "    ),\n",
    "    rotate(\n",
    "        degrees=(-wandb.config.max_rotate, wandb.config.max_rotate),\n",
    "        p=wandb.config.p_affine\n",
    "    ),\n",
    "    rand_zoom(\n",
    "        scale=(1., wandb.config.max_zoom), p=wandb.config.p_affine\n",
    "    ),\n",
    "    brightness(\n",
    "        change=(0.5*(1 - wandb.config.max_lighting), 0.5*(1 + wandb.config.max_lighting)),\n",
    "        p=wandb.config.p_lighting\n",
    "    ),\n",
    "    contrast(\n",
    "        scale=(1-wandb.config.max_lighting, 1/(1-wandb.config.max_lighting)),\n",
    "        p=wandb.config.p_lighting\n",
    "    ),\n",
    "    cutout(n_holes=(1, 6), length=(5, 15), p=.5)\n",
    "]"
   ]
  },
  {
   "cell_type": "code",
   "execution_count": 14,
   "metadata": {
    "papermill": {
     "duration": 0.04588,
     "end_time": "2020-02-15T12:54:51.488974",
     "exception": false,
     "start_time": "2020-02-15T12:54:51.443094",
     "status": "completed"
    },
    "tags": []
   },
   "outputs": [],
   "source": [
    "train_df['is_valid'] = train_df.fold == 0"
   ]
  },
  {
   "cell_type": "code",
   "execution_count": 15,
   "metadata": {
    "papermill": {
     "duration": 0.982711,
     "end_time": "2020-02-15T12:54:52.497700",
     "exception": false,
     "start_time": "2020-02-15T12:54:51.514989",
     "status": "completed"
    },
    "tags": []
   },
   "outputs": [],
   "source": [
    "stats = ([wandb.config.norm_mean], [wandb.config.norm_std])\n",
    "\n",
    "data = (\n",
    "    ImageList.from_df(\n",
    "        path=DATA_PATH, df=train_df, folder='./grapheme-imgs-128x128/', suffix='.png',\n",
    "        cols='image_id', convert_mode='L'\n",
    "    )\n",
    "    .split_from_df(col='is_valid')\n",
    "    .label_from_df(cols=['grapheme_root', 'vowel_diacritic', 'consonant_diacritic'])\n",
    "    .transform((train_tfms, []), size=wandb.config.img_size, padding_mode='zeros', resize_method=ResizeMethod.PAD)\n",
    "    .databunch(bs=wandb.config.batch_size)\n",
    ").normalize(stats)"
   ]
  },
  {
   "cell_type": "code",
   "execution_count": 16,
   "metadata": {
    "papermill": {
     "duration": 5.060292,
     "end_time": "2020-02-15T12:54:57.575630",
     "exception": false,
     "start_time": "2020-02-15T12:54:52.515338",
     "status": "completed"
    },
    "tags": []
   },
   "outputs": [],
   "source": [
    "data.show_batch()"
   ]
  },
  {
   "cell_type": "code",
   "execution_count": 17,
   "metadata": {
    "papermill": {
     "duration": 0.186626,
     "end_time": "2020-02-15T12:54:57.783034",
     "exception": false,
     "start_time": "2020-02-15T12:54:57.596408",
     "status": "completed"
    },
    "tags": []
   },
   "outputs": [],
   "source": [
    "class MixUpLoss(Module):\n",
    "    \"Adapt the loss function `crit` to go with mixup.\"\n",
    "    \n",
    "    def __init__(self, crit, reduction='mean'):\n",
    "        super().__init__()\n",
    "        if hasattr(crit, 'reduction'): \n",
    "            self.crit = crit\n",
    "            self.old_red = crit.reduction\n",
    "            setattr(self.crit, 'reduction', 'none')\n",
    "        else: \n",
    "            self.crit = partial(crit, reduction='none')\n",
    "            self.old_crit = crit\n",
    "        self.reduction = reduction\n",
    "        \n",
    "    def forward(self, output, target):\n",
    "        if len(target.shape) == 2 and target.shape[1] == 7:\n",
    "            loss1, loss2 = self.crit(output,target[:,0:3].long()), self.crit(output,target[:,3:6].long())\n",
    "            d = loss1 * target[:,-1] + loss2 * (1-target[:,-1])\n",
    "        else:  d = self.crit(output, target)\n",
    "        if self.reduction == 'mean':    return d.mean()\n",
    "        elif self.reduction == 'sum':   return d.sum()\n",
    "        return d\n",
    "    \n",
    "    def get_old(self):\n",
    "        if hasattr(self, 'old_crit'):  return self.old_crit\n",
    "        elif hasattr(self, 'old_red'): \n",
    "            setattr(self.crit, 'reduction', self.old_red)\n",
    "            return self.crit\n",
    "   \n",
    " \n",
    "def rand_bbox(last_input_size, λ):\n",
    "    '''lambd is always between .5 and 1'''\n",
    "\n",
    "    W = last_input_size[-1]\n",
    "    H = last_input_size[-2]\n",
    "    cut_rat = np.sqrt(1. - λ) # 0. - .707\n",
    "    cut_w = np.int(W * cut_rat)\n",
    "    cut_h = np.int(H * cut_rat)\n",
    "\n",
    "    # uniform\n",
    "    cx = np.random.randint(W)\n",
    "    cy = np.random.randint(H)\n",
    "\n",
    "    bbx1 = np.clip(cx - cut_w // 2, 0, W)\n",
    "    bby1 = np.clip(cy - cut_h // 2, 0, H)\n",
    "    bbx2 = np.clip(cx + cut_w // 2, 0, W)\n",
    "    if len(last_input_size) == 4:\n",
    "        bby2 = np.clip(cy + cut_h // 2, 0, H)\n",
    "    else: bby2 = last_input_size[1]\n",
    "\n",
    "    return bbx1, bby1, bbx2, bby2\n",
    "\n",
    "\n",
    "class CutMixCallback(LearnerCallback):\n",
    "    '''Adapted from :\n",
    "    paper: https://arxiv.org/abs/1905.04899\n",
    "    github: https://github.com/clovaai/CutMix-PyTorch\n",
    "    and mixup in the fastai library.'''\n",
    "\n",
    "    def __init__(self, learn:Learner, alpha:float=1., stack_y:bool=True):\n",
    "        super().__init__(learn)\n",
    "        self.alpha,self.stack_y = alpha,stack_y\n",
    "\n",
    "    def on_train_begin(self, **kwargs):\n",
    "        if self.stack_y:\n",
    "            self.learn.loss_func = MixUpLoss(self.learn.loss_func)\n",
    "\n",
    "    def on_batch_begin(self, last_input, last_target, train, **kwargs):\n",
    "        \"Applies cutmix to `last_input` and `last_target` if `train`.\"\n",
    "        if not train or self.alpha == 0:\n",
    "            return\n",
    "        λ = np.random.beta(self.alpha, self.alpha)\n",
    "        λ = max(λ, 1- λ)\n",
    "        bs = last_target.size(0)\n",
    "        idx = torch.randperm(bs).to(last_input.device)\n",
    "        x1, y1 = last_input[idx], last_target[idx]\n",
    "\n",
    "        #Get new input\n",
    "        last_input_size = last_input.size()\n",
    "        bbx1, bby1, bbx2, bby2 = rand_bbox(last_input_size, λ)\n",
    "        new_input = last_input.clone()\n",
    "        new_input[..., bby1:bby2, bbx1:bbx2] = x1[..., bby1:bby2, bbx1:bbx2]\n",
    "        #λ = last_input.new([λ])\n",
    "        λ = 1 - ((bbx2 - bbx1) * (bby2 - bby1) / (last_input_size[-1] * last_input_size[-2]))\n",
    "        λ = last_input.new([λ])\n",
    "\n",
    "        # modify last target\n",
    "        if self.stack_y:\n",
    "            new_target = torch.cat([last_target.float(), y1.float(),\n",
    "                                    λ.repeat(last_input_size[0]).unsqueeze(1).float()], 1)\n",
    "        else:\n",
    "            if len(last_target.shape) == 2:\n",
    "                λ = λ.unsqueeze(1).float()\n",
    "            new_target = last_target.float() * λ + y1.float() * (1-λ)\n",
    "\n",
    "        return {'last_input': new_input, 'last_target': new_target}\n",
    "\n",
    "    def on_train_end(self, **kwargs):\n",
    "        if self.stack_y: self.learn.loss_func = self.learn.loss_func.get_old()\n",
    "\n",
    "\n",
    "class MixUpCallback(LearnerCallback):\n",
    "    \"Callback that creates the mixed-up input and target.\"\n",
    "    def __init__(self, learn:Learner, alpha:float=0.4, stack_x:bool=False, stack_y:bool=True):\n",
    "        super().__init__(learn)\n",
    "        self.alpha,self.stack_x,self.stack_y = alpha,stack_x,stack_y\n",
    "    \n",
    "    def on_train_begin(self, **kwargs):\n",
    "        if self.stack_y: self.learn.loss_func = MixUpLoss(self.learn.loss_func)\n",
    "        \n",
    "    def on_batch_begin(self, last_input, last_target, train, **kwargs):\n",
    "        \"Applies mixup to `last_input` and `last_target` if `train`.\"\n",
    "        if not train: return\n",
    "        lambd = np.random.beta(self.alpha, self.alpha, last_target.size(0))\n",
    "        lambd = np.concatenate([lambd[:,None], 1-lambd[:,None]], 1).max(1)\n",
    "        lambd = last_input.new(lambd)\n",
    "        shuffle = torch.randperm(last_target.size(0)).to(last_input.device)\n",
    "        x1, y1 = last_input[shuffle], last_target[shuffle]\n",
    "        if self.stack_x:\n",
    "            new_input = [last_input, last_input[shuffle], lambd]\n",
    "        else: \n",
    "            out_shape = [lambd.size(0)] + [1 for _ in range(len(x1.shape) - 1)]\n",
    "            new_input = (last_input * lambd.view(out_shape) + x1 * (1-lambd).view(out_shape))\n",
    "        if self.stack_y:\n",
    "            new_target = torch.cat([last_target.float(), y1.float(), lambd[:,None].float()], 1)\n",
    "        else:\n",
    "            if len(last_target.shape) == 2:\n",
    "                lambd = lambd.unsqueeze(1).float()\n",
    "            new_target = last_target.float() * lambd + y1.float() * (1-lambd)\n",
    "        return {'last_input': new_input, 'last_target': new_target}  \n",
    "    \n",
    "    def on_train_end(self, **kwargs):\n",
    "        if self.stack_y: self.learn.loss_func = self.learn.loss_func.get_old()"
   ]
  },
  {
   "cell_type": "markdown",
   "metadata": {
    "papermill": {
     "duration": 0.019965,
     "end_time": "2020-02-15T12:54:57.823688",
     "exception": false,
     "start_time": "2020-02-15T12:54:57.803723",
     "status": "completed"
    },
    "tags": []
   },
   "source": [
    "## Loss and metrics"
   ]
  },
  {
   "cell_type": "code",
   "execution_count": 18,
   "metadata": {
    "papermill": {
     "duration": 0.064818,
     "end_time": "2020-02-15T12:54:57.908101",
     "exception": false,
     "start_time": "2020-02-15T12:54:57.843283",
     "status": "completed"
    },
    "tags": []
   },
   "outputs": [],
   "source": [
    "class MetricBase(Callback):\n",
    "    def __init__(self, average='macro'):\n",
    "        super().__init__()\n",
    "        self.n_classes = 0\n",
    "        self.average = average\n",
    "        self.cm = None\n",
    "        self.eps = 1e-9\n",
    "        \n",
    "    def on_epoch_begin(self, **kwargs):\n",
    "        self.tp = 0\n",
    "        self.fp = 0\n",
    "        self.cm = None\n",
    "    \n",
    "    def on_batch_end(self, last_output:Tensor, last_target:Tensor, **kwargs):\n",
    "        last_output = last_output[self.idx]\n",
    "        last_target = last_target[:,self.idx]\n",
    "        preds = last_output.argmax(-1).view(-1).cpu()\n",
    "        targs = last_target.long().cpu()\n",
    "        \n",
    "        if self.n_classes == 0:\n",
    "            self.n_classes = last_output.shape[-1]\n",
    "            self.x = torch.arange(0, self.n_classes)\n",
    "        cm = ((preds==self.x[:, None]) & (targs==self.x[:, None, None])) \\\n",
    "          .sum(dim=2, dtype=torch.float32)\n",
    "        if self.cm is None: self.cm =  cm\n",
    "        else:               self.cm += cm\n",
    "\n",
    "    def _weights(self, avg:str):\n",
    "        if self.n_classes != 2 and avg == \"binary\":\n",
    "            avg = self.average = \"macro\"\n",
    "            warn(\"average=`binary` was selected for a non binary case. \\\n",
    "                 Value for average has now been set to `macro` instead.\")\n",
    "        if avg == \"binary\":\n",
    "            if self.pos_label not in (0, 1):\n",
    "                self.pos_label = 1\n",
    "                warn(\"Invalid value for pos_label. It has now been set to 1.\")\n",
    "            if self.pos_label == 1: return Tensor([0,1])\n",
    "            else: return Tensor([1,0])\n",
    "        elif avg == \"micro\": return self.cm.sum(dim=0) / self.cm.sum()\n",
    "        elif avg == \"macro\": return torch.ones((self.n_classes,)) / self.n_classes\n",
    "        elif avg == \"weighted\": return self.cm.sum(dim=1) / self.cm.sum()\n",
    "        \n",
    "    def _recall(self):\n",
    "        rec = torch.diag(self.cm) / (self.cm.sum(dim=1) + self.eps)\n",
    "        if self.average is None: return rec\n",
    "        else:\n",
    "            if self.average == \"micro\": weights = self._weights(avg=\"weighted\")\n",
    "            else: weights = self._weights(avg=self.average)\n",
    "            return (rec * weights).sum()\n",
    "    \n",
    "    def on_epoch_end(self, last_metrics, **kwargs):\n",
    "        return add_metrics(last_metrics, self._recall())\n",
    "\n",
    "    \n",
    "class GraphemeRoot(MetricBase):\n",
    "    idx = 0\n",
    "\n",
    "    \n",
    "class VowelDiacritic(MetricBase):\n",
    "    idx = 1\n",
    "\n",
    "\n",
    "class ConsonantDiacritic(MetricBase):\n",
    "    idx = 2\n",
    "\n",
    "\n",
    "class RecallCombine(Callback):\n",
    "    def __init__(self):\n",
    "        super().__init__()\n",
    "        self.grapheme = GraphemeRoot()\n",
    "        self.vowel = VowelDiacritic()\n",
    "        self.consonant = ConsonantDiacritic()\n",
    "        \n",
    "    def on_epoch_begin(self, **kwargs):\n",
    "        self.grapheme.on_epoch_begin(**kwargs)\n",
    "        self.vowel.on_epoch_begin(**kwargs)\n",
    "        self.consonant.on_epoch_begin(**kwargs)\n",
    "    \n",
    "    def on_batch_end(self, last_output:Tensor, last_target:Tensor, **kwargs):\n",
    "        self.grapheme.on_batch_end(last_output, last_target, **kwargs)\n",
    "        self.vowel.on_batch_end(last_output, last_target, **kwargs)\n",
    "        self.consonant.on_batch_end(last_output, last_target, **kwargs)\n",
    "        \n",
    "    def on_epoch_end(self, last_metrics, **kwargs):\n",
    "        return add_metrics(\n",
    "            last_metrics,\n",
    "            0.5 * self.grapheme._recall() +\n",
    "            0.25 * self.vowel._recall() +\n",
    "            0.25 * self.consonant._recall()\n",
    "        )"
   ]
  },
  {
   "cell_type": "markdown",
   "metadata": {
    "papermill": {
     "duration": 0.020724,
     "end_time": "2020-02-15T12:54:57.949840",
     "exception": false,
     "start_time": "2020-02-15T12:54:57.929116",
     "status": "completed"
    },
    "tags": []
   },
   "source": [
    "## Model"
   ]
  },
  {
   "cell_type": "code",
   "execution_count": 19,
   "metadata": {
    "papermill": {
     "duration": 0.052522,
     "end_time": "2020-02-15T12:54:58.023405",
     "exception": false,
     "start_time": "2020-02-15T12:54:57.970883",
     "status": "completed"
    },
    "tags": []
   },
   "outputs": [],
   "source": [
    "from torch.nn.parameter import Parameter\n",
    "\n",
    "\n",
    "def gem(x, p=3, eps=1e-6):\n",
    "    if wandb.config.use_fp16:\n",
    "        x = x.double() # x=x.to(torch.float32) # comment this during inference\n",
    "\n",
    "    x = F.avg_pool2d(x.clamp(min=eps).pow(p), (x.size(-2), x.size(-1))).pow(1./p)\n",
    "    \n",
    "    if wandb.config.use_fp16:\n",
    "        x = x.half()\n",
    "\n",
    "    return x # Comment this line in inference code use ## return x\n",
    "\n",
    "\n",
    "class GeM(nn.Module):\n",
    "    def __init__(self, p=3, eps=1e-6):\n",
    "        super(GeM,self).__init__()\n",
    "        self.p = Parameter(torch.ones(1)*p)\n",
    "        self.eps = eps\n",
    "\n",
    "    def forward(self, x):\n",
    "        return gem(x, p=self.p, eps=self.eps)\n",
    "\n",
    "    def __repr__(self):\n",
    "        return self.__class__.__name__ + '(' + 'p=' + '{:.4f}'.format(self.p.data.tolist()[0]) + ', ' + 'eps=' + str(self.eps) + ')'"
   ]
  },
  {
   "cell_type": "code",
   "execution_count": 20,
   "metadata": {
    "papermill": {
     "duration": 0.052814,
     "end_time": "2020-02-15T12:54:58.097806",
     "exception": false,
     "start_time": "2020-02-15T12:54:58.044992",
     "status": "completed"
    },
    "tags": []
   },
   "outputs": [],
   "source": [
    "class AdaptiveConcatWithGemPool2d(Module):\n",
    "    \"Layer that concats `AdaptiveAvgPool2d` and `AdaptiveMaxPool2d`.\"\n",
    "    def __init__(self, sz:Optional[int]=None):\n",
    "        \"Output will be 2*sz or 2 if sz is None\"\n",
    "        self.output_size = sz or 1\n",
    "        self.ap = GeM()\n",
    "        self.mp = nn.AdaptiveMaxPool2d(self.output_size)\n",
    "\n",
    "    def forward(self, x):\n",
    "        return torch.cat([self.mp(x), self.ap(x)], 1)"
   ]
  },
  {
   "cell_type": "code",
   "execution_count": 21,
   "metadata": {
    "papermill": {
     "duration": 0.051456,
     "end_time": "2020-02-15T12:54:58.169586",
     "exception": false,
     "start_time": "2020-02-15T12:54:58.118130",
     "status": "completed"
    },
    "tags": []
   },
   "outputs": [],
   "source": [
    "class MishHead(nn.Module):\n",
    "    def __init__(self, input_size: int, output_size: int, dropout_ps=0.5):\n",
    "        super().__init__()\n",
    "\n",
    "        layers = [\n",
    "            AdaptiveConcatWithGemPool2d(),\n",
    "            # AdaptiveConcatPool2d(),\n",
    "            Flatten(),\n",
    "            nn.Linear(input_size * 2, 512),\n",
    "            MishJit(),\n",
    "            nn.BatchNorm1d(512),\n",
    "            nn.Dropout(dropout_ps),\n",
    "            nn.Linear(512, output_size)\n",
    "        ]\n",
    "\n",
    "        self.fc = nn.Sequential(*layers)\n",
    "        self._init_weight()\n",
    "\n",
    "    def _init_weight(self):\n",
    "        for m in self.modules():\n",
    "            if isinstance(m, nn.Conv2d):\n",
    "                torch.nn.init.kaiming_normal_(m.weight)\n",
    "            elif isinstance(m, nn.BatchNorm2d):\n",
    "                m.weight.data.fill_(1.0)\n",
    "                m.bias.data.zero_()\n",
    "\n",
    "    def forward(self, x):\n",
    "        return self.fc(x)"
   ]
  },
  {
   "cell_type": "code",
   "execution_count": 22,
   "metadata": {
    "papermill": {
     "duration": 0.04738,
     "end_time": "2020-02-15T12:54:58.237247",
     "exception": false,
     "start_time": "2020-02-15T12:54:58.189867",
     "status": "completed"
    },
    "tags": []
   },
   "outputs": [],
   "source": [
    "class BengaliModel(nn.Module):\n",
    "    def __init__(self, encoder, encoder_output_features):\n",
    "        super().__init__()\n",
    "        self.input_conv = nn.Conv2d(in_channels=1, out_channels=3, kernel_size=1)\n",
    "        \n",
    "        self.encoder = encoder\n",
    "        \n",
    "        self.fc_grapheme_root = MishHead(encoder_output_features, output_size=168)\n",
    "        self.fc_vowel_diacritic = MishHead(encoder_output_features, output_size=11)\n",
    "        self.fc_consonant_diacritic = MishHead(encoder_output_features, output_size=7)\n",
    "        \n",
    "    def forward(self, inputs):\n",
    "        bs = inputs.size(0)\n",
    "        \n",
    "        # Convolve to 3 channels\n",
    "        x = self.input_conv(inputs)\n",
    "\n",
    "        # Convolution layers\n",
    "        x = self.encoder(x)\n",
    "\n",
    "        return [\n",
    "            self.fc_grapheme_root(x),\n",
    "            self.fc_vowel_diacritic(x),\n",
    "            self.fc_consonant_diacritic(x)\n",
    "        ]"
   ]
  },
  {
   "cell_type": "code",
   "execution_count": 23,
   "metadata": {
    "papermill": {
     "duration": 0.045098,
     "end_time": "2020-02-15T12:54:58.300576",
     "exception": false,
     "start_time": "2020-02-15T12:54:58.255478",
     "status": "completed"
    },
    "tags": []
   },
   "outputs": [],
   "source": [
    "class LossCombine(nn.Module):\n",
    "    def __init__(self):\n",
    "        super().__init__()\n",
    "\n",
    "    def forward(self, input, target, reduction='mean'):\n",
    "        x1,x2,x3 = input\n",
    "        x1,x2,x3 = x1.float(), x2.float(), x3.float()\n",
    "        y = target.long()\n",
    "\n",
    "        return (\n",
    "            wandb.config.grapheme_root_weight * F.cross_entropy(\n",
    "                x1, y[:,0], reduction=reduction) +\n",
    "            wandb.config.vowel_diacritic_weight * F.cross_entropy(\n",
    "                x2,y[:,1], reduction=reduction) +\n",
    "            wandb.config.consonant_diacritic_weight * F.cross_entropy(\n",
    "                x3, y[:,2], reduction=reduction)\n",
    "        )"
   ]
  },
  {
   "cell_type": "code",
   "execution_count": 24,
   "metadata": {
    "papermill": {
     "duration": 0.048721,
     "end_time": "2020-02-15T12:54:58.370045",
     "exception": false,
     "start_time": "2020-02-15T12:54:58.321324",
     "status": "completed"
    },
    "tags": []
   },
   "outputs": [],
   "source": [
    "class EfficientNetModel(nn.Module):\n",
    "    def __init__(self, model_name):\n",
    "        super().__init__()\n",
    "        self.m = EfficientNet.from_pretrained(model_name)\n",
    "        \n",
    "    def forward(self, x):\n",
    "        return self.m.extract_features(x)"
   ]
  },
  {
   "cell_type": "code",
   "execution_count": 25,
   "metadata": {
    "papermill": {
     "duration": 0.046899,
     "end_time": "2020-02-15T12:54:58.438269",
     "exception": false,
     "start_time": "2020-02-15T12:54:58.391370",
     "status": "completed"
    },
    "tags": []
   },
   "outputs": [],
   "source": [
    "class RWightmanModel(nn.Module):\n",
    "    def __init__(self, model_name):\n",
    "        super().__init__()\n",
    "        self.m =  timm.create_model(model_name, pretrained=True)\n",
    "        \n",
    "    def forward(self, x):\n",
    "        return self.m.forward_features(x)"
   ]
  },
  {
   "cell_type": "code",
   "execution_count": 26,
   "metadata": {
    "papermill": {
     "duration": 0.046238,
     "end_time": "2020-02-15T12:54:58.505728",
     "exception": false,
     "start_time": "2020-02-15T12:54:58.459490",
     "status": "completed"
    },
    "tags": []
   },
   "outputs": [],
   "source": [
    "class CadeneModel(nn.Module):\n",
    "    def __init__(self, model_name):\n",
    "        super().__init__()\n",
    "        self.m = pretrainedmodels.__dict__[model_name](num_classes=1000, pretrained='imagenet')\n",
    "        \n",
    "    def forward(self, x):\n",
    "        return self.m.features(x)"
   ]
  },
  {
   "cell_type": "markdown",
   "metadata": {
    "papermill": {
     "duration": 0.018652,
     "end_time": "2020-02-15T12:54:58.544676",
     "exception": false,
     "start_time": "2020-02-15T12:54:58.526024",
     "status": "completed"
    },
    "tags": []
   },
   "source": [
    "## Training"
   ]
  },
  {
   "cell_type": "code",
   "execution_count": 27,
   "metadata": {
    "papermill": {
     "duration": 0.044907,
     "end_time": "2020-02-15T12:54:58.608350",
     "exception": false,
     "start_time": "2020-02-15T12:54:58.563443",
     "status": "completed"
    },
    "tags": []
   },
   "outputs": [],
   "source": [
    "@dataclass\n",
    "class CutoutScheduler(Callback):\n",
    "    learn:Learner\n",
    "    n_holes_max:int=80\n",
    "    max_at_epoch:int=30\n",
    "        \n",
    "    def on_epoch_begin(self, **kwargs):\n",
    "        i = kwargs['iteration']\n",
    "        n_epochs = kwargs['n_epochs']\n",
    "        n_holes_max = int(round(annealing_linear(0, self.n_holes_max, min(i / self.max_at_epoch, 1.))))\n",
    "        n_holes = (max(n_holes_max-10, 0), n_holes_max)\n",
    "        print(n_holes)\n",
    "        self.learn.data.train_ds.tfms[-1].kwargs['n_holes'] = n_holes"
   ]
  },
  {
   "cell_type": "code",
   "execution_count": 28,
   "metadata": {
    "papermill": {
     "duration": 0.349782,
     "end_time": "2020-02-15T12:54:58.975907",
     "exception": false,
     "start_time": "2020-02-15T12:54:58.626125",
     "status": "completed"
    },
    "tags": []
   },
   "outputs": [
    {
     "name": "stdout",
     "output_type": "stream",
     "text": [
      "Loading Cadene model: se_resnext50_32x4d\n"
     ]
    }
   ],
   "source": [
    "if ENCODER_ARCH.startswith('efficientnet-'):\n",
    "    print(f'Loading EfficientNet models: {ENCODER_ARCH}')\n",
    "    encoder = EfficientNetModel(ENCODER_ARCH)\n",
    "    output_feats = encoder.m._fc.in_features\n",
    "elif ENCODER_ARCH in pretrainedmodels.model_names:\n",
    "    print(f\"Loading Cadene model: {ENCODER_ARCH}\")\n",
    "    encoder = CadeneModel(ENCODER_ARCH)\n",
    "    output_feats = encoder.m.last_linear.in_features\n",
    "else:\n",
    "    print(f\"Loading R Wightman model: {ENCODER_ARCH}\")\n",
    "    encoder = RWightmanModel(ENCODER_ARCH)\n",
    "    output_feats = encoder.m.classifier.in_features"
   ]
  },
  {
   "cell_type": "code",
   "execution_count": 29,
   "metadata": {
    "papermill": {
     "duration": 0.177544,
     "end_time": "2020-02-15T12:54:59.174605",
     "exception": false,
     "start_time": "2020-02-15T12:54:58.997061",
     "status": "completed"
    },
    "tags": []
   },
   "outputs": [
    {
     "name": "stdout",
     "output_type": "stream",
     "text": [
      "Convert to fp16\n"
     ]
    }
   ],
   "source": [
    "model = BengaliModel(encoder=encoder, encoder_output_features=output_feats)\n",
    "\n",
    "learner = Learner(\n",
    "    data, model, loss_func=LossCombine(),\n",
    "    metrics=[GraphemeRoot(), VowelDiacritic(), ConsonantDiacritic(), RecallCombine()],\n",
    "    callback_fns=WandbCallback\n",
    ")\n",
    "learner.clip_grad = 1.0\n",
    "learner.unfreeze()\n",
    "\n",
    "if wandb.config.use_fp16:\n",
    "    print(\"Convert to fp16\")\n",
    "    learner = learner.to_fp16()"
   ]
  },
  {
   "cell_type": "code",
   "execution_count": 30,
   "metadata": {
    "papermill": {
     "duration": 5.530922,
     "end_time": "2020-02-15T12:55:04.724323",
     "exception": false,
     "start_time": "2020-02-15T12:54:59.193401",
     "status": "completed"
    },
    "tags": []
   },
   "outputs": [
    {
     "name": "stdout",
     "output_type": "stream",
     "text": [
      "Restoring experiment: lex/bengaliai-cv19/l18p1wge\n"
     ]
    }
   ],
   "source": [
    "if wandb.config.load_experiment:\n",
    "    print(f'Restoring experiment: {wandb.config.load_experiment}')\n",
    "    wandb.restore('bestmodel.pth', run_path=wandb.config.load_experiment)\n",
    "    learner.load(Path(wandb.run.dir)/'bestmodel')"
   ]
  },
  {
   "cell_type": "code",
   "execution_count": 31,
   "metadata": {
    "papermill": {
     "duration": 0.043582,
     "end_time": "2020-02-15T12:55:04.786715",
     "exception": false,
     "start_time": "2020-02-15T12:55:04.743133",
     "status": "completed"
    },
    "tags": []
   },
   "outputs": [],
   "source": [
    "# learner.lr_find()"
   ]
  },
  {
   "cell_type": "code",
   "execution_count": 32,
   "metadata": {
    "papermill": {
     "duration": 0.048707,
     "end_time": "2020-02-15T12:55:04.854301",
     "exception": false,
     "start_time": "2020-02-15T12:55:04.805594",
     "status": "completed"
    },
    "tags": []
   },
   "outputs": [],
   "source": [
    "# %matplotlib inline\n",
    "# learner.recorder.plot()"
   ]
  },
  {
   "cell_type": "code",
   "execution_count": 33,
   "metadata": {
    "papermill": {
     "duration": 90300.234949,
     "end_time": "2020-02-16T14:00:05.107398",
     "exception": false,
     "start_time": "2020-02-15T12:55:04.872449",
     "status": "completed"
    },
    "tags": []
   },
   "outputs": [
    {
     "name": "stdout",
     "output_type": "stream",
     "text": [
      "using Mixup\n"
     ]
    },
    {
     "data": {
      "text/html": [
       "\n",
       "    <div>\n",
       "        <style>\n",
       "            /* Turns off some styling */\n",
       "            progress {\n",
       "                /* gets rid of default border in Firefox and Opera. */\n",
       "                border: none;\n",
       "                /* Needs to be in here for Safari polyfill so background images work as expected. */\n",
       "                background-size: auto;\n",
       "            }\n",
       "            .progress-bar-interrupted, .progress-bar-interrupted::-webkit-progress-bar {\n",
       "                background: #F44336;\n",
       "            }\n",
       "        </style>\n",
       "      <progress value='28' class='' max='150', style='width:300px; height:20px; vertical-align: middle;'></progress>\n",
       "      18.67% [28/150 24:12:56<105:30:38]\n",
       "    </div>\n",
       "    \n",
       "<table border=\"1\" class=\"dataframe\">\n",
       "  <thead>\n",
       "    <tr style=\"text-align: left;\">\n",
       "      <th>epoch</th>\n",
       "      <th>train_loss</th>\n",
       "      <th>valid_loss</th>\n",
       "      <th>grapheme_root</th>\n",
       "      <th>vowel_diacritic</th>\n",
       "      <th>consonant_diacritic</th>\n",
       "      <th>recall_combine</th>\n",
       "      <th>time</th>\n",
       "    </tr>\n",
       "  </thead>\n",
       "  <tbody>\n",
       "    <tr>\n",
       "      <td>0</td>\n",
       "      <td>0.961293</td>\n",
       "      <td>0.183344</td>\n",
       "      <td>0.949127</td>\n",
       "      <td>0.976075</td>\n",
       "      <td>0.966798</td>\n",
       "      <td>0.960282</td>\n",
       "      <td>51:51</td>\n",
       "    </tr>\n",
       "    <tr>\n",
       "      <td>1</td>\n",
       "      <td>0.902999</td>\n",
       "      <td>0.169964</td>\n",
       "      <td>0.955144</td>\n",
       "      <td>0.978976</td>\n",
       "      <td>0.976078</td>\n",
       "      <td>0.966335</td>\n",
       "      <td>51:51</td>\n",
       "    </tr>\n",
       "    <tr>\n",
       "      <td>2</td>\n",
       "      <td>0.852764</td>\n",
       "      <td>0.172599</td>\n",
       "      <td>0.953749</td>\n",
       "      <td>0.977687</td>\n",
       "      <td>0.972903</td>\n",
       "      <td>0.964522</td>\n",
       "      <td>51:52</td>\n",
       "    </tr>\n",
       "    <tr>\n",
       "      <td>3</td>\n",
       "      <td>0.833830</td>\n",
       "      <td>0.161506</td>\n",
       "      <td>0.955702</td>\n",
       "      <td>0.980986</td>\n",
       "      <td>0.972595</td>\n",
       "      <td>0.966246</td>\n",
       "      <td>51:52</td>\n",
       "    </tr>\n",
       "    <tr>\n",
       "      <td>4</td>\n",
       "      <td>0.818188</td>\n",
       "      <td>0.154366</td>\n",
       "      <td>0.955811</td>\n",
       "      <td>0.980766</td>\n",
       "      <td>0.972658</td>\n",
       "      <td>0.966262</td>\n",
       "      <td>51:48</td>\n",
       "    </tr>\n",
       "    <tr>\n",
       "      <td>5</td>\n",
       "      <td>0.821961</td>\n",
       "      <td>0.140748</td>\n",
       "      <td>0.956443</td>\n",
       "      <td>0.981476</td>\n",
       "      <td>0.971463</td>\n",
       "      <td>0.966457</td>\n",
       "      <td>51:54</td>\n",
       "    </tr>\n",
       "    <tr>\n",
       "      <td>6</td>\n",
       "      <td>0.791234</td>\n",
       "      <td>0.132613</td>\n",
       "      <td>0.956163</td>\n",
       "      <td>0.982128</td>\n",
       "      <td>0.971809</td>\n",
       "      <td>0.966566</td>\n",
       "      <td>51:55</td>\n",
       "    </tr>\n",
       "    <tr>\n",
       "      <td>7</td>\n",
       "      <td>0.753538</td>\n",
       "      <td>0.133374</td>\n",
       "      <td>0.956584</td>\n",
       "      <td>0.982580</td>\n",
       "      <td>0.971141</td>\n",
       "      <td>0.966722</td>\n",
       "      <td>51:51</td>\n",
       "    </tr>\n",
       "    <tr>\n",
       "      <td>8</td>\n",
       "      <td>0.761708</td>\n",
       "      <td>0.130867</td>\n",
       "      <td>0.957495</td>\n",
       "      <td>0.981281</td>\n",
       "      <td>0.972149</td>\n",
       "      <td>0.967105</td>\n",
       "      <td>51:57</td>\n",
       "    </tr>\n",
       "    <tr>\n",
       "      <td>9</td>\n",
       "      <td>0.733879</td>\n",
       "      <td>0.127382</td>\n",
       "      <td>0.958280</td>\n",
       "      <td>0.981552</td>\n",
       "      <td>0.970918</td>\n",
       "      <td>0.967257</td>\n",
       "      <td>51:55</td>\n",
       "    </tr>\n",
       "    <tr>\n",
       "      <td>10</td>\n",
       "      <td>0.713655</td>\n",
       "      <td>0.125495</td>\n",
       "      <td>0.957002</td>\n",
       "      <td>0.982710</td>\n",
       "      <td>0.973814</td>\n",
       "      <td>0.967632</td>\n",
       "      <td>51:54</td>\n",
       "    </tr>\n",
       "    <tr>\n",
       "      <td>11</td>\n",
       "      <td>0.729607</td>\n",
       "      <td>0.128356</td>\n",
       "      <td>0.958324</td>\n",
       "      <td>0.981954</td>\n",
       "      <td>0.973328</td>\n",
       "      <td>0.967983</td>\n",
       "      <td>51:53</td>\n",
       "    </tr>\n",
       "    <tr>\n",
       "      <td>12</td>\n",
       "      <td>0.716148</td>\n",
       "      <td>0.127393</td>\n",
       "      <td>0.957461</td>\n",
       "      <td>0.981090</td>\n",
       "      <td>0.973815</td>\n",
       "      <td>0.967457</td>\n",
       "      <td>51:58</td>\n",
       "    </tr>\n",
       "    <tr>\n",
       "      <td>13</td>\n",
       "      <td>0.705008</td>\n",
       "      <td>0.126228</td>\n",
       "      <td>0.958633</td>\n",
       "      <td>0.982479</td>\n",
       "      <td>0.972965</td>\n",
       "      <td>0.968177</td>\n",
       "      <td>51:55</td>\n",
       "    </tr>\n",
       "    <tr>\n",
       "      <td>14</td>\n",
       "      <td>0.695532</td>\n",
       "      <td>0.122564</td>\n",
       "      <td>0.957303</td>\n",
       "      <td>0.981954</td>\n",
       "      <td>0.973168</td>\n",
       "      <td>0.967432</td>\n",
       "      <td>51:55</td>\n",
       "    </tr>\n",
       "    <tr>\n",
       "      <td>15</td>\n",
       "      <td>0.709825</td>\n",
       "      <td>0.120206</td>\n",
       "      <td>0.957560</td>\n",
       "      <td>0.981486</td>\n",
       "      <td>0.973467</td>\n",
       "      <td>0.967518</td>\n",
       "      <td>51:39</td>\n",
       "    </tr>\n",
       "    <tr>\n",
       "      <td>16</td>\n",
       "      <td>0.680223</td>\n",
       "      <td>0.125031</td>\n",
       "      <td>0.959178</td>\n",
       "      <td>0.982003</td>\n",
       "      <td>0.973003</td>\n",
       "      <td>0.968340</td>\n",
       "      <td>51:38</td>\n",
       "    </tr>\n",
       "    <tr>\n",
       "      <td>17</td>\n",
       "      <td>0.696150</td>\n",
       "      <td>0.118604</td>\n",
       "      <td>0.959581</td>\n",
       "      <td>0.981738</td>\n",
       "      <td>0.974522</td>\n",
       "      <td>0.968856</td>\n",
       "      <td>51:39</td>\n",
       "    </tr>\n",
       "    <tr>\n",
       "      <td>18</td>\n",
       "      <td>0.667117</td>\n",
       "      <td>0.126163</td>\n",
       "      <td>0.957846</td>\n",
       "      <td>0.981019</td>\n",
       "      <td>0.972869</td>\n",
       "      <td>0.967395</td>\n",
       "      <td>51:33</td>\n",
       "    </tr>\n",
       "    <tr>\n",
       "      <td>19</td>\n",
       "      <td>0.679025</td>\n",
       "      <td>0.128514</td>\n",
       "      <td>0.957126</td>\n",
       "      <td>0.980740</td>\n",
       "      <td>0.973683</td>\n",
       "      <td>0.967169</td>\n",
       "      <td>51:46</td>\n",
       "    </tr>\n",
       "    <tr>\n",
       "      <td>20</td>\n",
       "      <td>0.662377</td>\n",
       "      <td>0.125366</td>\n",
       "      <td>0.958407</td>\n",
       "      <td>0.981189</td>\n",
       "      <td>0.973523</td>\n",
       "      <td>0.967881</td>\n",
       "      <td>51:46</td>\n",
       "    </tr>\n",
       "    <tr>\n",
       "      <td>21</td>\n",
       "      <td>0.667190</td>\n",
       "      <td>0.142675</td>\n",
       "      <td>0.957231</td>\n",
       "      <td>0.980406</td>\n",
       "      <td>0.970189</td>\n",
       "      <td>0.966264</td>\n",
       "      <td>51:50</td>\n",
       "    </tr>\n",
       "    <tr>\n",
       "      <td>22</td>\n",
       "      <td>0.669633</td>\n",
       "      <td>0.136631</td>\n",
       "      <td>0.957699</td>\n",
       "      <td>0.981613</td>\n",
       "      <td>0.971746</td>\n",
       "      <td>0.967189</td>\n",
       "      <td>51:58</td>\n",
       "    </tr>\n",
       "    <tr>\n",
       "      <td>23</td>\n",
       "      <td>0.649026</td>\n",
       "      <td>0.128885</td>\n",
       "      <td>0.957719</td>\n",
       "      <td>0.981263</td>\n",
       "      <td>0.972348</td>\n",
       "      <td>0.967262</td>\n",
       "      <td>51:58</td>\n",
       "    </tr>\n",
       "    <tr>\n",
       "      <td>24</td>\n",
       "      <td>0.658132</td>\n",
       "      <td>0.124980</td>\n",
       "      <td>0.957800</td>\n",
       "      <td>0.981826</td>\n",
       "      <td>0.974073</td>\n",
       "      <td>0.967875</td>\n",
       "      <td>51:58</td>\n",
       "    </tr>\n",
       "    <tr>\n",
       "      <td>25</td>\n",
       "      <td>0.645455</td>\n",
       "      <td>0.126753</td>\n",
       "      <td>0.958383</td>\n",
       "      <td>0.982265</td>\n",
       "      <td>0.972918</td>\n",
       "      <td>0.967987</td>\n",
       "      <td>51:56</td>\n",
       "    </tr>\n",
       "    <tr>\n",
       "      <td>26</td>\n",
       "      <td>0.644416</td>\n",
       "      <td>0.126791</td>\n",
       "      <td>0.958323</td>\n",
       "      <td>0.981542</td>\n",
       "      <td>0.972688</td>\n",
       "      <td>0.967719</td>\n",
       "      <td>51:58</td>\n",
       "    </tr>\n",
       "    <tr>\n",
       "      <td>27</td>\n",
       "      <td>0.646738</td>\n",
       "      <td>0.128713</td>\n",
       "      <td>0.957726</td>\n",
       "      <td>0.981578</td>\n",
       "      <td>0.973462</td>\n",
       "      <td>0.967623</td>\n",
       "      <td>51:54</td>\n",
       "    </tr>\n",
       "  </tbody>\n",
       "</table><p>\n",
       "\n",
       "    <div>\n",
       "        <style>\n",
       "            /* Turns off some styling */\n",
       "            progress {\n",
       "                /* gets rid of default border in Firefox and Opera. */\n",
       "                border: none;\n",
       "                /* Needs to be in here for Safari polyfill so background images work as expected. */\n",
       "                background-size: auto;\n",
       "            }\n",
       "            .progress-bar-interrupted, .progress-bar-interrupted::-webkit-progress-bar {\n",
       "                background: #F44336;\n",
       "            }\n",
       "        </style>\n",
       "      <progress value='628' class='' max='628', style='width:300px; height:20px; vertical-align: middle;'></progress>\n",
       "      100.00% [628/628 03:19<00:00]\n",
       "    </div>\n",
       "    "
      ],
      "text/plain": [
       "<IPython.core.display.HTML object>"
      ]
     },
     "metadata": {},
     "output_type": "display_data"
    },
    {
     "name": "stderr",
     "output_type": "stream",
     "text": [
      "Failed to query for notebook name, you can set it manually with the WANDB_NOTEBOOK_NAME environment variable\n"
     ]
    },
    {
     "name": "stderr",
     "output_type": "stream",
     "text": [
      "wandb: Wandb version 0.8.27 is available!  To upgrade, please run:\n",
      "wandb:  $ pip install wandb --upgrade\n"
     ]
    },
    {
     "name": "stdout",
     "output_type": "stream",
     "text": [
      "Better model found at epoch 0 with valid_loss value: 0.18334364891052246.\n"
     ]
    },
    {
     "name": "stdout",
     "output_type": "stream",
     "text": [
      "Better model found at epoch 0 with recall_combine value: 0.9602816104888916.\n"
     ]
    },
    {
     "name": "stdout",
     "output_type": "stream",
     "text": [
      "Better model found at epoch 1 with valid_loss value: 0.16996395587921143.\n"
     ]
    },
    {
     "name": "stdout",
     "output_type": "stream",
     "text": [
      "Better model found at epoch 1 with recall_combine value: 0.9663354158401489.\n"
     ]
    },
    {
     "name": "stdout",
     "output_type": "stream",
     "text": [
      "Better model found at epoch 3 with valid_loss value: 0.1615062952041626.\n"
     ]
    },
    {
     "name": "stdout",
     "output_type": "stream",
     "text": [
      "Better model found at epoch 4 with valid_loss value: 0.15436555445194244.\n"
     ]
    },
    {
     "name": "stdout",
     "output_type": "stream",
     "text": [
      "Better model found at epoch 5 with valid_loss value: 0.14074774086475372.\n"
     ]
    },
    {
     "name": "stdout",
     "output_type": "stream",
     "text": [
      "Better model found at epoch 5 with recall_combine value: 0.9664565324783325.\n"
     ]
    },
    {
     "name": "stdout",
     "output_type": "stream",
     "text": [
      "Better model found at epoch 6 with valid_loss value: 0.13261255621910095.\n"
     ]
    },
    {
     "name": "stdout",
     "output_type": "stream",
     "text": [
      "Better model found at epoch 6 with recall_combine value: 0.9665658473968506.\n"
     ]
    },
    {
     "name": "stdout",
     "output_type": "stream",
     "text": [
      "Better model found at epoch 7 with recall_combine value: 0.966722309589386.\n"
     ]
    },
    {
     "name": "stdout",
     "output_type": "stream",
     "text": [
      "Better model found at epoch 8 with valid_loss value: 0.13086718320846558.\n"
     ]
    },
    {
     "name": "stdout",
     "output_type": "stream",
     "text": [
      "Better model found at epoch 8 with recall_combine value: 0.9671049118041992.\n"
     ]
    },
    {
     "name": "stdout",
     "output_type": "stream",
     "text": [
      "Better model found at epoch 9 with valid_loss value: 0.12738162279129028.\n"
     ]
    },
    {
     "name": "stdout",
     "output_type": "stream",
     "text": [
      "Better model found at epoch 9 with recall_combine value: 0.9672572612762451.\n"
     ]
    },
    {
     "name": "stdout",
     "output_type": "stream",
     "text": [
      "Better model found at epoch 10 with valid_loss value: 0.12549518048763275.\n"
     ]
    },
    {
     "name": "stdout",
     "output_type": "stream",
     "text": [
      "Better model found at epoch 10 with recall_combine value: 0.9676322937011719.\n"
     ]
    },
    {
     "name": "stdout",
     "output_type": "stream",
     "text": [
      "Better model found at epoch 11 with recall_combine value: 0.9679825305938721.\n"
     ]
    },
    {
     "name": "stdout",
     "output_type": "stream",
     "text": [
      "Better model found at epoch 13 with recall_combine value: 0.9681771993637085.\n"
     ]
    },
    {
     "name": "stdout",
     "output_type": "stream",
     "text": [
      "Better model found at epoch 14 with valid_loss value: 0.12256372720003128.\n"
     ]
    },
    {
     "name": "stdout",
     "output_type": "stream",
     "text": [
      "Better model found at epoch 15 with valid_loss value: 0.12020580470561981.\n"
     ]
    },
    {
     "name": "stdout",
     "output_type": "stream",
     "text": [
      "Better model found at epoch 16 with recall_combine value: 0.9683403968811035.\n"
     ]
    },
    {
     "name": "stdout",
     "output_type": "stream",
     "text": [
      "Better model found at epoch 17 with valid_loss value: 0.11860405653715134.\n"
     ]
    },
    {
     "name": "stdout",
     "output_type": "stream",
     "text": [
      "Better model found at epoch 17 with recall_combine value: 0.9688555002212524.\n"
     ]
    },
    {
     "name": "stdout",
     "output_type": "stream",
     "text": [
      "Epoch 23: reducing lr to 2e-05\n"
     ]
    },
    {
     "name": "stdout",
     "output_type": "stream",
     "text": [
      "Epoch 28: early stopping\n"
     ]
    },
    {
     "name": "stdout",
     "output_type": "stream",
     "text": [
      "Loaded best saved model from /home/lextoumbourou/bengaliai-cv19/wandb/run-20200215_125446-1d5rb6dd/bestmodel.pth\n"
     ]
    }
   ],
   "source": [
    "callbacks=[\n",
    "    CSVLogger(learner, OUTPUT_PATH/'history.csv'),\n",
    "    SaveModelCallback(\n",
    "        learner, monitor='recall_combine', mode='max', name=NAME\n",
    "    ),\n",
    "    ReduceLROnPlateauCallback(learner, patience=5, monitor='recall_combine', mode='max', min_lr=1e-13),\n",
    "    EarlyStoppingCallback(learner, monitor='recall_combine', mode='max', patience=10)\n",
    "]\n",
    "\n",
    "if wandb.config.prog_sprinkles:\n",
    "    callbacks.append(CutoutScheduler(learner, n_holes_max=80))\n",
    "\n",
    "if wandb.config.use_mixup:\n",
    "    print(\"using Mixup\")\n",
    "    callbacks.append(MixUpCallback(learner))\n",
    "elif wandb.config.use_cutmix:\n",
    "    print(\"using CutMix\")\n",
    "    callbacks.append(CutMixCallback(learner))\n",
    "\n",
    "learner.fit(\n",
    "    wandb.config.max_epochs,\n",
    "    LR,\n",
    "    callbacks=callbacks\n",
    ")"
   ]
  },
  {
   "cell_type": "code",
   "execution_count": 34,
   "metadata": {
    "papermill": {
     "duration": 0.439678,
     "end_time": "2020-02-16T14:00:05.574295",
     "exception": false,
     "start_time": "2020-02-16T14:00:05.134617",
     "status": "completed"
    },
    "tags": []
   },
   "outputs": [],
   "source": [
    "learner.recorder.plot_losses()"
   ]
  },
  {
   "cell_type": "code",
   "execution_count": null,
   "metadata": {
    "papermill": {
     "duration": 0.026476,
     "end_time": "2020-02-16T14:00:05.632478",
     "exception": false,
     "start_time": "2020-02-16T14:00:05.606002",
     "status": "completed"
    },
    "tags": []
   },
   "outputs": [],
   "source": []
  }
 ],
 "metadata": {
  "celltoolbar": "Tags",
  "kernelspec": {
   "display_name": "Python 3",
   "language": "python",
   "name": "python3"
  },
  "language_info": {
   "codemirror_mode": {
    "name": "ipython",
    "version": 3
   },
   "file_extension": ".py",
   "mimetype": "text/x-python",
   "name": "python",
   "nbconvert_exporter": "python",
   "pygments_lexer": "ipython3",
   "version": "3.7.4"
  },
  "papermill": {
   "duration": 90329.209512,
   "end_time": "2020-02-16T14:00:11.493415",
   "environment_variables": {},
   "exception": null,
   "input_path": "nbs/templates/fastai-stage2-finetune.ipynb",
   "output_path": "nbs/output/se_resnext50_finetune_mixup_224.ipynb",
   "parameters": {
    "BATCH_SIZE": 64,
    "ENCODER_ARCH": "se_resnext50_32x4d",
    "IMG_SIZE": 224,
    "LOAD_EXPERIMENT": "lex/bengaliai-cv19/l18p1wge",
    "LR": 0.0001,
    "NAME": "se_resnext50_finetune_mixup_224",
    "OUTPUT_VAL_SIZE": null,
    "REDUCE_LR_PATIENCE": 5,
    "USE_CUTMIX": false,
    "USE_FP16": true,
    "USE_MIXUP": true,
    "WANDB_MODE": "run"
   },
   "start_time": "2020-02-15T12:54:42.283903",
   "version": "1.2.1"
  },
  "toc": {
   "base_numbering": 1,
   "nav_menu": {},
   "number_sections": true,
   "sideBar": true,
   "skip_h1_title": false,
   "title_cell": "Table of Contents",
   "title_sidebar": "Contents",
   "toc_cell": false,
   "toc_position": {},
   "toc_section_display": true,
   "toc_window_display": false
  }
 },
 "nbformat": 4,
 "nbformat_minor": 4
}