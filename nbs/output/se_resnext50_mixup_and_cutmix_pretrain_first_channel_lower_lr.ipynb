{
 "cells": [
  {
   "cell_type": "code",
   "execution_count": 1,
   "metadata": {
    "papermill": {
     "duration": 2.938306,
     "end_time": "2020-02-18T08:49:43.920431",
     "exception": false,
     "start_time": "2020-02-18T08:49:40.982125",
     "status": "completed"
    },
    "tags": []
   },
   "outputs": [],
   "source": [
    "%load_ext autoreload\n",
    "%autoreload 2\n",
    "\n",
    "import matplotlib.pyplot as plt\n",
    "%matplotlib inline\n",
    "from copy import deepcopy\n",
    "\n",
    "import os\n",
    "import sys\n",
    "from pathlib import Path\n",
    "import pandas as pd\n",
    "\n",
    "from fastai.vision import *\n",
    "from fastai.callbacks import *\n",
    "from fastai.layers import AdaptiveConcatPool2d\n",
    "import torch\n",
    "from efficientnet_pytorch import EfficientNet\n",
    "import wandb\n",
    "from wandb.fastai import WandbCallback\n",
    "import timm\n",
    "import pretrainedmodels\n",
    "from kornia.losses import FocalLoss\n",
    "from fastai2.layers import MishJit\n",
    "from sklearn.utils.class_weight import compute_class_weight\n",
    "\n",
    "from sklearn.metrics import recall_score\n",
    "\n",
    "\n",
    "def seed_everything(seed):\n",
    "    random.seed(seed)\n",
    "    os.environ['PYTHONHASHSEED'] = str(seed)\n",
    "    np.random.seed(seed)\n",
    "    torch.manual_seed(seed)\n",
    "    torch.cuda.manual_seed_all(seed)\n",
    "    torch.cuda.manual_seed(seed)\n",
    "    torch.backends.cudnn.deterministic = True"
   ]
  },
  {
   "cell_type": "markdown",
   "metadata": {
    "papermill": {
     "duration": 0.019692,
     "end_time": "2020-02-18T08:49:43.961124",
     "exception": false,
     "start_time": "2020-02-18T08:49:43.941432",
     "status": "completed"
    },
    "tags": []
   },
   "source": [
    "## Params"
   ]
  },
  {
   "cell_type": "code",
   "execution_count": 2,
   "metadata": {
    "papermill": {
     "duration": 0.055412,
     "end_time": "2020-02-18T08:49:44.036493",
     "exception": false,
     "start_time": "2020-02-18T08:49:43.981081",
     "status": "completed"
    },
    "tags": [
     "parameters"
    ]
   },
   "outputs": [],
   "source": [
    "NAME = ''\n",
    "WANDB_MODE = 'dryrun'\n",
    "\n",
    "DATA_PATH = Path('/home/lextoumbourou/bengaliai-cv19/data')\n",
    "IMAGE_DATA_PATH = Path(DATA_PATH/'grapheme-imgs-128x128')\n",
    "OUTPUT_PATH = Path(DATA_PATH/'working')\n",
    "LABELS_PATH = Path(DATA_PATH/'iterative-stratification')\n",
    "\n",
    "VALID_PCT = 0.2\n",
    "SEED = 421\n",
    "BATCH_SIZE = 128\n",
    "IMG_SIZE = 128\n",
    "\n",
    "MAX_WARP = 0.2\n",
    "P_AFFINE = 0.75\n",
    "MAX_ROTATE = 40.\n",
    "MAX_ZOOM = 1.1\n",
    "P_LIGHTING = 0.75\n",
    "MAX_LIGHTING = 0.2\n",
    "MAX_COUNT_RANDOM_ERASING = 3\n",
    "LABEL_SMOOTHING_EPS = 0.1\n",
    "\n",
    "MAX_EPOCHS = 150\n",
    "\n",
    "ENCODER_ARCH = 'efficientnet-b0'\n",
    "\n",
    "GRAPHEME_ROOT_WEIGHT = 0.7\n",
    "VOWEL_DIACRITIC_WEIGHT = 0.1\n",
    "CONSONANT_DIACRITIC_WEIGHT = 0.2\n",
    "MODEL_HEAD = 'mish_head'\n",
    "\n",
    "SAMPLE_SIZE = None\n",
    "\n",
    "PROG_SPRINKES = False\n",
    "USE_FP16 = False\n",
    "\n",
    "NORM_MEAN = 0.0692\n",
    "NORM_STD = 0.2051\n",
    "\n",
    "USE_CUTMIX = True\n",
    "\n",
    "REDUCE_LR_PATIENCE = 6\n",
    "REDUCE_LR_FACTOR = 0.2\n",
    "\n",
    "LR = 3e-3\n",
    "\n",
    "LOAD_EXPERIMENT = None"
   ]
  },
  {
   "cell_type": "code",
   "execution_count": 3,
   "metadata": {
    "papermill": {
     "duration": 0.049994,
     "end_time": "2020-02-18T08:49:44.109118",
     "exception": false,
     "start_time": "2020-02-18T08:49:44.059124",
     "status": "completed"
    },
    "tags": [
     "injected-parameters"
    ]
   },
   "outputs": [],
   "source": [
    "# Parameters\n",
    "ENCODER_ARCH = \"se_resnext50_32x4d\"\n",
    "BATCH_SIZE = 192\n",
    "USE_FP16 = True\n",
    "USE_CUTMIX = True\n",
    "USE_MIXUP = True\n",
    "REDUCE_LR_PATIENCE = 5\n",
    "REDUCE_LR_FACTOR = 0.5\n",
    "LOAD_EXPERIMENT = \"lex/bengaliai-cv19/2ps2d1kz\"\n",
    "LR = 0.00075\n",
    "WANDB_MODE = \"run\"\n",
    "NAME = \"se_resnext50_mixup_and_cutmix_pretrain_first_channel_lower_lr\"\n",
    "OUTPUT_VAL_SIZE = None\n"
   ]
  },
  {
   "cell_type": "code",
   "execution_count": 4,
   "metadata": {
    "papermill": {
     "duration": 0.047448,
     "end_time": "2020-02-18T08:49:44.177147",
     "exception": false,
     "start_time": "2020-02-18T08:49:44.129699",
     "status": "completed"
    },
    "tags": []
   },
   "outputs": [],
   "source": [
    "if isinstance(LR, list): LR = slice(*LR)"
   ]
  },
  {
   "cell_type": "code",
   "execution_count": 5,
   "metadata": {
    "papermill": {
     "duration": 0.045895,
     "end_time": "2020-02-18T08:49:44.243519",
     "exception": false,
     "start_time": "2020-02-18T08:49:44.197624",
     "status": "completed"
    },
    "tags": []
   },
   "outputs": [],
   "source": [
    "seed_everything(seed=SEED)"
   ]
  },
  {
   "cell_type": "code",
   "execution_count": 6,
   "metadata": {
    "papermill": {
     "duration": 0.704545,
     "end_time": "2020-02-18T08:49:44.968310",
     "exception": false,
     "start_time": "2020-02-18T08:49:44.263765",
     "status": "completed"
    },
    "tags": []
   },
   "outputs": [
    {
     "name": "stdout",
     "output_type": "stream",
     "text": [
      "\u001b[34m\u001b[1mwandb\u001b[0m: Appending key for api.wandb.ai to your netrc file: /home/lextoumbourou/.netrc\r\n",
      "\u001b[32mSuccessfully logged in to Weights & Biases!\u001b[0m\r\n"
     ]
    }
   ],
   "source": [
    "!wandb login 563765550fd7b64fd10129216209724e03f3f20c"
   ]
  },
  {
   "cell_type": "code",
   "execution_count": 7,
   "metadata": {
    "papermill": {
     "duration": 0.051939,
     "end_time": "2020-02-18T08:49:45.037307",
     "exception": false,
     "start_time": "2020-02-18T08:49:44.985368",
     "status": "completed"
    },
    "tags": []
   },
   "outputs": [],
   "source": [
    "# Turn this off before running!!\n",
    "os.environ['WANDB_MODE'] = WANDB_MODE"
   ]
  },
  {
   "cell_type": "code",
   "execution_count": 8,
   "metadata": {
    "papermill": {
     "duration": 32.372297,
     "end_time": "2020-02-18T08:50:17.426124",
     "exception": false,
     "start_time": "2020-02-18T08:49:45.053827",
     "status": "completed"
    },
    "tags": []
   },
   "outputs": [
    {
     "data": {
      "text/html": [
       "\n",
       "                Logging results to <a href=\"https://wandb.com\" target=\"_blank\">Weights & Biases</a> <a href=\"https://docs.wandb.com/integrations/jupyter.html\" target=\"_blank\">(Documentation)</a>.<br/>\n",
       "                Project page: <a href=\"https://app.wandb.ai/lex/bengaliai-cv19\" target=\"_blank\">https://app.wandb.ai/lex/bengaliai-cv19</a><br/>\n",
       "                Run page: <a href=\"https://app.wandb.ai/lex/bengaliai-cv19/runs/xde8r372\" target=\"_blank\">https://app.wandb.ai/lex/bengaliai-cv19/runs/xde8r372</a><br/>\n",
       "            "
      ],
      "text/plain": [
       "<IPython.core.display.HTML object>"
      ]
     },
     "metadata": {},
     "output_type": "display_data"
    },
    {
     "name": "stderr",
     "output_type": "stream",
     "text": [
      "Failed to query for notebook name, you can set it manually with the WANDB_NOTEBOOK_NAME environment variable\n"
     ]
    },
    {
     "name": "stderr",
     "output_type": "stream",
     "text": [
      "wandb: Wandb version 0.8.27 is available!  To upgrade, please run:\n",
      "wandb:  $ pip install wandb --upgrade\n"
     ]
    }
   ],
   "source": [
    "wandb.init(project=\"bengaliai-cv19\", name=NAME)\n",
    "\n",
    "wandb.config.img_size = IMG_SIZE\n",
    "wandb.config.batch_size = BATCH_SIZE\n",
    "wandb.config.seed = SEED\n",
    "\n",
    "wandb.config.max_warp = MAX_WARP\n",
    "wandb.config.p_affine = P_AFFINE\n",
    "wandb.config.max_rotate = MAX_ROTATE\n",
    "wandb.config.max_zoom = MAX_ZOOM\n",
    "wandb.config.p_lighting = P_LIGHTING\n",
    "wandb.config.max_lighting = MAX_LIGHTING\n",
    "wandb.config.max_count_random_erasing = MAX_COUNT_RANDOM_ERASING\n",
    "wandb.config.grapheme_root_weight = GRAPHEME_ROOT_WEIGHT\n",
    "wandb.config.vowel_diacritic_weight = VOWEL_DIACRITIC_WEIGHT\n",
    "wandb.config.consonant_diacritic_weight = CONSONANT_DIACRITIC_WEIGHT\n",
    "wandb.config.sample_size = SAMPLE_SIZE\n",
    "wandb.config.encoder_arch = ENCODER_ARCH\n",
    "wandb.config.max_epochs = MAX_EPOCHS\n",
    "wandb.config.prog_sprinkles = PROG_SPRINKES\n",
    "wandb.config.label_smoothing_eps = LABEL_SMOOTHING_EPS\n",
    "wandb.config.encoder_arch = ENCODER_ARCH\n",
    "wandb.config.norm_mean = NORM_MEAN\n",
    "wandb.config.norm_std = NORM_STD\n",
    "wandb.config.use_fp16 = USE_FP16\n",
    "wandb.config.use_cutmix = USE_CUTMIX\n",
    "wandb.config.reduce_lr_patience = REDUCE_LR_PATIENCE\n",
    "wandb.config.lr = str(LR)\n",
    "wandb.config.reduce_lr_factor = REDUCE_LR_FACTOR\n",
    "wandb.config.load_experiment = LOAD_EXPERIMENT"
   ]
  },
  {
   "cell_type": "markdown",
   "metadata": {
    "papermill": {
     "duration": 0.018596,
     "end_time": "2020-02-18T08:50:17.464033",
     "exception": false,
     "start_time": "2020-02-18T08:50:17.445437",
     "status": "completed"
    },
    "tags": []
   },
   "source": [
    "## Create datasets and dataloaders"
   ]
  },
  {
   "cell_type": "code",
   "execution_count": 9,
   "metadata": {
    "papermill": {
     "duration": 0.218324,
     "end_time": "2020-02-18T08:50:17.701022",
     "exception": false,
     "start_time": "2020-02-18T08:50:17.482698",
     "status": "completed"
    },
    "tags": []
   },
   "outputs": [],
   "source": [
    "train_df = pd.read_csv(LABELS_PATH/'train_with_fold.csv')\n",
    "if wandb.config.sample_size:\n",
    "    print(\"About to reduce train size.\")\n",
    "    train_df = train_df.sample(n=wandb.config.sample_size, random_state=SEED).reset_index(drop=True)"
   ]
  },
  {
   "cell_type": "code",
   "execution_count": 10,
   "metadata": {
    "papermill": {
     "duration": 0.049948,
     "end_time": "2020-02-18T08:50:17.769435",
     "exception": false,
     "start_time": "2020-02-18T08:50:17.719487",
     "status": "completed"
    },
    "tags": []
   },
   "outputs": [
    {
     "data": {
      "text/html": [
       "<div>\n",
       "<style scoped>\n",
       "    .dataframe tbody tr th:only-of-type {\n",
       "        vertical-align: middle;\n",
       "    }\n",
       "\n",
       "    .dataframe tbody tr th {\n",
       "        vertical-align: top;\n",
       "    }\n",
       "\n",
       "    .dataframe thead th {\n",
       "        text-align: right;\n",
       "    }\n",
       "</style>\n",
       "<table border=\"1\" class=\"dataframe\">\n",
       "  <thead>\n",
       "    <tr style=\"text-align: right;\">\n",
       "      <th></th>\n",
       "      <th>image_id</th>\n",
       "      <th>grapheme_root</th>\n",
       "      <th>vowel_diacritic</th>\n",
       "      <th>consonant_diacritic</th>\n",
       "      <th>grapheme</th>\n",
       "      <th>id</th>\n",
       "      <th>fold</th>\n",
       "    </tr>\n",
       "  </thead>\n",
       "  <tbody>\n",
       "    <tr>\n",
       "      <th>0</th>\n",
       "      <td>Train_0</td>\n",
       "      <td>15</td>\n",
       "      <td>9</td>\n",
       "      <td>5</td>\n",
       "      <td>ক্ট্রো</td>\n",
       "      <td>0</td>\n",
       "      <td>3</td>\n",
       "    </tr>\n",
       "    <tr>\n",
       "      <th>1</th>\n",
       "      <td>Train_1</td>\n",
       "      <td>159</td>\n",
       "      <td>0</td>\n",
       "      <td>0</td>\n",
       "      <td>হ</td>\n",
       "      <td>1</td>\n",
       "      <td>2</td>\n",
       "    </tr>\n",
       "    <tr>\n",
       "      <th>2</th>\n",
       "      <td>Train_2</td>\n",
       "      <td>22</td>\n",
       "      <td>3</td>\n",
       "      <td>5</td>\n",
       "      <td>খ্রী</td>\n",
       "      <td>2</td>\n",
       "      <td>4</td>\n",
       "    </tr>\n",
       "    <tr>\n",
       "      <th>3</th>\n",
       "      <td>Train_3</td>\n",
       "      <td>53</td>\n",
       "      <td>2</td>\n",
       "      <td>2</td>\n",
       "      <td>র্টি</td>\n",
       "      <td>3</td>\n",
       "      <td>2</td>\n",
       "    </tr>\n",
       "    <tr>\n",
       "      <th>4</th>\n",
       "      <td>Train_4</td>\n",
       "      <td>71</td>\n",
       "      <td>9</td>\n",
       "      <td>5</td>\n",
       "      <td>থ্রো</td>\n",
       "      <td>4</td>\n",
       "      <td>1</td>\n",
       "    </tr>\n",
       "  </tbody>\n",
       "</table>\n",
       "</div>"
      ],
      "text/plain": [
       "  image_id  grapheme_root  vowel_diacritic  consonant_diacritic grapheme  id  \\\n",
       "0  Train_0             15                9                    5   ক্ট্রো   0   \n",
       "1  Train_1            159                0                    0        হ   1   \n",
       "2  Train_2             22                3                    5     খ্রী   2   \n",
       "3  Train_3             53                2                    2     র্টি   3   \n",
       "4  Train_4             71                9                    5     থ্রো   4   \n",
       "\n",
       "   fold  \n",
       "0     3  \n",
       "1     2  \n",
       "2     4  \n",
       "3     2  \n",
       "4     1  "
      ]
     },
     "execution_count": 10,
     "metadata": {},
     "output_type": "execute_result"
    }
   ],
   "source": [
    "train_df.head()"
   ]
  },
  {
   "cell_type": "code",
   "execution_count": 11,
   "metadata": {
    "papermill": {
     "duration": 0.547552,
     "end_time": "2020-02-18T08:50:18.335010",
     "exception": false,
     "start_time": "2020-02-18T08:50:17.787458",
     "status": "completed"
    },
    "tags": []
   },
   "outputs": [
    {
     "data": {
      "text/plain": [
       "<matplotlib.axes._subplots.AxesSubplot at 0x7f945bfd9610>"
      ]
     },
     "execution_count": 11,
     "metadata": {},
     "output_type": "execute_result"
    }
   ],
   "source": [
    "train_df.grapheme_root.value_counts().plot.bar(figsize=(20, 4), title=\"Grapheme root\", rot=90)"
   ]
  },
  {
   "cell_type": "code",
   "execution_count": 12,
   "metadata": {
    "papermill": {
     "duration": 0.127756,
     "end_time": "2020-02-18T08:50:18.481098",
     "exception": false,
     "start_time": "2020-02-18T08:50:18.353342",
     "status": "completed"
    },
    "tags": []
   },
   "outputs": [
    {
     "data": {
      "text/plain": [
       "<matplotlib.axes._subplots.AxesSubplot at 0x7f945bfd9610>"
      ]
     },
     "execution_count": 12,
     "metadata": {},
     "output_type": "execute_result"
    }
   ],
   "source": [
    "train_df.vowel_diacritic.value_counts().plot.bar(title=\"Vowel diacrititc\")"
   ]
  },
  {
   "cell_type": "code",
   "execution_count": 13,
   "metadata": {
    "papermill": {
     "duration": 0.118508,
     "end_time": "2020-02-18T08:50:18.618648",
     "exception": false,
     "start_time": "2020-02-18T08:50:18.500140",
     "status": "completed"
    },
    "tags": []
   },
   "outputs": [
    {
     "data": {
      "text/plain": [
       "<matplotlib.axes._subplots.AxesSubplot at 0x7f945bfd9610>"
      ]
     },
     "execution_count": 13,
     "metadata": {},
     "output_type": "execute_result"
    }
   ],
   "source": [
    "train_df.consonant_diacritic.value_counts().plot.bar(title=\"Consonant diacrititc\")"
   ]
  },
  {
   "cell_type": "code",
   "execution_count": 14,
   "metadata": {
    "papermill": {
     "duration": 0.047504,
     "end_time": "2020-02-18T08:50:18.684869",
     "exception": false,
     "start_time": "2020-02-18T08:50:18.637365",
     "status": "completed"
    },
    "tags": []
   },
   "outputs": [],
   "source": [
    "train_tfms = [\n",
    "    symmetric_warp(\n",
    "        magnitude=(-wandb.config.max_warp, wandb.config.max_warp),\n",
    "        p=wandb.config.p_affine\n",
    "    ),\n",
    "    rotate(\n",
    "        degrees=(-wandb.config.max_rotate, wandb.config.max_rotate),\n",
    "        p=wandb.config.p_affine\n",
    "    ),\n",
    "    rand_zoom(\n",
    "        scale=(1., wandb.config.max_zoom), p=wandb.config.p_affine\n",
    "    ),\n",
    "    brightness(\n",
    "        change=(0.5*(1 - wandb.config.max_lighting), 0.5*(1 + wandb.config.max_lighting)),\n",
    "        p=wandb.config.p_lighting\n",
    "    ),\n",
    "    contrast(\n",
    "        scale=(1-wandb.config.max_lighting, 1/(1-wandb.config.max_lighting)),\n",
    "        p=wandb.config.p_lighting\n",
    "    ),\n",
    "    cutout(n_holes=(1, 6), length=(5, 15), p=.5)\n",
    "]"
   ]
  },
  {
   "cell_type": "code",
   "execution_count": 15,
   "metadata": {
    "papermill": {
     "duration": 0.043548,
     "end_time": "2020-02-18T08:50:18.747533",
     "exception": false,
     "start_time": "2020-02-18T08:50:18.703985",
     "status": "completed"
    },
    "tags": []
   },
   "outputs": [],
   "source": [
    "train_df['is_valid'] = train_df.fold == 0"
   ]
  },
  {
   "cell_type": "code",
   "execution_count": 16,
   "metadata": {
    "papermill": {
     "duration": 0.133066,
     "end_time": "2020-02-18T08:50:18.899949",
     "exception": false,
     "start_time": "2020-02-18T08:50:18.766883",
     "status": "completed"
    },
    "tags": []
   },
   "outputs": [],
   "source": [
    "grapheme_root_class_weight = compute_class_weight('balanced', range(train_df.grapheme_root.max() + 1), y=train_df.grapheme_root)\n",
    "vowel_diacritic_class_weight = compute_class_weight('balanced', range(train_df.vowel_diacritic.max() + 1), y=train_df.vowel_diacritic)\n",
    "consonant_diacritic_class_weight = compute_class_weight('balanced', range(train_df.consonant_diacritic.max() + 1), y=train_df.consonant_diacritic)"
   ]
  },
  {
   "cell_type": "code",
   "execution_count": 17,
   "metadata": {
    "papermill": {
     "duration": 1.32663,
     "end_time": "2020-02-18T08:50:20.245079",
     "exception": false,
     "start_time": "2020-02-18T08:50:18.918449",
     "status": "completed"
    },
    "tags": []
   },
   "outputs": [],
   "source": [
    "stats = ([wandb.config.norm_mean], [wandb.config.norm_std])\n",
    "\n",
    "data = (\n",
    "    ImageList.from_df(\n",
    "        path=DATA_PATH, df=train_df, folder='./grapheme-imgs-128x128/', suffix='.png',\n",
    "        cols='image_id', convert_mode='L'\n",
    "    )\n",
    "    .split_from_df(col='is_valid')\n",
    "    .label_from_df(cols=['grapheme_root', 'vowel_diacritic', 'consonant_diacritic'])\n",
    "    .transform((train_tfms, []), size=wandb.config.img_size, padding_mode='zeros')\n",
    "    .databunch(bs=wandb.config.batch_size)\n",
    ").normalize(stats)"
   ]
  },
  {
   "cell_type": "code",
   "execution_count": 18,
   "metadata": {
    "papermill": {
     "duration": 5.204307,
     "end_time": "2020-02-18T08:50:25.471060",
     "exception": false,
     "start_time": "2020-02-18T08:50:20.266753",
     "status": "completed"
    },
    "tags": []
   },
   "outputs": [],
   "source": [
    "data.show_batch()"
   ]
  },
  {
   "cell_type": "code",
   "execution_count": 19,
   "metadata": {
    "papermill": {
     "duration": 0.181579,
     "end_time": "2020-02-18T08:50:25.674421",
     "exception": false,
     "start_time": "2020-02-18T08:50:25.492842",
     "status": "completed"
    },
    "tags": []
   },
   "outputs": [],
   "source": [
    "class MixUpLoss(Module):\n",
    "    \"Adapt the loss function `crit` to go with mixup.\"\n",
    "    \n",
    "    def __init__(self, crit, reduction='mean'):\n",
    "        super().__init__()\n",
    "        if hasattr(crit, 'reduction'): \n",
    "            self.crit = crit\n",
    "            self.old_red = crit.reduction\n",
    "            setattr(self.crit, 'reduction', 'none')\n",
    "        else: \n",
    "            self.crit = partial(crit, reduction='none')\n",
    "            self.old_crit = crit\n",
    "        self.reduction = reduction\n",
    "        \n",
    "    def forward(self, output, target):\n",
    "        if len(target.shape) == 2 and target.shape[1] == 7:\n",
    "            loss1, loss2 = self.crit(output,target[:,0:3].long()), self.crit(output,target[:,3:6].long())\n",
    "            d = loss1 * target[:,-1] + loss2 * (1-target[:,-1])\n",
    "        else:  d = self.crit(output, target)\n",
    "        if self.reduction == 'mean':    return d.mean()\n",
    "        elif self.reduction == 'sum':   return d.sum()\n",
    "        return d\n",
    "    \n",
    "    def get_old(self):\n",
    "        if hasattr(self, 'old_crit'):  return self.old_crit\n",
    "        elif hasattr(self, 'old_red'): \n",
    "            setattr(self.crit, 'reduction', self.old_red)\n",
    "            return self.crit\n",
    "        \n",
    "def rand_bbox(last_input_size, λ):\n",
    "    '''lambd is always between .5 and 1'''\n",
    "\n",
    "    W = last_input_size[-1]\n",
    "    H = last_input_size[-2]\n",
    "    cut_rat = np.sqrt(1. - λ) # 0. - .707\n",
    "    cut_w = np.int(W * cut_rat)\n",
    "    cut_h = np.int(H * cut_rat)\n",
    "\n",
    "    # uniform\n",
    "    cx = np.random.randint(W)\n",
    "    cy = np.random.randint(H)\n",
    "\n",
    "    bbx1 = np.clip(cx - cut_w // 2, 0, W)\n",
    "    bby1 = np.clip(cy - cut_h // 2, 0, H)\n",
    "    bbx2 = np.clip(cx + cut_w // 2, 0, W)\n",
    "    if len(last_input_size) == 4:\n",
    "        bby2 = np.clip(cy + cut_h // 2, 0, H)\n",
    "    else: bby2 = last_input_size[1]\n",
    "\n",
    "    return bbx1, bby1, bbx2, bby2\n",
    "\n",
    "\n",
    "class CutMixCallback(LearnerCallback):\n",
    "    '''Adapted from :\n",
    "    paper: https://arxiv.org/abs/1905.04899\n",
    "    github: https://github.com/clovaai/CutMix-PyTorch\n",
    "    and mixup in the fastai library.'''\n",
    "\n",
    "    def __init__(self, learn:Learner, alpha:float=1., stack_y:bool=True):\n",
    "        super().__init__(learn)\n",
    "        self.alpha,self.stack_y = alpha,stack_y\n",
    "\n",
    "    def on_train_begin(self, **kwargs):\n",
    "        if self.stack_y:\n",
    "            self.learn.loss_func = MixUpLoss(self.learn.loss_func)\n",
    "\n",
    "    def on_batch_begin(self, last_input, last_target, train, **kwargs):\n",
    "        \"Applies cutmix to `last_input` and `last_target` if `train`.\"\n",
    "        if not train or self.alpha == 0:\n",
    "            return\n",
    "        λ = np.random.beta(self.alpha, self.alpha)\n",
    "        λ = max(λ, 1- λ)\n",
    "        bs = last_target.size(0)\n",
    "        idx = torch.randperm(bs).to(last_input.device)\n",
    "        x1, y1 = last_input[idx], last_target[idx]\n",
    "\n",
    "        #Get new input\n",
    "        last_input_size = last_input.size()\n",
    "        bbx1, bby1, bbx2, bby2 = rand_bbox(last_input_size, λ)\n",
    "        new_input = last_input.clone()\n",
    "        new_input[..., bby1:bby2, bbx1:bbx2] = x1[..., bby1:bby2, bbx1:bbx2]\n",
    "        #λ = last_input.new([λ])\n",
    "        λ = 1 - ((bbx2 - bbx1) * (bby2 - bby1) / (last_input_size[-1] * last_input_size[-2]))\n",
    "        λ = last_input.new([λ])\n",
    "\n",
    "        # modify last target\n",
    "        if self.stack_y:\n",
    "            new_target = torch.cat([last_target.float(), y1.float(),\n",
    "                                    λ.repeat(last_input_size[0]).unsqueeze(1).float()], 1)\n",
    "        else:\n",
    "            if len(last_target.shape) == 2:\n",
    "                λ = λ.unsqueeze(1).float()\n",
    "            new_target = last_target.float() * λ + y1.float() * (1-λ)\n",
    "\n",
    "        return {'last_input': new_input, 'last_target': new_target}\n",
    "\n",
    "    def on_train_end(self, **kwargs):\n",
    "        if self.stack_y: self.learn.loss_func = self.learn.loss_func.get_old()\n",
    "\n",
    "\n",
    "class MixUpCallback(LearnerCallback):\n",
    "    \"Callback that creates the mixed-up input and target.\"\n",
    "    def __init__(self, learn:Learner, alpha:float=0.4, stack_x:bool=False, stack_y:bool=True):\n",
    "        super().__init__(learn)\n",
    "        self.alpha,self.stack_x,self.stack_y = alpha,stack_x,stack_y\n",
    "    \n",
    "    def on_train_begin(self, **kwargs):\n",
    "        if self.stack_y: self.learn.loss_func = MixUpLoss(self.learn.loss_func)\n",
    "        \n",
    "    def on_batch_begin(self, last_input, last_target, train, **kwargs):\n",
    "        \"Applies mixup to `last_input` and `last_target` if `train`.\"\n",
    "        if not train: return\n",
    "        lambd = np.random.beta(self.alpha, self.alpha, last_target.size(0))\n",
    "        lambd = np.concatenate([lambd[:,None], 1-lambd[:,None]], 1).max(1)\n",
    "        lambd = last_input.new(lambd)\n",
    "        shuffle = torch.randperm(last_target.size(0)).to(last_input.device)\n",
    "        x1, y1 = last_input[shuffle], last_target[shuffle]\n",
    "        if self.stack_x:\n",
    "            new_input = [last_input, last_input[shuffle], lambd]\n",
    "        else: \n",
    "            out_shape = [lambd.size(0)] + [1 for _ in range(len(x1.shape) - 1)]\n",
    "            new_input = (last_input * lambd.view(out_shape) + x1 * (1-lambd).view(out_shape))\n",
    "        if self.stack_y:\n",
    "            new_target = torch.cat([last_target.float(), y1.float(), lambd[:,None].float()], 1)\n",
    "        else:\n",
    "            if len(last_target.shape) == 2:\n",
    "                lambd = lambd.unsqueeze(1).float()\n",
    "            new_target = last_target.float() * lambd + y1.float() * (1-lambd)\n",
    "        return {'last_input': new_input, 'last_target': new_target}  \n",
    "    \n",
    "    def on_train_end(self, **kwargs):\n",
    "        if self.stack_y: self.learn.loss_func = self.learn.loss_func.get_old()\n",
    "            \n",
    "\n",
    "class MixUpOrCutMix(LearnerCallback):\n",
    "    def __init__(self, learn, mix_up_kwargs=None, cut_mix_kwargs=None):\n",
    "        super().__init__(learn)\n",
    "        self.mix_up_kwargs = mix_up_kwargs or {}\n",
    "        self.cut_mix_kwargs = cut_mix_kwargs or {}\n",
    "        self.mixup = MixUpCallback(learner, **self.mix_up_kwargs)\n",
    "        self.cutmix = CutMixCallback(learner, **self.cut_mix_kwargs)\n",
    "        \n",
    "    def on_train_begin(self, **kwargs):\n",
    "        self.mixup.on_train_begin(**kwargs)\n",
    "        self.cutmix.on_train_begin(**kwargs)\n",
    "        \n",
    "    def on_batch_begin(self, last_input, last_target, train, **kwargs):\n",
    "        if not train:\n",
    "            return\n",
    "        \n",
    "        if np.random.rand() < 0.5:\n",
    "            return self.mixup.on_batch_begin(last_input, last_target, train, **kwargs)\n",
    "        else:\n",
    "            return self.cutmix.on_batch_begin(last_input, last_target, train, **kwargs)\n",
    "        \n",
    "    def on_train_end(self, **kwargs):\n",
    "        self.mixup.on_train_end(**kwargs)\n",
    "        self.cutmix.on_train_end(**kwargs)"
   ]
  },
  {
   "cell_type": "markdown",
   "metadata": {
    "papermill": {
     "duration": 0.019423,
     "end_time": "2020-02-18T08:50:25.713175",
     "exception": false,
     "start_time": "2020-02-18T08:50:25.693752",
     "status": "completed"
    },
    "tags": []
   },
   "source": [
    "## Loss and metrics"
   ]
  },
  {
   "cell_type": "code",
   "execution_count": 20,
   "metadata": {
    "papermill": {
     "duration": 0.058873,
     "end_time": "2020-02-18T08:50:25.790583",
     "exception": false,
     "start_time": "2020-02-18T08:50:25.731710",
     "status": "completed"
    },
    "tags": []
   },
   "outputs": [],
   "source": [
    "class MetricBase(Callback):\n",
    "    def __init__(self, average='macro'):\n",
    "        super().__init__()\n",
    "        self.n_classes = 0\n",
    "        self.average = average\n",
    "        self.cm = None\n",
    "        self.eps = 1e-9\n",
    "        \n",
    "    def on_epoch_begin(self, **kwargs):\n",
    "        self.tp = 0\n",
    "        self.fp = 0\n",
    "        self.cm = None\n",
    "    \n",
    "    def on_batch_end(self, last_output:Tensor, last_target:Tensor, **kwargs):\n",
    "        last_output = last_output[self.idx]\n",
    "        last_target = last_target[:,self.idx]\n",
    "        preds = last_output.argmax(-1).view(-1).cpu()\n",
    "        targs = last_target.long().cpu()\n",
    "        \n",
    "        if self.n_classes == 0:\n",
    "            self.n_classes = last_output.shape[-1]\n",
    "            self.x = torch.arange(0, self.n_classes)\n",
    "        cm = ((preds==self.x[:, None]) & (targs==self.x[:, None, None])) \\\n",
    "          .sum(dim=2, dtype=torch.float32)\n",
    "        if self.cm is None: self.cm =  cm\n",
    "        else:               self.cm += cm\n",
    "\n",
    "    def _weights(self, avg:str):\n",
    "        if self.n_classes != 2 and avg == \"binary\":\n",
    "            avg = self.average = \"macro\"\n",
    "            warn(\"average=`binary` was selected for a non binary case. \\\n",
    "                 Value for average has now been set to `macro` instead.\")\n",
    "        if avg == \"binary\":\n",
    "            if self.pos_label not in (0, 1):\n",
    "                self.pos_label = 1\n",
    "                warn(\"Invalid value for pos_label. It has now been set to 1.\")\n",
    "            if self.pos_label == 1: return Tensor([0,1])\n",
    "            else: return Tensor([1,0])\n",
    "        elif avg == \"micro\": return self.cm.sum(dim=0) / self.cm.sum()\n",
    "        elif avg == \"macro\": return torch.ones((self.n_classes,)) / self.n_classes\n",
    "        elif avg == \"weighted\": return self.cm.sum(dim=1) / self.cm.sum()\n",
    "        \n",
    "    def _recall(self):\n",
    "        rec = torch.diag(self.cm) / (self.cm.sum(dim=1) + self.eps)\n",
    "        if self.average is None: return rec\n",
    "        else:\n",
    "            if self.average == \"micro\": weights = self._weights(avg=\"weighted\")\n",
    "            else: weights = self._weights(avg=self.average)\n",
    "            return (rec * weights).sum()\n",
    "    \n",
    "    def on_epoch_end(self, last_metrics, **kwargs):\n",
    "        return add_metrics(last_metrics, self._recall())\n",
    "\n",
    "    \n",
    "class GraphemeRoot(MetricBase):\n",
    "    idx = 0\n",
    "\n",
    "    \n",
    "class VowelDiacritic(MetricBase):\n",
    "    idx = 1\n",
    "\n",
    "\n",
    "class ConsonantDiacritic(MetricBase):\n",
    "    idx = 2\n",
    "\n",
    "\n",
    "class RecallCombine(Callback):\n",
    "    def __init__(self):\n",
    "        super().__init__()\n",
    "        self.grapheme = GraphemeRoot()\n",
    "        self.vowel = VowelDiacritic()\n",
    "        self.consonant = ConsonantDiacritic()\n",
    "        \n",
    "    def on_epoch_begin(self, **kwargs):\n",
    "        self.grapheme.on_epoch_begin(**kwargs)\n",
    "        self.vowel.on_epoch_begin(**kwargs)\n",
    "        self.consonant.on_epoch_begin(**kwargs)\n",
    "    \n",
    "    def on_batch_end(self, last_output:Tensor, last_target:Tensor, **kwargs):\n",
    "        self.grapheme.on_batch_end(last_output, last_target, **kwargs)\n",
    "        self.vowel.on_batch_end(last_output, last_target, **kwargs)\n",
    "        self.consonant.on_batch_end(last_output, last_target, **kwargs)\n",
    "        \n",
    "    def on_epoch_end(self, last_metrics, **kwargs):\n",
    "        return add_metrics(\n",
    "            last_metrics,\n",
    "            0.5 * self.grapheme._recall() +\n",
    "            0.25 * self.vowel._recall() +\n",
    "            0.25 * self.consonant._recall()\n",
    "        )"
   ]
  },
  {
   "cell_type": "markdown",
   "metadata": {
    "papermill": {
     "duration": 0.018938,
     "end_time": "2020-02-18T08:50:25.828795",
     "exception": false,
     "start_time": "2020-02-18T08:50:25.809857",
     "status": "completed"
    },
    "tags": []
   },
   "source": [
    "## Model"
   ]
  },
  {
   "cell_type": "code",
   "execution_count": 21,
   "metadata": {
    "papermill": {
     "duration": 0.049632,
     "end_time": "2020-02-18T08:50:25.897615",
     "exception": false,
     "start_time": "2020-02-18T08:50:25.847983",
     "status": "completed"
    },
    "tags": []
   },
   "outputs": [],
   "source": [
    "from torch.nn.parameter import Parameter\n",
    "\n",
    "\n",
    "def gem(x, p=3, eps=1e-6):\n",
    "    if wandb.config.use_fp16:\n",
    "        x = x.double() # x=x.to(torch.float32) # comment this during inference\n",
    "\n",
    "    x = F.avg_pool2d(x.clamp(min=eps).pow(p), (x.size(-2), x.size(-1))).pow(1./p)\n",
    "    \n",
    "    if wandb.config.use_fp16:\n",
    "        x = x.half()\n",
    "\n",
    "    return x # Comment this line in inference code use ## return x\n",
    "\n",
    "\n",
    "class GeM(nn.Module):\n",
    "    def __init__(self, p=3, eps=1e-6):\n",
    "        super(GeM,self).__init__()\n",
    "        self.p = Parameter(torch.ones(1)*p)\n",
    "        self.eps = eps\n",
    "\n",
    "    def forward(self, x):\n",
    "        return gem(x, p=self.p, eps=self.eps)\n",
    "\n",
    "    def __repr__(self):\n",
    "        return self.__class__.__name__ + '(' + 'p=' + '{:.4f}'.format(self.p.data.tolist()[0]) + ', ' + 'eps=' + str(self.eps) + ')'"
   ]
  },
  {
   "cell_type": "code",
   "execution_count": 22,
   "metadata": {
    "papermill": {
     "duration": 0.044243,
     "end_time": "2020-02-18T08:50:25.960654",
     "exception": false,
     "start_time": "2020-02-18T08:50:25.916411",
     "status": "completed"
    },
    "tags": []
   },
   "outputs": [],
   "source": [
    "class AdaptiveConcatWithGemPool2d(Module):\n",
    "    \"Layer that concats `AdaptiveAvgPool2d` and `AdaptiveMaxPool2d`.\"\n",
    "    def __init__(self, sz:Optional[int]=None):\n",
    "        \"Output will be 2*sz or 2 if sz is None\"\n",
    "        self.output_size = sz or 1\n",
    "        self.ap = GeM()\n",
    "        self.mp = nn.AdaptiveMaxPool2d(self.output_size)\n",
    "\n",
    "    def forward(self, x):\n",
    "        return torch.cat([self.mp(x), self.ap(x)], 1)"
   ]
  },
  {
   "cell_type": "code",
   "execution_count": 23,
   "metadata": {
    "papermill": {
     "duration": 0.048164,
     "end_time": "2020-02-18T08:50:26.027894",
     "exception": false,
     "start_time": "2020-02-18T08:50:25.979730",
     "status": "completed"
    },
    "tags": []
   },
   "outputs": [],
   "source": [
    "class MishHead(nn.Module):\n",
    "    def __init__(self, input_size: int, output_size: int, dropout_ps=0.5):\n",
    "        super().__init__()\n",
    "\n",
    "        layers = [\n",
    "            AdaptiveConcatWithGemPool2d(),\n",
    "            # AdaptiveConcatPool2d(),\n",
    "            Flatten(),\n",
    "            nn.Linear(input_size * 2, 512),\n",
    "            MishJit(),\n",
    "            nn.BatchNorm1d(512),\n",
    "            nn.Dropout(dropout_ps),\n",
    "            nn.Linear(512, output_size)\n",
    "        ]\n",
    "\n",
    "        self.fc = nn.Sequential(*layers)\n",
    "        self._init_weight()\n",
    "\n",
    "    def _init_weight(self):\n",
    "        for m in self.modules():\n",
    "            if isinstance(m, nn.Conv2d):\n",
    "                torch.nn.init.kaiming_normal_(m.weight)\n",
    "            elif isinstance(m, nn.BatchNorm2d):\n",
    "                m.weight.data.fill_(1.0)\n",
    "                m.bias.data.zero_()\n",
    "\n",
    "    def forward(self, x):\n",
    "        return self.fc(x)"
   ]
  },
  {
   "cell_type": "code",
   "execution_count": 24,
   "metadata": {
    "papermill": {
     "duration": 0.05098,
     "end_time": "2020-02-18T08:50:26.097749",
     "exception": false,
     "start_time": "2020-02-18T08:50:26.046769",
     "status": "completed"
    },
    "tags": []
   },
   "outputs": [],
   "source": [
    "class BengaliModel(nn.Module):\n",
    "    def __init__(self, encoder, encoder_output_features):\n",
    "        super().__init__()\n",
    "        \n",
    "        self.encoder = encoder\n",
    "        \n",
    "        self.fc_grapheme_root = MishHead(encoder_output_features, output_size=168)\n",
    "        self.fc_vowel_diacritic = MishHead(encoder_output_features, output_size=11)\n",
    "        self.fc_consonant_diacritic = MishHead(encoder_output_features, output_size=7)\n",
    "        \n",
    "    def forward(self, inputs):\n",
    "        # Convolution layers\n",
    "        x = self.encoder(inputs)\n",
    "\n",
    "        return [\n",
    "            self.fc_grapheme_root(x),\n",
    "            self.fc_vowel_diacritic(x),\n",
    "            self.fc_consonant_diacritic(x)\n",
    "        ]"
   ]
  },
  {
   "cell_type": "code",
   "execution_count": 25,
   "metadata": {
    "papermill": {
     "duration": 0.045357,
     "end_time": "2020-02-18T08:50:26.162518",
     "exception": false,
     "start_time": "2020-02-18T08:50:26.117161",
     "status": "completed"
    },
    "tags": []
   },
   "outputs": [],
   "source": [
    "class LossCombine(nn.Module):\n",
    "    def __init__(self):\n",
    "        super().__init__()\n",
    "\n",
    "    def forward(self, input, target, reduction='mean'):\n",
    "        x1,x2,x3 = input\n",
    "        x1,x2,x3 = x1.float(), x2.float(), x3.float()\n",
    "        y = target.long()\n",
    "\n",
    "        return (\n",
    "            wandb.config.grapheme_root_weight * F.cross_entropy(\n",
    "                x1, y[:,0], reduction=reduction) +\n",
    "            wandb.config.vowel_diacritic_weight * F.cross_entropy(\n",
    "                x2,y[:,1], reduction=reduction) +\n",
    "            wandb.config.consonant_diacritic_weight * F.cross_entropy(\n",
    "                x3, y[:,2], reduction=reduction)\n",
    "        )"
   ]
  },
  {
   "cell_type": "code",
   "execution_count": 26,
   "metadata": {
    "papermill": {
     "duration": 0.045953,
     "end_time": "2020-02-18T08:50:26.228584",
     "exception": false,
     "start_time": "2020-02-18T08:50:26.182631",
     "status": "completed"
    },
    "tags": []
   },
   "outputs": [],
   "source": [
    "class EfficientNetModel(nn.Module):\n",
    "    def __init__(self, model_name):\n",
    "        super().__init__()\n",
    "        self.m = EfficientNet.from_pretrained(model_name)\n",
    "        \n",
    "    def forward(self, x):\n",
    "        return self.m.extract_features(x)"
   ]
  },
  {
   "cell_type": "code",
   "execution_count": 27,
   "metadata": {
    "papermill": {
     "duration": 0.041035,
     "end_time": "2020-02-18T08:50:26.289102",
     "exception": false,
     "start_time": "2020-02-18T08:50:26.248067",
     "status": "completed"
    },
    "tags": []
   },
   "outputs": [],
   "source": [
    "class RWightmanModel(nn.Module):\n",
    "    def __init__(self, model_name):\n",
    "        super().__init__()\n",
    "        self.m =  timm.create_model(model_name, pretrained=True)\n",
    "        \n",
    "    def forward(self, x):\n",
    "        return self.m.forward_features(x)"
   ]
  },
  {
   "cell_type": "code",
   "execution_count": 28,
   "metadata": {
    "papermill": {
     "duration": 0.043005,
     "end_time": "2020-02-18T08:50:26.350585",
     "exception": false,
     "start_time": "2020-02-18T08:50:26.307580",
     "status": "completed"
    },
    "tags": []
   },
   "outputs": [],
   "source": [
    "class CadeneModel(nn.Module):\n",
    "    def __init__(self, model_name):\n",
    "        super().__init__()\n",
    "\n",
    "        self.m = pretrainedmodels.__dict__[model_name](num_classes=1000, pretrained='imagenet')\n",
    "        layer0_weight = deepcopy(self.m.layer0.conv1.weight)\n",
    "        \n",
    "        self.m.layer0.conv1 = nn.Conv2d(1, 64, kernel_size=7, stride=2, padding=3, bias=False)\n",
    "        self.m.layer0.conv1.weight = nn.Parameter(torch.mean(layer0_weight, dim=1, keepdim=True))\n",
    "        \n",
    "    def forward(self, x):\n",
    "        return self.m.features(x)"
   ]
  },
  {
   "cell_type": "markdown",
   "metadata": {
    "papermill": {
     "duration": 0.018873,
     "end_time": "2020-02-18T08:50:26.388408",
     "exception": false,
     "start_time": "2020-02-18T08:50:26.369535",
     "status": "completed"
    },
    "tags": []
   },
   "source": [
    "## Training"
   ]
  },
  {
   "cell_type": "code",
   "execution_count": 29,
   "metadata": {
    "papermill": {
     "duration": 0.044455,
     "end_time": "2020-02-18T08:50:26.451860",
     "exception": false,
     "start_time": "2020-02-18T08:50:26.407405",
     "status": "completed"
    },
    "tags": []
   },
   "outputs": [],
   "source": [
    "@dataclass\n",
    "class CutoutScheduler(Callback):\n",
    "    learn:Learner\n",
    "    n_holes_max:int=80\n",
    "    max_at_epoch:int=30\n",
    "        \n",
    "    def on_epoch_begin(self, **kwargs):\n",
    "        i = kwargs['iteration']\n",
    "        n_epochs = kwargs['n_epochs']\n",
    "        n_holes_max = int(round(annealing_linear(0, self.n_holes_max, min(i / self.max_at_epoch, 1.))))\n",
    "        n_holes = (max(n_holes_max-10, 0), n_holes_max)\n",
    "        print(n_holes)\n",
    "        self.learn.data.train_ds.tfms[-1].kwargs['n_holes'] = n_holes"
   ]
  },
  {
   "cell_type": "code",
   "execution_count": 30,
   "metadata": {
    "papermill": {
     "duration": 0.343071,
     "end_time": "2020-02-18T08:50:26.815147",
     "exception": false,
     "start_time": "2020-02-18T08:50:26.472076",
     "status": "completed"
    },
    "tags": []
   },
   "outputs": [
    {
     "name": "stdout",
     "output_type": "stream",
     "text": [
      "Loading Cadene model: se_resnext50_32x4d\n"
     ]
    }
   ],
   "source": [
    "if ENCODER_ARCH.startswith('efficientnet-'):\n",
    "    print(f'Loading EfficientNet models: {ENCODER_ARCH}')\n",
    "    encoder = EfficientNetModel(ENCODER_ARCH)\n",
    "    output_feats = encoder.m._fc.in_features\n",
    "elif ENCODER_ARCH in pretrainedmodels.model_names:\n",
    "    print(f\"Loading Cadene model: {ENCODER_ARCH}\")\n",
    "    encoder = CadeneModel(ENCODER_ARCH)\n",
    "    output_feats = encoder.m.last_linear.in_features\n",
    "else:\n",
    "    print(f\"Loading R Wightman model: {ENCODER_ARCH}\")\n",
    "    encoder = RWightmanModel(ENCODER_ARCH)\n",
    "    output_feats = encoder.m.classifier.in_features"
   ]
  },
  {
   "cell_type": "code",
   "execution_count": 31,
   "metadata": {
    "papermill": {
     "duration": 0.183291,
     "end_time": "2020-02-18T08:50:27.019864",
     "exception": false,
     "start_time": "2020-02-18T08:50:26.836573",
     "status": "completed"
    },
    "tags": []
   },
   "outputs": [
    {
     "name": "stdout",
     "output_type": "stream",
     "text": [
      "Convert to fp16\n"
     ]
    }
   ],
   "source": [
    "model = BengaliModel(encoder=encoder, encoder_output_features=output_feats)\n",
    "\n",
    "learner = Learner(\n",
    "    data, model, loss_func=LossCombine(),\n",
    "    metrics=[GraphemeRoot(), VowelDiacritic(), ConsonantDiacritic(), RecallCombine()],\n",
    "    callback_fns=WandbCallback\n",
    ")\n",
    "learner.clip_grad = 1.0\n",
    "learner.split([model.fc_grapheme_root])\n",
    "\n",
    "learner.unfreeze()\n",
    "\n",
    "if wandb.config.use_fp16:\n",
    "    print(\"Convert to fp16\")\n",
    "    learner = learner.to_fp16()"
   ]
  },
  {
   "cell_type": "code",
   "execution_count": 32,
   "metadata": {
    "papermill": {
     "duration": 4.931168,
     "end_time": "2020-02-18T08:50:31.971352",
     "exception": false,
     "start_time": "2020-02-18T08:50:27.040184",
     "status": "completed"
    },
    "tags": []
   },
   "outputs": [
    {
     "name": "stdout",
     "output_type": "stream",
     "text": [
      "Restoring experiment: lex/bengaliai-cv19/2ps2d1kz\n"
     ]
    }
   ],
   "source": [
    "if wandb.config.load_experiment:\n",
    "    print(f'Restoring experiment: {wandb.config.load_experiment}')\n",
    "    wandb.restore('bestmodel.pth', run_path=wandb.config.load_experiment)\n",
    "    learner.load(Path(wandb.run.dir)/'bestmodel')"
   ]
  },
  {
   "cell_type": "code",
   "execution_count": 33,
   "metadata": {
    "papermill": {
     "duration": 0.051553,
     "end_time": "2020-02-18T08:50:32.046743",
     "exception": false,
     "start_time": "2020-02-18T08:50:31.995190",
     "status": "completed"
    },
    "tags": []
   },
   "outputs": [],
   "source": [
    "# learner.lr_find()\n",
    "# learner.recorder.plot()"
   ]
  },
  {
   "cell_type": "code",
   "execution_count": 34,
   "metadata": {
    "papermill": {
     "duration": 5.500383,
     "end_time": "2020-02-18T08:50:37.571047",
     "exception": false,
     "start_time": "2020-02-18T08:50:32.070664",
     "status": "completed"
    },
    "tags": []
   },
   "outputs": [
    {
     "name": "stdout",
     "output_type": "stream",
     "text": [
      "tensor([13.0000,  9.0000,  5.0000, 72.0000,  4.0000,  0.0000,  0.7608])\n"
     ]
    },
    {
     "data": {
      "image/png": "[encoded data removed]",
      "text/plain": [
       "<Figure size 216x216 with 1 Axes>"
      ]
     },
     "metadata": {
      "needs_background": "light"
     },
     "output_type": "display_data"
    },
    {
     "name": "stdout",
     "output_type": "stream",
     "text": [
      "tensor([123.0000,   2.0000,   0.0000, 117.0000,   0.0000,   0.0000,   0.9521])\n"
     ]
    },
    {
     "data": {
      "image/png": "[encoded data removed]",
      "text/plain": [
       "<Figure size 216x216 with 1 Axes>"
      ]
     },
     "metadata": {
      "needs_background": "light"
     },
     "output_type": "display_data"
    },
    {
     "name": "stdout",
     "output_type": "stream",
     "text": [
      "tensor([71.0000,  2.0000,  5.0000, 69.0000,  1.0000,  0.0000,  0.9481])\n"
     ]
    },
    {
     "data": {
      "image/png": "[encoded data removed]",
      "text/plain": [
       "<Figure size 216x216 with 1 Axes>"
      ]
     },
     "metadata": {
      "needs_background": "light"
     },
     "output_type": "display_data"
    },
    {
     "name": "stdout",
     "output_type": "stream",
     "text": [
      "tensor([ 96.0000,   8.0000,   0.0000, 115.0000,   9.0000,   2.0000,   0.7778])\n"
     ]
    },
    {
     "data": {
      "image/png": "[encoded data removed]",
      "text/plain": [
       "<Figure size 216x216 with 1 Axes>"
      ]
     },
     "metadata": {
      "needs_background": "light"
     },
     "output_type": "display_data"
    },
    {
     "name": "stdout",
     "output_type": "stream",
     "text": [
      "tensor([121.0000,   1.0000,   0.0000,  79.0000,   2.0000,   0.0000,   0.8871])\n"
     ]
    },
    {
     "data": {
      "image/png": "[encoded data removed]",
      "text/plain": [
       "<Figure size 216x216 with 1 Axes>"
      ]
     },
     "metadata": {
      "needs_background": "light"
     },
     "output_type": "display_data"
    }
   ],
   "source": [
    "%matplotlib inline\n",
    "\n",
    "def show_mixup_or_cutmix(learner):\n",
    "    for i in range(5):\n",
    "        cb = MixUpOrCutMix(learner)\n",
    "        xb, yb = learner.data.one_batch()\n",
    "        tfms = learner.data.train_ds.tfms\n",
    "        for i in range(len(xb)):\n",
    "            xb[i] = Image(xb[i]).apply_tfms(tfms).data\n",
    "        \n",
    "        batch_output = cb.on_batch_begin(xb, yb, True)\n",
    "        \n",
    "        print(batch_output['last_target'][0])\n",
    "        \n",
    "        Image(batch_output['last_input'][0]).show()\n",
    "        \n",
    "        plt.show()\n",
    "        \n",
    "show_mixup_or_cutmix(learner)"
   ]
  },
  {
   "cell_type": "code",
   "execution_count": 35,
   "metadata": {
    "papermill": {
     "duration": 24669.834772,
     "end_time": "2020-02-18T15:41:47.430275",
     "exception": false,
     "start_time": "2020-02-18T08:50:37.595503",
     "status": "completed"
    },
    "tags": []
   },
   "outputs": [
    {
     "data": {
      "text/html": [
       "\n",
       "    <div>\n",
       "        <style>\n",
       "            /* Turns off some styling */\n",
       "            progress {\n",
       "                /* gets rid of default border in Firefox and Opera. */\n",
       "                border: none;\n",
       "                /* Needs to be in here for Safari polyfill so background images work as expected. */\n",
       "                background-size: auto;\n",
       "            }\n",
       "            .progress-bar-interrupted, .progress-bar-interrupted::-webkit-progress-bar {\n",
       "                background: #F44336;\n",
       "            }\n",
       "        </style>\n",
       "      <progress value='24' class='' max='150', style='width:300px; height:20px; vertical-align: middle;'></progress>\n",
       "      16.00% [24/150 6:34:43<34:32:17]\n",
       "    </div>\n",
       "    \n",
       "<table border=\"1\" class=\"dataframe\">\n",
       "  <thead>\n",
       "    <tr style=\"text-align: left;\">\n",
       "      <th>epoch</th>\n",
       "      <th>train_loss</th>\n",
       "      <th>valid_loss</th>\n",
       "      <th>grapheme_root</th>\n",
       "      <th>vowel_diacritic</th>\n",
       "      <th>consonant_diacritic</th>\n",
       "      <th>recall_combine</th>\n",
       "      <th>time</th>\n",
       "    </tr>\n",
       "  </thead>\n",
       "  <tbody>\n",
       "    <tr>\n",
       "      <td>0</td>\n",
       "      <td>0.950488</td>\n",
       "      <td>0.179143</td>\n",
       "      <td>0.948064</td>\n",
       "      <td>0.984502</td>\n",
       "      <td>0.978361</td>\n",
       "      <td>0.964748</td>\n",
       "      <td>17:56</td>\n",
       "    </tr>\n",
       "    <tr>\n",
       "      <td>1</td>\n",
       "      <td>0.873992</td>\n",
       "      <td>0.129574</td>\n",
       "      <td>0.956853</td>\n",
       "      <td>0.985276</td>\n",
       "      <td>0.977911</td>\n",
       "      <td>0.969223</td>\n",
       "      <td>16:21</td>\n",
       "    </tr>\n",
       "    <tr>\n",
       "      <td>2</td>\n",
       "      <td>0.870983</td>\n",
       "      <td>0.126576</td>\n",
       "      <td>0.960739</td>\n",
       "      <td>0.985598</td>\n",
       "      <td>0.983155</td>\n",
       "      <td>0.972558</td>\n",
       "      <td>16:21</td>\n",
       "    </tr>\n",
       "    <tr>\n",
       "      <td>3</td>\n",
       "      <td>0.940808</td>\n",
       "      <td>0.118899</td>\n",
       "      <td>0.961668</td>\n",
       "      <td>0.984581</td>\n",
       "      <td>0.981232</td>\n",
       "      <td>0.972287</td>\n",
       "      <td>16:22</td>\n",
       "    </tr>\n",
       "    <tr>\n",
       "      <td>4</td>\n",
       "      <td>0.871814</td>\n",
       "      <td>0.118042</td>\n",
       "      <td>0.958907</td>\n",
       "      <td>0.985719</td>\n",
       "      <td>0.981562</td>\n",
       "      <td>0.971274</td>\n",
       "      <td>16:22</td>\n",
       "    </tr>\n",
       "    <tr>\n",
       "      <td>5</td>\n",
       "      <td>0.801690</td>\n",
       "      <td>0.122993</td>\n",
       "      <td>0.959304</td>\n",
       "      <td>0.986025</td>\n",
       "      <td>0.981389</td>\n",
       "      <td>0.971506</td>\n",
       "      <td>16:21</td>\n",
       "    </tr>\n",
       "    <tr>\n",
       "      <td>6</td>\n",
       "      <td>0.841134</td>\n",
       "      <td>0.128601</td>\n",
       "      <td>0.957508</td>\n",
       "      <td>0.986053</td>\n",
       "      <td>0.981338</td>\n",
       "      <td>0.970601</td>\n",
       "      <td>16:21</td>\n",
       "    </tr>\n",
       "    <tr>\n",
       "      <td>7</td>\n",
       "      <td>0.825570</td>\n",
       "      <td>0.131889</td>\n",
       "      <td>0.954077</td>\n",
       "      <td>0.985490</td>\n",
       "      <td>0.983002</td>\n",
       "      <td>0.969161</td>\n",
       "      <td>16:21</td>\n",
       "    </tr>\n",
       "    <tr>\n",
       "      <td>8</td>\n",
       "      <td>0.815696</td>\n",
       "      <td>0.125348</td>\n",
       "      <td>0.959463</td>\n",
       "      <td>0.984341</td>\n",
       "      <td>0.982801</td>\n",
       "      <td>0.971517</td>\n",
       "      <td>16:22</td>\n",
       "    </tr>\n",
       "    <tr>\n",
       "      <td>9</td>\n",
       "      <td>0.900110</td>\n",
       "      <td>0.120168</td>\n",
       "      <td>0.958907</td>\n",
       "      <td>0.985663</td>\n",
       "      <td>0.984602</td>\n",
       "      <td>0.972020</td>\n",
       "      <td>16:22</td>\n",
       "    </tr>\n",
       "    <tr>\n",
       "      <td>10</td>\n",
       "      <td>0.781398</td>\n",
       "      <td>0.120738</td>\n",
       "      <td>0.960631</td>\n",
       "      <td>0.986214</td>\n",
       "      <td>0.983505</td>\n",
       "      <td>0.972745</td>\n",
       "      <td>16:23</td>\n",
       "    </tr>\n",
       "    <tr>\n",
       "      <td>11</td>\n",
       "      <td>0.904730</td>\n",
       "      <td>0.122707</td>\n",
       "      <td>0.960078</td>\n",
       "      <td>0.985428</td>\n",
       "      <td>0.982108</td>\n",
       "      <td>0.971923</td>\n",
       "      <td>16:22</td>\n",
       "    </tr>\n",
       "    <tr>\n",
       "      <td>12</td>\n",
       "      <td>0.718995</td>\n",
       "      <td>0.113425</td>\n",
       "      <td>0.960395</td>\n",
       "      <td>0.985354</td>\n",
       "      <td>0.980634</td>\n",
       "      <td>0.971695</td>\n",
       "      <td>16:21</td>\n",
       "    </tr>\n",
       "    <tr>\n",
       "      <td>13</td>\n",
       "      <td>0.838500</td>\n",
       "      <td>0.118274</td>\n",
       "      <td>0.963209</td>\n",
       "      <td>0.986702</td>\n",
       "      <td>0.982969</td>\n",
       "      <td>0.974022</td>\n",
       "      <td>16:21</td>\n",
       "    </tr>\n",
       "    <tr>\n",
       "      <td>14</td>\n",
       "      <td>0.810107</td>\n",
       "      <td>0.121133</td>\n",
       "      <td>0.961291</td>\n",
       "      <td>0.986679</td>\n",
       "      <td>0.982798</td>\n",
       "      <td>0.973015</td>\n",
       "      <td>16:21</td>\n",
       "    </tr>\n",
       "    <tr>\n",
       "      <td>15</td>\n",
       "      <td>0.800297</td>\n",
       "      <td>0.119700</td>\n",
       "      <td>0.960660</td>\n",
       "      <td>0.987270</td>\n",
       "      <td>0.984700</td>\n",
       "      <td>0.973322</td>\n",
       "      <td>16:21</td>\n",
       "    </tr>\n",
       "    <tr>\n",
       "      <td>16</td>\n",
       "      <td>0.851535</td>\n",
       "      <td>0.116378</td>\n",
       "      <td>0.961047</td>\n",
       "      <td>0.986003</td>\n",
       "      <td>0.985837</td>\n",
       "      <td>0.973483</td>\n",
       "      <td>16:22</td>\n",
       "    </tr>\n",
       "    <tr>\n",
       "      <td>17</td>\n",
       "      <td>0.830034</td>\n",
       "      <td>0.119846</td>\n",
       "      <td>0.960987</td>\n",
       "      <td>0.986006</td>\n",
       "      <td>0.985461</td>\n",
       "      <td>0.973360</td>\n",
       "      <td>16:22</td>\n",
       "    </tr>\n",
       "    <tr>\n",
       "      <td>18</td>\n",
       "      <td>0.895749</td>\n",
       "      <td>0.124857</td>\n",
       "      <td>0.961213</td>\n",
       "      <td>0.986971</td>\n",
       "      <td>0.982983</td>\n",
       "      <td>0.973095</td>\n",
       "      <td>16:22</td>\n",
       "    </tr>\n",
       "    <tr>\n",
       "      <td>19</td>\n",
       "      <td>0.841094</td>\n",
       "      <td>0.119965</td>\n",
       "      <td>0.960848</td>\n",
       "      <td>0.986335</td>\n",
       "      <td>0.983540</td>\n",
       "      <td>0.972893</td>\n",
       "      <td>16:22</td>\n",
       "    </tr>\n",
       "    <tr>\n",
       "      <td>20</td>\n",
       "      <td>0.828656</td>\n",
       "      <td>0.127832</td>\n",
       "      <td>0.960324</td>\n",
       "      <td>0.986091</td>\n",
       "      <td>0.984163</td>\n",
       "      <td>0.972726</td>\n",
       "      <td>16:20</td>\n",
       "    </tr>\n",
       "    <tr>\n",
       "      <td>21</td>\n",
       "      <td>0.877713</td>\n",
       "      <td>0.122216</td>\n",
       "      <td>0.962312</td>\n",
       "      <td>0.986591</td>\n",
       "      <td>0.984368</td>\n",
       "      <td>0.973896</td>\n",
       "      <td>16:20</td>\n",
       "    </tr>\n",
       "    <tr>\n",
       "      <td>22</td>\n",
       "      <td>0.820921</td>\n",
       "      <td>0.118861</td>\n",
       "      <td>0.960765</td>\n",
       "      <td>0.987159</td>\n",
       "      <td>0.983515</td>\n",
       "      <td>0.973051</td>\n",
       "      <td>16:22</td>\n",
       "    </tr>\n",
       "    <tr>\n",
       "      <td>23</td>\n",
       "      <td>0.751667</td>\n",
       "      <td>0.117754</td>\n",
       "      <td>0.959900</td>\n",
       "      <td>0.987185</td>\n",
       "      <td>0.984147</td>\n",
       "      <td>0.972783</td>\n",
       "      <td>16:19</td>\n",
       "    </tr>\n",
       "  </tbody>\n",
       "</table><p>\n",
       "\n",
       "    <div>\n",
       "        <style>\n",
       "            /* Turns off some styling */\n",
       "            progress {\n",
       "                /* gets rid of default border in Firefox and Opera. */\n",
       "                border: none;\n",
       "                /* Needs to be in here for Safari polyfill so background images work as expected. */\n",
       "                background-size: auto;\n",
       "            }\n",
       "            .progress-bar-interrupted, .progress-bar-interrupted::-webkit-progress-bar {\n",
       "                background: #F44336;\n",
       "            }\n",
       "        </style>\n",
       "      <progress value='210' class='' max='210', style='width:300px; height:20px; vertical-align: middle;'></progress>\n",
       "      100.00% [210/210 01:08<00:00]\n",
       "    </div>\n",
       "    "
      ],
      "text/plain": [
       "<IPython.core.display.HTML object>"
      ]
     },
     "metadata": {},
     "output_type": "display_data"
    },
    {
     "name": "stderr",
     "output_type": "stream",
     "text": [
      "Failed to query for notebook name, you can set it manually with the WANDB_NOTEBOOK_NAME environment variable\n"
     ]
    },
    {
     "name": "stderr",
     "output_type": "stream",
     "text": [
      "wandb: Wandb version 0.8.27 is available!  To upgrade, please run:\n",
      "wandb:  $ pip install wandb --upgrade\n"
     ]
    },
    {
     "name": "stdout",
     "output_type": "stream",
     "text": [
      "Better model found at epoch 0 with valid_loss value: 0.17914262413978577.\n"
     ]
    },
    {
     "name": "stdout",
     "output_type": "stream",
     "text": [
      "Better model found at epoch 0 with recall_combine value: 0.9647480249404907.\n"
     ]
    },
    {
     "name": "stdout",
     "output_type": "stream",
     "text": [
      "Better model found at epoch 1 with valid_loss value: 0.12957356870174408.\n"
     ]
    },
    {
     "name": "stdout",
     "output_type": "stream",
     "text": [
      "Better model found at epoch 1 with recall_combine value: 0.9692233204841614.\n"
     ]
    },
    {
     "name": "stdout",
     "output_type": "stream",
     "text": [
      "Better model found at epoch 2 with valid_loss value: 0.12657573819160461.\n"
     ]
    },
    {
     "name": "stdout",
     "output_type": "stream",
     "text": [
      "Better model found at epoch 2 with recall_combine value: 0.9725580215454102.\n"
     ]
    },
    {
     "name": "stdout",
     "output_type": "stream",
     "text": [
      "Better model found at epoch 3 with valid_loss value: 0.11889857798814774.\n"
     ]
    },
    {
     "name": "stdout",
     "output_type": "stream",
     "text": [
      "Better model found at epoch 4 with valid_loss value: 0.11804214119911194.\n"
     ]
    },
    {
     "name": "stdout",
     "output_type": "stream",
     "text": [
      "Epoch 8: reducing lr to 0.000375\n"
     ]
    },
    {
     "name": "stdout",
     "output_type": "stream",
     "text": [
      "Better model found at epoch 10 with recall_combine value: 0.9727453589439392.\n"
     ]
    },
    {
     "name": "stdout",
     "output_type": "stream",
     "text": [
      "Better model found at epoch 12 with valid_loss value: 0.11342541128396988.\n"
     ]
    },
    {
     "name": "stdout",
     "output_type": "stream",
     "text": [
      "Better model found at epoch 13 with recall_combine value: 0.9740220308303833.\n"
     ]
    },
    {
     "name": "stdout",
     "output_type": "stream",
     "text": [
      "Epoch 19: reducing lr to 0.0001875\n"
     ]
    },
    {
     "name": "stdout",
     "output_type": "stream",
     "text": [
      "Epoch 24: early stopping\n"
     ]
    },
    {
     "name": "stdout",
     "output_type": "stream",
     "text": [
      "Loaded best saved model from /home/lextoumbourou/bengaliai-cv19/wandb/run-20200218_084945-xde8r372/bestmodel.pth\n"
     ]
    }
   ],
   "source": [
    "callbacks=[\n",
    "    CSVLogger(learner, OUTPUT_PATH/'history.csv'),\n",
    "    SaveModelCallback(\n",
    "        learner, monitor='recall_combine', mode='max', name=NAME\n",
    "    ),\n",
    "    # MixUpCallback(learner),\n",
    "    # CutMixCallback(learner),\n",
    "    MixUpOrCutMix(learner),\n",
    "    ReduceLROnPlateauCallback(\n",
    "        learner, patience=wandb.config.reduce_lr_patience,\n",
    "        monitor='recall_combine', mode='max', min_lr=1e-7, factor=wandb.config.reduce_lr_factor\n",
    "    ),\n",
    "    EarlyStoppingCallback(learner, monitor='recall_combine', mode='max', patience=10)\n",
    "]\n",
    "\n",
    "if wandb.config.prog_sprinkles:\n",
    "    callbacks.append(CutoutScheduler(learner, n_holes_max=80))\n",
    "    \n",
    "learner.fit(\n",
    "    wandb.config.max_epochs,\n",
    "    LR,\n",
    "    callbacks=callbacks\n",
    ")"
   ]
  },
  {
   "cell_type": "code",
   "execution_count": 36,
   "metadata": {
    "papermill": {
     "duration": 0.374401,
     "end_time": "2020-02-18T15:41:47.835226",
     "exception": false,
     "start_time": "2020-02-18T15:41:47.460825",
     "status": "completed"
    },
    "tags": []
   },
   "outputs": [
    {
     "data": {
      "image/png": "[encoded data removed]",
      "text/plain": [
       "<Figure size 432x288 with 1 Axes>"
      ]
     },
     "metadata": {
      "needs_background": "light"
     },
     "output_type": "display_data"
    }
   ],
   "source": [
    "learner.recorder.plot_losses()"
   ]
  },
  {
   "cell_type": "code",
   "execution_count": 37,
   "metadata": {
    "papermill": {
     "duration": 0.235361,
     "end_time": "2020-02-18T15:41:48.101197",
     "exception": false,
     "start_time": "2020-02-18T15:41:47.865836",
     "status": "completed"
    },
    "tags": []
   },
   "outputs": [
    {
     "data": {
      "image/png": "[encoded data removed]",
      "text/plain": [
       "<Figure size 432x288 with 1 Axes>"
      ]
     },
     "metadata": {
      "needs_background": "light"
     },
     "output_type": "display_data"
    }
   ],
   "source": [
    "learner.recorder.plot_lr()"
   ]
  },
  {
   "cell_type": "code",
   "execution_count": null,
   "metadata": {
    "papermill": {
     "duration": 0.032375,
     "end_time": "2020-02-18T15:41:48.171979",
     "exception": false,
     "start_time": "2020-02-18T15:41:48.139604",
     "status": "completed"
    },
    "tags": []
   },
   "outputs": [],
   "source": []
  }
 ],
 "metadata": {
  "celltoolbar": "Tags",
  "kernelspec": {
   "display_name": "Python 3",
   "language": "python",
   "name": "python3"
  },
  "language_info": {
   "codemirror_mode": {
    "name": "ipython",
    "version": 3
   },
   "file_extension": ".py",
   "mimetype": "text/x-python",
   "name": "python",
   "nbconvert_exporter": "python",
   "pygments_lexer": "ipython3",
   "version": "3.7.4"
  },
  "papermill": {
   "duration": 24733.731109,
   "end_time": "2020-02-18T15:41:54.027954",
   "environment_variables": {},
   "exception": null,
   "input_path": "nbs/templates/fastai.ipynb",
   "output_path": "nbs/output/se_resnext50_mixup_and_cutmix_pretrain_first_channel_lower_lr.ipynb",
   "parameters": {
    "BATCH_SIZE": 192,
    "ENCODER_ARCH": "se_resnext50_32x4d",
    "LOAD_EXPERIMENT": "lex/bengaliai-cv19/2ps2d1kz",
    "LR": 0.00075,
    "NAME": "se_resnext50_mixup_and_cutmix_pretrain_first_channel_lower_lr",
    "OUTPUT_VAL_SIZE": null,
    "REDUCE_LR_FACTOR": 0.5,
    "REDUCE_LR_PATIENCE": 5,
    "USE_CUTMIX": true,
    "USE_FP16": true,
    "USE_MIXUP": true,
    "WANDB_MODE": "run"
   },
   "start_time": "2020-02-18T08:49:40.296845",
   "version": "1.2.1"
  },
  "toc": {
   "base_numbering": 1,
   "nav_menu": {},
   "number_sections": true,
   "sideBar": true,
   "skip_h1_title": false,
   "title_cell": "Table of Contents",
   "title_sidebar": "Contents",
   "toc_cell": false,
   "toc_position": {},
   "toc_section_display": true,
   "toc_window_display": false
  }
 },
 "nbformat": 4,
 "nbformat_minor": 4
}