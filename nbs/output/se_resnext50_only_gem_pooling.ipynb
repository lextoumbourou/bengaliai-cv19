{
 "cells": [
  {
   "cell_type": "code",
   "execution_count": 1,
   "metadata": {
    "papermill": {
     "duration": 2.804236,
     "end_time": "2020-02-19T22:53:09.546724",
     "exception": false,
     "start_time": "2020-02-19T22:53:06.742488",
     "status": "completed"
    },
    "tags": []
   },
   "outputs": [],
   "source": [
    "%load_ext autoreload\n",
    "%autoreload 2\n",
    "\n",
    "import matplotlib.pyplot as plt\n",
    "%matplotlib inline\n",
    "from copy import deepcopy\n",
    "\n",
    "import os\n",
    "import sys\n",
    "from pathlib import Path\n",
    "import pandas as pd\n",
    "\n",
    "from fastai.vision import *\n",
    "from fastai.callbacks import *\n",
    "from fastai.layers import AdaptiveConcatPool2d\n",
    "import torch\n",
    "from efficientnet_pytorch import EfficientNet\n",
    "import wandb\n",
    "from wandb.fastai import WandbCallback\n",
    "import timm\n",
    "import pretrainedmodels\n",
    "from kornia.losses import FocalLoss\n",
    "from fastai2.layers import MishJit\n",
    "from sklearn.utils.class_weight import compute_class_weight\n",
    "\n",
    "from sklearn.metrics import recall_score\n",
    "\n",
    "\n",
    "def seed_everything(seed):\n",
    "    random.seed(seed)\n",
    "    os.environ['PYTHONHASHSEED'] = str(seed)\n",
    "    np.random.seed(seed)\n",
    "    torch.manual_seed(seed)\n",
    "    torch.cuda.manual_seed_all(seed)\n",
    "    torch.cuda.manual_seed(seed)\n",
    "    torch.backends.cudnn.deterministic = True"
   ]
  },
  {
   "cell_type": "markdown",
   "metadata": {
    "papermill": {
     "duration": 0.01602,
     "end_time": "2020-02-19T22:53:09.579918",
     "exception": false,
     "start_time": "2020-02-19T22:53:09.563898",
     "status": "completed"
    },
    "tags": []
   },
   "source": [
    "## Params"
   ]
  },
  {
   "cell_type": "code",
   "execution_count": 2,
   "metadata": {
    "papermill": {
     "duration": 0.043331,
     "end_time": "2020-02-19T22:53:09.639692",
     "exception": false,
     "start_time": "2020-02-19T22:53:09.596361",
     "status": "completed"
    },
    "tags": [
     "parameters"
    ]
   },
   "outputs": [],
   "source": [
    "NAME = ''\n",
    "WANDB_MODE = 'dryrun'\n",
    "\n",
    "DATA_PATH = Path('/home/lextoumbourou/bengaliai-cv19/data')\n",
    "IMAGE_DATA_PATH = Path(DATA_PATH/'grapheme-imgs-128x128')\n",
    "OUTPUT_PATH = Path(DATA_PATH/'working')\n",
    "LABELS_PATH = Path(DATA_PATH/'iterative-stratification')\n",
    "\n",
    "VALID_PCT = 0.2\n",
    "SEED = 421\n",
    "BATCH_SIZE = 128\n",
    "IMG_SIZE = 128\n",
    "\n",
    "MAX_WARP = 0.2\n",
    "P_AFFINE = 0.75\n",
    "MAX_ROTATE = 40.\n",
    "MAX_ZOOM = 1.1\n",
    "P_LIGHTING = 0.75\n",
    "MAX_LIGHTING = 0.2\n",
    "MAX_COUNT_RANDOM_ERASING = 3\n",
    "LABEL_SMOOTHING_EPS = 0.1\n",
    "\n",
    "MAX_EPOCHS = 150\n",
    "\n",
    "ENCODER_ARCH = 'se_resnext50_32x4d'\n",
    "\n",
    "GRAPHEME_ROOT_WEIGHT = 0.7\n",
    "VOWEL_DIACRITIC_WEIGHT = 0.1\n",
    "CONSONANT_DIACRITIC_WEIGHT = 0.2\n",
    "MODEL_HEAD = 'mish_head'\n",
    "\n",
    "SAMPLE_SIZE = None\n",
    "\n",
    "PROG_SPRINKES = False\n",
    "USE_FP16 = False\n",
    "\n",
    "NORM_MEAN = 0.0692\n",
    "NORM_STD = 0.2051\n",
    "\n",
    "USE_CUTMIX = True\n",
    "\n",
    "REDUCE_LR_PATIENCE = 6\n",
    "REDUCE_LR_FACTOR = 0.2\n",
    "\n",
    "LR = 3e-3\n",
    "\n",
    "LOAD_EXPERIMENT = None\n",
    "\n",
    "EARLY_STOP_PATIENCE = 20"
   ]
  },
  {
   "cell_type": "code",
   "execution_count": 3,
   "metadata": {
    "papermill": {
     "duration": 0.042636,
     "end_time": "2020-02-19T22:53:09.701273",
     "exception": false,
     "start_time": "2020-02-19T22:53:09.658637",
     "status": "completed"
    },
    "tags": [
     "injected-parameters"
    ]
   },
   "outputs": [],
   "source": [
    "# Parameters\n",
    "ENCODER_ARCH = \"se_resnext50_32x4d\"\n",
    "IMG_SIZE = 64\n",
    "BATCH_SIZE = 896\n",
    "USE_FP16 = True\n",
    "USE_CUTMIX = True\n",
    "USE_MIXUP = True\n",
    "REDUCE_LR_PATIENCE = 5\n",
    "REDUCE_LR_FACTOR = 0.5\n",
    "GRAPHEME_ROOT_WEIGHT = 0.5\n",
    "VOWEL_DIACRITIC_WEIGHT = 0.25\n",
    "CONSONANT_DIACRITIC_WEIGHT = 0.25\n",
    "WANDB_MODE = \"run\"\n",
    "NAME = \"se_resnext50_only_gem_pooling\"\n",
    "OUTPUT_VAL_SIZE = None\n"
   ]
  },
  {
   "cell_type": "code",
   "execution_count": 4,
   "metadata": {
    "papermill": {
     "duration": 0.036501,
     "end_time": "2020-02-19T22:53:09.754338",
     "exception": false,
     "start_time": "2020-02-19T22:53:09.717837",
     "status": "completed"
    },
    "tags": []
   },
   "outputs": [],
   "source": [
    "if isinstance(LR, list): LR = slice(*LR)"
   ]
  },
  {
   "cell_type": "code",
   "execution_count": 5,
   "metadata": {
    "papermill": {
     "duration": 0.037013,
     "end_time": "2020-02-19T22:53:09.807670",
     "exception": false,
     "start_time": "2020-02-19T22:53:09.770657",
     "status": "completed"
    },
    "tags": []
   },
   "outputs": [],
   "source": [
    "seed_everything(seed=SEED)"
   ]
  },
  {
   "cell_type": "code",
   "execution_count": 6,
   "metadata": {
    "papermill": {
     "duration": 0.686467,
     "end_time": "2020-02-19T22:53:10.510447",
     "exception": false,
     "start_time": "2020-02-19T22:53:09.823980",
     "status": "completed"
    },
    "tags": []
   },
   "outputs": [
    {
     "name": "stdout",
     "output_type": "stream",
     "text": [
      "\u001b[34m\u001b[1mwandb\u001b[0m: Appending key for api.wandb.ai to your netrc file: /home/lextoumbourou/.netrc\r\n",
      "\u001b[32mSuccessfully logged in to Weights & Biases!\u001b[0m\r\n"
     ]
    }
   ],
   "source": [
    "!wandb login 563765550fd7b64fd10129216209724e03f3f20c"
   ]
  },
  {
   "cell_type": "code",
   "execution_count": 7,
   "metadata": {
    "papermill": {
     "duration": 0.04382,
     "end_time": "2020-02-19T22:53:10.571492",
     "exception": false,
     "start_time": "2020-02-19T22:53:10.527672",
     "status": "completed"
    },
    "tags": []
   },
   "outputs": [],
   "source": [
    "# Turn this off before running!!\n",
    "os.environ['WANDB_MODE'] = WANDB_MODE"
   ]
  },
  {
   "cell_type": "code",
   "execution_count": 8,
   "metadata": {
    "papermill": {
     "duration": 4.334742,
     "end_time": "2020-02-19T22:53:14.923006",
     "exception": false,
     "start_time": "2020-02-19T22:53:10.588264",
     "status": "completed"
    },
    "tags": []
   },
   "outputs": [
    {
     "data": {
      "text/html": [
       "\n",
       "                Logging results to <a href=\"https://wandb.com\" target=\"_blank\">Weights & Biases</a> <a href=\"https://docs.wandb.com/integrations/jupyter.html\" target=\"_blank\">(Documentation)</a>.<br/>\n",
       "                Project page: <a href=\"https://app.wandb.ai/lex/bengaliai-cv19\" target=\"_blank\">https://app.wandb.ai/lex/bengaliai-cv19</a><br/>\n",
       "                Run page: <a href=\"https://app.wandb.ai/lex/bengaliai-cv19/runs/icek04i4\" target=\"_blank\">https://app.wandb.ai/lex/bengaliai-cv19/runs/icek04i4</a><br/>\n",
       "            "
      ],
      "text/plain": [
       "<IPython.core.display.HTML object>"
      ]
     },
     "metadata": {},
     "output_type": "display_data"
    },
    {
     "name": "stderr",
     "output_type": "stream",
     "text": [
      "Failed to query for notebook name, you can set it manually with the WANDB_NOTEBOOK_NAME environment variable\n"
     ]
    }
   ],
   "source": [
    "wandb.init(project=\"bengaliai-cv19\", name=NAME)\n",
    "\n",
    "wandb.config.img_size = IMG_SIZE\n",
    "wandb.config.batch_size = BATCH_SIZE\n",
    "wandb.config.seed = SEED\n",
    "\n",
    "wandb.config.max_warp = MAX_WARP\n",
    "wandb.config.p_affine = P_AFFINE\n",
    "wandb.config.max_rotate = MAX_ROTATE\n",
    "wandb.config.max_zoom = MAX_ZOOM\n",
    "wandb.config.p_lighting = P_LIGHTING\n",
    "wandb.config.max_lighting = MAX_LIGHTING\n",
    "wandb.config.max_count_random_erasing = MAX_COUNT_RANDOM_ERASING\n",
    "wandb.config.grapheme_root_weight = GRAPHEME_ROOT_WEIGHT\n",
    "wandb.config.vowel_diacritic_weight = VOWEL_DIACRITIC_WEIGHT\n",
    "wandb.config.consonant_diacritic_weight = CONSONANT_DIACRITIC_WEIGHT\n",
    "wandb.config.sample_size = SAMPLE_SIZE\n",
    "wandb.config.encoder_arch = ENCODER_ARCH\n",
    "wandb.config.max_epochs = MAX_EPOCHS\n",
    "wandb.config.prog_sprinkles = PROG_SPRINKES\n",
    "wandb.config.label_smoothing_eps = LABEL_SMOOTHING_EPS\n",
    "wandb.config.encoder_arch = ENCODER_ARCH\n",
    "wandb.config.norm_mean = NORM_MEAN\n",
    "wandb.config.norm_std = NORM_STD\n",
    "wandb.config.use_fp16 = USE_FP16\n",
    "wandb.config.use_cutmix = USE_CUTMIX\n",
    "wandb.config.reduce_lr_patience = REDUCE_LR_PATIENCE\n",
    "wandb.config.lr = str(LR)\n",
    "wandb.config.reduce_lr_factor = REDUCE_LR_FACTOR\n",
    "wandb.config.load_experiment = LOAD_EXPERIMENT\n",
    "wandb.config.early_stop_patience = EARLY_STOP_PATIENCE"
   ]
  },
  {
   "cell_type": "markdown",
   "metadata": {
    "papermill": {
     "duration": 0.019791,
     "end_time": "2020-02-19T22:53:14.963971",
     "exception": false,
     "start_time": "2020-02-19T22:53:14.944180",
     "status": "completed"
    },
    "tags": []
   },
   "source": [
    "## Create datasets and dataloaders"
   ]
  },
  {
   "cell_type": "code",
   "execution_count": 9,
   "metadata": {
    "papermill": {
     "duration": 0.231566,
     "end_time": "2020-02-19T22:53:15.214654",
     "exception": false,
     "start_time": "2020-02-19T22:53:14.983088",
     "status": "completed"
    },
    "tags": []
   },
   "outputs": [],
   "source": [
    "train_df = pd.read_csv(LABELS_PATH/'train_with_fold.csv')\n",
    "if wandb.config.sample_size:\n",
    "    print(\"About to reduce train size.\")\n",
    "    train_df = train_df.sample(n=wandb.config.sample_size, random_state=SEED).reset_index(drop=True)"
   ]
  },
  {
   "cell_type": "code",
   "execution_count": 10,
   "metadata": {
    "papermill": {
     "duration": 0.054733,
     "end_time": "2020-02-19T22:53:15.290843",
     "exception": false,
     "start_time": "2020-02-19T22:53:15.236110",
     "status": "completed"
    },
    "tags": []
   },
   "outputs": [
    {
     "data": {
      "text/html": [
       "<div>\n",
       "<style scoped>\n",
       "    .dataframe tbody tr th:only-of-type {\n",
       "        vertical-align: middle;\n",
       "    }\n",
       "\n",
       "    .dataframe tbody tr th {\n",
       "        vertical-align: top;\n",
       "    }\n",
       "\n",
       "    .dataframe thead th {\n",
       "        text-align: right;\n",
       "    }\n",
       "</style>\n",
       "<table border=\"1\" class=\"dataframe\">\n",
       "  <thead>\n",
       "    <tr style=\"text-align: right;\">\n",
       "      <th></th>\n",
       "      <th>image_id</th>\n",
       "      <th>grapheme_root</th>\n",
       "      <th>vowel_diacritic</th>\n",
       "      <th>consonant_diacritic</th>\n",
       "      <th>grapheme</th>\n",
       "      <th>id</th>\n",
       "      <th>fold</th>\n",
       "    </tr>\n",
       "  </thead>\n",
       "  <tbody>\n",
       "    <tr>\n",
       "      <th>0</th>\n",
       "      <td>Train_0</td>\n",
       "      <td>15</td>\n",
       "      <td>9</td>\n",
       "      <td>5</td>\n",
       "      <td>ক্ট্রো</td>\n",
       "      <td>0</td>\n",
       "      <td>3</td>\n",
       "    </tr>\n",
       "    <tr>\n",
       "      <th>1</th>\n",
       "      <td>Train_1</td>\n",
       "      <td>159</td>\n",
       "      <td>0</td>\n",
       "      <td>0</td>\n",
       "      <td>হ</td>\n",
       "      <td>1</td>\n",
       "      <td>2</td>\n",
       "    </tr>\n",
       "    <tr>\n",
       "      <th>2</th>\n",
       "      <td>Train_2</td>\n",
       "      <td>22</td>\n",
       "      <td>3</td>\n",
       "      <td>5</td>\n",
       "      <td>খ্রী</td>\n",
       "      <td>2</td>\n",
       "      <td>4</td>\n",
       "    </tr>\n",
       "    <tr>\n",
       "      <th>3</th>\n",
       "      <td>Train_3</td>\n",
       "      <td>53</td>\n",
       "      <td>2</td>\n",
       "      <td>2</td>\n",
       "      <td>র্টি</td>\n",
       "      <td>3</td>\n",
       "      <td>2</td>\n",
       "    </tr>\n",
       "    <tr>\n",
       "      <th>4</th>\n",
       "      <td>Train_4</td>\n",
       "      <td>71</td>\n",
       "      <td>9</td>\n",
       "      <td>5</td>\n",
       "      <td>থ্রো</td>\n",
       "      <td>4</td>\n",
       "      <td>1</td>\n",
       "    </tr>\n",
       "  </tbody>\n",
       "</table>\n",
       "</div>"
      ],
      "text/plain": [
       "  image_id  grapheme_root  vowel_diacritic  consonant_diacritic grapheme  id  \\\n",
       "0  Train_0             15                9                    5   ক্ট্রো   0   \n",
       "1  Train_1            159                0                    0        হ   1   \n",
       "2  Train_2             22                3                    5     খ্রী   2   \n",
       "3  Train_3             53                2                    2     র্টি   3   \n",
       "4  Train_4             71                9                    5     থ্রো   4   \n",
       "\n",
       "   fold  \n",
       "0     3  \n",
       "1     2  \n",
       "2     4  \n",
       "3     2  \n",
       "4     1  "
      ]
     },
     "execution_count": 10,
     "metadata": {},
     "output_type": "execute_result"
    }
   ],
   "source": [
    "train_df.head()"
   ]
  },
  {
   "cell_type": "code",
   "execution_count": 11,
   "metadata": {
    "papermill": {
     "duration": 0.567756,
     "end_time": "2020-02-19T22:53:15.877402",
     "exception": false,
     "start_time": "2020-02-19T22:53:15.309646",
     "status": "completed"
    },
    "tags": []
   },
   "outputs": [
    {
     "data": {
      "text/plain": [
       "<matplotlib.axes._subplots.AxesSubplot at 0x7f1b282f38d0>"
      ]
     },
     "execution_count": 11,
     "metadata": {},
     "output_type": "execute_result"
    }
   ],
   "source": [
    "train_df.grapheme_root.value_counts().plot.bar(figsize=(20, 4), title=\"Grapheme root\", rot=90)"
   ]
  },
  {
   "cell_type": "code",
   "execution_count": 12,
   "metadata": {
    "papermill": {
     "duration": 0.132642,
     "end_time": "2020-02-19T22:53:16.029827",
     "exception": false,
     "start_time": "2020-02-19T22:53:15.897185",
     "status": "completed"
    },
    "tags": []
   },
   "outputs": [
    {
     "data": {
      "text/plain": [
       "<matplotlib.axes._subplots.AxesSubplot at 0x7f1b282f38d0>"
      ]
     },
     "execution_count": 12,
     "metadata": {},
     "output_type": "execute_result"
    }
   ],
   "source": [
    "train_df.vowel_diacritic.value_counts().plot.bar(title=\"Vowel diacrititc\")"
   ]
  },
  {
   "cell_type": "code",
   "execution_count": 13,
   "metadata": {
    "papermill": {
     "duration": 0.119668,
     "end_time": "2020-02-19T22:53:16.169025",
     "exception": false,
     "start_time": "2020-02-19T22:53:16.049357",
     "status": "completed"
    },
    "tags": []
   },
   "outputs": [
    {
     "data": {
      "text/plain": [
       "<matplotlib.axes._subplots.AxesSubplot at 0x7f1b282f38d0>"
      ]
     },
     "execution_count": 13,
     "metadata": {},
     "output_type": "execute_result"
    }
   ],
   "source": [
    "train_df.consonant_diacritic.value_counts().plot.bar(title=\"Consonant diacrititc\")"
   ]
  },
  {
   "cell_type": "code",
   "execution_count": 14,
   "metadata": {
    "papermill": {
     "duration": 0.046348,
     "end_time": "2020-02-19T22:53:16.234612",
     "exception": false,
     "start_time": "2020-02-19T22:53:16.188264",
     "status": "completed"
    },
    "tags": []
   },
   "outputs": [],
   "source": [
    "train_tfms = [\n",
    "    symmetric_warp(\n",
    "        magnitude=(-wandb.config.max_warp, wandb.config.max_warp),\n",
    "        p=wandb.config.p_affine\n",
    "    ),\n",
    "    rotate(\n",
    "        degrees=(-wandb.config.max_rotate, wandb.config.max_rotate),\n",
    "        p=wandb.config.p_affine\n",
    "    ),\n",
    "    rand_zoom(\n",
    "        scale=(1., wandb.config.max_zoom), p=wandb.config.p_affine\n",
    "    ),\n",
    "    brightness(\n",
    "        change=(0.5*(1 - wandb.config.max_lighting), 0.5*(1 + wandb.config.max_lighting)),\n",
    "        p=wandb.config.p_lighting\n",
    "    ),\n",
    "    contrast(\n",
    "        scale=(1-wandb.config.max_lighting, 1/(1-wandb.config.max_lighting)),\n",
    "        p=wandb.config.p_lighting\n",
    "    ),\n",
    "    cutout(n_holes=(1, 6), length=(5, 15), p=.5)\n",
    "]"
   ]
  },
  {
   "cell_type": "code",
   "execution_count": 15,
   "metadata": {
    "papermill": {
     "duration": 0.047707,
     "end_time": "2020-02-19T22:53:16.301484",
     "exception": false,
     "start_time": "2020-02-19T22:53:16.253777",
     "status": "completed"
    },
    "tags": []
   },
   "outputs": [],
   "source": [
    "train_df['is_valid'] = train_df.fold == 0"
   ]
  },
  {
   "cell_type": "code",
   "execution_count": 16,
   "metadata": {
    "papermill": {
     "duration": 0.142385,
     "end_time": "2020-02-19T22:53:16.463723",
     "exception": false,
     "start_time": "2020-02-19T22:53:16.321338",
     "status": "completed"
    },
    "tags": []
   },
   "outputs": [],
   "source": [
    "grapheme_root_class_weight = compute_class_weight('balanced', range(train_df.grapheme_root.max() + 1), y=train_df.grapheme_root)\n",
    "vowel_diacritic_class_weight = compute_class_weight('balanced', range(train_df.vowel_diacritic.max() + 1), y=train_df.vowel_diacritic)\n",
    "consonant_diacritic_class_weight = compute_class_weight('balanced', range(train_df.consonant_diacritic.max() + 1), y=train_df.consonant_diacritic)"
   ]
  },
  {
   "cell_type": "code",
   "execution_count": 17,
   "metadata": {
    "papermill": {
     "duration": 2.653204,
     "end_time": "2020-02-19T22:53:19.135798",
     "exception": false,
     "start_time": "2020-02-19T22:53:16.482594",
     "status": "completed"
    },
    "tags": []
   },
   "outputs": [],
   "source": [
    "stats = ([wandb.config.norm_mean], [wandb.config.norm_std])\n",
    "\n",
    "data = (\n",
    "    ImageList.from_df(\n",
    "        path=DATA_PATH, df=train_df, folder='./grapheme-imgs-128x128/', suffix='.png',\n",
    "        cols='image_id', convert_mode='L'\n",
    "    )\n",
    "    .split_from_df(col='is_valid')\n",
    "    .label_from_df(cols=['grapheme_root', 'vowel_diacritic', 'consonant_diacritic'])\n",
    "    .transform((train_tfms, []), size=wandb.config.img_size, padding_mode='zeros')\n",
    "    .databunch(bs=wandb.config.batch_size)\n",
    ").normalize(stats)"
   ]
  },
  {
   "cell_type": "code",
   "execution_count": 18,
   "metadata": {
    "papermill": {
     "duration": 6.818819,
     "end_time": "2020-02-19T22:53:25.977558",
     "exception": false,
     "start_time": "2020-02-19T22:53:19.158739",
     "status": "completed"
    },
    "tags": []
   },
   "outputs": [],
   "source": [
    "data.show_batch()"
   ]
  },
  {
   "cell_type": "code",
   "execution_count": 19,
   "metadata": {
    "papermill": {
     "duration": 0.076518,
     "end_time": "2020-02-19T22:53:26.073892",
     "exception": false,
     "start_time": "2020-02-19T22:53:25.997374",
     "status": "completed"
    },
    "tags": []
   },
   "outputs": [],
   "source": [
    "class MixUpLoss(Module):\n",
    "    \"Adapt the loss function `crit` to go with mixup.\"\n",
    "    \n",
    "    def __init__(self, crit, reduction='mean'):\n",
    "        super().__init__()\n",
    "        if hasattr(crit, 'reduction'): \n",
    "            self.crit = crit\n",
    "            self.old_red = crit.reduction\n",
    "            setattr(self.crit, 'reduction', 'none')\n",
    "        else: \n",
    "            self.crit = partial(crit, reduction='none')\n",
    "            self.old_crit = crit\n",
    "        self.reduction = reduction\n",
    "        \n",
    "    def forward(self, output, target):\n",
    "        if len(target.shape) == 2 and target.shape[1] == 7:\n",
    "            loss1, loss2 = self.crit(output,target[:,0:3].long()), self.crit(output,target[:,3:6].long())\n",
    "            d = loss1 * target[:,-1] + loss2 * (1-target[:,-1])\n",
    "        else:  d = self.crit(output, target)\n",
    "        if self.reduction == 'mean':    return d.mean()\n",
    "        elif self.reduction == 'sum':   return d.sum()\n",
    "        return d\n",
    "    \n",
    "    def get_old(self):\n",
    "        if hasattr(self, 'old_crit'):  return self.old_crit\n",
    "        elif hasattr(self, 'old_red'): \n",
    "            setattr(self.crit, 'reduction', self.old_red)\n",
    "            return self.crit\n",
    "        \n",
    "def rand_bbox(last_input_size, λ):\n",
    "    '''lambd is always between .5 and 1'''\n",
    "\n",
    "    W = last_input_size[-1]\n",
    "    H = last_input_size[-2]\n",
    "    cut_rat = np.sqrt(1. - λ) # 0. - .707\n",
    "    cut_w = np.int(W * cut_rat)\n",
    "    cut_h = np.int(H * cut_rat)\n",
    "\n",
    "    # uniform\n",
    "    cx = np.random.randint(W)\n",
    "    cy = np.random.randint(H)\n",
    "\n",
    "    bbx1 = np.clip(cx - cut_w // 2, 0, W)\n",
    "    bby1 = np.clip(cy - cut_h // 2, 0, H)\n",
    "    bbx2 = np.clip(cx + cut_w // 2, 0, W)\n",
    "    if len(last_input_size) == 4:\n",
    "        bby2 = np.clip(cy + cut_h // 2, 0, H)\n",
    "    else: bby2 = last_input_size[1]\n",
    "\n",
    "    return bbx1, bby1, bbx2, bby2\n",
    "\n",
    "\n",
    "class CutMixCallback(LearnerCallback):\n",
    "    '''Adapted from :\n",
    "    paper: https://arxiv.org/abs/1905.04899\n",
    "    github: https://github.com/clovaai/CutMix-PyTorch\n",
    "    and mixup in the fastai library.'''\n",
    "\n",
    "    def __init__(self, learn:Learner, alpha:float=1., stack_y:bool=True):\n",
    "        super().__init__(learn)\n",
    "        self.alpha,self.stack_y = alpha,stack_y\n",
    "\n",
    "    def on_train_begin(self, **kwargs):\n",
    "        if self.stack_y:\n",
    "            self.learn.loss_func = MixUpLoss(self.learn.loss_func)\n",
    "\n",
    "    def on_batch_begin(self, last_input, last_target, train, **kwargs):\n",
    "        \"Applies cutmix to `last_input` and `last_target` if `train`.\"\n",
    "        if not train or self.alpha == 0:\n",
    "            return\n",
    "        λ = np.random.beta(self.alpha, self.alpha)\n",
    "        λ = max(λ, 1- λ)\n",
    "        bs = last_target.size(0)\n",
    "        idx = torch.randperm(bs).to(last_input.device)\n",
    "        x1, y1 = last_input[idx], last_target[idx]\n",
    "\n",
    "        #Get new input\n",
    "        last_input_size = last_input.size()\n",
    "        bbx1, bby1, bbx2, bby2 = rand_bbox(last_input_size, λ)\n",
    "        new_input = last_input.clone()\n",
    "        new_input[..., bby1:bby2, bbx1:bbx2] = x1[..., bby1:bby2, bbx1:bbx2]\n",
    "        #λ = last_input.new([λ])\n",
    "        λ = 1 - ((bbx2 - bbx1) * (bby2 - bby1) / (last_input_size[-1] * last_input_size[-2]))\n",
    "        λ = last_input.new([λ])\n",
    "\n",
    "        # modify last target\n",
    "        if self.stack_y:\n",
    "            new_target = torch.cat([last_target.float(), y1.float(),\n",
    "                                    λ.repeat(last_input_size[0]).unsqueeze(1).float()], 1)\n",
    "        else:\n",
    "            if len(last_target.shape) == 2:\n",
    "                λ = λ.unsqueeze(1).float()\n",
    "            new_target = last_target.float() * λ + y1.float() * (1-λ)\n",
    "\n",
    "        return {'last_input': new_input, 'last_target': new_target}\n",
    "\n",
    "    def on_train_end(self, **kwargs):\n",
    "        if self.stack_y: self.learn.loss_func = self.learn.loss_func.get_old()\n",
    "\n",
    "\n",
    "class MixUpCallback(LearnerCallback):\n",
    "    \"Callback that creates the mixed-up input and target.\"\n",
    "    def __init__(self, learn:Learner, alpha:float=0.4, stack_x:bool=False, stack_y:bool=True):\n",
    "        super().__init__(learn)\n",
    "        self.alpha,self.stack_x,self.stack_y = alpha,stack_x,stack_y\n",
    "    \n",
    "    def on_train_begin(self, **kwargs):\n",
    "        if self.stack_y: self.learn.loss_func = MixUpLoss(self.learn.loss_func)\n",
    "        \n",
    "    def on_batch_begin(self, last_input, last_target, train, **kwargs):\n",
    "        \"Applies mixup to `last_input` and `last_target` if `train`.\"\n",
    "        if not train: return\n",
    "        lambd = np.random.beta(self.alpha, self.alpha, last_target.size(0))\n",
    "        lambd = np.concatenate([lambd[:,None], 1-lambd[:,None]], 1).max(1)\n",
    "        lambd = last_input.new(lambd)\n",
    "        shuffle = torch.randperm(last_target.size(0)).to(last_input.device)\n",
    "        x1, y1 = last_input[shuffle], last_target[shuffle]\n",
    "        if self.stack_x:\n",
    "            new_input = [last_input, last_input[shuffle], lambd]\n",
    "        else: \n",
    "            out_shape = [lambd.size(0)] + [1 for _ in range(len(x1.shape) - 1)]\n",
    "            new_input = (last_input * lambd.view(out_shape) + x1 * (1-lambd).view(out_shape))\n",
    "        if self.stack_y:\n",
    "            new_target = torch.cat([last_target.float(), y1.float(), lambd[:,None].float()], 1)\n",
    "        else:\n",
    "            if len(last_target.shape) == 2:\n",
    "                lambd = lambd.unsqueeze(1).float()\n",
    "            new_target = last_target.float() * lambd + y1.float() * (1-lambd)\n",
    "        return {'last_input': new_input, 'last_target': new_target}  \n",
    "    \n",
    "    def on_train_end(self, **kwargs):\n",
    "        if self.stack_y: self.learn.loss_func = self.learn.loss_func.get_old()\n",
    "            \n",
    "\n",
    "class MixUpOrCutMix(LearnerCallback):\n",
    "    def __init__(self, learn, mix_up_kwargs=None, cut_mix_kwargs=None):\n",
    "        super().__init__(learn)\n",
    "        self.mix_up_kwargs = mix_up_kwargs or {}\n",
    "        self.cut_mix_kwargs = cut_mix_kwargs or {}\n",
    "        self.mixup = MixUpCallback(learner, **self.mix_up_kwargs)\n",
    "        self.cutmix = CutMixCallback(learner, **self.cut_mix_kwargs)\n",
    "        \n",
    "    def on_train_begin(self, **kwargs):\n",
    "        self.mixup.on_train_begin(**kwargs)\n",
    "        self.cutmix.on_train_begin(**kwargs)\n",
    "        \n",
    "    def on_batch_begin(self, last_input, last_target, train, **kwargs):\n",
    "        if not train:\n",
    "            return\n",
    "        \n",
    "        if np.random.rand() < 0.5:\n",
    "            return self.mixup.on_batch_begin(last_input, last_target, train, **kwargs)\n",
    "        else:\n",
    "            return self.cutmix.on_batch_begin(last_input, last_target, train, **kwargs)\n",
    "        \n",
    "    def on_train_end(self, **kwargs):\n",
    "        self.mixup.on_train_end(**kwargs)\n",
    "        self.cutmix.on_train_end(**kwargs)"
   ]
  },
  {
   "cell_type": "markdown",
   "metadata": {
    "papermill": {
     "duration": 0.035677,
     "end_time": "2020-02-19T22:53:26.128402",
     "exception": false,
     "start_time": "2020-02-19T22:53:26.092725",
     "status": "completed"
    },
    "tags": []
   },
   "source": [
    "## Loss and metrics"
   ]
  },
  {
   "cell_type": "code",
   "execution_count": 20,
   "metadata": {
    "papermill": {
     "duration": 0.060161,
     "end_time": "2020-02-19T22:53:26.207753",
     "exception": false,
     "start_time": "2020-02-19T22:53:26.147592",
     "status": "completed"
    },
    "tags": []
   },
   "outputs": [],
   "source": [
    "class MetricBase(Callback):\n",
    "    def __init__(self, average='macro'):\n",
    "        super().__init__()\n",
    "        self.n_classes = 0\n",
    "        self.average = average\n",
    "        self.cm = None\n",
    "        self.eps = 1e-9\n",
    "        \n",
    "    def on_epoch_begin(self, **kwargs):\n",
    "        self.tp = 0\n",
    "        self.fp = 0\n",
    "        self.cm = None\n",
    "    \n",
    "    def on_batch_end(self, last_output:Tensor, last_target:Tensor, **kwargs):\n",
    "        last_output = last_output[self.idx]\n",
    "        last_target = last_target[:,self.idx]\n",
    "        preds = last_output.argmax(-1).view(-1).cpu()\n",
    "        targs = last_target.long().cpu()\n",
    "        \n",
    "        if self.n_classes == 0:\n",
    "            self.n_classes = last_output.shape[-1]\n",
    "            self.x = torch.arange(0, self.n_classes)\n",
    "        cm = ((preds==self.x[:, None]) & (targs==self.x[:, None, None])) \\\n",
    "          .sum(dim=2, dtype=torch.float32)\n",
    "        if self.cm is None: self.cm =  cm\n",
    "        else:               self.cm += cm\n",
    "\n",
    "    def _weights(self, avg:str):\n",
    "        if self.n_classes != 2 and avg == \"binary\":\n",
    "            avg = self.average = \"macro\"\n",
    "            warn(\"average=`binary` was selected for a non binary case. \\\n",
    "                 Value for average has now been set to `macro` instead.\")\n",
    "        if avg == \"binary\":\n",
    "            if self.pos_label not in (0, 1):\n",
    "                self.pos_label = 1\n",
    "                warn(\"Invalid value for pos_label. It has now been set to 1.\")\n",
    "            if self.pos_label == 1: return Tensor([0,1])\n",
    "            else: return Tensor([1,0])\n",
    "        elif avg == \"micro\": return self.cm.sum(dim=0) / self.cm.sum()\n",
    "        elif avg == \"macro\": return torch.ones((self.n_classes,)) / self.n_classes\n",
    "        elif avg == \"weighted\": return self.cm.sum(dim=1) / self.cm.sum()\n",
    "        \n",
    "    def _recall(self):\n",
    "        rec = torch.diag(self.cm) / (self.cm.sum(dim=1) + self.eps)\n",
    "        if self.average is None: return rec\n",
    "        else:\n",
    "            if self.average == \"micro\": weights = self._weights(avg=\"weighted\")\n",
    "            else: weights = self._weights(avg=self.average)\n",
    "            return (rec * weights).sum()\n",
    "    \n",
    "    def on_epoch_end(self, last_metrics, **kwargs):\n",
    "        return add_metrics(last_metrics, self._recall())\n",
    "\n",
    "    \n",
    "class GraphemeRoot(MetricBase):\n",
    "    idx = 0\n",
    "\n",
    "    \n",
    "class VowelDiacritic(MetricBase):\n",
    "    idx = 1\n",
    "\n",
    "\n",
    "class ConsonantDiacritic(MetricBase):\n",
    "    idx = 2\n",
    "\n",
    "\n",
    "class RecallCombine(Callback):\n",
    "    def __init__(self):\n",
    "        super().__init__()\n",
    "        self.grapheme = GraphemeRoot()\n",
    "        self.vowel = VowelDiacritic()\n",
    "        self.consonant = ConsonantDiacritic()\n",
    "        \n",
    "    def on_epoch_begin(self, **kwargs):\n",
    "        self.grapheme.on_epoch_begin(**kwargs)\n",
    "        self.vowel.on_epoch_begin(**kwargs)\n",
    "        self.consonant.on_epoch_begin(**kwargs)\n",
    "    \n",
    "    def on_batch_end(self, last_output:Tensor, last_target:Tensor, **kwargs):\n",
    "        self.grapheme.on_batch_end(last_output, last_target, **kwargs)\n",
    "        self.vowel.on_batch_end(last_output, last_target, **kwargs)\n",
    "        self.consonant.on_batch_end(last_output, last_target, **kwargs)\n",
    "        \n",
    "    def on_epoch_end(self, last_metrics, **kwargs):\n",
    "        return add_metrics(\n",
    "            last_metrics,\n",
    "            0.5 * self.grapheme._recall() +\n",
    "            0.25 * self.vowel._recall() +\n",
    "            0.25 * self.consonant._recall()\n",
    "        )"
   ]
  },
  {
   "cell_type": "markdown",
   "metadata": {
    "papermill": {
     "duration": 0.018483,
     "end_time": "2020-02-19T22:53:26.245467",
     "exception": false,
     "start_time": "2020-02-19T22:53:26.226984",
     "status": "completed"
    },
    "tags": []
   },
   "source": [
    "## Model"
   ]
  },
  {
   "cell_type": "code",
   "execution_count": 21,
   "metadata": {
    "papermill": {
     "duration": 0.050105,
     "end_time": "2020-02-19T22:53:26.314164",
     "exception": false,
     "start_time": "2020-02-19T22:53:26.264059",
     "status": "completed"
    },
    "tags": []
   },
   "outputs": [],
   "source": [
    "from torch.nn.parameter import Parameter\n",
    "\n",
    "\n",
    "def gem(x, p=3, eps=1e-6):\n",
    "    if wandb.config.use_fp16:\n",
    "        x = x.double() # x=x.to(torch.float32) # comment this during inference\n",
    "\n",
    "    x = F.avg_pool2d(x.clamp(min=eps).pow(p), (x.size(-2), x.size(-1))).pow(1./p)\n",
    "    \n",
    "    if wandb.config.use_fp16:\n",
    "        x = x.half()\n",
    "\n",
    "    return x # Comment this line in inference code use ## return x\n",
    "\n",
    "\n",
    "class GeM(nn.Module):\n",
    "    def __init__(self, p=3, eps=1e-6):\n",
    "        super(GeM,self).__init__()\n",
    "        self.p = Parameter(torch.ones(1)*p)\n",
    "        self.eps = eps\n",
    "\n",
    "    def forward(self, x):\n",
    "        return gem(x, p=self.p, eps=self.eps)\n",
    "\n",
    "    def __repr__(self):\n",
    "        return self.__class__.__name__ + '(' + 'p=' + '{:.4f}'.format(self.p.data.tolist()[0]) + ', ' + 'eps=' + str(self.eps) + ')'"
   ]
  },
  {
   "cell_type": "code",
   "execution_count": 22,
   "metadata": {
    "papermill": {
     "duration": 0.043734,
     "end_time": "2020-02-19T22:53:26.376063",
     "exception": false,
     "start_time": "2020-02-19T22:53:26.332329",
     "status": "completed"
    },
    "tags": []
   },
   "outputs": [],
   "source": [
    "class AdaptiveConcatWithGemPool2d(Module):\n",
    "    \"Layer that concats `AdaptiveAvgPool2d` and `AdaptiveMaxPool2d`.\"\n",
    "    def __init__(self, sz:Optional[int]=None):\n",
    "        \"Output will be 2*sz or 2 if sz is None\"\n",
    "        self.output_size = sz or 1\n",
    "        self.ap = GeM()\n",
    "        self.mp = nn.AdaptiveMaxPool2d(self.output_size)\n",
    "\n",
    "    def forward(self, x):\n",
    "        return torch.cat([self.mp(x), self.ap(x)], 1)"
   ]
  },
  {
   "cell_type": "code",
   "execution_count": 23,
   "metadata": {
    "papermill": {
     "duration": 0.043472,
     "end_time": "2020-02-19T22:53:26.438466",
     "exception": false,
     "start_time": "2020-02-19T22:53:26.394994",
     "status": "completed"
    },
    "tags": []
   },
   "outputs": [],
   "source": [
    "class MishHead(nn.Module):\n",
    "    def __init__(self, input_size: int, output_size: int, dropout_ps=0.5):\n",
    "        super().__init__()\n",
    "\n",
    "        layers = [\n",
    "            # AdaptiveConcatWithGemPool2d(),\n",
    "            # AdaptiveConcatPool2d(),\n",
    "            GeM(),\n",
    "            Flatten(),\n",
    "            nn.Linear(input_size, 512),\n",
    "            MishJit(),\n",
    "            nn.BatchNorm1d(512),\n",
    "            nn.Dropout(dropout_ps),\n",
    "            nn.Linear(512, output_size)\n",
    "        ]\n",
    "\n",
    "        self.fc = nn.Sequential(*layers)\n",
    "        self._init_weight()\n",
    "\n",
    "    def _init_weight(self):\n",
    "        for m in self.modules():\n",
    "            if isinstance(m, nn.Conv2d):\n",
    "                torch.nn.init.kaiming_normal_(m.weight)\n",
    "            elif isinstance(m, nn.BatchNorm2d):\n",
    "                m.weight.data.fill_(1.0)\n",
    "                m.bias.data.zero_()\n",
    "\n",
    "    def forward(self, x):\n",
    "        return self.fc(x)"
   ]
  },
  {
   "cell_type": "code",
   "execution_count": 24,
   "metadata": {
    "papermill": {
     "duration": 0.043771,
     "end_time": "2020-02-19T22:53:26.501433",
     "exception": false,
     "start_time": "2020-02-19T22:53:26.457662",
     "status": "completed"
    },
    "tags": []
   },
   "outputs": [],
   "source": [
    "class BengaliModel(nn.Module):\n",
    "    def __init__(self, encoder, encoder_output_features):\n",
    "        super().__init__()\n",
    "        \n",
    "        self.encoder = encoder\n",
    "        \n",
    "        self.fc_grapheme_root = MishHead(encoder_output_features, output_size=168)\n",
    "        self.fc_vowel_diacritic = MishHead(encoder_output_features, output_size=11)\n",
    "        self.fc_consonant_diacritic = MishHead(encoder_output_features, output_size=7)\n",
    "        \n",
    "    def forward(self, inputs):\n",
    "        # Convolution layers\n",
    "        x = self.encoder(inputs)\n",
    "\n",
    "        return [\n",
    "            self.fc_grapheme_root(x),\n",
    "            self.fc_vowel_diacritic(x),\n",
    "            self.fc_consonant_diacritic(x)\n",
    "        ]"
   ]
  },
  {
   "cell_type": "code",
   "execution_count": 25,
   "metadata": {
    "papermill": {
     "duration": 0.041706,
     "end_time": "2020-02-19T22:53:26.560957",
     "exception": false,
     "start_time": "2020-02-19T22:53:26.519251",
     "status": "completed"
    },
    "tags": []
   },
   "outputs": [],
   "source": [
    "class LossCombine(nn.Module):\n",
    "    def __init__(self):\n",
    "        super().__init__()\n",
    "\n",
    "    def forward(self, input, target, reduction='mean'):\n",
    "        x1,x2,x3 = input\n",
    "        x1,x2,x3 = x1.float(), x2.float(), x3.float()\n",
    "        y = target.long()\n",
    "\n",
    "        return (\n",
    "            wandb.config.grapheme_root_weight * F.cross_entropy(\n",
    "                x1, y[:,0], reduction=reduction) +\n",
    "            wandb.config.vowel_diacritic_weight * F.cross_entropy(\n",
    "                x2,y[:,1], reduction=reduction) +\n",
    "            wandb.config.consonant_diacritic_weight * F.cross_entropy(\n",
    "                x3, y[:,2], reduction=reduction)\n",
    "        )"
   ]
  },
  {
   "cell_type": "code",
   "execution_count": 26,
   "metadata": {
    "papermill": {
     "duration": 0.041029,
     "end_time": "2020-02-19T22:53:26.621487",
     "exception": false,
     "start_time": "2020-02-19T22:53:26.580458",
     "status": "completed"
    },
    "tags": []
   },
   "outputs": [],
   "source": [
    "class EfficientNetModel(nn.Module):\n",
    "    def __init__(self, model_name):\n",
    "        super().__init__()\n",
    "        self.m = EfficientNet.from_pretrained(model_name)\n",
    "        \n",
    "    def forward(self, x):\n",
    "        return self.m.extract_features(x)"
   ]
  },
  {
   "cell_type": "code",
   "execution_count": 27,
   "metadata": {
    "papermill": {
     "duration": 0.043777,
     "end_time": "2020-02-19T22:53:26.684235",
     "exception": false,
     "start_time": "2020-02-19T22:53:26.640458",
     "status": "completed"
    },
    "tags": []
   },
   "outputs": [],
   "source": [
    "class RWightmanModel(nn.Module):\n",
    "    def __init__(self, model_name):\n",
    "        super().__init__()\n",
    "        self.m =  timm.create_model(model_name, pretrained=True)\n",
    "        \n",
    "    def forward(self, x):\n",
    "        return self.m.forward_features(x)"
   ]
  },
  {
   "cell_type": "code",
   "execution_count": 28,
   "metadata": {
    "papermill": {
     "duration": 0.042687,
     "end_time": "2020-02-19T22:53:26.745763",
     "exception": false,
     "start_time": "2020-02-19T22:53:26.703076",
     "status": "completed"
    },
    "tags": []
   },
   "outputs": [],
   "source": [
    "class CadeneModel(nn.Module):\n",
    "    def __init__(self, model_name):\n",
    "        super().__init__()\n",
    "\n",
    "        self.m = pretrainedmodels.__dict__[model_name](num_classes=1000, pretrained='imagenet')\n",
    "        layer0_weight = deepcopy(self.m.layer0.conv1.weight)\n",
    "        \n",
    "        self.m.layer0.conv1 = nn.Conv2d(1, 64, kernel_size=7, stride=2, padding=3, bias=False)\n",
    "        self.m.layer0.conv1.weight = nn.Parameter(torch.mean(layer0_weight, dim=1, keepdim=True))\n",
    "        \n",
    "    def forward(self, x):\n",
    "        return self.m.features(x)"
   ]
  },
  {
   "cell_type": "markdown",
   "metadata": {
    "papermill": {
     "duration": 0.01952,
     "end_time": "2020-02-19T22:53:26.784749",
     "exception": false,
     "start_time": "2020-02-19T22:53:26.765229",
     "status": "completed"
    },
    "tags": []
   },
   "source": [
    "## Training"
   ]
  },
  {
   "cell_type": "code",
   "execution_count": 29,
   "metadata": {
    "papermill": {
     "duration": 0.043621,
     "end_time": "2020-02-19T22:53:26.847872",
     "exception": false,
     "start_time": "2020-02-19T22:53:26.804251",
     "status": "completed"
    },
    "tags": []
   },
   "outputs": [],
   "source": [
    "@dataclass\n",
    "class CutoutScheduler(Callback):\n",
    "    learn:Learner\n",
    "    n_holes_max:int=80\n",
    "    max_at_epoch:int=30\n",
    "        \n",
    "    def on_epoch_begin(self, **kwargs):\n",
    "        i = kwargs['iteration']\n",
    "        n_epochs = kwargs['n_epochs']\n",
    "        n_holes_max = int(round(annealing_linear(0, self.n_holes_max, min(i / self.max_at_epoch, 1.))))\n",
    "        n_holes = (max(n_holes_max-10, 0), n_holes_max)\n",
    "        print(n_holes)\n",
    "        self.learn.data.train_ds.tfms[-1].kwargs['n_holes'] = n_holes"
   ]
  },
  {
   "cell_type": "code",
   "execution_count": 30,
   "metadata": {
    "papermill": {
     "duration": 0.352181,
     "end_time": "2020-02-19T22:53:27.221293",
     "exception": false,
     "start_time": "2020-02-19T22:53:26.869112",
     "status": "completed"
    },
    "tags": []
   },
   "outputs": [
    {
     "name": "stdout",
     "output_type": "stream",
     "text": [
      "Loading Cadene model: se_resnext50_32x4d\n"
     ]
    }
   ],
   "source": [
    "if ENCODER_ARCH.startswith('efficientnet-'):\n",
    "    print(f'Loading EfficientNet models: {ENCODER_ARCH}')\n",
    "    encoder = EfficientNetModel(ENCODER_ARCH)\n",
    "    output_feats = encoder.m._fc.in_features\n",
    "elif ENCODER_ARCH in pretrainedmodels.model_names:\n",
    "    print(f\"Loading Cadene model: {ENCODER_ARCH}\")\n",
    "    encoder = CadeneModel(ENCODER_ARCH)\n",
    "    output_feats = encoder.m.last_linear.in_features\n",
    "else:\n",
    "    print(f\"Loading R Wightman model: {ENCODER_ARCH}\")\n",
    "    encoder = RWightmanModel(ENCODER_ARCH)\n",
    "    output_feats = encoder.m.classifier.in_features"
   ]
  },
  {
   "cell_type": "code",
   "execution_count": 31,
   "metadata": {
    "papermill": {
     "duration": 0.159364,
     "end_time": "2020-02-19T22:53:27.401811",
     "exception": false,
     "start_time": "2020-02-19T22:53:27.242447",
     "status": "completed"
    },
    "tags": []
   },
   "outputs": [
    {
     "name": "stdout",
     "output_type": "stream",
     "text": [
      "Convert to fp16\n"
     ]
    }
   ],
   "source": [
    "model = BengaliModel(encoder=encoder, encoder_output_features=output_feats)\n",
    "\n",
    "learner = Learner(\n",
    "    data, model, loss_func=LossCombine(),\n",
    "    metrics=[GraphemeRoot(), VowelDiacritic(), ConsonantDiacritic(), RecallCombine()],\n",
    "    callback_fns=WandbCallback\n",
    ")\n",
    "learner.clip_grad = 1.0\n",
    "learner.split([model.fc_grapheme_root])\n",
    "\n",
    "learner.unfreeze()\n",
    "\n",
    "if wandb.config.use_fp16:\n",
    "    print(\"Convert to fp16\")\n",
    "    learner = learner.to_fp16()"
   ]
  },
  {
   "cell_type": "code",
   "execution_count": 32,
   "metadata": {
    "papermill": {
     "duration": 0.044331,
     "end_time": "2020-02-19T22:53:27.464858",
     "exception": false,
     "start_time": "2020-02-19T22:53:27.420527",
     "status": "completed"
    },
    "tags": []
   },
   "outputs": [],
   "source": [
    "if wandb.config.load_experiment:\n",
    "    print(f'Restoring experiment: {wandb.config.load_experiment}')\n",
    "    wandb.restore('bestmodel.pth', run_path=wandb.config.load_experiment)\n",
    "    learner.load(Path(wandb.run.dir)/'bestmodel')"
   ]
  },
  {
   "cell_type": "code",
   "execution_count": 33,
   "metadata": {
    "papermill": {
     "duration": 0.039921,
     "end_time": "2020-02-19T22:53:27.523329",
     "exception": false,
     "start_time": "2020-02-19T22:53:27.483408",
     "status": "completed"
    },
    "tags": []
   },
   "outputs": [],
   "source": [
    "# learner.lr_find()\n",
    "# learner.recorder.plot()"
   ]
  },
  {
   "cell_type": "code",
   "execution_count": 34,
   "metadata": {
    "papermill": {
     "duration": 18.048898,
     "end_time": "2020-02-19T22:53:45.591308",
     "exception": false,
     "start_time": "2020-02-19T22:53:27.542410",
     "status": "completed"
    },
    "tags": []
   },
   "outputs": [
    {
     "name": "stdout",
     "output_type": "stream",
     "text": [
      "tensor([11.0000,  0.0000,  0.0000, 71.0000,  2.0000,  5.0000,  0.9844])\n"
     ]
    },
    {
     "data": {
      "image/png": "[encoded data removed]",
      "text/plain": [
       "<Figure size 216x216 with 1 Axes>"
      ]
     },
     "metadata": {
      "needs_background": "light"
     },
     "output_type": "display_data"
    },
    {
     "name": "stdout",
     "output_type": "stream",
     "text": [
      "tensor([144.0000,   7.0000,   0.0000, 115.0000,   7.0000,   0.0000,   1.0000])\n"
     ]
    },
    {
     "data": {
      "image/png": "[encoded data removed]",
      "text/plain": [
       "<Figure size 216x216 with 1 Axes>"
      ]
     },
     "metadata": {
      "needs_background": "light"
     },
     "output_type": "display_data"
    },
    {
     "name": "stdout",
     "output_type": "stream",
     "text": [
      "tensor([97.0000,  1.0000,  0.0000, 25.0000,  2.0000,  0.0000,  0.7693])\n"
     ]
    },
    {
     "data": {
      "image/png": "[encoded data removed]",
      "text/plain": [
       "<Figure size 216x216 with 1 Axes>"
      ]
     },
     "metadata": {
      "needs_background": "light"
     },
     "output_type": "display_data"
    },
    {
     "name": "stdout",
     "output_type": "stream",
     "text": [
      "tensor([138.0000,   7.0000,   0.0000,  96.0000,   7.0000,   5.0000,   0.9831])\n"
     ]
    },
    {
     "data": {
      "image/png": "[encoded data removed]",
      "text/plain": [
       "<Figure size 216x216 with 1 Axes>"
      ]
     },
     "metadata": {
      "needs_background": "light"
     },
     "output_type": "display_data"
    },
    {
     "name": "stdout",
     "output_type": "stream",
     "text": [
      "tensor([118.0000,   4.0000,   0.0000,  83.0000,   4.0000,   0.0000,   0.8594])\n"
     ]
    },
    {
     "data": {
      "image/png": "[encoded data removed]",
      "text/plain": [
       "<Figure size 216x216 with 1 Axes>"
      ]
     },
     "metadata": {
      "needs_background": "light"
     },
     "output_type": "display_data"
    }
   ],
   "source": [
    "%matplotlib inline\n",
    "\n",
    "def show_mixup_or_cutmix(learner):\n",
    "    for i in range(5):\n",
    "        cb = MixUpOrCutMix(learner)\n",
    "        xb, yb = learner.data.one_batch()\n",
    "        tfms = learner.data.train_ds.tfms\n",
    "        for i in range(len(xb)):\n",
    "            xb[i] = Image(xb[i]).apply_tfms(tfms).data\n",
    "        \n",
    "        batch_output = cb.on_batch_begin(xb, yb, True)\n",
    "        \n",
    "        print(batch_output['last_target'][0])\n",
    "        \n",
    "        Image(batch_output['last_input'][0]).show()\n",
    "        \n",
    "        plt.show()\n",
    "        \n",
    "show_mixup_or_cutmix(learner)"
   ]
  },
  {
   "cell_type": "code",
   "execution_count": 35,
   "metadata": {
    "papermill": {
     "duration": 29824.25588,
     "end_time": "2020-02-20T07:10:49.872120",
     "exception": false,
     "start_time": "2020-02-19T22:53:45.616240",
     "status": "completed"
    },
    "tags": []
   },
   "outputs": [
    {
     "data": {
      "text/html": [
       "\n",
       "    <div>\n",
       "        <style>\n",
       "            /* Turns off some styling */\n",
       "            progress {\n",
       "                /* gets rid of default border in Firefox and Opera. */\n",
       "                border: none;\n",
       "                /* Needs to be in here for Safari polyfill so background images work as expected. */\n",
       "                background-size: auto;\n",
       "            }\n",
       "            .progress-bar-interrupted, .progress-bar-interrupted::-webkit-progress-bar {\n",
       "                background: #F44336;\n",
       "            }\n",
       "        </style>\n",
       "      <progress value='104' class='' max='150', style='width:300px; height:20px; vertical-align: middle;'></progress>\n",
       "      69.33% [104/150 8:12:17<3:37:44]\n",
       "    </div>\n",
       "    \n",
       "<table border=\"1\" class=\"dataframe\">\n",
       "  <thead>\n",
       "    <tr style=\"text-align: left;\">\n",
       "      <th>epoch</th>\n",
       "      <th>train_loss</th>\n",
       "      <th>valid_loss</th>\n",
       "      <th>grapheme_root</th>\n",
       "      <th>vowel_diacritic</th>\n",
       "      <th>consonant_diacritic</th>\n",
       "      <th>recall_combine</th>\n",
       "      <th>time</th>\n",
       "    </tr>\n",
       "  </thead>\n",
       "  <tbody>\n",
       "    <tr>\n",
       "      <td>0</td>\n",
       "      <td>2.311937</td>\n",
       "      <td>1.530608</td>\n",
       "      <td>0.242101</td>\n",
       "      <td>0.678237</td>\n",
       "      <td>0.723594</td>\n",
       "      <td>0.471508</td>\n",
       "      <td>04:55</td>\n",
       "    </tr>\n",
       "    <tr>\n",
       "      <td>1</td>\n",
       "      <td>2.070883</td>\n",
       "      <td>1.012763</td>\n",
       "      <td>0.468237</td>\n",
       "      <td>0.796756</td>\n",
       "      <td>0.751720</td>\n",
       "      <td>0.621238</td>\n",
       "      <td>04:43</td>\n",
       "    </tr>\n",
       "    <tr>\n",
       "      <td>2</td>\n",
       "      <td>1.781821</td>\n",
       "      <td>0.667343</td>\n",
       "      <td>0.655253</td>\n",
       "      <td>0.908063</td>\n",
       "      <td>0.840547</td>\n",
       "      <td>0.764779</td>\n",
       "      <td>04:43</td>\n",
       "    </tr>\n",
       "    <tr>\n",
       "      <td>3</td>\n",
       "      <td>1.558503</td>\n",
       "      <td>0.510945</td>\n",
       "      <td>0.755065</td>\n",
       "      <td>0.930233</td>\n",
       "      <td>0.896744</td>\n",
       "      <td>0.834277</td>\n",
       "      <td>04:43</td>\n",
       "    </tr>\n",
       "    <tr>\n",
       "      <td>4</td>\n",
       "      <td>1.610181</td>\n",
       "      <td>0.640764</td>\n",
       "      <td>0.759775</td>\n",
       "      <td>0.924195</td>\n",
       "      <td>0.852930</td>\n",
       "      <td>0.824169</td>\n",
       "      <td>04:42</td>\n",
       "    </tr>\n",
       "    <tr>\n",
       "      <td>5</td>\n",
       "      <td>1.559303</td>\n",
       "      <td>0.516322</td>\n",
       "      <td>0.789303</td>\n",
       "      <td>0.920765</td>\n",
       "      <td>0.810114</td>\n",
       "      <td>0.827371</td>\n",
       "      <td>04:43</td>\n",
       "    </tr>\n",
       "    <tr>\n",
       "      <td>6</td>\n",
       "      <td>1.615416</td>\n",
       "      <td>0.456048</td>\n",
       "      <td>0.794585</td>\n",
       "      <td>0.927494</td>\n",
       "      <td>0.898514</td>\n",
       "      <td>0.853795</td>\n",
       "      <td>04:43</td>\n",
       "    </tr>\n",
       "    <tr>\n",
       "      <td>7</td>\n",
       "      <td>1.440778</td>\n",
       "      <td>0.475180</td>\n",
       "      <td>0.850707</td>\n",
       "      <td>0.946042</td>\n",
       "      <td>0.906869</td>\n",
       "      <td>0.888581</td>\n",
       "      <td>04:43</td>\n",
       "    </tr>\n",
       "    <tr>\n",
       "      <td>8</td>\n",
       "      <td>1.489339</td>\n",
       "      <td>0.382973</td>\n",
       "      <td>0.861878</td>\n",
       "      <td>0.948943</td>\n",
       "      <td>0.906575</td>\n",
       "      <td>0.894818</td>\n",
       "      <td>04:44</td>\n",
       "    </tr>\n",
       "    <tr>\n",
       "      <td>9</td>\n",
       "      <td>1.392685</td>\n",
       "      <td>0.415830</td>\n",
       "      <td>0.869298</td>\n",
       "      <td>0.951922</td>\n",
       "      <td>0.935841</td>\n",
       "      <td>0.906590</td>\n",
       "      <td>04:42</td>\n",
       "    </tr>\n",
       "    <tr>\n",
       "      <td>10</td>\n",
       "      <td>1.289835</td>\n",
       "      <td>0.321424</td>\n",
       "      <td>0.878553</td>\n",
       "      <td>0.959523</td>\n",
       "      <td>0.938797</td>\n",
       "      <td>0.913856</td>\n",
       "      <td>04:42</td>\n",
       "    </tr>\n",
       "    <tr>\n",
       "      <td>11</td>\n",
       "      <td>1.283931</td>\n",
       "      <td>0.399089</td>\n",
       "      <td>0.876583</td>\n",
       "      <td>0.954515</td>\n",
       "      <td>0.928629</td>\n",
       "      <td>0.909077</td>\n",
       "      <td>04:43</td>\n",
       "    </tr>\n",
       "    <tr>\n",
       "      <td>12</td>\n",
       "      <td>1.401366</td>\n",
       "      <td>0.412164</td>\n",
       "      <td>0.870519</td>\n",
       "      <td>0.955353</td>\n",
       "      <td>0.936743</td>\n",
       "      <td>0.908283</td>\n",
       "      <td>04:43</td>\n",
       "    </tr>\n",
       "    <tr>\n",
       "      <td>13</td>\n",
       "      <td>1.249800</td>\n",
       "      <td>0.288743</td>\n",
       "      <td>0.894652</td>\n",
       "      <td>0.961835</td>\n",
       "      <td>0.946885</td>\n",
       "      <td>0.924506</td>\n",
       "      <td>04:43</td>\n",
       "    </tr>\n",
       "    <tr>\n",
       "      <td>14</td>\n",
       "      <td>1.331987</td>\n",
       "      <td>0.365431</td>\n",
       "      <td>0.890020</td>\n",
       "      <td>0.963548</td>\n",
       "      <td>0.958203</td>\n",
       "      <td>0.925448</td>\n",
       "      <td>04:43</td>\n",
       "    </tr>\n",
       "    <tr>\n",
       "      <td>15</td>\n",
       "      <td>1.201408</td>\n",
       "      <td>0.306979</td>\n",
       "      <td>0.898463</td>\n",
       "      <td>0.954156</td>\n",
       "      <td>0.938904</td>\n",
       "      <td>0.922497</td>\n",
       "      <td>04:45</td>\n",
       "    </tr>\n",
       "    <tr>\n",
       "      <td>16</td>\n",
       "      <td>1.293877</td>\n",
       "      <td>0.353181</td>\n",
       "      <td>0.898827</td>\n",
       "      <td>0.958982</td>\n",
       "      <td>0.944193</td>\n",
       "      <td>0.925207</td>\n",
       "      <td>04:44</td>\n",
       "    </tr>\n",
       "    <tr>\n",
       "      <td>17</td>\n",
       "      <td>1.198114</td>\n",
       "      <td>0.249730</td>\n",
       "      <td>0.904807</td>\n",
       "      <td>0.963836</td>\n",
       "      <td>0.954613</td>\n",
       "      <td>0.932016</td>\n",
       "      <td>04:43</td>\n",
       "    </tr>\n",
       "    <tr>\n",
       "      <td>18</td>\n",
       "      <td>1.275369</td>\n",
       "      <td>0.258551</td>\n",
       "      <td>0.899447</td>\n",
       "      <td>0.965621</td>\n",
       "      <td>0.962328</td>\n",
       "      <td>0.931711</td>\n",
       "      <td>04:43</td>\n",
       "    </tr>\n",
       "    <tr>\n",
       "      <td>19</td>\n",
       "      <td>1.223146</td>\n",
       "      <td>0.320075</td>\n",
       "      <td>0.908209</td>\n",
       "      <td>0.967187</td>\n",
       "      <td>0.953901</td>\n",
       "      <td>0.934377</td>\n",
       "      <td>04:43</td>\n",
       "    </tr>\n",
       "    <tr>\n",
       "      <td>20</td>\n",
       "      <td>1.208875</td>\n",
       "      <td>0.227073</td>\n",
       "      <td>0.909156</td>\n",
       "      <td>0.972422</td>\n",
       "      <td>0.963156</td>\n",
       "      <td>0.938473</td>\n",
       "      <td>04:44</td>\n",
       "    </tr>\n",
       "    <tr>\n",
       "      <td>21</td>\n",
       "      <td>1.197517</td>\n",
       "      <td>0.275654</td>\n",
       "      <td>0.909896</td>\n",
       "      <td>0.966744</td>\n",
       "      <td>0.959586</td>\n",
       "      <td>0.936531</td>\n",
       "      <td>04:44</td>\n",
       "    </tr>\n",
       "    <tr>\n",
       "      <td>22</td>\n",
       "      <td>1.188210</td>\n",
       "      <td>0.237907</td>\n",
       "      <td>0.910089</td>\n",
       "      <td>0.971809</td>\n",
       "      <td>0.963768</td>\n",
       "      <td>0.938938</td>\n",
       "      <td>04:44</td>\n",
       "    </tr>\n",
       "    <tr>\n",
       "      <td>23</td>\n",
       "      <td>1.102223</td>\n",
       "      <td>0.213601</td>\n",
       "      <td>0.911967</td>\n",
       "      <td>0.970781</td>\n",
       "      <td>0.966153</td>\n",
       "      <td>0.940217</td>\n",
       "      <td>04:43</td>\n",
       "    </tr>\n",
       "    <tr>\n",
       "      <td>24</td>\n",
       "      <td>1.154357</td>\n",
       "      <td>0.272468</td>\n",
       "      <td>0.897519</td>\n",
       "      <td>0.966587</td>\n",
       "      <td>0.942387</td>\n",
       "      <td>0.926003</td>\n",
       "      <td>04:43</td>\n",
       "    </tr>\n",
       "    <tr>\n",
       "      <td>25</td>\n",
       "      <td>1.129007</td>\n",
       "      <td>0.216191</td>\n",
       "      <td>0.919776</td>\n",
       "      <td>0.973629</td>\n",
       "      <td>0.958365</td>\n",
       "      <td>0.942887</td>\n",
       "      <td>04:43</td>\n",
       "    </tr>\n",
       "    <tr>\n",
       "      <td>26</td>\n",
       "      <td>1.188095</td>\n",
       "      <td>0.298833</td>\n",
       "      <td>0.917929</td>\n",
       "      <td>0.971380</td>\n",
       "      <td>0.965010</td>\n",
       "      <td>0.943062</td>\n",
       "      <td>04:44</td>\n",
       "    </tr>\n",
       "    <tr>\n",
       "      <td>27</td>\n",
       "      <td>1.153442</td>\n",
       "      <td>0.207837</td>\n",
       "      <td>0.920592</td>\n",
       "      <td>0.973135</td>\n",
       "      <td>0.965135</td>\n",
       "      <td>0.944863</td>\n",
       "      <td>04:44</td>\n",
       "    </tr>\n",
       "    <tr>\n",
       "      <td>28</td>\n",
       "      <td>1.177985</td>\n",
       "      <td>0.238169</td>\n",
       "      <td>0.921375</td>\n",
       "      <td>0.971513</td>\n",
       "      <td>0.969206</td>\n",
       "      <td>0.945867</td>\n",
       "      <td>04:44</td>\n",
       "    </tr>\n",
       "    <tr>\n",
       "      <td>29</td>\n",
       "      <td>1.124864</td>\n",
       "      <td>0.246892</td>\n",
       "      <td>0.910125</td>\n",
       "      <td>0.971983</td>\n",
       "      <td>0.964408</td>\n",
       "      <td>0.939160</td>\n",
       "      <td>04:44</td>\n",
       "    </tr>\n",
       "    <tr>\n",
       "      <td>30</td>\n",
       "      <td>1.240506</td>\n",
       "      <td>0.264050</td>\n",
       "      <td>0.912110</td>\n",
       "      <td>0.968759</td>\n",
       "      <td>0.957248</td>\n",
       "      <td>0.937557</td>\n",
       "      <td>04:44</td>\n",
       "    </tr>\n",
       "    <tr>\n",
       "      <td>31</td>\n",
       "      <td>1.064649</td>\n",
       "      <td>0.235657</td>\n",
       "      <td>0.917828</td>\n",
       "      <td>0.970071</td>\n",
       "      <td>0.964703</td>\n",
       "      <td>0.942608</td>\n",
       "      <td>04:45</td>\n",
       "    </tr>\n",
       "    <tr>\n",
       "      <td>32</td>\n",
       "      <td>1.255723</td>\n",
       "      <td>0.242167</td>\n",
       "      <td>0.921911</td>\n",
       "      <td>0.973369</td>\n",
       "      <td>0.959767</td>\n",
       "      <td>0.944240</td>\n",
       "      <td>04:45</td>\n",
       "    </tr>\n",
       "    <tr>\n",
       "      <td>33</td>\n",
       "      <td>1.098811</td>\n",
       "      <td>0.239181</td>\n",
       "      <td>0.922198</td>\n",
       "      <td>0.972942</td>\n",
       "      <td>0.966579</td>\n",
       "      <td>0.945979</td>\n",
       "      <td>04:43</td>\n",
       "    </tr>\n",
       "    <tr>\n",
       "      <td>34</td>\n",
       "      <td>1.074955</td>\n",
       "      <td>0.196761</td>\n",
       "      <td>0.936578</td>\n",
       "      <td>0.978839</td>\n",
       "      <td>0.968166</td>\n",
       "      <td>0.955040</td>\n",
       "      <td>04:44</td>\n",
       "    </tr>\n",
       "    <tr>\n",
       "      <td>35</td>\n",
       "      <td>1.104119</td>\n",
       "      <td>0.181065</td>\n",
       "      <td>0.933486</td>\n",
       "      <td>0.979030</td>\n",
       "      <td>0.971873</td>\n",
       "      <td>0.954469</td>\n",
       "      <td>04:44</td>\n",
       "    </tr>\n",
       "    <tr>\n",
       "      <td>36</td>\n",
       "      <td>1.142779</td>\n",
       "      <td>0.212141</td>\n",
       "      <td>0.931974</td>\n",
       "      <td>0.977677</td>\n",
       "      <td>0.970988</td>\n",
       "      <td>0.953153</td>\n",
       "      <td>04:43</td>\n",
       "    </tr>\n",
       "    <tr>\n",
       "      <td>37</td>\n",
       "      <td>1.106255</td>\n",
       "      <td>0.217484</td>\n",
       "      <td>0.934145</td>\n",
       "      <td>0.975561</td>\n",
       "      <td>0.971914</td>\n",
       "      <td>0.953941</td>\n",
       "      <td>04:44</td>\n",
       "    </tr>\n",
       "    <tr>\n",
       "      <td>38</td>\n",
       "      <td>1.165317</td>\n",
       "      <td>0.223105</td>\n",
       "      <td>0.933053</td>\n",
       "      <td>0.974852</td>\n",
       "      <td>0.962327</td>\n",
       "      <td>0.950821</td>\n",
       "      <td>04:43</td>\n",
       "    </tr>\n",
       "    <tr>\n",
       "      <td>39</td>\n",
       "      <td>1.048437</td>\n",
       "      <td>0.192127</td>\n",
       "      <td>0.935361</td>\n",
       "      <td>0.979683</td>\n",
       "      <td>0.971759</td>\n",
       "      <td>0.955541</td>\n",
       "      <td>04:44</td>\n",
       "    </tr>\n",
       "    <tr>\n",
       "      <td>40</td>\n",
       "      <td>1.044978</td>\n",
       "      <td>0.169948</td>\n",
       "      <td>0.935901</td>\n",
       "      <td>0.977951</td>\n",
       "      <td>0.968317</td>\n",
       "      <td>0.954518</td>\n",
       "      <td>04:44</td>\n",
       "    </tr>\n",
       "    <tr>\n",
       "      <td>41</td>\n",
       "      <td>1.123785</td>\n",
       "      <td>0.190043</td>\n",
       "      <td>0.937255</td>\n",
       "      <td>0.979306</td>\n",
       "      <td>0.972351</td>\n",
       "      <td>0.956542</td>\n",
       "      <td>04:44</td>\n",
       "    </tr>\n",
       "    <tr>\n",
       "      <td>42</td>\n",
       "      <td>1.012895</td>\n",
       "      <td>0.178651</td>\n",
       "      <td>0.939453</td>\n",
       "      <td>0.980350</td>\n",
       "      <td>0.976260</td>\n",
       "      <td>0.958879</td>\n",
       "      <td>04:44</td>\n",
       "    </tr>\n",
       "    <tr>\n",
       "      <td>43</td>\n",
       "      <td>1.098066</td>\n",
       "      <td>0.203495</td>\n",
       "      <td>0.940773</td>\n",
       "      <td>0.978988</td>\n",
       "      <td>0.974571</td>\n",
       "      <td>0.958776</td>\n",
       "      <td>04:44</td>\n",
       "    </tr>\n",
       "    <tr>\n",
       "      <td>44</td>\n",
       "      <td>0.933253</td>\n",
       "      <td>0.164861</td>\n",
       "      <td>0.934923</td>\n",
       "      <td>0.978033</td>\n",
       "      <td>0.974402</td>\n",
       "      <td>0.955570</td>\n",
       "      <td>04:44</td>\n",
       "    </tr>\n",
       "    <tr>\n",
       "      <td>45</td>\n",
       "      <td>0.954044</td>\n",
       "      <td>0.196645</td>\n",
       "      <td>0.940781</td>\n",
       "      <td>0.980890</td>\n",
       "      <td>0.974522</td>\n",
       "      <td>0.959244</td>\n",
       "      <td>04:41</td>\n",
       "    </tr>\n",
       "    <tr>\n",
       "      <td>46</td>\n",
       "      <td>1.045407</td>\n",
       "      <td>0.164520</td>\n",
       "      <td>0.932882</td>\n",
       "      <td>0.978463</td>\n",
       "      <td>0.974375</td>\n",
       "      <td>0.954651</td>\n",
       "      <td>04:41</td>\n",
       "    </tr>\n",
       "    <tr>\n",
       "      <td>47</td>\n",
       "      <td>1.088654</td>\n",
       "      <td>0.197993</td>\n",
       "      <td>0.939121</td>\n",
       "      <td>0.977864</td>\n",
       "      <td>0.970696</td>\n",
       "      <td>0.956701</td>\n",
       "      <td>04:41</td>\n",
       "    </tr>\n",
       "    <tr>\n",
       "      <td>48</td>\n",
       "      <td>1.029825</td>\n",
       "      <td>0.163085</td>\n",
       "      <td>0.938008</td>\n",
       "      <td>0.979358</td>\n",
       "      <td>0.975930</td>\n",
       "      <td>0.957826</td>\n",
       "      <td>04:41</td>\n",
       "    </tr>\n",
       "    <tr>\n",
       "      <td>49</td>\n",
       "      <td>1.038847</td>\n",
       "      <td>0.176285</td>\n",
       "      <td>0.935236</td>\n",
       "      <td>0.980195</td>\n",
       "      <td>0.973069</td>\n",
       "      <td>0.955934</td>\n",
       "      <td>04:41</td>\n",
       "    </tr>\n",
       "    <tr>\n",
       "      <td>50</td>\n",
       "      <td>1.048894</td>\n",
       "      <td>0.154423</td>\n",
       "      <td>0.937538</td>\n",
       "      <td>0.978105</td>\n",
       "      <td>0.974398</td>\n",
       "      <td>0.956895</td>\n",
       "      <td>04:41</td>\n",
       "    </tr>\n",
       "    <tr>\n",
       "      <td>51</td>\n",
       "      <td>0.948824</td>\n",
       "      <td>0.159051</td>\n",
       "      <td>0.938570</td>\n",
       "      <td>0.977822</td>\n",
       "      <td>0.973611</td>\n",
       "      <td>0.957143</td>\n",
       "      <td>04:41</td>\n",
       "    </tr>\n",
       "    <tr>\n",
       "      <td>52</td>\n",
       "      <td>0.970883</td>\n",
       "      <td>0.177360</td>\n",
       "      <td>0.939423</td>\n",
       "      <td>0.980384</td>\n",
       "      <td>0.972405</td>\n",
       "      <td>0.957909</td>\n",
       "      <td>04:41</td>\n",
       "    </tr>\n",
       "    <tr>\n",
       "      <td>53</td>\n",
       "      <td>1.042372</td>\n",
       "      <td>0.186143</td>\n",
       "      <td>0.940599</td>\n",
       "      <td>0.978812</td>\n",
       "      <td>0.974636</td>\n",
       "      <td>0.958661</td>\n",
       "      <td>04:42</td>\n",
       "    </tr>\n",
       "    <tr>\n",
       "      <td>54</td>\n",
       "      <td>1.029830</td>\n",
       "      <td>0.173608</td>\n",
       "      <td>0.942042</td>\n",
       "      <td>0.981898</td>\n",
       "      <td>0.974797</td>\n",
       "      <td>0.960195</td>\n",
       "      <td>04:43</td>\n",
       "    </tr>\n",
       "    <tr>\n",
       "      <td>55</td>\n",
       "      <td>0.906633</td>\n",
       "      <td>0.157758</td>\n",
       "      <td>0.938029</td>\n",
       "      <td>0.980656</td>\n",
       "      <td>0.978047</td>\n",
       "      <td>0.958691</td>\n",
       "      <td>04:43</td>\n",
       "    </tr>\n",
       "    <tr>\n",
       "      <td>56</td>\n",
       "      <td>1.015723</td>\n",
       "      <td>0.171131</td>\n",
       "      <td>0.942277</td>\n",
       "      <td>0.981778</td>\n",
       "      <td>0.976596</td>\n",
       "      <td>0.960732</td>\n",
       "      <td>04:42</td>\n",
       "    </tr>\n",
       "    <tr>\n",
       "      <td>57</td>\n",
       "      <td>0.976039</td>\n",
       "      <td>0.170412</td>\n",
       "      <td>0.941779</td>\n",
       "      <td>0.981828</td>\n",
       "      <td>0.974736</td>\n",
       "      <td>0.960031</td>\n",
       "      <td>04:43</td>\n",
       "    </tr>\n",
       "    <tr>\n",
       "      <td>58</td>\n",
       "      <td>1.019506</td>\n",
       "      <td>0.158717</td>\n",
       "      <td>0.942781</td>\n",
       "      <td>0.983745</td>\n",
       "      <td>0.977045</td>\n",
       "      <td>0.961588</td>\n",
       "      <td>04:42</td>\n",
       "    </tr>\n",
       "    <tr>\n",
       "      <td>59</td>\n",
       "      <td>0.955291</td>\n",
       "      <td>0.145842</td>\n",
       "      <td>0.944835</td>\n",
       "      <td>0.982519</td>\n",
       "      <td>0.977801</td>\n",
       "      <td>0.962497</td>\n",
       "      <td>04:42</td>\n",
       "    </tr>\n",
       "    <tr>\n",
       "      <td>60</td>\n",
       "      <td>1.005116</td>\n",
       "      <td>0.174831</td>\n",
       "      <td>0.943896</td>\n",
       "      <td>0.983829</td>\n",
       "      <td>0.978233</td>\n",
       "      <td>0.962463</td>\n",
       "      <td>04:42</td>\n",
       "    </tr>\n",
       "    <tr>\n",
       "      <td>61</td>\n",
       "      <td>0.893885</td>\n",
       "      <td>0.164869</td>\n",
       "      <td>0.944739</td>\n",
       "      <td>0.982147</td>\n",
       "      <td>0.976732</td>\n",
       "      <td>0.962089</td>\n",
       "      <td>04:42</td>\n",
       "    </tr>\n",
       "    <tr>\n",
       "      <td>62</td>\n",
       "      <td>0.988050</td>\n",
       "      <td>0.166149</td>\n",
       "      <td>0.945342</td>\n",
       "      <td>0.982047</td>\n",
       "      <td>0.977114</td>\n",
       "      <td>0.962461</td>\n",
       "      <td>04:43</td>\n",
       "    </tr>\n",
       "    <tr>\n",
       "      <td>63</td>\n",
       "      <td>0.991055</td>\n",
       "      <td>0.202735</td>\n",
       "      <td>0.941748</td>\n",
       "      <td>0.981930</td>\n",
       "      <td>0.974706</td>\n",
       "      <td>0.960033</td>\n",
       "      <td>04:43</td>\n",
       "    </tr>\n",
       "    <tr>\n",
       "      <td>64</td>\n",
       "      <td>1.030939</td>\n",
       "      <td>0.198815</td>\n",
       "      <td>0.944040</td>\n",
       "      <td>0.981890</td>\n",
       "      <td>0.976673</td>\n",
       "      <td>0.961661</td>\n",
       "      <td>04:43</td>\n",
       "    </tr>\n",
       "    <tr>\n",
       "      <td>65</td>\n",
       "      <td>1.062018</td>\n",
       "      <td>0.193931</td>\n",
       "      <td>0.942675</td>\n",
       "      <td>0.980172</td>\n",
       "      <td>0.972958</td>\n",
       "      <td>0.959620</td>\n",
       "      <td>04:42</td>\n",
       "    </tr>\n",
       "    <tr>\n",
       "      <td>66</td>\n",
       "      <td>1.013235</td>\n",
       "      <td>0.186549</td>\n",
       "      <td>0.943823</td>\n",
       "      <td>0.983024</td>\n",
       "      <td>0.976207</td>\n",
       "      <td>0.961719</td>\n",
       "      <td>04:43</td>\n",
       "    </tr>\n",
       "    <tr>\n",
       "      <td>67</td>\n",
       "      <td>0.957509</td>\n",
       "      <td>0.155873</td>\n",
       "      <td>0.946650</td>\n",
       "      <td>0.982509</td>\n",
       "      <td>0.978042</td>\n",
       "      <td>0.963463</td>\n",
       "      <td>04:42</td>\n",
       "    </tr>\n",
       "    <tr>\n",
       "      <td>68</td>\n",
       "      <td>0.932412</td>\n",
       "      <td>0.144386</td>\n",
       "      <td>0.945494</td>\n",
       "      <td>0.982945</td>\n",
       "      <td>0.976788</td>\n",
       "      <td>0.962680</td>\n",
       "      <td>04:41</td>\n",
       "    </tr>\n",
       "    <tr>\n",
       "      <td>69</td>\n",
       "      <td>1.070220</td>\n",
       "      <td>0.201090</td>\n",
       "      <td>0.945802</td>\n",
       "      <td>0.982670</td>\n",
       "      <td>0.977005</td>\n",
       "      <td>0.962820</td>\n",
       "      <td>04:41</td>\n",
       "    </tr>\n",
       "    <tr>\n",
       "      <td>70</td>\n",
       "      <td>0.920763</td>\n",
       "      <td>0.149281</td>\n",
       "      <td>0.945319</td>\n",
       "      <td>0.982064</td>\n",
       "      <td>0.978107</td>\n",
       "      <td>0.962703</td>\n",
       "      <td>04:41</td>\n",
       "    </tr>\n",
       "    <tr>\n",
       "      <td>71</td>\n",
       "      <td>1.048081</td>\n",
       "      <td>0.173105</td>\n",
       "      <td>0.947325</td>\n",
       "      <td>0.982239</td>\n",
       "      <td>0.976721</td>\n",
       "      <td>0.963403</td>\n",
       "      <td>04:41</td>\n",
       "    </tr>\n",
       "    <tr>\n",
       "      <td>72</td>\n",
       "      <td>0.967479</td>\n",
       "      <td>0.167678</td>\n",
       "      <td>0.945739</td>\n",
       "      <td>0.982123</td>\n",
       "      <td>0.974788</td>\n",
       "      <td>0.962097</td>\n",
       "      <td>04:41</td>\n",
       "    </tr>\n",
       "    <tr>\n",
       "      <td>73</td>\n",
       "      <td>0.949446</td>\n",
       "      <td>0.155821</td>\n",
       "      <td>0.945726</td>\n",
       "      <td>0.983819</td>\n",
       "      <td>0.979444</td>\n",
       "      <td>0.963679</td>\n",
       "      <td>04:43</td>\n",
       "    </tr>\n",
       "    <tr>\n",
       "      <td>74</td>\n",
       "      <td>0.978260</td>\n",
       "      <td>0.181601</td>\n",
       "      <td>0.945951</td>\n",
       "      <td>0.982340</td>\n",
       "      <td>0.977374</td>\n",
       "      <td>0.962904</td>\n",
       "      <td>04:42</td>\n",
       "    </tr>\n",
       "    <tr>\n",
       "      <td>75</td>\n",
       "      <td>0.962236</td>\n",
       "      <td>0.185134</td>\n",
       "      <td>0.948454</td>\n",
       "      <td>0.983170</td>\n",
       "      <td>0.975847</td>\n",
       "      <td>0.963981</td>\n",
       "      <td>04:42</td>\n",
       "    </tr>\n",
       "    <tr>\n",
       "      <td>76</td>\n",
       "      <td>0.993416</td>\n",
       "      <td>0.184156</td>\n",
       "      <td>0.945776</td>\n",
       "      <td>0.981936</td>\n",
       "      <td>0.973407</td>\n",
       "      <td>0.961724</td>\n",
       "      <td>04:43</td>\n",
       "    </tr>\n",
       "    <tr>\n",
       "      <td>77</td>\n",
       "      <td>0.914255</td>\n",
       "      <td>0.151500</td>\n",
       "      <td>0.946759</td>\n",
       "      <td>0.983384</td>\n",
       "      <td>0.977745</td>\n",
       "      <td>0.963662</td>\n",
       "      <td>04:43</td>\n",
       "    </tr>\n",
       "    <tr>\n",
       "      <td>78</td>\n",
       "      <td>0.983310</td>\n",
       "      <td>0.189560</td>\n",
       "      <td>0.946409</td>\n",
       "      <td>0.982349</td>\n",
       "      <td>0.975270</td>\n",
       "      <td>0.962609</td>\n",
       "      <td>04:43</td>\n",
       "    </tr>\n",
       "    <tr>\n",
       "      <td>79</td>\n",
       "      <td>0.963131</td>\n",
       "      <td>0.157153</td>\n",
       "      <td>0.945957</td>\n",
       "      <td>0.982687</td>\n",
       "      <td>0.977483</td>\n",
       "      <td>0.963021</td>\n",
       "      <td>04:43</td>\n",
       "    </tr>\n",
       "    <tr>\n",
       "      <td>80</td>\n",
       "      <td>0.899725</td>\n",
       "      <td>0.151757</td>\n",
       "      <td>0.946942</td>\n",
       "      <td>0.983723</td>\n",
       "      <td>0.979518</td>\n",
       "      <td>0.964281</td>\n",
       "      <td>04:43</td>\n",
       "    </tr>\n",
       "    <tr>\n",
       "      <td>81</td>\n",
       "      <td>0.941058</td>\n",
       "      <td>0.171773</td>\n",
       "      <td>0.948170</td>\n",
       "      <td>0.983156</td>\n",
       "      <td>0.977297</td>\n",
       "      <td>0.964198</td>\n",
       "      <td>04:43</td>\n",
       "    </tr>\n",
       "    <tr>\n",
       "      <td>82</td>\n",
       "      <td>0.955611</td>\n",
       "      <td>0.152976</td>\n",
       "      <td>0.947728</td>\n",
       "      <td>0.983676</td>\n",
       "      <td>0.977870</td>\n",
       "      <td>0.964250</td>\n",
       "      <td>04:42</td>\n",
       "    </tr>\n",
       "    <tr>\n",
       "      <td>83</td>\n",
       "      <td>0.879063</td>\n",
       "      <td>0.141593</td>\n",
       "      <td>0.947529</td>\n",
       "      <td>0.983770</td>\n",
       "      <td>0.977207</td>\n",
       "      <td>0.964009</td>\n",
       "      <td>04:42</td>\n",
       "    </tr>\n",
       "    <tr>\n",
       "      <td>84</td>\n",
       "      <td>0.968261</td>\n",
       "      <td>0.153178</td>\n",
       "      <td>0.947451</td>\n",
       "      <td>0.983313</td>\n",
       "      <td>0.975963</td>\n",
       "      <td>0.963545</td>\n",
       "      <td>04:42</td>\n",
       "    </tr>\n",
       "    <tr>\n",
       "      <td>85</td>\n",
       "      <td>0.918690</td>\n",
       "      <td>0.163009</td>\n",
       "      <td>0.947515</td>\n",
       "      <td>0.982721</td>\n",
       "      <td>0.978926</td>\n",
       "      <td>0.964169</td>\n",
       "      <td>04:41</td>\n",
       "    </tr>\n",
       "    <tr>\n",
       "      <td>86</td>\n",
       "      <td>0.881858</td>\n",
       "      <td>0.147746</td>\n",
       "      <td>0.946665</td>\n",
       "      <td>0.983254</td>\n",
       "      <td>0.979419</td>\n",
       "      <td>0.964001</td>\n",
       "      <td>04:41</td>\n",
       "    </tr>\n",
       "    <tr>\n",
       "      <td>87</td>\n",
       "      <td>0.970106</td>\n",
       "      <td>0.150907</td>\n",
       "      <td>0.947646</td>\n",
       "      <td>0.984511</td>\n",
       "      <td>0.979089</td>\n",
       "      <td>0.964723</td>\n",
       "      <td>04:43</td>\n",
       "    </tr>\n",
       "    <tr>\n",
       "      <td>88</td>\n",
       "      <td>0.845293</td>\n",
       "      <td>0.143794</td>\n",
       "      <td>0.947310</td>\n",
       "      <td>0.983829</td>\n",
       "      <td>0.977395</td>\n",
       "      <td>0.963961</td>\n",
       "      <td>04:44</td>\n",
       "    </tr>\n",
       "    <tr>\n",
       "      <td>89</td>\n",
       "      <td>0.966500</td>\n",
       "      <td>0.168036</td>\n",
       "      <td>0.947900</td>\n",
       "      <td>0.983727</td>\n",
       "      <td>0.976049</td>\n",
       "      <td>0.963894</td>\n",
       "      <td>04:42</td>\n",
       "    </tr>\n",
       "    <tr>\n",
       "      <td>90</td>\n",
       "      <td>0.930001</td>\n",
       "      <td>0.168733</td>\n",
       "      <td>0.948266</td>\n",
       "      <td>0.983401</td>\n",
       "      <td>0.978014</td>\n",
       "      <td>0.964487</td>\n",
       "      <td>04:42</td>\n",
       "    </tr>\n",
       "    <tr>\n",
       "      <td>91</td>\n",
       "      <td>0.961353</td>\n",
       "      <td>0.193745</td>\n",
       "      <td>0.948003</td>\n",
       "      <td>0.983519</td>\n",
       "      <td>0.975638</td>\n",
       "      <td>0.963791</td>\n",
       "      <td>04:43</td>\n",
       "    </tr>\n",
       "    <tr>\n",
       "      <td>92</td>\n",
       "      <td>0.936536</td>\n",
       "      <td>0.169817</td>\n",
       "      <td>0.948043</td>\n",
       "      <td>0.984057</td>\n",
       "      <td>0.978992</td>\n",
       "      <td>0.964784</td>\n",
       "      <td>04:44</td>\n",
       "    </tr>\n",
       "    <tr>\n",
       "      <td>93</td>\n",
       "      <td>0.968307</td>\n",
       "      <td>0.184837</td>\n",
       "      <td>0.947610</td>\n",
       "      <td>0.984033</td>\n",
       "      <td>0.974950</td>\n",
       "      <td>0.963551</td>\n",
       "      <td>04:44</td>\n",
       "    </tr>\n",
       "    <tr>\n",
       "      <td>94</td>\n",
       "      <td>0.969491</td>\n",
       "      <td>0.191105</td>\n",
       "      <td>0.948151</td>\n",
       "      <td>0.982808</td>\n",
       "      <td>0.976053</td>\n",
       "      <td>0.963791</td>\n",
       "      <td>04:44</td>\n",
       "    </tr>\n",
       "    <tr>\n",
       "      <td>95</td>\n",
       "      <td>0.911611</td>\n",
       "      <td>0.157735</td>\n",
       "      <td>0.948114</td>\n",
       "      <td>0.984002</td>\n",
       "      <td>0.978112</td>\n",
       "      <td>0.964585</td>\n",
       "      <td>04:43</td>\n",
       "    </tr>\n",
       "    <tr>\n",
       "      <td>96</td>\n",
       "      <td>1.014083</td>\n",
       "      <td>0.172919</td>\n",
       "      <td>0.947695</td>\n",
       "      <td>0.983622</td>\n",
       "      <td>0.976183</td>\n",
       "      <td>0.963799</td>\n",
       "      <td>04:43</td>\n",
       "    </tr>\n",
       "    <tr>\n",
       "      <td>97</td>\n",
       "      <td>0.952948</td>\n",
       "      <td>0.178405</td>\n",
       "      <td>0.947920</td>\n",
       "      <td>0.983315</td>\n",
       "      <td>0.976060</td>\n",
       "      <td>0.963804</td>\n",
       "      <td>04:43</td>\n",
       "    </tr>\n",
       "    <tr>\n",
       "      <td>98</td>\n",
       "      <td>0.943704</td>\n",
       "      <td>0.177633</td>\n",
       "      <td>0.949006</td>\n",
       "      <td>0.983302</td>\n",
       "      <td>0.976251</td>\n",
       "      <td>0.964391</td>\n",
       "      <td>04:44</td>\n",
       "    </tr>\n",
       "    <tr>\n",
       "      <td>99</td>\n",
       "      <td>1.021508</td>\n",
       "      <td>0.175242</td>\n",
       "      <td>0.947586</td>\n",
       "      <td>0.983560</td>\n",
       "      <td>0.975862</td>\n",
       "      <td>0.963649</td>\n",
       "      <td>04:42</td>\n",
       "    </tr>\n",
       "    <tr>\n",
       "      <td>100</td>\n",
       "      <td>0.945657</td>\n",
       "      <td>0.178686</td>\n",
       "      <td>0.947504</td>\n",
       "      <td>0.983390</td>\n",
       "      <td>0.977870</td>\n",
       "      <td>0.964067</td>\n",
       "      <td>04:41</td>\n",
       "    </tr>\n",
       "    <tr>\n",
       "      <td>101</td>\n",
       "      <td>1.043544</td>\n",
       "      <td>0.211369</td>\n",
       "      <td>0.947727</td>\n",
       "      <td>0.982765</td>\n",
       "      <td>0.975412</td>\n",
       "      <td>0.963408</td>\n",
       "      <td>04:41</td>\n",
       "    </tr>\n",
       "    <tr>\n",
       "      <td>102</td>\n",
       "      <td>0.980880</td>\n",
       "      <td>0.168302</td>\n",
       "      <td>0.948314</td>\n",
       "      <td>0.983332</td>\n",
       "      <td>0.976492</td>\n",
       "      <td>0.964113</td>\n",
       "      <td>04:41</td>\n",
       "    </tr>\n",
       "    <tr>\n",
       "      <td>103</td>\n",
       "      <td>1.038056</td>\n",
       "      <td>0.178949</td>\n",
       "      <td>0.948596</td>\n",
       "      <td>0.983610</td>\n",
       "      <td>0.976044</td>\n",
       "      <td>0.964212</td>\n",
       "      <td>04:40</td>\n",
       "    </tr>\n",
       "  </tbody>\n",
       "</table><p>\n",
       "\n",
       "    <div>\n",
       "        <style>\n",
       "            /* Turns off some styling */\n",
       "            progress {\n",
       "                /* gets rid of default border in Firefox and Opera. */\n",
       "                border: none;\n",
       "                /* Needs to be in here for Safari polyfill so background images work as expected. */\n",
       "                background-size: auto;\n",
       "            }\n",
       "            .progress-bar-interrupted, .progress-bar-interrupted::-webkit-progress-bar {\n",
       "                background: #F44336;\n",
       "            }\n",
       "        </style>\n",
       "      <progress value='45' class='' max='45', style='width:300px; height:20px; vertical-align: middle;'></progress>\n",
       "      100.00% [45/45 00:26<00:00]\n",
       "    </div>\n",
       "    "
      ],
      "text/plain": [
       "<IPython.core.display.HTML object>"
      ]
     },
     "metadata": {},
     "output_type": "display_data"
    },
    {
     "name": "stderr",
     "output_type": "stream",
     "text": [
      "Failed to query for notebook name, you can set it manually with the WANDB_NOTEBOOK_NAME environment variable\n"
     ]
    },
    {
     "name": "stdout",
     "output_type": "stream",
     "text": [
      "Better model found at epoch 0 with valid_loss value: 1.530608057975769.\n"
     ]
    },
    {
     "name": "stdout",
     "output_type": "stream",
     "text": [
      "Better model found at epoch 0 with recall_combine value: 0.4715081751346588.\n"
     ]
    },
    {
     "name": "stdout",
     "output_type": "stream",
     "text": [
      "Better model found at epoch 1 with valid_loss value: 1.0127633810043335.\n"
     ]
    },
    {
     "name": "stdout",
     "output_type": "stream",
     "text": [
      "Better model found at epoch 1 with recall_combine value: 0.6212376356124878.\n"
     ]
    },
    {
     "name": "stdout",
     "output_type": "stream",
     "text": [
      "Better model found at epoch 2 with valid_loss value: 0.6673433184623718.\n"
     ]
    },
    {
     "name": "stdout",
     "output_type": "stream",
     "text": [
      "Better model found at epoch 2 with recall_combine value: 0.7647790908813477.\n"
     ]
    },
    {
     "name": "stdout",
     "output_type": "stream",
     "text": [
      "Better model found at epoch 3 with valid_loss value: 0.5109453201293945.\n"
     ]
    },
    {
     "name": "stdout",
     "output_type": "stream",
     "text": [
      "Better model found at epoch 3 with recall_combine value: 0.8342766761779785.\n"
     ]
    },
    {
     "name": "stdout",
     "output_type": "stream",
     "text": [
      "Better model found at epoch 6 with valid_loss value: 0.45604807138442993.\n"
     ]
    },
    {
     "name": "stdout",
     "output_type": "stream",
     "text": [
      "Better model found at epoch 6 with recall_combine value: 0.853794515132904.\n"
     ]
    },
    {
     "name": "stdout",
     "output_type": "stream",
     "text": [
      "Better model found at epoch 7 with recall_combine value: 0.8885811567306519.\n"
     ]
    },
    {
     "name": "stdout",
     "output_type": "stream",
     "text": [
      "Better model found at epoch 8 with valid_loss value: 0.38297325372695923.\n"
     ]
    },
    {
     "name": "stdout",
     "output_type": "stream",
     "text": [
      "Better model found at epoch 8 with recall_combine value: 0.8948183655738831.\n"
     ]
    },
    {
     "name": "stdout",
     "output_type": "stream",
     "text": [
      "Better model found at epoch 9 with recall_combine value: 0.9065898656845093.\n"
     ]
    },
    {
     "name": "stdout",
     "output_type": "stream",
     "text": [
      "Better model found at epoch 10 with valid_loss value: 0.3214244246482849.\n"
     ]
    },
    {
     "name": "stdout",
     "output_type": "stream",
     "text": [
      "Better model found at epoch 10 with recall_combine value: 0.9138563275337219.\n"
     ]
    },
    {
     "name": "stdout",
     "output_type": "stream",
     "text": [
      "Better model found at epoch 13 with valid_loss value: 0.2887430787086487.\n"
     ]
    },
    {
     "name": "stdout",
     "output_type": "stream",
     "text": [
      "Better model found at epoch 13 with recall_combine value: 0.9245058298110962.\n"
     ]
    },
    {
     "name": "stdout",
     "output_type": "stream",
     "text": [
      "Better model found at epoch 14 with recall_combine value: 0.9254477024078369.\n"
     ]
    },
    {
     "name": "stdout",
     "output_type": "stream",
     "text": [
      "Better model found at epoch 17 with valid_loss value: 0.24973033368587494.\n"
     ]
    },
    {
     "name": "stdout",
     "output_type": "stream",
     "text": [
      "Better model found at epoch 17 with recall_combine value: 0.9320157766342163.\n"
     ]
    },
    {
     "name": "stdout",
     "output_type": "stream",
     "text": [
      "Better model found at epoch 19 with recall_combine value: 0.93437659740448.\n"
     ]
    },
    {
     "name": "stdout",
     "output_type": "stream",
     "text": [
      "Better model found at epoch 20 with valid_loss value: 0.2270727902650833.\n"
     ]
    },
    {
     "name": "stdout",
     "output_type": "stream",
     "text": [
      "Better model found at epoch 20 with recall_combine value: 0.9384725093841553.\n"
     ]
    },
    {
     "name": "stdout",
     "output_type": "stream",
     "text": [
      "Better model found at epoch 22 with recall_combine value: 0.9389384388923645.\n"
     ]
    },
    {
     "name": "stdout",
     "output_type": "stream",
     "text": [
      "Better model found at epoch 23 with valid_loss value: 0.21360129117965698.\n"
     ]
    },
    {
     "name": "stdout",
     "output_type": "stream",
     "text": [
      "Better model found at epoch 23 with recall_combine value: 0.9402168989181519.\n"
     ]
    },
    {
     "name": "stdout",
     "output_type": "stream",
     "text": [
      "Better model found at epoch 25 with recall_combine value: 0.9428865909576416.\n"
     ]
    },
    {
     "name": "stdout",
     "output_type": "stream",
     "text": [
      "Better model found at epoch 26 with recall_combine value: 0.9430620670318604.\n"
     ]
    },
    {
     "name": "stdout",
     "output_type": "stream",
     "text": [
      "Better model found at epoch 27 with valid_loss value: 0.20783734321594238.\n"
     ]
    },
    {
     "name": "stdout",
     "output_type": "stream",
     "text": [
      "Better model found at epoch 27 with recall_combine value: 0.9448633193969727.\n"
     ]
    },
    {
     "name": "stdout",
     "output_type": "stream",
     "text": [
      "Better model found at epoch 28 with recall_combine value: 0.9458673000335693.\n"
     ]
    },
    {
     "name": "stdout",
     "output_type": "stream",
     "text": [
      "Better model found at epoch 33 with recall_combine value: 0.945979118347168.\n"
     ]
    },
    {
     "name": "stdout",
     "output_type": "stream",
     "text": [
      "Epoch 33: reducing lr to 0.0015\n"
     ]
    },
    {
     "name": "stdout",
     "output_type": "stream",
     "text": [
      "Better model found at epoch 34 with valid_loss value: 0.19676095247268677.\n"
     ]
    },
    {
     "name": "stdout",
     "output_type": "stream",
     "text": [
      "Better model found at epoch 34 with recall_combine value: 0.9550400972366333.\n"
     ]
    },
    {
     "name": "stdout",
     "output_type": "stream",
     "text": [
      "Better model found at epoch 35 with valid_loss value: 0.18106481432914734.\n"
     ]
    },
    {
     "name": "stdout",
     "output_type": "stream",
     "text": [
      "Better model found at epoch 39 with recall_combine value: 0.9555410742759705.\n"
     ]
    },
    {
     "name": "stdout",
     "output_type": "stream",
     "text": [
      "Better model found at epoch 40 with valid_loss value: 0.16994766891002655.\n"
     ]
    },
    {
     "name": "stdout",
     "output_type": "stream",
     "text": [
      "Better model found at epoch 41 with recall_combine value: 0.9565415382385254.\n"
     ]
    },
    {
     "name": "stdout",
     "output_type": "stream",
     "text": [
      "Better model found at epoch 42 with recall_combine value: 0.9588791131973267.\n"
     ]
    },
    {
     "name": "stdout",
     "output_type": "stream",
     "text": [
      "Better model found at epoch 44 with valid_loss value: 0.16486088931560516.\n"
     ]
    },
    {
     "name": "stdout",
     "output_type": "stream",
     "text": [
      "Better model found at epoch 45 with recall_combine value: 0.959243655204773.\n"
     ]
    },
    {
     "name": "stdout",
     "output_type": "stream",
     "text": [
      "Better model found at epoch 46 with valid_loss value: 0.1645199954509735.\n"
     ]
    },
    {
     "name": "stdout",
     "output_type": "stream",
     "text": [
      "Better model found at epoch 48 with valid_loss value: 0.1630845069885254.\n"
     ]
    },
    {
     "name": "stdout",
     "output_type": "stream",
     "text": [
      "Better model found at epoch 50 with valid_loss value: 0.15442293882369995.\n"
     ]
    },
    {
     "name": "stdout",
     "output_type": "stream",
     "text": [
      "Better model found at epoch 54 with recall_combine value: 0.9601948261260986.\n"
     ]
    },
    {
     "name": "stdout",
     "output_type": "stream",
     "text": [
      "Better model found at epoch 56 with recall_combine value: 0.9607319831848145.\n"
     ]
    },
    {
     "name": "stdout",
     "output_type": "stream",
     "text": [
      "Epoch 56: reducing lr to 0.00075\n"
     ]
    },
    {
     "name": "stdout",
     "output_type": "stream",
     "text": [
      "Better model found at epoch 58 with recall_combine value: 0.9615880250930786.\n"
     ]
    },
    {
     "name": "stdout",
     "output_type": "stream",
     "text": [
      "Better model found at epoch 59 with valid_loss value: 0.14584195613861084.\n"
     ]
    },
    {
     "name": "stdout",
     "output_type": "stream",
     "text": [
      "Better model found at epoch 59 with recall_combine value: 0.9624974727630615.\n"
     ]
    },
    {
     "name": "stdout",
     "output_type": "stream",
     "text": [
      "Epoch 65: reducing lr to 0.000375\n"
     ]
    },
    {
     "name": "stdout",
     "output_type": "stream",
     "text": [
      "Better model found at epoch 67 with recall_combine value: 0.9634628295898438.\n"
     ]
    },
    {
     "name": "stdout",
     "output_type": "stream",
     "text": [
      "Better model found at epoch 68 with valid_loss value: 0.1443861573934555.\n"
     ]
    },
    {
     "name": "stdout",
     "output_type": "stream",
     "text": [
      "Better model found at epoch 73 with recall_combine value: 0.9636785984039307.\n"
     ]
    },
    {
     "name": "stdout",
     "output_type": "stream",
     "text": [
      "Epoch 74: reducing lr to 0.0001875\n"
     ]
    },
    {
     "name": "stdout",
     "output_type": "stream",
     "text": [
      "Better model found at epoch 75 with recall_combine value: 0.9639812707901001.\n"
     ]
    },
    {
     "name": "stdout",
     "output_type": "stream",
     "text": [
      "Better model found at epoch 80 with recall_combine value: 0.9642812609672546.\n"
     ]
    },
    {
     "name": "stdout",
     "output_type": "stream",
     "text": [
      "Epoch 80: reducing lr to 9.375e-05\n"
     ]
    },
    {
     "name": "stdout",
     "output_type": "stream",
     "text": [
      "Better model found at epoch 83 with valid_loss value: 0.1415926069021225.\n"
     ]
    },
    {
     "name": "stdout",
     "output_type": "stream",
     "text": [
      "Better model found at epoch 87 with recall_combine value: 0.9647232294082642.\n"
     ]
    },
    {
     "name": "stdout",
     "output_type": "stream",
     "text": [
      "Epoch 89: reducing lr to 4.6875e-05\n"
     ]
    },
    {
     "name": "stdout",
     "output_type": "stream",
     "text": [
      "Better model found at epoch 92 with recall_combine value: 0.964783787727356.\n"
     ]
    },
    {
     "name": "stdout",
     "output_type": "stream",
     "text": [
      "Epoch 95: reducing lr to 2.34375e-05\n"
     ]
    },
    {
     "name": "stdout",
     "output_type": "stream",
     "text": [
      "Epoch 101: reducing lr to 1.171875e-05\n"
     ]
    },
    {
     "name": "stdout",
     "output_type": "stream",
     "text": [
      "Epoch 104: early stopping\n"
     ]
    },
    {
     "name": "stdout",
     "output_type": "stream",
     "text": [
      "Loaded best saved model from /home/lextoumbourou/bengaliai-cv19/wandb/run-20200219_225310-icek04i4/bestmodel.pth\n"
     ]
    }
   ],
   "source": [
    "callbacks=[\n",
    "    CSVLogger(learner, OUTPUT_PATH/'history.csv'),\n",
    "    SaveModelCallback(\n",
    "        learner, monitor='recall_combine', mode='max', name=NAME\n",
    "    ),\n",
    "    # MixUpCallback(learner),\n",
    "    # CutMixCallback(learner),\n",
    "    MixUpOrCutMix(learner),\n",
    "    ReduceLROnPlateauCallback(\n",
    "        learner, patience=wandb.config.reduce_lr_patience,\n",
    "        monitor='valid_loss', mode='min', min_lr=1e-6, factor=wandb.config.reduce_lr_factor\n",
    "    ),\n",
    "    EarlyStoppingCallback(learner, monitor='valid_loss', mode='min', patience=wandb.config.early_stop_patience)\n",
    "]\n",
    "\n",
    "if wandb.config.prog_sprinkles:\n",
    "    callbacks.append(CutoutScheduler(learner, n_holes_max=80))\n",
    "    \n",
    "learner.fit(\n",
    "    wandb.config.max_epochs,\n",
    "    LR,\n",
    "    callbacks=callbacks\n",
    ")"
   ]
  },
  {
   "cell_type": "code",
   "execution_count": 36,
   "metadata": {
    "papermill": {
     "duration": 0.354534,
     "end_time": "2020-02-20T07:10:50.271820",
     "exception": false,
     "start_time": "2020-02-20T07:10:49.917286",
     "status": "completed"
    },
    "tags": []
   },
   "outputs": [
    {
     "data": {
      "image/png": "[encoded data removed]",
      "text/plain": [
       "<Figure size 432x288 with 1 Axes>"
      ]
     },
     "metadata": {
      "needs_background": "light"
     },
     "output_type": "display_data"
    }
   ],
   "source": [
    "learner.recorder.plot_losses()"
   ]
  },
  {
   "cell_type": "code",
   "execution_count": 37,
   "metadata": {
    "papermill": {
     "duration": 0.268815,
     "end_time": "2020-02-20T07:10:50.587401",
     "exception": false,
     "start_time": "2020-02-20T07:10:50.318586",
     "status": "completed"
    },
    "tags": []
   },
   "outputs": [
    {
     "data": {
      "image/png": "[encoded data removed]",
      "text/plain": [
       "<Figure size 432x288 with 1 Axes>"
      ]
     },
     "metadata": {
      "needs_background": "light"
     },
     "output_type": "display_data"
    }
   ],
   "source": [
    "learner.recorder.plot_lr()"
   ]
  },
  {
   "cell_type": "code",
   "execution_count": null,
   "metadata": {
    "papermill": {
     "duration": 0.047538,
     "end_time": "2020-02-20T07:10:50.680246",
     "exception": false,
     "start_time": "2020-02-20T07:10:50.632708",
     "status": "completed"
    },
    "tags": []
   },
   "outputs": [],
   "source": []
  }
 ],
 "metadata": {
  "celltoolbar": "Tags",
  "kernelspec": {
   "display_name": "Python 3",
   "language": "python",
   "name": "python3"
  },
  "language_info": {
   "codemirror_mode": {
    "name": "ipython",
    "version": 3
   },
   "file_extension": ".py",
   "mimetype": "text/x-python",
   "name": "python",
   "nbconvert_exporter": "python",
   "pygments_lexer": "ipython3",
   "version": "3.7.4"
  },
  "papermill": {
   "duration": 29870.457117,
   "end_time": "2020-02-20T07:10:56.536416",
   "environment_variables": {},
   "exception": null,
   "input_path": "nbs/templates/fastai-no-max-pool-last-layers.ipynb",
   "output_path": "nbs/output/se_resnext50_only_gem_pooling.ipynb",
   "parameters": {
    "BATCH_SIZE": 896,
    "CONSONANT_DIACRITIC_WEIGHT": 0.25,
    "ENCODER_ARCH": "se_resnext50_32x4d",
    "GRAPHEME_ROOT_WEIGHT": 0.5,
    "IMG_SIZE": 64,
    "NAME": "se_resnext50_only_gem_pooling",
    "OUTPUT_VAL_SIZE": null,
    "REDUCE_LR_FACTOR": 0.5,
    "REDUCE_LR_PATIENCE": 5,
    "USE_CUTMIX": true,
    "USE_FP16": true,
    "USE_MIXUP": true,
    "VOWEL_DIACRITIC_WEIGHT": 0.25,
    "WANDB_MODE": "run"
   },
   "start_time": "2020-02-19T22:53:06.079299",
   "version": "1.2.1"
  },
  "toc": {
   "base_numbering": 1,
   "nav_menu": {},
   "number_sections": true,
   "sideBar": true,
   "skip_h1_title": false,
   "title_cell": "Table of Contents",
   "title_sidebar": "Contents",
   "toc_cell": false,
   "toc_position": {},
   "toc_section_display": true,
   "toc_window_display": false
  }
 },
 "nbformat": 4,
 "nbformat_minor": 4
}